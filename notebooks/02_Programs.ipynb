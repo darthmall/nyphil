{
 "cells": [
  {
   "cell_type": "markdown",
   "metadata": {},
   "source": [
    "# Programs"
   ]
  },
  {
   "cell_type": "code",
   "execution_count": 27,
   "metadata": {},
   "outputs": [],
   "source": [
    "from datetime import datetime\n",
    "\n",
    "import altair as alt\n",
    "import pandas as pd"
   ]
  },
  {
   "cell_type": "code",
   "execution_count": 28,
   "metadata": {},
   "outputs": [],
   "source": [
    "date_parser = lambda x: datetime.strptime(x, \"%Y-%m-%d %H:%M:%S\")\n",
    "\n",
    "df = pd.read_csv(\"../data/program_dates.csv\",\n",
    "                parse_dates=[\"date\"],\n",
    "                date_parser=date_parser)"
   ]
  },
  {
   "cell_type": "code",
   "execution_count": 29,
   "metadata": {},
   "outputs": [
    {
     "data": {
      "text/html": [
       "<div>\n",
       "<style scoped>\n",
       "    .dataframe tbody tr th:only-of-type {\n",
       "        vertical-align: middle;\n",
       "    }\n",
       "\n",
       "    .dataframe tbody tr th {\n",
       "        vertical-align: top;\n",
       "    }\n",
       "\n",
       "    .dataframe thead th {\n",
       "        text-align: right;\n",
       "    }\n",
       "</style>\n",
       "<table border=\"1\" class=\"dataframe\">\n",
       "  <thead>\n",
       "    <tr style=\"text-align: right;\">\n",
       "      <th></th>\n",
       "      <th>program</th>\n",
       "      <th>date</th>\n",
       "      <th>season</th>\n",
       "    </tr>\n",
       "  </thead>\n",
       "  <tbody>\n",
       "    <tr>\n",
       "      <th>0</th>\n",
       "      <td>3853</td>\n",
       "      <td>1842-12-07 05:00:00</td>\n",
       "      <td>1842-43</td>\n",
       "    </tr>\n",
       "    <tr>\n",
       "      <th>1</th>\n",
       "      <td>5178</td>\n",
       "      <td>1843-02-18 05:00:00</td>\n",
       "      <td>1842-43</td>\n",
       "    </tr>\n",
       "    <tr>\n",
       "      <th>2</th>\n",
       "      <td>10785</td>\n",
       "      <td>1843-04-07 05:00:00</td>\n",
       "      <td>1842-43</td>\n",
       "    </tr>\n",
       "    <tr>\n",
       "      <th>3</th>\n",
       "      <td>5887</td>\n",
       "      <td>1843-04-22 05:00:00</td>\n",
       "      <td>1842-43</td>\n",
       "    </tr>\n",
       "    <tr>\n",
       "      <th>4</th>\n",
       "      <td>305</td>\n",
       "      <td>1843-11-18 05:00:00</td>\n",
       "      <td>1843-44</td>\n",
       "    </tr>\n",
       "  </tbody>\n",
       "</table>\n",
       "</div>"
      ],
      "text/plain": [
       "   program                date   season\n",
       "0     3853 1842-12-07 05:00:00  1842-43\n",
       "1     5178 1843-02-18 05:00:00  1842-43\n",
       "2    10785 1843-04-07 05:00:00  1842-43\n",
       "3     5887 1843-04-22 05:00:00  1842-43\n",
       "4      305 1843-11-18 05:00:00  1843-44"
      ]
     },
     "execution_count": 29,
     "metadata": {},
     "output_type": "execute_result"
    }
   ],
   "source": [
    "df.head()"
   ]
  },
  {
   "cell_type": "code",
   "execution_count": 24,
   "metadata": {},
   "outputs": [
    {
     "data": {
      "application/vnd.vegalite.v2+json": {
       "$schema": "https://vega.github.io/schema/vega-lite/v2.json",
       "config": {
        "view": {
         "height": 300,
         "width": 400
        }
       },
       "data": {
        "values": [
         {
          "program": 4,
          "season": "1842-43"
         },
         {
          "program": 4,
          "season": "1843-44"
         },
         {
          "program": 4,
          "season": "1844-45"
         },
         {
          "program": 5,
          "season": "1845-46"
         },
         {
          "program": 4,
          "season": "1846-47"
         },
         {
          "program": 5,
          "season": "1847-48"
         },
         {
          "program": 4,
          "season": "1848-49"
         },
         {
          "program": 4,
          "season": "1849-50"
         },
         {
          "program": 4,
          "season": "1850-51"
         },
         {
          "program": 4,
          "season": "1851-52"
         },
         {
          "program": 4,
          "season": "1852-53"
         },
         {
          "program": 4,
          "season": "1853-54"
         },
         {
          "program": 5,
          "season": "1854-55"
         },
         {
          "program": 4,
          "season": "1855-56"
         },
         {
          "program": 4,
          "season": "1856-57"
         },
         {
          "program": 4,
          "season": "1857-58"
         },
         {
          "program": 5,
          "season": "1858-59"
         },
         {
          "program": 5,
          "season": "1859-60"
         },
         {
          "program": 6,
          "season": "1860-61"
         },
         {
          "program": 5,
          "season": "1861-62"
         },
         {
          "program": 5,
          "season": "1862-63"
         },
         {
          "program": 6,
          "season": "1863-64"
         },
         {
          "program": 5,
          "season": "1864-65"
         },
         {
          "program": 5,
          "season": "1865-66"
         },
         {
          "program": 6,
          "season": "1866-67"
         },
         {
          "program": 5,
          "season": "1867-68"
         },
         {
          "program": 6,
          "season": "1868-69"
         },
         {
          "program": 6,
          "season": "1869-70"
         },
         {
          "program": 7,
          "season": "1870-71"
         },
         {
          "program": 6,
          "season": "1871-72"
         },
         {
          "program": 6,
          "season": "1872-73"
         },
         {
          "program": 6,
          "season": "1873-74"
         },
         {
          "program": 6,
          "season": "1874-75"
         },
         {
          "program": 6,
          "season": "1875-76"
         },
         {
          "program": 8,
          "season": "1876-77"
         },
         {
          "program": 6,
          "season": "1877-78"
         },
         {
          "program": 17,
          "season": "1878-79"
         },
         {
          "program": 16,
          "season": "1879-80"
         },
         {
          "program": 13,
          "season": "1880-81"
         },
         {
          "program": 13,
          "season": "1881-82"
         },
         {
          "program": 13,
          "season": "1882-83"
         },
         {
          "program": 13,
          "season": "1883-84"
         },
         {
          "program": 13,
          "season": "1884-85"
         },
         {
          "program": 14,
          "season": "1885-86"
         },
         {
          "program": 13,
          "season": "1886-87"
         },
         {
          "program": 13,
          "season": "1887-88"
         },
         {
          "program": 13,
          "season": "1888-89"
         },
         {
          "program": 13,
          "season": "1889-90"
         },
         {
          "program": 19,
          "season": "1890-91"
         },
         {
          "program": 17,
          "season": "1891-92"
         },
         {
          "program": 18,
          "season": "1892-93"
         },
         {
          "program": 14,
          "season": "1893-94"
         },
         {
          "program": 23,
          "season": "1894-95"
         },
         {
          "program": 18,
          "season": "1895-96"
         },
         {
          "program": 28,
          "season": "1896-97"
         },
         {
          "program": 17,
          "season": "1897-98"
         },
         {
          "program": 16,
          "season": "1898-99"
         },
         {
          "program": 17,
          "season": "1899-00"
         },
         {
          "program": 99,
          "season": "1900-01"
         },
         {
          "program": 10,
          "season": "1901-02"
         },
         {
          "program": 15,
          "season": "1902-03"
         },
         {
          "program": 45,
          "season": "1903-04"
         },
         {
          "program": 36,
          "season": "1904-05"
         },
         {
          "program": 32,
          "season": "1905-06"
         },
         {
          "program": 27,
          "season": "1906-07"
         },
         {
          "program": 32,
          "season": "1907-08"
         },
         {
          "program": 45,
          "season": "1908-09"
         },
         {
          "program": 63,
          "season": "1909-10"
         },
         {
          "program": 77,
          "season": "1910-11"
         },
         {
          "program": 95,
          "season": "1911-12"
         },
         {
          "program": 87,
          "season": "1912-13"
         },
         {
          "program": 91,
          "season": "1913-14"
         },
         {
          "program": 99,
          "season": "1914-15"
         },
         {
          "program": 158,
          "season": "1915-16"
         },
         {
          "program": 115,
          "season": "1916-17"
         },
         {
          "program": 117,
          "season": "1917-18"
         },
         {
          "program": 123,
          "season": "1918-19"
         },
         {
          "program": 177,
          "season": "1919-20"
         },
         {
          "program": 228,
          "season": "1920-21"
         },
         {
          "program": 161,
          "season": "1921-22"
         },
         {
          "program": 168,
          "season": "1922-23"
         },
         {
          "program": 180,
          "season": "1923-24"
         },
         {
          "program": 184,
          "season": "1924-25"
         },
         {
          "program": 186,
          "season": "1925-26"
         },
         {
          "program": 190,
          "season": "1926-27"
         },
         {
          "program": 188,
          "season": "1927-28"
         },
         {
          "program": 147,
          "season": "1928-29"
         },
         {
          "program": 154,
          "season": "1929-30"
         },
         {
          "program": 127,
          "season": "1930-31"
         },
         {
          "program": 132,
          "season": "1931-32"
         },
         {
          "program": 140,
          "season": "1932-33"
         },
         {
          "program": 129,
          "season": "1933-34"
         },
         {
          "program": 124,
          "season": "1934-35"
         },
         {
          "program": 118,
          "season": "1935-36"
         },
         {
          "program": 118,
          "season": "1936-37"
         },
         {
          "program": 132,
          "season": "1937-38"
         },
         {
          "program": 146,
          "season": "1938-39"
         },
         {
          "program": 139,
          "season": "1939-40"
         },
         {
          "program": 149,
          "season": "1940-41"
         },
         {
          "program": 131,
          "season": "1941-42"
         },
         {
          "program": 144,
          "season": "1942-43"
         },
         {
          "program": 156,
          "season": "1943-44"
         },
         {
          "program": 146,
          "season": "1944-45"
         },
         {
          "program": 155,
          "season": "1945-46"
         },
         {
          "program": 163,
          "season": "1946-47"
         },
         {
          "program": 110,
          "season": "1947-48"
         },
         {
          "program": 1,
          "season": "1947-48 "
         },
         {
          "program": 148,
          "season": "1948-49"
         },
         {
          "program": 120,
          "season": "1949-50"
         },
         {
          "program": 125,
          "season": "1950-51"
         },
         {
          "program": 120,
          "season": "1951-52"
         },
         {
          "program": 127,
          "season": "1952-53"
         },
         {
          "program": 136,
          "season": "1953-54"
         },
         {
          "program": 155,
          "season": "1954-55"
         },
         {
          "program": 146,
          "season": "1955-56"
         },
         {
          "program": 127,
          "season": "1956-57"
         },
         {
          "program": 153,
          "season": "1957-58"
         },
         {
          "program": 110,
          "season": "1958-59"
         },
         {
          "program": 136,
          "season": "1959-60"
         },
         {
          "program": 125,
          "season": "1960-61"
         },
         {
          "program": 83,
          "season": "1961-62"
         },
         {
          "program": 100,
          "season": "1962-63"
         },
         {
          "program": 98,
          "season": "1963-64"
         },
         {
          "program": 92,
          "season": "1964-65"
         },
         {
          "program": 82,
          "season": "1965-66"
         },
         {
          "program": 82,
          "season": "1966-67"
         },
         {
          "program": 101,
          "season": "1967-68"
         },
         {
          "program": 84,
          "season": "1968-69"
         },
         {
          "program": 83,
          "season": "1969-70"
         },
         {
          "program": 73,
          "season": "1970-71"
         },
         {
          "program": 91,
          "season": "1971-72"
         },
         {
          "program": 90,
          "season": "1972-73"
         },
         {
          "program": 90,
          "season": "1973-74"
         },
         {
          "program": 96,
          "season": "1974-75"
         },
         {
          "program": 103,
          "season": "1975-76"
         },
         {
          "program": 95,
          "season": "1976-77"
         },
         {
          "program": 93,
          "season": "1977-78"
         },
         {
          "program": 100,
          "season": "1978-79"
         },
         {
          "program": 89,
          "season": "1979-80"
         },
         {
          "program": 90,
          "season": "1980-81"
         },
         {
          "program": 93,
          "season": "1981-82"
         },
         {
          "program": 95,
          "season": "1982-83"
         },
         {
          "program": 98,
          "season": "1983-84"
         },
         {
          "program": 111,
          "season": "1984-85"
         },
         {
          "program": 88,
          "season": "1985-86"
         },
         {
          "program": 99,
          "season": "1986-87"
         },
         {
          "program": 95,
          "season": "1987-88"
         },
         {
          "program": 93,
          "season": "1988-89"
         },
         {
          "program": 92,
          "season": "1989-90"
         },
         {
          "program": 95,
          "season": "1990-91"
         },
         {
          "program": 86,
          "season": "1991-92"
         },
         {
          "program": 86,
          "season": "1992-93"
         },
         {
          "program": 89,
          "season": "1993-94"
         },
         {
          "program": 87,
          "season": "1994-95"
         },
         {
          "program": 93,
          "season": "1995-96"
         },
         {
          "program": 104,
          "season": "1996-97"
         },
         {
          "program": 97,
          "season": "1997-98"
         },
         {
          "program": 107,
          "season": "1998-99"
         },
         {
          "program": 106,
          "season": "1999-00"
         },
         {
          "program": 97,
          "season": "2000-01"
         },
         {
          "program": 118,
          "season": "2001-02"
         },
         {
          "program": 122,
          "season": "2002-03"
         },
         {
          "program": 104,
          "season": "2003-04"
         },
         {
          "program": 111,
          "season": "2004-05"
         },
         {
          "program": 134,
          "season": "2005-06"
         },
         {
          "program": 145,
          "season": "2006-07"
         },
         {
          "program": 140,
          "season": "2007-08"
         },
         {
          "program": 151,
          "season": "2008-09"
         },
         {
          "program": 157,
          "season": "2009-10"
         },
         {
          "program": 137,
          "season": "2010-11"
         },
         {
          "program": 142,
          "season": "2011-12"
         },
         {
          "program": 132,
          "season": "2012-13"
         },
         {
          "program": 130,
          "season": "2013-14"
         },
         {
          "program": 138,
          "season": "2014-15"
         },
         {
          "program": 167,
          "season": "2015-16"
         },
         {
          "program": 137,
          "season": "2016-17"
         },
         {
          "program": 29,
          "season": "2017-18"
         }
        ]
       },
       "encoding": {
        "x": {
         "field": "season",
         "type": "ordinal"
        },
        "y": {
         "field": "program",
         "type": "quantitative"
        }
       },
       "height": 150,
       "mark": "bar",
       "title": "Programs per Season",
       "width": 600
      },
      "text/plain": [
       "<VegaLite 2 object>"
      ]
     },
     "execution_count": 24,
     "metadata": {},
     "output_type": "execute_result"
    }
   ],
   "source": [
    "alt.Chart(\n",
    "    pd.DataFrame(df.groupby(\"season\")[\"program\"].nunique()).reset_index(),\n",
    "    width=600,\n",
    "    height=150,\n",
    "    title=\"Programs per Season\"\n",
    ").mark_bar().encode(\n",
    "    x=\"season:O\",\n",
    "    y=\"program:Q\"\n",
    ")"
   ]
  },
  {
   "cell_type": "code",
   "execution_count": 25,
   "metadata": {},
   "outputs": [
    {
     "data": {
      "text/plain": [
       "count    177.000000\n",
       "mean      78.932203\n",
       "std       58.766158\n",
       "min        1.000000\n",
       "25%       13.000000\n",
       "50%       92.000000\n",
       "75%      127.000000\n",
       "max      228.000000\n",
       "Name: program, dtype: float64"
      ]
     },
     "execution_count": 25,
     "metadata": {},
     "output_type": "execute_result"
    }
   ],
   "source": [
    "df.groupby(\"season\")[\"program\"].nunique().describe()"
   ]
  },
  {
   "cell_type": "code",
   "execution_count": 30,
   "metadata": {},
   "outputs": [
    {
     "data": {
      "text/plain": [
       "Timestamp('1842-12-07 05:00:00')"
      ]
     },
     "execution_count": 30,
     "metadata": {},
     "output_type": "execute_result"
    }
   ],
   "source": [
    "df[\"date\"][0]"
   ]
  }
 ],
 "metadata": {
  "kernelspec": {
   "display_name": "Python 3",
   "language": "python",
   "name": "python3"
  },
  "language_info": {
   "codemirror_mode": {
    "name": "ipython",
    "version": 3
   },
   "file_extension": ".py",
   "mimetype": "text/x-python",
   "name": "python",
   "nbconvert_exporter": "python",
   "pygments_lexer": "ipython3",
   "version": "3.6.4"
  }
 },
 "nbformat": 4,
 "nbformat_minor": 2
}
