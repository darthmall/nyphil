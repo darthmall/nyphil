{
 "cells": [
  {
   "cell_type": "markdown",
   "metadata": {},
   "source": [
    "# Introduction\n",
    "\n",
    "I'm exploring the data available in the New York Philharmonic’s [Performance History archive](https://github.com/nyphilarchive/PerformanceHistory). We’ll begin by parsing the XML file into a flat structure providing information about the composers and works performed in each season."
   ]
  },
  {
   "cell_type": "code",
   "execution_count": 15,
   "metadata": {},
   "outputs": [],
   "source": [
    "from datetime import datetime\n",
    "import xml.etree.ElementTree as ET\n",
    "import pandas as pd"
   ]
  },
  {
   "cell_type": "markdown",
   "metadata": {},
   "source": [
    "## Works\n",
    "\n",
    "To start with, let's flatten the XML so that each row of the table corresponds to a single work performed at a program with the columns:\n",
    "\n",
    "- Season (index)\n",
    "- Program ID (index)\n",
    "- Work ID (index)\n",
    "- Movement ID (index)\n",
    "- Composer\n",
    "- Title"
   ]
  },
  {
   "cell_type": "code",
   "execution_count": 3,
   "metadata": {},
   "outputs": [],
   "source": [
    "def get_works(filename):\n",
    "    root = ET.parse(filename)\n",
    "    \n",
    "    for program in root.findall(\".//program\"):\n",
    "        program_id = program.find(\"programID\").text\n",
    "        season = program.find(\"season\").text\n",
    "    \n",
    "        for work in program.findall(\".//work\"):\n",
    "            try:\n",
    "                work_id, mvmt_id = work.attrib[\"ID\"].split(\"*\")\n",
    "            except ValueError:\n",
    "                work_Id, mvmt_id = work.attrib[\"ID\"], None\n",
    "            \n",
    "            yield {\n",
    "                \"program\": program_id,\n",
    "                \"work\": work_id,\n",
    "                \"movement\": mvmt_id,\n",
    "                \"season\": season,\n",
    "                \"composer\": getattr(work.find(\"composerName\"), \"text\", None),\n",
    "                \"title\": getattr(work.find(\"workTitle\"), \"text\", None)\n",
    "            }"
   ]
  },
  {
   "cell_type": "code",
   "execution_count": 4,
   "metadata": {},
   "outputs": [
    {
     "data": {
      "text/html": [
       "<div>\n",
       "<style scoped>\n",
       "    .dataframe tbody tr th:only-of-type {\n",
       "        vertical-align: middle;\n",
       "    }\n",
       "\n",
       "    .dataframe tbody tr th {\n",
       "        vertical-align: top;\n",
       "    }\n",
       "\n",
       "    .dataframe thead th {\n",
       "        text-align: right;\n",
       "    }\n",
       "</style>\n",
       "<table border=\"1\" class=\"dataframe\">\n",
       "  <thead>\n",
       "    <tr style=\"text-align: right;\">\n",
       "      <th></th>\n",
       "      <th></th>\n",
       "      <th></th>\n",
       "      <th></th>\n",
       "      <th>composer</th>\n",
       "      <th>title</th>\n",
       "    </tr>\n",
       "    <tr>\n",
       "      <th>season</th>\n",
       "      <th>program</th>\n",
       "      <th>work</th>\n",
       "      <th>movement</th>\n",
       "      <th></th>\n",
       "      <th></th>\n",
       "    </tr>\n",
       "  </thead>\n",
       "  <tbody>\n",
       "    <tr>\n",
       "      <th rowspan=\"5\" valign=\"top\">1842-43</th>\n",
       "      <th rowspan=\"5\" valign=\"top\">3853</th>\n",
       "      <th>52446</th>\n",
       "      <th></th>\n",
       "      <td>Beethoven,  Ludwig  van</td>\n",
       "      <td>SYMPHONY NO. 5 IN C MINOR, OP.67</td>\n",
       "    </tr>\n",
       "    <tr>\n",
       "      <th>8834</th>\n",
       "      <th>4</th>\n",
       "      <td>Weber,  Carl  Maria Von</td>\n",
       "      <td>OBERON</td>\n",
       "    </tr>\n",
       "    <tr>\n",
       "      <th>3642</th>\n",
       "      <th></th>\n",
       "      <td>Hummel,  Johann</td>\n",
       "      <td>QUINTET, PIANO, D MINOR, OP. 74</td>\n",
       "    </tr>\n",
       "    <tr>\n",
       "      <th>0</th>\n",
       "      <th></th>\n",
       "      <td>None</td>\n",
       "      <td>None</td>\n",
       "    </tr>\n",
       "    <tr>\n",
       "      <th>8834</th>\n",
       "      <th>3</th>\n",
       "      <td>Weber,  Carl  Maria Von</td>\n",
       "      <td>OBERON</td>\n",
       "    </tr>\n",
       "  </tbody>\n",
       "</table>\n",
       "</div>"
      ],
      "text/plain": [
       "                                               composer  \\\n",
       "season  program work  movement                            \n",
       "1842-43 3853    52446           Beethoven,  Ludwig  van   \n",
       "                8834  4         Weber,  Carl  Maria Von   \n",
       "                3642                    Hummel,  Johann   \n",
       "                0                                  None   \n",
       "                8834  3         Weber,  Carl  Maria Von   \n",
       "\n",
       "                                                           title  \n",
       "season  program work  movement                                    \n",
       "1842-43 3853    52446           SYMPHONY NO. 5 IN C MINOR, OP.67  \n",
       "                8834  4                                   OBERON  \n",
       "                3642             QUINTET, PIANO, D MINOR, OP. 74  \n",
       "                0                                           None  \n",
       "                8834  3                                   OBERON  "
      ]
     },
     "execution_count": 4,
     "metadata": {},
     "output_type": "execute_result"
    }
   ],
   "source": [
    "df = (pd.DataFrame(list(get_works(\"../data/PerformanceHistory/Programs/xml/complete.xml\")))\n",
    "      .set_index([\"season\", \"program\", \"work\", \"movement\"]))\n",
    "df.head()"
   ]
  },
  {
   "cell_type": "markdown",
   "metadata": {},
   "source": [
    "Total number of programmed works:"
   ]
  },
  {
   "cell_type": "code",
   "execution_count": 5,
   "metadata": {},
   "outputs": [
    {
     "data": {
      "text/plain": [
       "83319"
      ]
     },
     "execution_count": 5,
     "metadata": {},
     "output_type": "execute_result"
    }
   ],
   "source": [
    "len(df)"
   ]
  },
  {
   "cell_type": "code",
   "execution_count": 6,
   "metadata": {},
   "outputs": [
    {
     "name": "stdout",
     "output_type": "stream",
     "text": [
      "Intermissions: 11333\n"
     ]
    }
   ],
   "source": [
    "print(\"Intermissions:\", len(df.xs(\"0\", level=\"work\")))"
   ]
  },
  {
   "cell_type": "markdown",
   "metadata": {},
   "source": [
    "Drop intermissions (work ID 0)."
   ]
  },
  {
   "cell_type": "code",
   "execution_count": 7,
   "metadata": {},
   "outputs": [
    {
     "data": {
      "text/plain": [
       "71986"
      ]
     },
     "execution_count": 7,
     "metadata": {},
     "output_type": "execute_result"
    }
   ],
   "source": [
    "df.drop(index=\"0\", level=\"work\", inplace=True)\n",
    "len(df)"
   ]
  },
  {
   "cell_type": "markdown",
   "metadata": {},
   "source": [
    "Total number of programs:"
   ]
  },
  {
   "cell_type": "code",
   "execution_count": 13,
   "metadata": {},
   "outputs": [
    {
     "data": {
      "text/plain": [
       "13947"
      ]
     },
     "execution_count": 13,
     "metadata": {},
     "output_type": "execute_result"
    }
   ],
   "source": [
    "df.index.get_level_values(\"program\").nunique()"
   ]
  },
  {
   "cell_type": "markdown",
   "metadata": {},
   "source": [
    "Total number of seasons:"
   ]
  },
  {
   "cell_type": "code",
   "execution_count": 14,
   "metadata": {},
   "outputs": [
    {
     "data": {
      "text/plain": [
       "177"
      ]
     },
     "execution_count": 14,
     "metadata": {},
     "output_type": "execute_result"
    }
   ],
   "source": [
    "df.index.get_level_values(\"season\").nunique()"
   ]
  },
  {
   "cell_type": "code",
   "execution_count": null,
   "metadata": {},
   "outputs": [],
   "source": [
    "df.to_csv(\"../data/works.csv\", encoding=\"utf-8\")"
   ]
  },
  {
   "cell_type": "markdown",
   "metadata": {},
   "source": [
    "## Program Dates"
   ]
  },
  {
   "cell_type": "code",
   "execution_count": 16,
   "metadata": {},
   "outputs": [],
   "source": [
    "def get_programs(filename, fmt=\"%Y-%m-%dT%H:%M:%SZ\"):\n",
    "    root = ET.parse(filename)\n",
    "    \n",
    "    for program in root.findall(\".//program\"):\n",
    "        program_id = program.find(\"programID\").text\n",
    "        season = program.find(\"season\").text\n",
    "        date = datetime.strptime(program.find(\"concertInfo/Date\").text, fmt)\n",
    "        \n",
    "        yield {\n",
    "            \"season\": season,\n",
    "            \"date\": date,\n",
    "            \"program\": program_id\n",
    "        }"
   ]
  },
  {
   "cell_type": "code",
   "execution_count": 17,
   "metadata": {},
   "outputs": [],
   "source": [
    "df = pd.DataFrame(\n",
    "    list(get_programs(\"../data/PerformanceHistory/Programs/xml/complete.xml\"))\n",
    ").set_index(\"program\")"
   ]
  },
  {
   "cell_type": "code",
   "execution_count": 18,
   "metadata": {},
   "outputs": [
    {
     "data": {
      "text/html": [
       "<div>\n",
       "<style scoped>\n",
       "    .dataframe tbody tr th:only-of-type {\n",
       "        vertical-align: middle;\n",
       "    }\n",
       "\n",
       "    .dataframe tbody tr th {\n",
       "        vertical-align: top;\n",
       "    }\n",
       "\n",
       "    .dataframe thead th {\n",
       "        text-align: right;\n",
       "    }\n",
       "</style>\n",
       "<table border=\"1\" class=\"dataframe\">\n",
       "  <thead>\n",
       "    <tr style=\"text-align: right;\">\n",
       "      <th></th>\n",
       "      <th>date</th>\n",
       "      <th>season</th>\n",
       "    </tr>\n",
       "    <tr>\n",
       "      <th>program</th>\n",
       "      <th></th>\n",
       "      <th></th>\n",
       "    </tr>\n",
       "  </thead>\n",
       "  <tbody>\n",
       "    <tr>\n",
       "      <th>3853</th>\n",
       "      <td>1842-12-07 05:00:00</td>\n",
       "      <td>1842-43</td>\n",
       "    </tr>\n",
       "    <tr>\n",
       "      <th>5178</th>\n",
       "      <td>1843-02-18 05:00:00</td>\n",
       "      <td>1842-43</td>\n",
       "    </tr>\n",
       "    <tr>\n",
       "      <th>10785</th>\n",
       "      <td>1843-04-07 05:00:00</td>\n",
       "      <td>1842-43</td>\n",
       "    </tr>\n",
       "    <tr>\n",
       "      <th>5887</th>\n",
       "      <td>1843-04-22 05:00:00</td>\n",
       "      <td>1842-43</td>\n",
       "    </tr>\n",
       "    <tr>\n",
       "      <th>305</th>\n",
       "      <td>1843-11-18 05:00:00</td>\n",
       "      <td>1843-44</td>\n",
       "    </tr>\n",
       "  </tbody>\n",
       "</table>\n",
       "</div>"
      ],
      "text/plain": [
       "                       date   season\n",
       "program                             \n",
       "3853    1842-12-07 05:00:00  1842-43\n",
       "5178    1843-02-18 05:00:00  1842-43\n",
       "10785   1843-04-07 05:00:00  1842-43\n",
       "5887    1843-04-22 05:00:00  1842-43\n",
       "305     1843-11-18 05:00:00  1843-44"
      ]
     },
     "execution_count": 18,
     "metadata": {},
     "output_type": "execute_result"
    }
   ],
   "source": [
    "df.head()"
   ]
  },
  {
   "cell_type": "code",
   "execution_count": 19,
   "metadata": {},
   "outputs": [],
   "source": [
    "df.to_csv(\"../data/program_dates.csv\")"
   ]
  },
  {
   "cell_type": "code",
   "execution_count": null,
   "metadata": {},
   "outputs": [],
   "source": []
  }
 ],
 "metadata": {
  "kernelspec": {
   "display_name": "Python 3",
   "language": "python",
   "name": "python3"
  },
  "language_info": {
   "codemirror_mode": {
    "name": "ipython",
    "version": 3
   },
   "file_extension": ".py",
   "mimetype": "text/x-python",
   "name": "python",
   "nbconvert_exporter": "python",
   "pygments_lexer": "ipython3",
   "version": "3.6.4"
  }
 },
 "nbformat": 4,
 "nbformat_minor": 2
}
