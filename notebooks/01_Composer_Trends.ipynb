{
 "cells": [
  {
   "cell_type": "markdown",
   "metadata": {},
   "source": [
    "# Composer Trends\n",
    "\n",
    "One thing I’m interested in is how the popularity of various composers changed over time. So let’s take a look at how many times each composer was programmed per season."
   ]
  },
  {
   "cell_type": "code",
   "execution_count": 30,
   "metadata": {},
   "outputs": [],
   "source": [
    "import altair as alt\n",
    "import numpy as np\n",
    "import pandas as pd"
   ]
  },
  {
   "cell_type": "code",
   "execution_count": 3,
   "metadata": {},
   "outputs": [],
   "source": [
    "df = pd.read_csv(\"../data/works.csv\")"
   ]
  },
  {
   "cell_type": "code",
   "execution_count": 4,
   "metadata": {},
   "outputs": [
    {
     "data": {
      "text/html": [
       "<div>\n",
       "<style scoped>\n",
       "    .dataframe tbody tr th:only-of-type {\n",
       "        vertical-align: middle;\n",
       "    }\n",
       "\n",
       "    .dataframe tbody tr th {\n",
       "        vertical-align: top;\n",
       "    }\n",
       "\n",
       "    .dataframe thead th {\n",
       "        text-align: right;\n",
       "    }\n",
       "</style>\n",
       "<table border=\"1\" class=\"dataframe\">\n",
       "  <thead>\n",
       "    <tr style=\"text-align: right;\">\n",
       "      <th></th>\n",
       "      <th>season</th>\n",
       "      <th>program</th>\n",
       "      <th>work</th>\n",
       "      <th>movement</th>\n",
       "      <th>composer</th>\n",
       "      <th>title</th>\n",
       "    </tr>\n",
       "  </thead>\n",
       "  <tbody>\n",
       "    <tr>\n",
       "      <th>0</th>\n",
       "      <td>1842-43</td>\n",
       "      <td>3853</td>\n",
       "      <td>52446</td>\n",
       "      <td>NaN</td>\n",
       "      <td>Beethoven,  Ludwig  van</td>\n",
       "      <td>SYMPHONY NO. 5 IN C MINOR, OP.67</td>\n",
       "    </tr>\n",
       "    <tr>\n",
       "      <th>1</th>\n",
       "      <td>1842-43</td>\n",
       "      <td>3853</td>\n",
       "      <td>8834</td>\n",
       "      <td>4.0</td>\n",
       "      <td>Weber,  Carl  Maria Von</td>\n",
       "      <td>OBERON</td>\n",
       "    </tr>\n",
       "    <tr>\n",
       "      <th>2</th>\n",
       "      <td>1842-43</td>\n",
       "      <td>3853</td>\n",
       "      <td>3642</td>\n",
       "      <td>NaN</td>\n",
       "      <td>Hummel,  Johann</td>\n",
       "      <td>QUINTET, PIANO, D MINOR, OP. 74</td>\n",
       "    </tr>\n",
       "    <tr>\n",
       "      <th>3</th>\n",
       "      <td>1842-43</td>\n",
       "      <td>3853</td>\n",
       "      <td>8834</td>\n",
       "      <td>3.0</td>\n",
       "      <td>Weber,  Carl  Maria Von</td>\n",
       "      <td>OBERON</td>\n",
       "    </tr>\n",
       "    <tr>\n",
       "      <th>4</th>\n",
       "      <td>1842-43</td>\n",
       "      <td>3853</td>\n",
       "      <td>8835</td>\n",
       "      <td>1.0</td>\n",
       "      <td>Rossini,  Gioachino</td>\n",
       "      <td>ARMIDA</td>\n",
       "    </tr>\n",
       "  </tbody>\n",
       "</table>\n",
       "</div>"
      ],
      "text/plain": [
       "    season  program   work  movement                 composer  \\\n",
       "0  1842-43     3853  52446       NaN  Beethoven,  Ludwig  van   \n",
       "1  1842-43     3853   8834       4.0  Weber,  Carl  Maria Von   \n",
       "2  1842-43     3853   3642       NaN          Hummel,  Johann   \n",
       "3  1842-43     3853   8834       3.0  Weber,  Carl  Maria Von   \n",
       "4  1842-43     3853   8835       1.0      Rossini,  Gioachino   \n",
       "\n",
       "                              title  \n",
       "0  SYMPHONY NO. 5 IN C MINOR, OP.67  \n",
       "1                            OBERON  \n",
       "2   QUINTET, PIANO, D MINOR, OP. 74  \n",
       "3                            OBERON  \n",
       "4                            ARMIDA  "
      ]
     },
     "execution_count": 4,
     "metadata": {},
     "output_type": "execute_result"
    }
   ],
   "source": [
    "df.head()"
   ]
  },
  {
   "cell_type": "markdown",
   "metadata": {},
   "source": [
    "Looking at the distribution of the number of times each composer was programmed, we can see that at least 50% of all of the composers ever performed were only programmed one time, and only 25% of composers were performed at least four times. We’ll need to find some minimum threshold for sufficiently popular composers."
   ]
  },
  {
   "cell_type": "code",
   "execution_count": 28,
   "metadata": {},
   "outputs": [
    {
     "data": {
      "text/html": [
       "<div>\n",
       "<style scoped>\n",
       "    .dataframe tbody tr th:only-of-type {\n",
       "        vertical-align: middle;\n",
       "    }\n",
       "\n",
       "    .dataframe tbody tr th {\n",
       "        vertical-align: top;\n",
       "    }\n",
       "\n",
       "    .dataframe thead th {\n",
       "        text-align: right;\n",
       "    }\n",
       "</style>\n",
       "<table border=\"1\" class=\"dataframe\">\n",
       "  <thead>\n",
       "    <tr style=\"text-align: right;\">\n",
       "      <th></th>\n",
       "      <th>season</th>\n",
       "      <th>program</th>\n",
       "      <th>work</th>\n",
       "    </tr>\n",
       "  </thead>\n",
       "  <tbody>\n",
       "    <tr>\n",
       "      <th>count</th>\n",
       "      <td>2778.000000</td>\n",
       "      <td>2778.000000</td>\n",
       "      <td>2778.000000</td>\n",
       "    </tr>\n",
       "    <tr>\n",
       "      <th>mean</th>\n",
       "      <td>5.696904</td>\n",
       "      <td>19.177826</td>\n",
       "      <td>4.294816</td>\n",
       "    </tr>\n",
       "    <tr>\n",
       "      <th>std</th>\n",
       "      <td>16.503410</td>\n",
       "      <td>132.931394</td>\n",
       "      <td>17.536582</td>\n",
       "    </tr>\n",
       "    <tr>\n",
       "      <th>min</th>\n",
       "      <td>1.000000</td>\n",
       "      <td>1.000000</td>\n",
       "      <td>1.000000</td>\n",
       "    </tr>\n",
       "    <tr>\n",
       "      <th>25%</th>\n",
       "      <td>1.000000</td>\n",
       "      <td>1.000000</td>\n",
       "      <td>1.000000</td>\n",
       "    </tr>\n",
       "    <tr>\n",
       "      <th>50%</th>\n",
       "      <td>1.000000</td>\n",
       "      <td>1.000000</td>\n",
       "      <td>1.000000</td>\n",
       "    </tr>\n",
       "    <tr>\n",
       "      <th>75%</th>\n",
       "      <td>3.000000</td>\n",
       "      <td>4.000000</td>\n",
       "      <td>3.000000</td>\n",
       "    </tr>\n",
       "    <tr>\n",
       "      <th>max</th>\n",
       "      <td>176.000000</td>\n",
       "      <td>3423.000000</td>\n",
       "      <td>645.000000</td>\n",
       "    </tr>\n",
       "  </tbody>\n",
       "</table>\n",
       "</div>"
      ],
      "text/plain": [
       "            season      program         work\n",
       "count  2778.000000  2778.000000  2778.000000\n",
       "mean      5.696904    19.177826     4.294816\n",
       "std      16.503410   132.931394    17.536582\n",
       "min       1.000000     1.000000     1.000000\n",
       "25%       1.000000     1.000000     1.000000\n",
       "50%       1.000000     1.000000     1.000000\n",
       "75%       3.000000     4.000000     3.000000\n",
       "max     176.000000  3423.000000   645.000000"
      ]
     },
     "execution_count": 28,
     "metadata": {},
     "output_type": "execute_result"
    }
   ],
   "source": [
    "composers = df.groupby(\"composer\").nunique().drop(columns=[\"composer\", \"title\", \"movement\"])\n",
    "composers.describe()"
   ]
  },
  {
   "cell_type": "code",
   "execution_count": 32,
   "metadata": {},
   "outputs": [
    {
     "data": {
      "text/html": [
       "<div>\n",
       "<style scoped>\n",
       "    .dataframe tbody tr th:only-of-type {\n",
       "        vertical-align: middle;\n",
       "    }\n",
       "\n",
       "    .dataframe tbody tr th {\n",
       "        vertical-align: top;\n",
       "    }\n",
       "\n",
       "    .dataframe thead th {\n",
       "        text-align: right;\n",
       "    }\n",
       "</style>\n",
       "<table border=\"1\" class=\"dataframe\">\n",
       "  <thead>\n",
       "    <tr style=\"text-align: right;\">\n",
       "      <th></th>\n",
       "      <th>season</th>\n",
       "      <th>program</th>\n",
       "      <th>work</th>\n",
       "    </tr>\n",
       "  </thead>\n",
       "  <tbody>\n",
       "    <tr>\n",
       "      <th>0.0</th>\n",
       "      <td>1.0</td>\n",
       "      <td>1.0</td>\n",
       "      <td>1.0</td>\n",
       "    </tr>\n",
       "    <tr>\n",
       "      <th>0.1</th>\n",
       "      <td>1.0</td>\n",
       "      <td>1.0</td>\n",
       "      <td>1.0</td>\n",
       "    </tr>\n",
       "    <tr>\n",
       "      <th>0.2</th>\n",
       "      <td>1.0</td>\n",
       "      <td>1.0</td>\n",
       "      <td>1.0</td>\n",
       "    </tr>\n",
       "    <tr>\n",
       "      <th>0.3</th>\n",
       "      <td>1.0</td>\n",
       "      <td>1.0</td>\n",
       "      <td>1.0</td>\n",
       "    </tr>\n",
       "    <tr>\n",
       "      <th>0.4</th>\n",
       "      <td>1.0</td>\n",
       "      <td>1.0</td>\n",
       "      <td>1.0</td>\n",
       "    </tr>\n",
       "    <tr>\n",
       "      <th>0.5</th>\n",
       "      <td>1.0</td>\n",
       "      <td>1.0</td>\n",
       "      <td>1.0</td>\n",
       "    </tr>\n",
       "    <tr>\n",
       "      <th>0.6</th>\n",
       "      <td>2.0</td>\n",
       "      <td>2.0</td>\n",
       "      <td>1.0</td>\n",
       "    </tr>\n",
       "    <tr>\n",
       "      <th>0.7</th>\n",
       "      <td>2.0</td>\n",
       "      <td>3.0</td>\n",
       "      <td>2.0</td>\n",
       "    </tr>\n",
       "    <tr>\n",
       "      <th>0.8</th>\n",
       "      <td>4.0</td>\n",
       "      <td>5.0</td>\n",
       "      <td>3.0</td>\n",
       "    </tr>\n",
       "    <tr>\n",
       "      <th>0.9</th>\n",
       "      <td>10.0</td>\n",
       "      <td>14.0</td>\n",
       "      <td>7.0</td>\n",
       "    </tr>\n",
       "    <tr>\n",
       "      <th>1.0</th>\n",
       "      <td>176.0</td>\n",
       "      <td>3423.0</td>\n",
       "      <td>645.0</td>\n",
       "    </tr>\n",
       "  </tbody>\n",
       "</table>\n",
       "</div>"
      ],
      "text/plain": [
       "     season  program   work\n",
       "0.0     1.0      1.0    1.0\n",
       "0.1     1.0      1.0    1.0\n",
       "0.2     1.0      1.0    1.0\n",
       "0.3     1.0      1.0    1.0\n",
       "0.4     1.0      1.0    1.0\n",
       "0.5     1.0      1.0    1.0\n",
       "0.6     2.0      2.0    1.0\n",
       "0.7     2.0      3.0    2.0\n",
       "0.8     4.0      5.0    3.0\n",
       "0.9    10.0     14.0    7.0\n",
       "1.0   176.0   3423.0  645.0"
      ]
     },
     "execution_count": 32,
     "metadata": {},
     "output_type": "execute_result"
    }
   ],
   "source": [
    "composers.quantile(np.arange(0, 1.1, .1))"
   ]
  },
  {
   "cell_type": "code",
   "execution_count": 157,
   "metadata": {},
   "outputs": [
    {
     "data": {
      "text/html": [
       "<div>\n",
       "<style scoped>\n",
       "    .dataframe tbody tr th:only-of-type {\n",
       "        vertical-align: middle;\n",
       "    }\n",
       "\n",
       "    .dataframe tbody tr th {\n",
       "        vertical-align: top;\n",
       "    }\n",
       "\n",
       "    .dataframe thead th {\n",
       "        text-align: right;\n",
       "    }\n",
       "</style>\n",
       "<table border=\"1\" class=\"dataframe\">\n",
       "  <thead>\n",
       "    <tr style=\"text-align: right;\">\n",
       "      <th></th>\n",
       "      <th></th>\n",
       "      <th>count</th>\n",
       "    </tr>\n",
       "    <tr>\n",
       "      <th>season</th>\n",
       "      <th>composer</th>\n",
       "      <th></th>\n",
       "    </tr>\n",
       "  </thead>\n",
       "  <tbody>\n",
       "    <tr>\n",
       "      <th rowspan=\"5\" valign=\"top\">1842-43</th>\n",
       "      <th>Beethoven,  Ludwig  van</th>\n",
       "      <td>4</td>\n",
       "    </tr>\n",
       "    <tr>\n",
       "      <th>Bellini,  Vincenzo</th>\n",
       "      <td>1</td>\n",
       "    </tr>\n",
       "    <tr>\n",
       "      <th>Haydn,  Franz  Joseph</th>\n",
       "      <td>1</td>\n",
       "    </tr>\n",
       "    <tr>\n",
       "      <th>Herz,  Henri</th>\n",
       "      <td>1</td>\n",
       "    </tr>\n",
       "    <tr>\n",
       "      <th>Hummel,  Johann</th>\n",
       "      <td>3</td>\n",
       "    </tr>\n",
       "  </tbody>\n",
       "</table>\n",
       "</div>"
      ],
      "text/plain": [
       "                                 count\n",
       "season  composer                      \n",
       "1842-43 Beethoven,  Ludwig  van      4\n",
       "        Bellini,  Vincenzo           1\n",
       "        Haydn,  Franz  Joseph        1\n",
       "        Herz,  Henri                 1\n",
       "        Hummel,  Johann              3"
      ]
     },
     "execution_count": 157,
     "metadata": {},
     "output_type": "execute_result"
    }
   ],
   "source": [
    "programs = pd.DataFrame({\n",
    "    \"count\": df.groupby([\"season\", \"composer\"])[\"program\"].nunique()\n",
    "})\n",
    "\n",
    "programs.head()"
   ]
  },
  {
   "cell_type": "code",
   "execution_count": 158,
   "metadata": {},
   "outputs": [
    {
     "data": {
      "text/html": [
       "<div>\n",
       "<style scoped>\n",
       "    .dataframe tbody tr th:only-of-type {\n",
       "        vertical-align: middle;\n",
       "    }\n",
       "\n",
       "    .dataframe tbody tr th {\n",
       "        vertical-align: top;\n",
       "    }\n",
       "\n",
       "    .dataframe thead th {\n",
       "        text-align: right;\n",
       "    }\n",
       "</style>\n",
       "<table border=\"1\" class=\"dataframe\">\n",
       "  <thead>\n",
       "    <tr style=\"text-align: right;\">\n",
       "      <th></th>\n",
       "      <th></th>\n",
       "      <th>count</th>\n",
       "      <th>pct</th>\n",
       "    </tr>\n",
       "    <tr>\n",
       "      <th>season</th>\n",
       "      <th>composer</th>\n",
       "      <th></th>\n",
       "      <th></th>\n",
       "    </tr>\n",
       "  </thead>\n",
       "  <tbody>\n",
       "    <tr>\n",
       "      <th rowspan=\"5\" valign=\"top\">1842-43</th>\n",
       "      <th>Beethoven,  Ludwig  van</th>\n",
       "      <td>4</td>\n",
       "      <td>0.142857</td>\n",
       "    </tr>\n",
       "    <tr>\n",
       "      <th>Bellini,  Vincenzo</th>\n",
       "      <td>1</td>\n",
       "      <td>0.035714</td>\n",
       "    </tr>\n",
       "    <tr>\n",
       "      <th>Haydn,  Franz  Joseph</th>\n",
       "      <td>1</td>\n",
       "      <td>0.035714</td>\n",
       "    </tr>\n",
       "    <tr>\n",
       "      <th>Herz,  Henri</th>\n",
       "      <td>1</td>\n",
       "      <td>0.035714</td>\n",
       "    </tr>\n",
       "    <tr>\n",
       "      <th>Hummel,  Johann</th>\n",
       "      <td>3</td>\n",
       "      <td>0.107143</td>\n",
       "    </tr>\n",
       "  </tbody>\n",
       "</table>\n",
       "</div>"
      ],
      "text/plain": [
       "                                 count       pct\n",
       "season  composer                                \n",
       "1842-43 Beethoven,  Ludwig  van      4  0.142857\n",
       "        Bellini,  Vincenzo           1  0.035714\n",
       "        Haydn,  Franz  Joseph        1  0.035714\n",
       "        Herz,  Henri                 1  0.035714\n",
       "        Hummel,  Johann              3  0.107143"
      ]
     },
     "execution_count": 158,
     "metadata": {},
     "output_type": "execute_result"
    }
   ],
   "source": [
    "l, r = programs.align(programs.groupby(\"season\")[\"count\"].sum(), axis=0, level=\"season\")\n",
    "programs[\"pct\"] = l[\"count\"] / r\n",
    "programs.head()"
   ]
  },
  {
   "cell_type": "code",
   "execution_count": 159,
   "metadata": {},
   "outputs": [
    {
     "data": {
      "text/html": [
       "<div>\n",
       "<style scoped>\n",
       "    .dataframe tbody tr th:only-of-type {\n",
       "        vertical-align: middle;\n",
       "    }\n",
       "\n",
       "    .dataframe tbody tr th {\n",
       "        vertical-align: top;\n",
       "    }\n",
       "\n",
       "    .dataframe thead th {\n",
       "        text-align: right;\n",
       "    }\n",
       "</style>\n",
       "<table border=\"1\" class=\"dataframe\">\n",
       "  <thead>\n",
       "    <tr style=\"text-align: right;\">\n",
       "      <th></th>\n",
       "      <th></th>\n",
       "      <th>count</th>\n",
       "      <th>pct</th>\n",
       "      <th>rca</th>\n",
       "    </tr>\n",
       "    <tr>\n",
       "      <th>season</th>\n",
       "      <th>composer</th>\n",
       "      <th></th>\n",
       "      <th></th>\n",
       "      <th></th>\n",
       "    </tr>\n",
       "  </thead>\n",
       "  <tbody>\n",
       "    <tr>\n",
       "      <th rowspan=\"5\" valign=\"top\">1842-43</th>\n",
       "      <th>Beethoven,  Ludwig  van</th>\n",
       "      <td>4</td>\n",
       "      <td>0.142857</td>\n",
       "      <td>2.223446</td>\n",
       "    </tr>\n",
       "    <tr>\n",
       "      <th>Bellini,  Vincenzo</th>\n",
       "      <td>1</td>\n",
       "      <td>0.035714</td>\n",
       "      <td>47.567857</td>\n",
       "    </tr>\n",
       "    <tr>\n",
       "      <th>Haydn,  Franz  Joseph</th>\n",
       "      <td>1</td>\n",
       "      <td>0.035714</td>\n",
       "      <td>2.543736</td>\n",
       "    </tr>\n",
       "    <tr>\n",
       "      <th>Herz,  Henri</th>\n",
       "      <td>1</td>\n",
       "      <td>0.035714</td>\n",
       "      <td>1902.714286</td>\n",
       "    </tr>\n",
       "    <tr>\n",
       "      <th>Hummel,  Johann</th>\n",
       "      <td>3</td>\n",
       "      <td>0.107143</td>\n",
       "      <td>237.839286</td>\n",
       "    </tr>\n",
       "  </tbody>\n",
       "</table>\n",
       "</div>"
      ],
      "text/plain": [
       "                                 count       pct          rca\n",
       "season  composer                                             \n",
       "1842-43 Beethoven,  Ludwig  van      4  0.142857     2.223446\n",
       "        Bellini,  Vincenzo           1  0.035714    47.567857\n",
       "        Haydn,  Franz  Joseph        1  0.035714     2.543736\n",
       "        Herz,  Henri                 1  0.035714  1902.714286\n",
       "        Hummel,  Johann              3  0.107143   237.839286"
      ]
     },
     "execution_count": 159,
     "metadata": {},
     "output_type": "execute_result"
    }
   ],
   "source": [
    "# Calculate the revealed comparative advantage for the composers by season.\n",
    "l, r = programs.align(\n",
    "    programs.groupby(\"composer\")[\"count\"].sum() / programs[\"count\"].sum(),\n",
    "    axis=0,\n",
    "    level=\"composer\")\n",
    "\n",
    "programs[\"rca\"] = l[\"pct\"] / r\n",
    "programs.head()"
   ]
  },
  {
   "cell_type": "code",
   "execution_count": 160,
   "metadata": {},
   "outputs": [
    {
     "data": {
      "text/html": [
       "<div>\n",
       "<style scoped>\n",
       "    .dataframe tbody tr th:only-of-type {\n",
       "        vertical-align: middle;\n",
       "    }\n",
       "\n",
       "    .dataframe tbody tr th {\n",
       "        vertical-align: top;\n",
       "    }\n",
       "\n",
       "    .dataframe thead th {\n",
       "        text-align: right;\n",
       "    }\n",
       "</style>\n",
       "<table border=\"1\" class=\"dataframe\">\n",
       "  <thead>\n",
       "    <tr style=\"text-align: right;\">\n",
       "      <th></th>\n",
       "      <th></th>\n",
       "      <th>count</th>\n",
       "      <th>pct</th>\n",
       "      <th>rca</th>\n",
       "      <th>log(rca)</th>\n",
       "    </tr>\n",
       "    <tr>\n",
       "      <th>season</th>\n",
       "      <th>composer</th>\n",
       "      <th></th>\n",
       "      <th></th>\n",
       "      <th></th>\n",
       "      <th></th>\n",
       "    </tr>\n",
       "  </thead>\n",
       "  <tbody>\n",
       "    <tr>\n",
       "      <th rowspan=\"5\" valign=\"top\">1842-43</th>\n",
       "      <th>Beethoven,  Ludwig  van</th>\n",
       "      <td>4</td>\n",
       "      <td>0.142857</td>\n",
       "      <td>2.223446</td>\n",
       "      <td>0.799058</td>\n",
       "    </tr>\n",
       "    <tr>\n",
       "      <th>Bellini,  Vincenzo</th>\n",
       "      <td>1</td>\n",
       "      <td>0.035714</td>\n",
       "      <td>47.567857</td>\n",
       "      <td>3.862157</td>\n",
       "    </tr>\n",
       "    <tr>\n",
       "      <th>Haydn,  Franz  Joseph</th>\n",
       "      <td>1</td>\n",
       "      <td>0.035714</td>\n",
       "      <td>2.543736</td>\n",
       "      <td>0.933634</td>\n",
       "    </tr>\n",
       "    <tr>\n",
       "      <th>Herz,  Henri</th>\n",
       "      <td>1</td>\n",
       "      <td>0.035714</td>\n",
       "      <td>1902.714286</td>\n",
       "      <td>7.551037</td>\n",
       "    </tr>\n",
       "    <tr>\n",
       "      <th>Hummel,  Johann</th>\n",
       "      <td>3</td>\n",
       "      <td>0.107143</td>\n",
       "      <td>237.839286</td>\n",
       "      <td>5.471595</td>\n",
       "    </tr>\n",
       "  </tbody>\n",
       "</table>\n",
       "</div>"
      ],
      "text/plain": [
       "                                 count       pct          rca  log(rca)\n",
       "season  composer                                                       \n",
       "1842-43 Beethoven,  Ludwig  van      4  0.142857     2.223446  0.799058\n",
       "        Bellini,  Vincenzo           1  0.035714    47.567857  3.862157\n",
       "        Haydn,  Franz  Joseph        1  0.035714     2.543736  0.933634\n",
       "        Herz,  Henri                 1  0.035714  1902.714286  7.551037\n",
       "        Hummel,  Johann              3  0.107143   237.839286  5.471595"
      ]
     },
     "execution_count": 160,
     "metadata": {},
     "output_type": "execute_result"
    }
   ],
   "source": [
    "programs[\"log(rca)\"] = np.log(programs[\"rca\"])\n",
    "programs.head()"
   ]
  },
  {
   "cell_type": "markdown",
   "metadata": {},
   "source": [
    "The log of the revealed comparative advantage gives us a way to determine the relative unusualness of the presence of each composer in a given season. Scores above 0 indicate that a composer was performed more than expected that season. We can look at how a composer’s RCA changes over time to get a sense for how that composer’s popularity has changed over the course of the philharmonic’s history."
   ]
  },
  {
   "cell_type": "code",
   "execution_count": 89,
   "metadata": {},
   "outputs": [
    {
     "data": {
      "application/vnd.vegalite.v2+json": {
       "$schema": "https://vega.github.io/schema/vega-lite/v2.json",
       "config": {
        "view": {
         "height": 300,
         "width": 400
        }
       },
       "data": {
        "values": [
         {
          "count": 4,
          "log(rca)": 0.7990584397354225,
          "pct": 0.14285714285714285,
          "rca": 2.223446433788239,
          "season": "1842-43"
         },
         {
          "count": 2,
          "log(rca)": 0.34707331599236535,
          "pct": 0.09090909090909091,
          "rca": 1.4149204578652432,
          "season": "1843-44"
         },
         {
          "count": 4,
          "log(rca)": 0.9957687339814768,
          "pct": 0.17391304347826086,
          "rca": 2.706804354176987,
          "season": "1844-45"
         },
         {
          "count": 3,
          "log(rca)": 0.40959367297369914,
          "pct": 0.0967741935483871,
          "rca": 1.5062056486952586,
          "season": "1845-46"
         },
         {
          "count": 3,
          "log(rca)": 0.6655270471108998,
          "pct": 0.125,
          "rca": 1.9455156295647091,
          "season": "1846-47"
         },
         {
          "count": 3,
          "log(rca)": 0.7080866615296959,
          "pct": 0.13043478260869565,
          "rca": 2.0301032656327402,
          "season": "1847-48"
         },
         {
          "count": 1,
          "log(rca)": -0.2995538489326872,
          "pct": 0.047619047619047616,
          "rca": 0.7411488112627463,
          "season": "1848-49"
         },
         {
          "count": 2,
          "log(rca)": 0.6655270471108998,
          "pct": 0.125,
          "rca": 1.9455156295647091,
          "season": "1849-50"
         },
         {
          "count": 2,
          "log(rca)": 0.34707331599236535,
          "pct": 0.09090909090909091,
          "rca": 1.4149204578652432,
          "season": "1850-51"
         },
         {
          "count": 2,
          "log(rca)": 0.30262155342153146,
          "pct": 0.08695652173913043,
          "rca": 1.3534021770884934,
          "season": "1851-52"
         },
         {
          "count": 3,
          "log(rca)": 0.5113763672836416,
          "pct": 0.10714285714285714,
          "rca": 1.6675848253411794,
          "season": "1852-53"
         },
         {
          "count": 3,
          "log(rca)": 0.5854843394373636,
          "pct": 0.11538461538461539,
          "rca": 1.7958605811366548,
          "season": "1853-54"
         },
         {
          "count": 4,
          "log(rca)": 0.730065568248471,
          "pct": 0.13333333333333333,
          "rca": 2.07521667153569,
          "season": "1854-55"
         },
         {
          "count": 2,
          "log(rca)": 0.2600619390027354,
          "pct": 0.08333333333333333,
          "rca": 1.297010419709806,
          "season": "1855-56"
         },
         {
          "count": 3,
          "log(rca)": 0.5477440114545163,
          "pct": 0.1111111111111111,
          "rca": 1.7293472262797414,
          "season": "1856-57"
         },
         {
          "count": 3,
          "log(rca)": 0.5854843394373636,
          "pct": 0.11538461538461539,
          "rca": 1.7958605811366548,
          "season": "1857-58"
         },
         {
          "count": 3,
          "log(rca)": 0.2600619390027354,
          "pct": 0.08333333333333333,
          "rca": 1.297010419709806,
          "season": "1858-59"
         },
         {
          "count": 4,
          "log(rca)": 0.604902425294465,
          "pct": 0.11764705882352941,
          "rca": 1.8310735337079616,
          "season": "1859-60"
         },
         {
          "count": 4,
          "log(rca)": 0.3246004601403067,
          "pct": 0.08888888888888889,
          "rca": 1.3834777810237933,
          "season": "1860-61"
         },
         {
          "count": 5,
          "log(rca)": 0.857898939758356,
          "pct": 0.15151515151515152,
          "rca": 2.3582007631087385,
          "season": "1861-62"
         },
         {
          "count": 4,
          "log(rca)": 0.7990584397354225,
          "pct": 0.14285714285714285,
          "rca": 2.223446433788239,
          "season": "1862-63"
         },
         {
          "count": 4,
          "log(rca)": 0.520345037266402,
          "pct": 0.10810810810810811,
          "rca": 1.6826081120559648,
          "season": "1863-64"
         },
         {
          "count": 4,
          "log(rca)": 0.9123871250424256,
          "pct": 0.16,
          "rca": 2.4902600058428277,
          "season": "1864-65"
         },
         {
          "count": 3,
          "log(rca)": 0.5854843394373636,
          "pct": 0.11538461538461539,
          "rca": 1.7958605811366548,
          "season": "1865-66"
         },
         {
          "count": 5,
          "log(rca)": 0.8886705984251096,
          "pct": 0.15625,
          "rca": 2.4318945369558866,
          "season": "1866-67"
         },
         {
          "count": 3,
          "log(rca)": 0.6655270471108998,
          "pct": 0.125,
          "rca": 1.9455156295647091,
          "season": "1867-68"
         },
         {
          "count": 6,
          "log(rca)": 1.1694322280323166,
          "pct": 0.20689655172413793,
          "rca": 3.220163800658829,
          "season": "1868-69"
         },
         {
          "count": 4,
          "log(rca)": 0.730065568248471,
          "pct": 0.13333333333333333,
          "rca": 2.07521667153569,
          "season": "1869-70"
         },
         {
          "count": 5,
          "log(rca)": 0.857898939758356,
          "pct": 0.15151515151515152,
          "rca": 2.3582007631087385,
          "season": "1870-71"
         },
         {
          "count": 5,
          "log(rca)": 0.8280459766086748,
          "pct": 0.14705882352941177,
          "rca": 2.288841917134952,
          "season": "1871-72"
         },
         {
          "count": 3,
          "log(rca)": 0.5113763672836416,
          "pct": 0.10714285714285714,
          "rca": 1.6675848253411794,
          "season": "1872-73"
         },
         {
          "count": 3,
          "log(rca)": 0.44238349579669023,
          "pct": 0.1,
          "rca": 1.5564125036517675,
          "season": "1873-74"
         },
         {
          "count": 4,
          "log(rca)": 0.5477440114545163,
          "pct": 0.1111111111111111,
          "rca": 1.7293472262797414,
          "season": "1874-75"
         },
         {
          "count": 4,
          "log(rca)": 0.6972757454254802,
          "pct": 0.12903225806451613,
          "rca": 2.008274198260345,
          "season": "1875-76"
         },
         {
          "count": 7,
          "log(rca)": 1.1073597993899391,
          "pct": 0.19444444444444445,
          "rca": 3.0263576459895476,
          "season": "1876-77"
         },
         {
          "count": 5,
          "log(rca)": 1.1355306763566355,
          "pct": 0.2,
          "rca": 3.112825007303535,
          "season": "1877-78"
         },
         {
          "count": 11,
          "log(rca)": 0.6542274918569665,
          "pct": 0.12359550561797752,
          "rca": 1.9236559033898248,
          "season": "1878-79"
         },
         {
          "count": 12,
          "log(rca)": 1.0554879686830991,
          "pct": 0.18461538461538463,
          "rca": 2.873376929818648,
          "season": "1879-80"
         },
         {
          "count": 9,
          "log(rca)": 1.0503728680163287,
          "pct": 0.1836734693877551,
          "rca": 2.858716843442022,
          "season": "1880-81"
         },
         {
          "count": 11,
          "log(rca)": 1.2510435634784798,
          "pct": 0.22448979591836735,
          "rca": 3.4939872530958045,
          "season": "1881-82"
         },
         {
          "count": 7,
          "log(rca)": 0.8196777269381582,
          "pct": 0.14583333333333334,
          "rca": 2.269768234492161,
          "season": "1882-83"
         },
         {
          "count": 7,
          "log(rca)": 0.7205868242939273,
          "pct": 0.1320754716981132,
          "rca": 2.0556391557664853,
          "season": "1883-84"
         },
         {
          "count": 9,
          "log(rca)": 0.916841475391806,
          "pct": 0.16071428571428573,
          "rca": 2.501377238011769,
          "season": "1884-85"
         },
         {
          "count": 6,
          "log(rca)": 0.566436144466669,
          "pct": 0.11320754716981132,
          "rca": 1.761976419228416,
          "season": "1885-86"
         },
         {
          "count": 7,
          "log(rca)": 0.7990584397354225,
          "pct": 0.14285714285714285,
          "rca": 2.223446433788239,
          "season": "1886-87"
         },
         {
          "count": 9,
          "log(rca)": 0.8478486039048544,
          "pct": 0.15,
          "rca": 2.334618755477651,
          "season": "1887-88"
         },
         {
          "count": 5,
          "log(rca)": 0.34707331599236535,
          "pct": 0.09090909090909091,
          "rca": 1.4149204578652432,
          "season": "1888-89"
         },
         {
          "count": 6,
          "log(rca)": 0.5477440114545163,
          "pct": 0.1111111111111111,
          "rca": 1.7293472262797414,
          "season": "1889-90"
         },
         {
          "count": 7,
          "log(rca)": 0.4567722332487898,
          "pct": 0.10144927536231885,
          "rca": 1.5789692066032424,
          "season": "1890-91"
         },
         {
          "count": 8,
          "log(rca)": 0.5903036258733124,
          "pct": 0.11594202898550725,
          "rca": 1.8045362361179913,
          "season": "1891-92"
         },
         {
          "count": 7,
          "log(rca)": 0.5637443528009575,
          "pct": 0.11290322580645161,
          "rca": 1.7572399234778018,
          "season": "1892-93"
         },
         {
          "count": 4,
          "log(rca)": 0.10591125917547718,
          "pct": 0.07142857142857142,
          "rca": 1.1117232168941196,
          "season": "1893-94"
         },
         {
          "count": 7,
          "log(rca)": 0.5637443528009575,
          "pct": 0.11290322580645161,
          "rca": 1.7572399234778018,
          "season": "1894-95"
         },
         {
          "count": 6,
          "log(rca)": 0.44238349579669023,
          "pct": 0.1,
          "rca": 1.5564125036517675,
          "season": "1895-96"
         },
         {
          "count": 9,
          "log(rca)": 0.13000881075453763,
          "pct": 0.07317073170731707,
          "rca": 1.1388384173061712,
          "season": "1896-97"
         },
         {
          "count": 6,
          "log(rca)": 0.3320354386278247,
          "pct": 0.08955223880597014,
          "rca": 1.3938022420762095,
          "season": "1897-98"
         },
         {
          "count": 5,
          "log(rca)": 0.1348987960487295,
          "pct": 0.07352941176470588,
          "rca": 1.144420958567476,
          "season": "1898-99"
         },
         {
          "count": 6,
          "log(rca)": 0.13000881075453763,
          "pct": 0.07317073170731707,
          "rca": 1.1388384173061712,
          "season": "1899-00"
         },
         {
          "count": 34,
          "log(rca)": -0.4281712267547808,
          "pct": 0.04187192118226601,
          "rca": 0.6516998168000011,
          "season": "1900-01"
         },
         {
          "count": 5,
          "log(rca)": 0.5932063855312737,
          "pct": 0.11627906976744186,
          "rca": 1.8097819809904272,
          "season": "1901-02"
         },
         {
          "count": 4,
          "log(rca)": 0.020389085737315137,
          "pct": 0.06557377049180328,
          "rca": 1.0205983630503392,
          "season": "1902-03"
         },
         {
          "count": 7,
          "log(rca)": -0.24359519528464266,
          "pct": 0.050359712230215826,
          "rca": 0.7838048579541275,
          "season": "1903-04"
         },
         {
          "count": 14,
          "log(rca)": 0.16367009332766966,
          "pct": 0.07567567567567568,
          "rca": 1.1778256784391754,
          "season": "1904-05"
         },
         {
          "count": 13,
          "log(rca)": 0.3059716403068134,
          "pct": 0.087248322147651,
          "rca": 1.3579437951324145,
          "season": "1905-06"
         },
         {
          "count": 9,
          "log(rca)": 0.18860297502059062,
          "pct": 0.07758620689655173,
          "rca": 1.207561425247061,
          "season": "1906-07"
         },
         {
          "count": 10,
          "log(rca)": 0.570216867306575,
          "pct": 0.11363636363636363,
          "rca": 1.7686505723315538,
          "season": "1907-08"
         },
         {
          "count": 16,
          "log(rca)": 0.7639671199241524,
          "pct": 0.13793103448275862,
          "rca": 2.146775867105886,
          "season": "1908-09"
         },
         {
          "count": 24,
          "log(rca)": 0.5431250655982219,
          "pct": 0.11059907834101383,
          "rca": 1.721377884223153,
          "season": "1909-10"
         },
         {
          "count": 22,
          "log(rca)": 0.2830514572274342,
          "pct": 0.08527131782945736,
          "rca": 1.3271734527263133,
          "season": "1910-11"
         },
         {
          "count": 21,
          "log(rca)": -0.1267110360932763,
          "pct": 0.05660377358490566,
          "rca": 0.880988209614208,
          "season": "1911-12"
         },
         {
          "count": 31,
          "log(rca)": 0.175068726169343,
          "pct": 0.07654320987654321,
          "rca": 1.1913280892149332,
          "season": "1912-13"
         },
         {
          "count": 28,
          "log(rca)": 0.06345794292313793,
          "pct": 0.06845965770171149,
          "rca": 1.0655146724266378,
          "season": "1913-14"
         },
         {
          "count": 27,
          "log(rca)": -0.1076628411225818,
          "pct": 0.057692307692307696,
          "rca": 0.8979302905683274,
          "season": "1914-15"
         },
         {
          "count": 35,
          "log(rca)": -0.33431670758153637,
          "pct": 0.045992115637319315,
          "rca": 0.7158270384732176,
          "season": "1915-16"
         },
         {
          "count": 36,
          "log(rca)": 0.022212240298830378,
          "pct": 0.06569343065693431,
          "rca": 1.022460768822329,
          "season": "1916-17"
         },
         {
          "count": 24,
          "log(rca)": -0.3269528231208017,
          "pct": 0.04633204633204633,
          "rca": 0.7211177623096992,
          "season": "1917-18"
         },
         {
          "count": 27,
          "log(rca)": -0.37918947335207764,
          "pct": 0.043973941368078175,
          "rca": 0.6844159218012658,
          "season": "1918-19"
         },
         {
          "count": 50,
          "log(rca)": 0.09454750052516216,
          "pct": 0.07062146892655367,
          "rca": 1.099161372635429,
          "season": "1919-20"
         },
         {
          "count": 67,
          "log(rca)": 0.1892465170982738,
          "pct": 0.0776361529548088,
          "rca": 1.2083387919428552,
          "season": "1920-21"
         },
         {
          "count": 53,
          "log(rca)": 0.2491157781052383,
          "pct": 0.08242612752721618,
          "rca": 1.282890555109544,
          "season": "1921-22"
         },
         {
          "count": 52,
          "log(rca)": 0.19342226145653946,
          "pct": 0.07796101949025487,
          "rca": 1.2133950553207182,
          "season": "1922-23"
         },
         {
          "count": 46,
          "log(rca)": 0.05889729440730108,
          "pct": 0.06814814814814815,
          "rca": 1.0606662987849083,
          "season": "1923-24"
         },
         {
          "count": 60,
          "log(rca)": 0.23944265179999974,
          "pct": 0.08163265306122448,
          "rca": 1.2705408193075651,
          "season": "1924-25"
         },
         {
          "count": 70,
          "log(rca)": 0.42960830430796726,
          "pct": 0.09873060648801128,
          "rca": 1.5366555043106307,
          "season": "1925-26"
         },
         {
          "count": 60,
          "log(rca)": 0.2545217586271201,
          "pct": 0.08287292817679558,
          "rca": 1.2898446162859951,
          "season": "1926-27"
         },
         {
          "count": 62,
          "log(rca)": 0.21152782399614128,
          "pct": 0.0793854033290653,
          "rca": 1.2355643434879586,
          "season": "1927-28"
         },
         {
          "count": 46,
          "log(rca)": 0.16015102811247386,
          "pct": 0.07540983606557378,
          "rca": 1.1736881175078901,
          "season": "1928-29"
         },
         {
          "count": 56,
          "log(rca)": 0.2365314415925415,
          "pct": 0.08139534883720931,
          "rca": 1.2668473866932992,
          "season": "1929-30"
         },
         {
          "count": 29,
          "log(rca)": -0.13771082348227326,
          "pct": 0.055984555984555984,
          "rca": 0.8713506294575531,
          "season": "1930-31"
         },
         {
          "count": 37,
          "log(rca)": 0.02616559591226389,
          "pct": 0.0659536541889483,
          "rca": 1.026510920412039,
          "season": "1931-32"
         },
         {
          "count": 42,
          "log(rca)": 0.22114652275306185,
          "pct": 0.08015267175572519,
          "rca": 1.2475062052170653,
          "season": "1932-33"
         },
         {
          "count": 32,
          "log(rca)": 0.1633323125441843,
          "pct": 0.07565011820330969,
          "rca": 1.1774278987436537,
          "season": "1933-34"
         },
         {
          "count": 29,
          "log(rca)": 0.1384548069079485,
          "pct": 0.0737913486005089,
          "rca": 1.148497776231584,
          "season": "1934-35"
         },
         {
          "count": 37,
          "log(rca)": 0.19467917973988383,
          "pct": 0.07805907172995781,
          "rca": 1.2149211526395653,
          "season": "1935-36"
         },
         {
          "count": 26,
          "log(rca)": -0.25268491494114914,
          "pct": 0.04990403071017274,
          "rca": 0.7767125737993464,
          "season": "1936-37"
         },
         {
          "count": 40,
          "log(rca)": 0.06566085655417973,
          "pct": 0.0686106346483705,
          "rca": 1.0678644965020703,
          "season": "1937-38"
         },
         {
          "count": 53,
          "log(rca)": 0.36612151096305967,
          "pct": 0.09265734265734266,
          "rca": 1.4421304666703438,
          "season": "1938-39"
         },
         {
          "count": 32,
          "log(rca)": -0.1505979859825329,
          "pct": 0.055267702936096716,
          "rca": 0.8601934389785243,
          "season": "1939-40"
         },
         {
          "count": 31,
          "log(rca)": -0.21797386194026427,
          "pct": 0.051666666666666666,
          "rca": 0.8041464602200799,
          "season": "1940-41"
         },
         {
          "count": 32,
          "log(rca)": -0.013853937684897424,
          "pct": 0.06336633663366337,
          "rca": 0.9862415864724071,
          "season": "1941-42"
         },
         {
          "count": 33,
          "log(rca)": -0.09888315347053613,
          "pct": 0.0582010582010582,
          "rca": 0.9058485470989122,
          "season": "1942-43"
         },
         {
          "count": 43,
          "log(rca)": 0.11760729893866848,
          "pct": 0.07226890756302522,
          "rca": 1.1248023135634622,
          "season": "1943-44"
         },
         {
          "count": 44,
          "log(rca)": 0.09943874466985966,
          "pct": 0.07096774193548387,
          "rca": 1.1045508090431897,
          "season": "1944-45"
         },
         {
          "count": 30,
          "log(rca)": -0.6439312650610134,
          "pct": 0.03374578177727784,
          "rca": 0.5252235670365919,
          "season": "1945-46"
         },
         {
          "count": 49,
          "log(rca)": 0.10009728931005739,
          "pct": 0.07101449275362319,
          "rca": 1.1052784446222697,
          "season": "1946-47"
         },
         {
          "count": 34,
          "log(rca)": 0.15103169445594666,
          "pct": 0.07472527472527472,
          "rca": 1.1630335192123096,
          "season": "1947-48"
         },
         {
          "count": 29,
          "log(rca)": -0.28466523643893654,
          "pct": 0.04833333333333333,
          "rca": 0.7522660434316876,
          "season": "1948-49"
         },
         {
          "count": 32,
          "log(rca)": -0.039270750669020714,
          "pct": 0.06177606177606178,
          "rca": 0.9614903497462656,
          "season": "1949-50"
         },
         {
          "count": 39,
          "log(rca)": 0.24521543088574096,
          "pct": 0.08210526315789474,
          "rca": 1.2778965819456616,
          "season": "1950-51"
         },
         {
          "count": 20,
          "log(rca)": -0.38834934771581836,
          "pct": 0.04357298474945534,
          "rca": 0.6781753828548006,
          "season": "1951-52"
         },
         {
          "count": 38,
          "log(rca)": 0.17799698594843125,
          "pct": 0.07676767676767676,
          "rca": 1.1948217199750941,
          "season": "1952-53"
         },
         {
          "count": 32,
          "log(rca)": -0.04119939157542626,
          "pct": 0.06165703275529865,
          "rca": 0.9596377671841341,
          "season": "1953-54"
         },
         {
          "count": 34,
          "log(rca)": -0.179141308737279,
          "pct": 0.053712480252764615,
          "rca": 0.8359877586755149,
          "season": "1954-55"
         },
         {
          "count": 37,
          "log(rca)": 0.010250140606364281,
          "pct": 0.06491228070175438,
          "rca": 1.0103028532476384,
          "season": "1955-56"
         },
         {
          "count": 30,
          "log(rca)": -0.08824475526548033,
          "pct": 0.058823529411764705,
          "rca": 0.9155367668539808,
          "season": "1956-57"
         },
         {
          "count": 25,
          "log(rca)": -0.45940254987458323,
          "pct": 0.040584415584415584,
          "rca": 0.6316609186898406,
          "season": "1957-58"
         },
         {
          "count": 38,
          "log(rca)": 0.2822357964970575,
          "pct": 0.08520179372197309,
          "rca": 1.3260913708243758,
          "season": "1958-59"
         },
         {
          "count": 41,
          "log(rca)": 0.11115144583903325,
          "pct": 0.07180385288966724,
          "rca": 1.1175641444785018,
          "season": "1959-60"
         },
         {
          "count": 34,
          "log(rca)": -0.020240026151422976,
          "pct": 0.06296296296296296,
          "rca": 0.9799634282251868,
          "season": "1960-61"
         },
         {
          "count": 16,
          "log(rca)": -0.054596721147247576,
          "pct": 0.060836501901140684,
          "rca": 0.9468669223736987,
          "season": "1961-62"
         },
         {
          "count": 20,
          "log(rca)": -0.1370349194349122,
          "pct": 0.056022408963585436,
          "rca": 0.8719397779561723,
          "season": "1962-63"
         },
         {
          "count": 23,
          "log(rca)": 0.07834442934282257,
          "pct": 0.06948640483383686,
          "rca": 1.081495093171923,
          "season": "1963-64"
         },
         {
          "count": 17,
          "log(rca)": -0.0916989901335679,
          "pct": 0.05862068965517241,
          "rca": 0.9123797435200015,
          "season": "1964-65"
         },
         {
          "count": 12,
          "log(rca)": -0.46048421574532417,
          "pct": 0.04054054054054054,
          "rca": 0.6309780420209868,
          "season": "1965-66"
         },
         {
          "count": 26,
          "log(rca)": 0.30933298800951836,
          "pct": 0.08754208754208755,
          "rca": 1.3625159964628268,
          "season": "1966-67"
         },
         {
          "count": 27,
          "log(rca)": 0.09016290220733801,
          "pct": 0.0703125,
          "rca": 1.094352541630149,
          "season": "1967-68"
         },
         {
          "count": 13,
          "log(rca)": -0.36340532091922,
          "pct": 0.044673539518900345,
          "rca": 0.6953045548959785,
          "season": "1968-69"
         },
         {
          "count": 13,
          "log(rca)": -0.2995538489326872,
          "pct": 0.047619047619047616,
          "rca": 0.7411488112627463,
          "season": "1969-70"
         },
         {
          "count": 15,
          "log(rca)": 0.01493948096975057,
          "pct": 0.06521739130434782,
          "rca": 1.0150516328163701,
          "season": "1970-71"
         },
         {
          "count": 13,
          "log(rca)": -0.43308524155720995,
          "pct": 0.041666666666666664,
          "rca": 0.648505209854903,
          "season": "1971-72"
         },
         {
          "count": 10,
          "log(rca)": -0.6792940658024157,
          "pct": 0.03257328990228013,
          "rca": 0.5069747568898265,
          "season": "1972-73"
         },
         {
          "count": 21,
          "log(rca)": 0.03374881292724652,
          "pct": 0.06645569620253164,
          "rca": 1.0343247650850351,
          "season": "1973-74"
         },
         {
          "count": 19,
          "log(rca)": -0.1855231628948542,
          "pct": 0.05337078651685393,
          "rca": 0.8306695946456062,
          "season": "1974-75"
         },
         {
          "count": 18,
          "log(rca)": -0.28355350758624615,
          "pct": 0.04838709677419355,
          "rca": 0.7531028243476293,
          "season": "1975-76"
         },
         {
          "count": 15,
          "log(rca)": -0.3521161790235427,
          "pct": 0.045180722891566265,
          "rca": 0.7031984203245937,
          "season": "1976-77"
         },
         {
          "count": 28,
          "log(rca)": 0.10082218966800599,
          "pct": 0.07106598984771574,
          "rca": 1.1060799518337434,
          "season": "1977-78"
         },
         {
          "count": 20,
          "log(rca)": -0.08234503313829199,
          "pct": 0.05917159763313609,
          "rca": 0.9209541441726434,
          "season": "1978-79"
         },
         {
          "count": 35,
          "log(rca)": 0.7130679918798998,
          "pct": 0.13108614232209737,
          "rca": 2.0402411096558746,
          "season": "1979-80"
         },
         {
          "count": 17,
          "log(rca)": -0.10199067617011544,
          "pct": 0.05802047781569966,
          "rca": 0.9030379714020493,
          "season": "1980-81"
         },
         {
          "count": 20,
          "log(rca)": -0.011871776480906317,
          "pct": 0.06349206349206349,
          "rca": 0.9881984150169951,
          "season": "1981-82"
         },
         {
          "count": 15,
          "log(rca)": -0.32153275565146244,
          "pct": 0.046583850931677016,
          "rca": 0.7250368805831214,
          "season": "1982-83"
         },
         {
          "count": 20,
          "log(rca)": 0.0009079501654925786,
          "pct": 0.06430868167202572,
          "rca": 1.0009083624770208,
          "season": "1983-84"
         },
         {
          "count": 30,
          "log(rca)": 0.09643251522093337,
          "pct": 0.07075471698113207,
          "rca": 1.10123526201776,
          "season": "1984-85"
         },
         {
          "count": 9,
          "log(rca)": -0.674577931539616,
          "pct": 0.03272727272727273,
          "rca": 0.5093713648314876,
          "season": "1985-86"
         },
         {
          "count": 18,
          "log(rca)": -0.2282908289111965,
          "pct": 0.05113636363636364,
          "rca": 0.7958927575491993,
          "season": "1986-87"
         },
         {
          "count": 10,
          "log(rca)": -0.6986495087553717,
          "pct": 0.03194888178913738,
          "rca": 0.4972563909430567,
          "season": "1987-88"
         },
         {
          "count": 21,
          "log(rca)": 0.03691838768852575,
          "pct": 0.06666666666666667,
          "rca": 1.037608335767845,
          "season": "1988-89"
         },
         {
          "count": 25,
          "log(rca)": 0.321937342720823,
          "pct": 0.08865248226950355,
          "rca": 1.3797983188402194,
          "season": "1989-90"
         },
         {
          "count": 10,
          "log(rca)": -0.5908009875489643,
          "pct": 0.03558718861209965,
          "rca": 0.5538834532568567,
          "season": "1990-91"
         },
         {
          "count": 6,
          "log(rca)": -0.7207673140089909,
          "pct": 0.03125,
          "rca": 0.4863789073911773,
          "season": "1991-92"
         },
         {
          "count": 12,
          "log(rca)": -0.3977458751119009,
          "pct": 0.04316546762589928,
          "rca": 0.6718327353892521,
          "season": "1992-93"
         },
         {
          "count": 20,
          "log(rca)": 0.19162477744950696,
          "pct": 0.07782101167315175,
          "rca": 1.2112159561492353,
          "season": "1993-94"
         },
         {
          "count": 22,
          "log(rca)": 0.3065819546376283,
          "pct": 0.0873015873015873,
          "rca": 1.3587728206483682,
          "season": "1994-95"
         },
         {
          "count": 15,
          "log(rca)": -0.2474247834977405,
          "pct": 0.05016722408026756,
          "rca": 0.7808089483202847,
          "season": "1995-96"
         },
         {
          "count": 7,
          "log(rca)": -1.1699074856198166,
          "pct": 0.019943019943019943,
          "rca": 0.310395655998928,
          "season": "1996-97"
         },
         {
          "count": 7,
          "log(rca)": -1.0898647779462802,
          "pct": 0.021604938271604937,
          "rca": 0.3362619606655053,
          "season": "1997-98"
         },
         {
          "count": 37,
          "log(rca)": 0.7104396037917227,
          "pct": 0.13074204946996468,
          "rca": 2.0348856054811093,
          "season": "1998-99"
         },
         {
          "count": 9,
          "log(rca)": -0.6450554922732944,
          "pct": 0.033707865168539325,
          "rca": 0.5246334281972249,
          "season": "1999-00"
         },
         {
          "count": 7,
          "log(rca)": -0.8265741586186586,
          "pct": 0.028112449799196786,
          "rca": 0.43754568375752495,
          "season": "2000-01"
         },
         {
          "count": 24,
          "log(rca)": 0.09113994185516464,
          "pct": 0.07038123167155426,
          "rca": 1.0954222899601882,
          "season": "2001-02"
         },
         {
          "count": 24,
          "log(rca)": -0.06593899775118205,
          "pct": 0.06015037593984962,
          "rca": 0.9361879721213638,
          "season": "2002-03"
         },
         {
          "count": 15,
          "log(rca)": -0.4275141965077545,
          "pct": 0.04189944134078212,
          "rca": 0.6521281439881706,
          "season": "2003-04"
         },
         {
          "count": 15,
          "log(rca)": -0.473907236077465,
          "pct": 0.04,
          "rca": 0.6225650014607069,
          "season": "2004-05"
         },
         {
          "count": 14,
          "log(rca)": -0.7406574724882102,
          "pct": 0.030634573304157548,
          "rca": 0.4768003293462745,
          "season": "2005-06"
         },
         {
          "count": 27,
          "log(rca)": -0.23018297706323448,
          "pct": 0.05103969754253308,
          "rca": 0.7943882343780287,
          "season": "2006-07"
         },
         {
          "count": 28,
          "log(rca)": -0.16699380169779646,
          "pct": 0.05436893203883495,
          "rca": 0.8462048563543589,
          "season": "2007-08"
         },
         {
          "count": 17,
          "log(rca)": -0.6698609416614772,
          "pct": 0.03288201160541586,
          "rca": 0.5117797400789177,
          "season": "2008-09"
         },
         {
          "count": 32,
          "log(rca)": -0.09739394991906825,
          "pct": 0.058287795992714025,
          "rca": 0.9071985449336349,
          "season": "2009-10"
         },
         {
          "count": 30,
          "log(rca)": -0.054343203589798945,
          "pct": 0.060851926977687626,
          "rca": 0.9471070001937733,
          "season": "2010-11"
         },
         {
          "count": 23,
          "log(rca)": -0.2722698899842187,
          "pct": 0.04893617021276596,
          "rca": 0.7616486719998011,
          "season": "2011-12"
         },
         {
          "count": 11,
          "log(rca)": -1.009868833114998,
          "pct": 0.023404255319148935,
          "rca": 0.3642667561738179,
          "season": "2012-13"
         },
         {
          "count": 17,
          "log(rca)": -0.5702863630706948,
          "pct": 0.03632478632478633,
          "rca": 0.5653635162837617,
          "season": "2013-14"
         },
         {
          "count": 15,
          "log(rca)": -0.7555712362036828,
          "pct": 0.030181086519114688,
          "rca": 0.46974220432145897,
          "season": "2014-15"
         },
         {
          "count": 24,
          "log(rca)": -0.48385756693063303,
          "pct": 0.039603960396039604,
          "rca": 0.6164009915452544,
          "season": "2015-16"
         },
         {
          "count": 23,
          "log(rca)": -0.10095140653459506,
          "pct": 0.05808080808080808,
          "rca": 0.9039769591916831,
          "season": "2016-17"
         },
         {
          "count": 2,
          "log(rca)": -0.7515389726757444,
          "pct": 0.030303030303030304,
          "rca": 0.4716401526217477,
          "season": "2017-18"
         }
        ]
       },
       "encoding": {
        "x": {
         "field": "season",
         "type": "ordinal"
        },
        "y": {
         "field": "log(rca)",
         "type": "quantitative"
        }
       },
       "mark": "bar",
       "title": "Beethoven’s Popularity",
       "width": 600
      },
      "text/plain": [
       "<VegaLite 2 object>"
      ]
     },
     "execution_count": 89,
     "metadata": {},
     "output_type": "execute_result"
    }
   ],
   "source": [
    "alt.Chart(\n",
    "    programs.xs(\"Beethoven,  Ludwig  van\", level=\"composer\").reset_index(),\n",
    "    width=600,\n",
    "    title=\"Beethoven’s Popularity\"\n",
    ").mark_bar().encode(\n",
    "    x=\"season:O\",\n",
    "    y=\"log(rca):Q\"\n",
    ")"
   ]
  },
  {
   "cell_type": "markdown",
   "metadata": {},
   "source": [
    "For comparison, let’s take a look at one of the most distinctive composers from 2016–17"
   ]
  },
  {
   "cell_type": "code",
   "execution_count": 114,
   "metadata": {},
   "outputs": [
    {
     "data": {
      "text/html": [
       "<div>\n",
       "<style scoped>\n",
       "    .dataframe tbody tr th:only-of-type {\n",
       "        vertical-align: middle;\n",
       "    }\n",
       "\n",
       "    .dataframe tbody tr th {\n",
       "        vertical-align: top;\n",
       "    }\n",
       "\n",
       "    .dataframe thead th {\n",
       "        text-align: right;\n",
       "    }\n",
       "</style>\n",
       "<table border=\"1\" class=\"dataframe\">\n",
       "  <thead>\n",
       "    <tr style=\"text-align: right;\">\n",
       "      <th></th>\n",
       "      <th>count</th>\n",
       "      <th>pct</th>\n",
       "      <th>rca</th>\n",
       "      <th>log(rca)</th>\n",
       "    </tr>\n",
       "    <tr>\n",
       "      <th>composer</th>\n",
       "      <th></th>\n",
       "      <th></th>\n",
       "      <th></th>\n",
       "      <th></th>\n",
       "    </tr>\n",
       "  </thead>\n",
       "  <tbody>\n",
       "    <tr>\n",
       "      <th>Adams,  John</th>\n",
       "      <td>9</td>\n",
       "      <td>0.022727</td>\n",
       "      <td>26.907071</td>\n",
       "      <td>3.292389</td>\n",
       "    </tr>\n",
       "    <tr>\n",
       "      <th>Salonen,  Esa-Pekka</th>\n",
       "      <td>6</td>\n",
       "      <td>0.015152</td>\n",
       "      <td>26.039101</td>\n",
       "      <td>3.259599</td>\n",
       "    </tr>\n",
       "    <tr>\n",
       "      <th>Janacek [Janácek],  Leoš</th>\n",
       "      <td>5</td>\n",
       "      <td>0.012626</td>\n",
       "      <td>15.288108</td>\n",
       "      <td>2.727075</td>\n",
       "    </tr>\n",
       "  </tbody>\n",
       "</table>\n",
       "</div>"
      ],
      "text/plain": [
       "                          count       pct        rca  log(rca)\n",
       "composer                                                      \n",
       "Adams,  John                  9  0.022727  26.907071  3.292389\n",
       "Salonen,  Esa-Pekka           6  0.015152  26.039101  3.259599\n",
       "Janacek [Janácek],  Leoš      5  0.012626  15.288108  2.727075"
      ]
     },
     "execution_count": 114,
     "metadata": {},
     "output_type": "execute_result"
    }
   ],
   "source": [
    "(programs[programs.align((composers[\"program\"] > 14),axis=0, level=\"composer\")[1]]\n",
    " .loc[\"2016-17\"]\n",
    " .sort_values(\"log(rca)\", ascending=False)\n",
    " .head(3))"
   ]
  },
  {
   "cell_type": "code",
   "execution_count": 164,
   "metadata": {},
   "outputs": [
    {
     "data": {
      "application/vnd.vegalite.v2+json": {
       "$schema": "https://vega.github.io/schema/vega-lite/v2.json",
       "config": {
        "view": {
         "height": 300,
         "width": 400
        }
       },
       "data": {
        "values": [
         {
          "count": 1,
          "log(rca)": 1.302027192006193,
          "pct": 0.003105590062111801,
          "rca": 3.676742581090407,
          "season": "1982-83"
         },
         {
          "count": 1,
          "log(rca)": 1.2129475619525043,
          "pct": 0.002840909090909091,
          "rca": 3.3633838383838386,
          "season": "1986-87"
         },
         {
          "count": 1,
          "log(rca)": 1.8190833655228198,
          "pct": 0.005208333333333333,
          "rca": 6.166203703703704,
          "season": "1991-92"
         },
         {
          "count": 4,
          "log(rca)": 2.6020868752046264,
          "pct": 0.011396011396011397,
          "rca": 13.491864514086737,
          "season": "1996-97"
         },
         {
          "count": 1,
          "log(rca)": 1.4311318399073638,
          "pct": 0.0035335689045936395,
          "rca": 4.1834314880251275,
          "season": "1998-99"
         },
         {
          "count": 1,
          "log(rca)": 1.5591258410858937,
          "pct": 0.004016064257028112,
          "rca": 4.754663096831771,
          "season": "2000-01"
         },
         {
          "count": 2,
          "log(rca)": 1.7807645012206832,
          "pct": 0.005012531328320802,
          "rca": 5.934391534391534,
          "season": "2002-03"
         },
         {
          "count": 4,
          "log(rca)": 2.582340112269792,
          "pct": 0.0111731843575419,
          "rca": 13.228057107386718,
          "season": "2003-04"
         },
         {
          "count": 5,
          "log(rca)": 2.561333259090497,
          "pct": 0.010940919037199124,
          "rca": 12.953075613907124,
          "season": "2005-06"
         },
         {
          "count": 1,
          "log(rca)": 0.8055903056923022,
          "pct": 0.001890359168241966,
          "rca": 2.238017223272422,
          "season": "2006-07"
         },
         {
          "count": 7,
          "log(rca)": 2.714390445096384,
          "pct": 0.012750455373406194,
          "rca": 15.095405788301965,
          "season": "2009-10"
         },
         {
          "count": 2,
          "log(rca)": 1.5692167440678566,
          "pct": 0.004056795131845842,
          "rca": 4.802884832093757,
          "season": "2010-11"
         },
         {
          "count": 2,
          "log(rca)": 1.6169932234064424,
          "pct": 0.00425531914893617,
          "rca": 5.037919621749409,
          "season": "2012-13"
         },
         {
          "count": 1,
          "log(rca)": 0.9281104416329548,
          "pct": 0.002136752136752137,
          "rca": 2.5297245963912633,
          "season": "2013-14"
         },
         {
          "count": 2,
          "log(rca)": 1.5611358920139182,
          "pct": 0.004024144869215292,
          "rca": 4.7642298233847535,
          "season": "2014-15"
         },
         {
          "count": 1,
          "log(rca)": 0.669698751481287,
          "pct": 0.0016501650165016502,
          "rca": 1.9536486982031538,
          "season": "2015-16"
         },
         {
          "count": 9,
          "log(rca)": 3.2923891036323405,
          "pct": 0.022727272727272728,
          "rca": 26.90707070707071,
          "season": "2016-17"
         }
        ]
       },
       "encoding": {
        "x": {
         "field": "season",
         "type": "ordinal"
        },
        "y": {
         "field": "log(rca)",
         "type": "quantitative"
        }
       },
       "mark": "bar",
       "title": "John Adams’s Popularity",
       "width": 600
      },
      "text/plain": [
       "<VegaLite 2 object>"
      ]
     },
     "execution_count": 164,
     "metadata": {},
     "output_type": "execute_result"
    }
   ],
   "source": [
    "adams_pop = alt.Chart(\n",
    "    programs.xs(\"Adams,  John\", level=\"composer\").reset_index(),\n",
    "    width=600,\n",
    "    title=\"John Adams’s Popularity\"\n",
    ").mark_bar().encode(\n",
    "    x=\"season:O\",\n",
    "    y=\"log(rca):Q\"\n",
    ")\n",
    "\n",
    "adams_pop"
   ]
  },
  {
   "cell_type": "markdown",
   "metadata": {},
   "source": [
    "Here we can look at the top three most distinctive composers for each season. We exclude the bottom 90% of composers by total programs because so many composers were programmed only a small number of times, making RCA very sensitive in the seasons they were actually programmed."
   ]
  },
  {
   "cell_type": "code",
   "execution_count": 111,
   "metadata": {},
   "outputs": [
    {
     "data": {
      "text/html": [
       "<div>\n",
       "<style scoped>\n",
       "    .dataframe tbody tr th:only-of-type {\n",
       "        vertical-align: middle;\n",
       "    }\n",
       "\n",
       "    .dataframe tbody tr th {\n",
       "        vertical-align: top;\n",
       "    }\n",
       "\n",
       "    .dataframe thead th {\n",
       "        text-align: right;\n",
       "    }\n",
       "</style>\n",
       "<table border=\"1\" class=\"dataframe\">\n",
       "  <thead>\n",
       "    <tr style=\"text-align: right;\">\n",
       "      <th></th>\n",
       "      <th></th>\n",
       "      <th>count</th>\n",
       "      <th>log(rca)</th>\n",
       "    </tr>\n",
       "    <tr>\n",
       "      <th>season</th>\n",
       "      <th>composer</th>\n",
       "      <th></th>\n",
       "      <th></th>\n",
       "    </tr>\n",
       "  </thead>\n",
       "  <tbody>\n",
       "    <tr>\n",
       "      <th rowspan=\"3\" valign=\"top\">1842-43</th>\n",
       "      <th>Hummel,  Johann</th>\n",
       "      <td>3</td>\n",
       "      <td>5.471595</td>\n",
       "    </tr>\n",
       "    <tr>\n",
       "      <th>Rossini,  Gioachino</th>\n",
       "      <td>3</td>\n",
       "      <td>2.482133</td>\n",
       "    </tr>\n",
       "    <tr>\n",
       "      <th>Weber,  Carl  Maria Von</th>\n",
       "      <td>4</td>\n",
       "      <td>2.150614</td>\n",
       "    </tr>\n",
       "    <tr>\n",
       "      <th rowspan=\"3\" valign=\"top\">1843-44</th>\n",
       "      <th>Hummel,  Johann</th>\n",
       "      <td>2</td>\n",
       "      <td>5.307292</td>\n",
       "    </tr>\n",
       "    <tr>\n",
       "      <th>Donizetti,  Gaetano</th>\n",
       "      <td>3</td>\n",
       "      <td>4.534102</td>\n",
       "    </tr>\n",
       "    <tr>\n",
       "      <th>Weber,  Carl  Maria Von</th>\n",
       "      <td>3</td>\n",
       "      <td>2.104094</td>\n",
       "    </tr>\n",
       "    <tr>\n",
       "      <th rowspan=\"3\" valign=\"top\">1844-45</th>\n",
       "      <th>Meyerbeer,  Giacomo</th>\n",
       "      <td>2</td>\n",
       "      <td>4.489650</td>\n",
       "    </tr>\n",
       "    <tr>\n",
       "      <th>Donizetti,  Gaetano</th>\n",
       "      <td>2</td>\n",
       "      <td>4.084185</td>\n",
       "    </tr>\n",
       "    <tr>\n",
       "      <th>Weber,  Carl  Maria Von</th>\n",
       "      <td>2</td>\n",
       "      <td>1.654177</td>\n",
       "    </tr>\n",
       "    <tr>\n",
       "      <th rowspan=\"3\" valign=\"top\">1845-46</th>\n",
       "      <th>Cherubini,  Luigi</th>\n",
       "      <td>2</td>\n",
       "      <td>3.824913</td>\n",
       "    </tr>\n",
       "    <tr>\n",
       "      <th>Rossini,  Gioachino</th>\n",
       "      <td>3</td>\n",
       "      <td>2.380350</td>\n",
       "    </tr>\n",
       "    <tr>\n",
       "      <th>Traditional,</th>\n",
       "      <td>2</td>\n",
       "      <td>2.002517</td>\n",
       "    </tr>\n",
       "  </tbody>\n",
       "</table>\n",
       "</div>"
      ],
      "text/plain": [
       "                                 count  log(rca)\n",
       "season  composer                                \n",
       "1842-43 Hummel,  Johann              3  5.471595\n",
       "        Rossini,  Gioachino          3  2.482133\n",
       "        Weber,  Carl  Maria Von      4  2.150614\n",
       "1843-44 Hummel,  Johann              2  5.307292\n",
       "        Donizetti,  Gaetano          3  4.534102\n",
       "        Weber,  Carl  Maria Von      3  2.104094\n",
       "1844-45 Meyerbeer,  Giacomo          2  4.489650\n",
       "        Donizetti,  Gaetano          2  4.084185\n",
       "        Weber,  Carl  Maria Von      2  1.654177\n",
       "1845-46 Cherubini,  Luigi            2  3.824913\n",
       "        Rossini,  Gioachino          3  2.380350\n",
       "        Traditional,                 2  2.002517"
      ]
     },
     "execution_count": 111,
     "metadata": {},
     "output_type": "execute_result"
    }
   ],
   "source": [
    "(programs[programs.align((composers[\"program\"] > 14),axis=0, level=\"composer\")[1]]\n",
    " .reset_index()\n",
    " .groupby(\"season\", as_index=False)\n",
    " .apply(lambda df: df[df[\"count\"] > 1].sort_values(\"log(rca)\", ascending=False).iloc[:3])\n",
    " .loc[:, (\"season\", \"composer\", \"count\", \"log(rca)\")]\n",
    " .set_index([\"season\", \"composer\"])\n",
    " .head(12))"
   ]
  },
  {
   "cell_type": "markdown",
   "metadata": {},
   "source": [
    "## Debuts\n",
    "\n",
    "Looking at the comparison above of John Adams to Beethoven, we can see that composers that have been around longer have a disadvantage in later years in terms of being popular. The later a compose debuts, the fewer seasons have the opportunity to program that composer, thus making that composer more distinctive in the seasons they are composed.\n",
    "\n",
    "This leads me to believe we may need to calculate RCA relative the composer’s debut."
   ]
  },
  {
   "cell_type": "code",
   "execution_count": 143,
   "metadata": {},
   "outputs": [
    {
     "data": {
      "text/html": [
       "<div>\n",
       "<style scoped>\n",
       "    .dataframe tbody tr th:only-of-type {\n",
       "        vertical-align: middle;\n",
       "    }\n",
       "\n",
       "    .dataframe tbody tr th {\n",
       "        vertical-align: top;\n",
       "    }\n",
       "\n",
       "    .dataframe thead th {\n",
       "        text-align: right;\n",
       "    }\n",
       "</style>\n",
       "<table border=\"1\" class=\"dataframe\">\n",
       "  <thead>\n",
       "    <tr style=\"text-align: right;\">\n",
       "      <th></th>\n",
       "      <th>composer</th>\n",
       "      <th>season</th>\n",
       "    </tr>\n",
       "  </thead>\n",
       "  <tbody>\n",
       "    <tr>\n",
       "      <th>0</th>\n",
       "      <td>ACT,</td>\n",
       "      <td>2010-11</td>\n",
       "    </tr>\n",
       "    <tr>\n",
       "      <th>1</th>\n",
       "      <td>Abert,  Johann  Joseph</td>\n",
       "      <td>1926-27</td>\n",
       "    </tr>\n",
       "    <tr>\n",
       "      <th>2</th>\n",
       "      <td>Abt,  Franz</td>\n",
       "      <td>1852-53</td>\n",
       "    </tr>\n",
       "    <tr>\n",
       "      <th>3</th>\n",
       "      <td>Achron,  Isidor</td>\n",
       "      <td>1937-38</td>\n",
       "    </tr>\n",
       "    <tr>\n",
       "      <th>4</th>\n",
       "      <td>Acosta,  Daniel</td>\n",
       "      <td>2013-14</td>\n",
       "    </tr>\n",
       "  </tbody>\n",
       "</table>\n",
       "</div>"
      ],
      "text/plain": [
       "                 composer   season\n",
       "0                    ACT,  2010-11\n",
       "1  Abert,  Johann  Joseph  1926-27\n",
       "2             Abt,  Franz  1852-53\n",
       "3         Achron,  Isidor  1937-38\n",
       "4         Acosta,  Daniel  2013-14"
      ]
     },
     "execution_count": 143,
     "metadata": {},
     "output_type": "execute_result"
    }
   ],
   "source": [
    "debuts = (df.groupby(\"composer\", as_index=False)\n",
    "          .apply(lambda df: df.drop_duplicates(\"season\").sort_values(\"season\").iloc[0])\n",
    "         .loc[:, [\"composer\", \"season\"]])\n",
    "debuts.head()"
   ]
  },
  {
   "cell_type": "code",
   "execution_count": 151,
   "metadata": {},
   "outputs": [
    {
     "data": {
      "application/vnd.vegalite.v2+json": {
       "$schema": "https://vega.github.io/schema/vega-lite/v2.json",
       "config": {
        "view": {
         "height": 300,
         "width": 400
        }
       },
       "data": {
        "values": [
         {
          "composer": 16,
          "season": "1842-43"
         },
         {
          "composer": 6,
          "season": "1843-44"
         },
         {
          "composer": 5,
          "season": "1844-45"
         },
         {
          "composer": 11,
          "season": "1845-46"
         },
         {
          "composer": 4,
          "season": "1846-47"
         },
         {
          "composer": 3,
          "season": "1847-48"
         },
         {
          "composer": 6,
          "season": "1848-49"
         },
         {
          "composer": 2,
          "season": "1849-50"
         },
         {
          "composer": 9,
          "season": "1850-51"
         },
         {
          "composer": 2,
          "season": "1851-52"
         },
         {
          "composer": 8,
          "season": "1852-53"
         },
         {
          "composer": 5,
          "season": "1853-54"
         },
         {
          "composer": 4,
          "season": "1854-55"
         },
         {
          "composer": 3,
          "season": "1855-56"
         },
         {
          "composer": 7,
          "season": "1856-57"
         },
         {
          "composer": 3,
          "season": "1857-58"
         },
         {
          "composer": 5,
          "season": "1858-59"
         },
         {
          "composer": 5,
          "season": "1859-60"
         },
         {
          "composer": 13,
          "season": "1860-61"
         },
         {
          "composer": 4,
          "season": "1861-62"
         },
         {
          "composer": 2,
          "season": "1862-63"
         },
         {
          "composer": 6,
          "season": "1863-64"
         },
         {
          "composer": 4,
          "season": "1864-65"
         },
         {
          "composer": 3,
          "season": "1865-66"
         },
         {
          "composer": 2,
          "season": "1866-67"
         },
         {
          "composer": 2,
          "season": "1867-68"
         },
         {
          "composer": 4,
          "season": "1868-69"
         },
         {
          "composer": 2,
          "season": "1869-70"
         },
         {
          "composer": 3,
          "season": "1870-71"
         },
         {
          "composer": 3,
          "season": "1871-72"
         },
         {
          "composer": 3,
          "season": "1872-73"
         },
         {
          "composer": 1,
          "season": "1873-74"
         },
         {
          "composer": 3,
          "season": "1874-75"
         },
         {
          "composer": 4,
          "season": "1875-76"
         },
         {
          "composer": 5,
          "season": "1876-77"
         },
         {
          "composer": 12,
          "season": "1878-79"
         },
         {
          "composer": 9,
          "season": "1879-80"
         },
         {
          "composer": 2,
          "season": "1880-81"
         },
         {
          "composer": 2,
          "season": "1881-82"
         },
         {
          "composer": 4,
          "season": "1882-83"
         },
         {
          "composer": 6,
          "season": "1883-84"
         },
         {
          "composer": 5,
          "season": "1884-85"
         },
         {
          "composer": 4,
          "season": "1885-86"
         },
         {
          "composer": 5,
          "season": "1886-87"
         },
         {
          "composer": 2,
          "season": "1887-88"
         },
         {
          "composer": 1,
          "season": "1888-89"
         },
         {
          "composer": 2,
          "season": "1889-90"
         },
         {
          "composer": 9,
          "season": "1890-91"
         },
         {
          "composer": 2,
          "season": "1891-92"
         },
         {
          "composer": 7,
          "season": "1892-93"
         },
         {
          "composer": 4,
          "season": "1893-94"
         },
         {
          "composer": 4,
          "season": "1894-95"
         },
         {
          "composer": 7,
          "season": "1895-96"
         },
         {
          "composer": 16,
          "season": "1896-97"
         },
         {
          "composer": 6,
          "season": "1897-98"
         },
         {
          "composer": 6,
          "season": "1898-99"
         },
         {
          "composer": 7,
          "season": "1899-00"
         },
         {
          "composer": 44,
          "season": "1900-01"
         },
         {
          "composer": 3,
          "season": "1901-02"
         },
         {
          "composer": 4,
          "season": "1902-03"
         },
         {
          "composer": 10,
          "season": "1903-04"
         },
         {
          "composer": 13,
          "season": "1904-05"
         },
         {
          "composer": 11,
          "season": "1905-06"
         },
         {
          "composer": 5,
          "season": "1906-07"
         },
         {
          "composer": 10,
          "season": "1907-08"
         },
         {
          "composer": 9,
          "season": "1908-09"
         },
         {
          "composer": 18,
          "season": "1909-10"
         },
         {
          "composer": 15,
          "season": "1910-11"
         },
         {
          "composer": 17,
          "season": "1911-12"
         },
         {
          "composer": 28,
          "season": "1912-13"
         },
         {
          "composer": 28,
          "season": "1913-14"
         },
         {
          "composer": 26,
          "season": "1914-15"
         },
         {
          "composer": 40,
          "season": "1915-16"
         },
         {
          "composer": 13,
          "season": "1916-17"
         },
         {
          "composer": 23,
          "season": "1917-18"
         },
         {
          "composer": 22,
          "season": "1918-19"
         },
         {
          "composer": 19,
          "season": "1919-20"
         },
         {
          "composer": 15,
          "season": "1920-21"
         },
         {
          "composer": 33,
          "season": "1921-22"
         },
         {
          "composer": 24,
          "season": "1922-23"
         },
         {
          "composer": 20,
          "season": "1923-24"
         },
         {
          "composer": 23,
          "season": "1924-25"
         },
         {
          "composer": 20,
          "season": "1925-26"
         },
         {
          "composer": 23,
          "season": "1926-27"
         },
         {
          "composer": 33,
          "season": "1927-28"
         },
         {
          "composer": 14,
          "season": "1928-29"
         },
         {
          "composer": 17,
          "season": "1929-30"
         },
         {
          "composer": 15,
          "season": "1930-31"
         },
         {
          "composer": 10,
          "season": "1931-32"
         },
         {
          "composer": 26,
          "season": "1932-33"
         },
         {
          "composer": 10,
          "season": "1933-34"
         },
         {
          "composer": 12,
          "season": "1934-35"
         },
         {
          "composer": 31,
          "season": "1935-36"
         },
         {
          "composer": 20,
          "season": "1936-37"
         },
         {
          "composer": 38,
          "season": "1937-38"
         },
         {
          "composer": 34,
          "season": "1938-39"
         },
         {
          "composer": 19,
          "season": "1939-40"
         },
         {
          "composer": 29,
          "season": "1940-41"
         },
         {
          "composer": 25,
          "season": "1941-42"
         },
         {
          "composer": 39,
          "season": "1942-43"
         },
         {
          "composer": 24,
          "season": "1943-44"
         },
         {
          "composer": 37,
          "season": "1944-45"
         },
         {
          "composer": 80,
          "season": "1945-46"
         },
         {
          "composer": 33,
          "season": "1946-47"
         },
         {
          "composer": 9,
          "season": "1947-48"
         },
         {
          "composer": 24,
          "season": "1948-49"
         },
         {
          "composer": 20,
          "season": "1949-50"
         },
         {
          "composer": 5,
          "season": "1950-51"
         },
         {
          "composer": 14,
          "season": "1951-52"
         },
         {
          "composer": 16,
          "season": "1952-53"
         },
         {
          "composer": 15,
          "season": "1953-54"
         },
         {
          "composer": 24,
          "season": "1954-55"
         },
         {
          "composer": 29,
          "season": "1955-56"
         },
         {
          "composer": 28,
          "season": "1956-57"
         },
         {
          "composer": 21,
          "season": "1957-58"
         },
         {
          "composer": 21,
          "season": "1958-59"
         },
         {
          "composer": 17,
          "season": "1959-60"
         },
         {
          "composer": 12,
          "season": "1960-61"
         },
         {
          "composer": 9,
          "season": "1961-62"
         },
         {
          "composer": 8,
          "season": "1962-63"
         },
         {
          "composer": 12,
          "season": "1963-64"
         },
         {
          "composer": 5,
          "season": "1964-65"
         },
         {
          "composer": 6,
          "season": "1965-66"
         },
         {
          "composer": 15,
          "season": "1966-67"
         },
         {
          "composer": 5,
          "season": "1967-68"
         },
         {
          "composer": 8,
          "season": "1968-69"
         },
         {
          "composer": 6,
          "season": "1969-70"
         },
         {
          "composer": 5,
          "season": "1970-71"
         },
         {
          "composer": 18,
          "season": "1971-72"
         },
         {
          "composer": 8,
          "season": "1972-73"
         },
         {
          "composer": 6,
          "season": "1973-74"
         },
         {
          "composer": 9,
          "season": "1974-75"
         },
         {
          "composer": 11,
          "season": "1975-76"
         },
         {
          "composer": 31,
          "season": "1976-77"
         },
         {
          "composer": 28,
          "season": "1977-78"
         },
         {
          "composer": 3,
          "season": "1978-79"
         },
         {
          "composer": 6,
          "season": "1979-80"
         },
         {
          "composer": 7,
          "season": "1980-81"
         },
         {
          "composer": 5,
          "season": "1981-82"
         },
         {
          "composer": 18,
          "season": "1982-83"
         },
         {
          "composer": 28,
          "season": "1983-84"
         },
         {
          "composer": 7,
          "season": "1984-85"
         },
         {
          "composer": 21,
          "season": "1985-86"
         },
         {
          "composer": 13,
          "season": "1986-87"
         },
         {
          "composer": 7,
          "season": "1987-88"
         },
         {
          "composer": 7,
          "season": "1988-89"
         },
         {
          "composer": 10,
          "season": "1989-90"
         },
         {
          "composer": 7,
          "season": "1990-91"
         },
         {
          "composer": 3,
          "season": "1991-92"
         },
         {
          "composer": 9,
          "season": "1992-93"
         },
         {
          "composer": 16,
          "season": "1993-94"
         },
         {
          "composer": 13,
          "season": "1994-95"
         },
         {
          "composer": 23,
          "season": "1995-96"
         },
         {
          "composer": 20,
          "season": "1996-97"
         },
         {
          "composer": 26,
          "season": "1997-98"
         },
         {
          "composer": 11,
          "season": "1998-99"
         },
         {
          "composer": 33,
          "season": "1999-00"
         },
         {
          "composer": 7,
          "season": "2000-01"
         },
         {
          "composer": 11,
          "season": "2001-02"
         },
         {
          "composer": 19,
          "season": "2002-03"
         },
         {
          "composer": 13,
          "season": "2003-04"
         },
         {
          "composer": 20,
          "season": "2004-05"
         },
         {
          "composer": 38,
          "season": "2005-06"
         },
         {
          "composer": 27,
          "season": "2006-07"
         },
         {
          "composer": 41,
          "season": "2007-08"
         },
         {
          "composer": 29,
          "season": "2008-09"
         },
         {
          "composer": 42,
          "season": "2009-10"
         },
         {
          "composer": 46,
          "season": "2010-11"
         },
         {
          "composer": 39,
          "season": "2011-12"
         },
         {
          "composer": 58,
          "season": "2012-13"
         },
         {
          "composer": 87,
          "season": "2013-14"
         },
         {
          "composer": 45,
          "season": "2014-15"
         },
         {
          "composer": 134,
          "season": "2015-16"
         },
         {
          "composer": 29,
          "season": "2016-17"
         },
         {
          "composer": 3,
          "season": "2017-18"
         }
        ]
       },
       "encoding": {
        "x": {
         "field": "season",
         "type": "ordinal"
        },
        "y": {
         "field": "composer",
         "type": "quantitative"
        }
       },
       "mark": "bar",
       "title": "Debuts by Season",
       "width": 600
      },
      "text/plain": [
       "<VegaLite 2 object>"
      ]
     },
     "execution_count": 151,
     "metadata": {},
     "output_type": "execute_result"
    }
   ],
   "source": [
    "alt.Chart(\n",
    "    debuts.groupby(\"season\", as_index=False).count(),\n",
    "    width=600,\n",
    "    title=\"Debuts by Season\"\n",
    ").mark_bar().encode(\n",
    "    x=\"season:O\",\n",
    "    y=\"composer:Q\"\n",
    ")"
   ]
  },
  {
   "cell_type": "code",
   "execution_count": 163,
   "metadata": {},
   "outputs": [
    {
     "data": {
      "text/html": [
       "<div>\n",
       "<style scoped>\n",
       "    .dataframe tbody tr th:only-of-type {\n",
       "        vertical-align: middle;\n",
       "    }\n",
       "\n",
       "    .dataframe tbody tr th {\n",
       "        vertical-align: top;\n",
       "    }\n",
       "\n",
       "    .dataframe thead th {\n",
       "        text-align: right;\n",
       "    }\n",
       "</style>\n",
       "<table border=\"1\" class=\"dataframe\">\n",
       "  <thead>\n",
       "    <tr style=\"text-align: right;\">\n",
       "      <th></th>\n",
       "      <th></th>\n",
       "      <th>count</th>\n",
       "      <th>pct</th>\n",
       "      <th>rca</th>\n",
       "      <th>log(rca)</th>\n",
       "    </tr>\n",
       "    <tr>\n",
       "      <th>season</th>\n",
       "      <th>composer</th>\n",
       "      <th></th>\n",
       "      <th></th>\n",
       "      <th></th>\n",
       "      <th></th>\n",
       "    </tr>\n",
       "  </thead>\n",
       "  <tbody>\n",
       "    <tr>\n",
       "      <th rowspan=\"5\" valign=\"top\">1982-83</th>\n",
       "      <th>Adams,  John</th>\n",
       "      <td>1</td>\n",
       "      <td>0.003106</td>\n",
       "      <td>0.906349</td>\n",
       "      <td>-0.098331</td>\n",
       "    </tr>\n",
       "    <tr>\n",
       "      <th>Anthem,</th>\n",
       "      <td>1</td>\n",
       "      <td>0.003106</td>\n",
       "      <td>0.326286</td>\n",
       "      <td>-1.119982</td>\n",
       "    </tr>\n",
       "    <tr>\n",
       "      <th>Bach,  Johann  Sebastian</th>\n",
       "      <td>4</td>\n",
       "      <td>0.012422</td>\n",
       "      <td>0.647392</td>\n",
       "      <td>-0.434803</td>\n",
       "    </tr>\n",
       "    <tr>\n",
       "      <th>Balada,  Leonardo</th>\n",
       "      <td>1</td>\n",
       "      <td>0.003106</td>\n",
       "      <td>40.785714</td>\n",
       "      <td>3.708332</td>\n",
       "    </tr>\n",
       "    <tr>\n",
       "      <th>Balassa,  Sandor</th>\n",
       "      <td>1</td>\n",
       "      <td>0.003106</td>\n",
       "      <td>40.785714</td>\n",
       "      <td>3.708332</td>\n",
       "    </tr>\n",
       "  </tbody>\n",
       "</table>\n",
       "</div>"
      ],
      "text/plain": [
       "                                  count       pct        rca  log(rca)\n",
       "season  composer                                                      \n",
       "1982-83 Adams,  John                  1  0.003106   0.906349 -0.098331\n",
       "        Anthem,                       1  0.003106   0.326286 -1.119982\n",
       "        Bach,  Johann  Sebastian      4  0.012422   0.647392 -0.434803\n",
       "        Balada,  Leonardo             1  0.003106  40.785714  3.708332\n",
       "        Balassa,  Sandor              1  0.003106  40.785714  3.708332"
      ]
     },
     "execution_count": 163,
     "metadata": {},
     "output_type": "execute_result"
    }
   ],
   "source": [
    "# Take only seasons from 1982 onward so that we can recalculate John Adams's\n",
    "# RCA using only seasons in which he could conceivably have been programmed\n",
    "p2 = programs.loc[\"1982-83\":, :]\n",
    "\n",
    "p2, r = p2.align(p2.groupby(\"composer\")[\"count\"].sum() / p2[\"count\"].sum(), axis=0, level=\"composer\")\n",
    "\n",
    "p2[\"rca\"] = p2[\"pct\"] / r\n",
    "p2[\"log(rca)\"] = np.log(p2[\"rca\"])\n",
    "\n",
    "p2.head()"
   ]
  },
  {
   "cell_type": "markdown",
   "metadata": {},
   "source": [
    "If we only consider seasons after a composer has debuted, we get a more interesting picture of their RCA in each season. John Adams, for instance, wasn’t really programmed much for the first 10 years after his debut. The first time he was really a distinctive element of a season’s programming was in the 1991–92 season."
   ]
  },
  {
   "cell_type": "code",
   "execution_count": 166,
   "metadata": {},
   "outputs": [
    {
     "data": {
      "application/vnd.vegalite.v2+json": {
       "$schema": "https://vega.github.io/schema/vega-lite/v2.json",
       "config": {
        "view": {
         "height": 300,
         "width": 400
        }
       },
       "vconcat": [
        {
         "data": {
          "values": [
           {
            "count": 1,
            "log(rca)": 1.302027192006193,
            "pct": 0.003105590062111801,
            "rca": 3.676742581090407,
            "season": "1982-83"
           },
           {
            "count": 1,
            "log(rca)": 1.2129475619525043,
            "pct": 0.002840909090909091,
            "rca": 3.3633838383838386,
            "season": "1986-87"
           },
           {
            "count": 1,
            "log(rca)": 1.8190833655228198,
            "pct": 0.005208333333333333,
            "rca": 6.166203703703704,
            "season": "1991-92"
           },
           {
            "count": 4,
            "log(rca)": 2.6020868752046264,
            "pct": 0.011396011396011397,
            "rca": 13.491864514086737,
            "season": "1996-97"
           },
           {
            "count": 1,
            "log(rca)": 1.4311318399073638,
            "pct": 0.0035335689045936395,
            "rca": 4.1834314880251275,
            "season": "1998-99"
           },
           {
            "count": 1,
            "log(rca)": 1.5591258410858937,
            "pct": 0.004016064257028112,
            "rca": 4.754663096831771,
            "season": "2000-01"
           },
           {
            "count": 2,
            "log(rca)": 1.7807645012206832,
            "pct": 0.005012531328320802,
            "rca": 5.934391534391534,
            "season": "2002-03"
           },
           {
            "count": 4,
            "log(rca)": 2.582340112269792,
            "pct": 0.0111731843575419,
            "rca": 13.228057107386718,
            "season": "2003-04"
           },
           {
            "count": 5,
            "log(rca)": 2.561333259090497,
            "pct": 0.010940919037199124,
            "rca": 12.953075613907124,
            "season": "2005-06"
           },
           {
            "count": 1,
            "log(rca)": 0.8055903056923022,
            "pct": 0.001890359168241966,
            "rca": 2.238017223272422,
            "season": "2006-07"
           },
           {
            "count": 7,
            "log(rca)": 2.714390445096384,
            "pct": 0.012750455373406194,
            "rca": 15.095405788301965,
            "season": "2009-10"
           },
           {
            "count": 2,
            "log(rca)": 1.5692167440678566,
            "pct": 0.004056795131845842,
            "rca": 4.802884832093757,
            "season": "2010-11"
           },
           {
            "count": 2,
            "log(rca)": 1.6169932234064424,
            "pct": 0.00425531914893617,
            "rca": 5.037919621749409,
            "season": "2012-13"
           },
           {
            "count": 1,
            "log(rca)": 0.9281104416329548,
            "pct": 0.002136752136752137,
            "rca": 2.5297245963912633,
            "season": "2013-14"
           },
           {
            "count": 2,
            "log(rca)": 1.5611358920139182,
            "pct": 0.004024144869215292,
            "rca": 4.7642298233847535,
            "season": "2014-15"
           },
           {
            "count": 1,
            "log(rca)": 0.669698751481287,
            "pct": 0.0016501650165016502,
            "rca": 1.9536486982031538,
            "season": "2015-16"
           },
           {
            "count": 9,
            "log(rca)": 3.2923891036323405,
            "pct": 0.022727272727272728,
            "rca": 26.90707070707071,
            "season": "2016-17"
           }
          ]
         },
         "encoding": {
          "x": {
           "field": "season",
           "type": "ordinal"
          },
          "y": {
           "field": "log(rca)",
           "type": "quantitative"
          }
         },
         "mark": "bar",
         "title": "John Adams’s Popularity",
         "width": 600
        },
        {
         "data": {
          "values": [
           {
            "count": 1,
            "log(rca)": -0.09833060972956828,
            "pct": 0.003105590062111801,
            "rca": 0.9063492063492062,
            "season": "1982-83"
           },
           {
            "count": 1,
            "log(rca)": -0.187410239783257,
            "pct": 0.002840909090909091,
            "rca": 0.8291035353535353,
            "season": "1986-87"
           },
           {
            "count": 1,
            "log(rca)": 0.41872556378705855,
            "pct": 0.005208333333333333,
            "rca": 1.520023148148148,
            "season": "1991-92"
           },
           {
            "count": 4,
            "log(rca)": 1.201729073468865,
            "pct": 0.011396011396011397,
            "rca": 3.325862614751504,
            "season": "1996-97"
           },
           {
            "count": 1,
            "log(rca)": 0.030774038171602583,
            "pct": 0.0035335689045936395,
            "rca": 1.031252453867295,
            "season": "1998-99"
           },
           {
            "count": 1,
            "log(rca)": 0.15876803935013248,
            "pct": 0.004016064257028112,
            "rca": 1.17206604194556,
            "season": "2000-01"
           },
           {
            "count": 2,
            "log(rca)": 0.38040669948492195,
            "pct": 0.005012531328320802,
            "rca": 1.4628794207741576,
            "season": "2002-03"
           },
           {
            "count": 4,
            "log(rca)": 1.1819823105340306,
            "pct": 0.0111731843575419,
            "rca": 3.260831781502173,
            "season": "2003-04"
           },
           {
            "count": 5,
            "log(rca)": 1.1609754573547357,
            "pct": 0.010940919037199124,
            "rca": 3.1930464381230244,
            "season": "2005-06"
           },
           {
            "count": 1,
            "log(rca)": -0.5947674960434592,
            "pct": 0.001890359168241966,
            "rca": 0.5516908212560386,
            "season": "2006-07"
           },
           {
            "count": 7,
            "log(rca)": 1.3140326433606229,
            "pct": 0.012750455373406194,
            "rca": 3.721149564865412,
            "season": "2009-10"
           },
           {
            "count": 2,
            "log(rca)": 0.16885894233209534,
            "pct": 0.004056795131845842,
            "rca": 1.1839531214784764,
            "season": "2010-11"
           },
           {
            "count": 2,
            "log(rca)": 0.21663542167068117,
            "pct": 0.00425531914893617,
            "rca": 1.2418912529550827,
            "season": "2012-13"
           },
           {
            "count": 1,
            "log(rca)": -0.47224736010280655,
            "pct": 0.002136752136752137,
            "rca": 0.623599240265907,
            "season": "2013-14"
           },
           {
            "count": 2,
            "log(rca)": 0.1607780902781568,
            "pct": 0.004024144869215292,
            "rca": 1.1744243237200984,
            "season": "2014-15"
           },
           {
            "count": 1,
            "log(rca)": -0.7306590502544743,
            "pct": 0.0016501650165016502,
            "rca": 0.4815914924825816,
            "season": "2015-16"
           },
           {
            "count": 9,
            "log(rca)": 1.8920313018965789,
            "pct": 0.022727272727272728,
            "rca": 6.6328282828282825,
            "season": "2016-17"
           }
          ]
         },
         "encoding": {
          "x": {
           "field": "season",
           "type": "ordinal"
          },
          "y": {
           "field": "log(rca)",
           "type": "quantitative"
          }
         },
         "mark": "bar",
         "title": "John Adams Popularity 1982+",
         "width": 600
        }
       ]
      },
      "text/plain": [
       "<VegaLite 2 object>"
      ]
     },
     "execution_count": 166,
     "metadata": {},
     "output_type": "execute_result"
    }
   ],
   "source": [
    "alt.vconcat(\n",
    "    adams_pop,\n",
    "    alt.Chart(\n",
    "        p2.xs(\"Adams,  John\", level=\"composer\").reset_index(),\n",
    "        width=600,\n",
    "        title=\"John Adams Popularity 1982+\"\n",
    "    ).mark_bar().encode(\n",
    "        x=\"season:O\",\n",
    "        y=\"log(rca):Q\"\n",
    "    )\n",
    ")"
   ]
  },
  {
   "cell_type": "markdown",
   "metadata": {},
   "source": [
    "## Oldest Composers"
   ]
  },
  {
   "cell_type": "code",
   "execution_count": 187,
   "metadata": {},
   "outputs": [
    {
     "data": {
      "text/html": [
       "<div>\n",
       "<style scoped>\n",
       "    .dataframe tbody tr th:only-of-type {\n",
       "        vertical-align: middle;\n",
       "    }\n",
       "\n",
       "    .dataframe tbody tr th {\n",
       "        vertical-align: top;\n",
       "    }\n",
       "\n",
       "    .dataframe thead th {\n",
       "        text-align: right;\n",
       "    }\n",
       "</style>\n",
       "<table border=\"1\" class=\"dataframe\">\n",
       "  <thead>\n",
       "    <tr style=\"text-align: right;\">\n",
       "      <th></th>\n",
       "      <th></th>\n",
       "      <th>count</th>\n",
       "      <th>pct</th>\n",
       "      <th>rca</th>\n",
       "      <th>log(rca)</th>\n",
       "    </tr>\n",
       "    <tr>\n",
       "      <th>season</th>\n",
       "      <th>composer</th>\n",
       "      <th></th>\n",
       "      <th></th>\n",
       "      <th></th>\n",
       "      <th></th>\n",
       "    </tr>\n",
       "  </thead>\n",
       "  <tbody>\n",
       "    <tr>\n",
       "      <th rowspan=\"9\" valign=\"top\">1842-43</th>\n",
       "      <th>Beethoven,  Ludwig  van</th>\n",
       "      <td>4</td>\n",
       "      <td>0.142857</td>\n",
       "      <td>2.223446</td>\n",
       "      <td>0.799058</td>\n",
       "    </tr>\n",
       "    <tr>\n",
       "      <th>Bellini,  Vincenzo</th>\n",
       "      <td>1</td>\n",
       "      <td>0.035714</td>\n",
       "      <td>47.567857</td>\n",
       "      <td>3.862157</td>\n",
       "    </tr>\n",
       "    <tr>\n",
       "      <th>Haydn,  Franz  Joseph</th>\n",
       "      <td>1</td>\n",
       "      <td>0.035714</td>\n",
       "      <td>2.543736</td>\n",
       "      <td>0.933634</td>\n",
       "    </tr>\n",
       "    <tr>\n",
       "      <th>Hummel,  Johann</th>\n",
       "      <td>3</td>\n",
       "      <td>0.107143</td>\n",
       "      <td>237.839286</td>\n",
       "      <td>5.471595</td>\n",
       "    </tr>\n",
       "    <tr>\n",
       "      <th>Mendelssohn,  Felix</th>\n",
       "      <td>1</td>\n",
       "      <td>0.035714</td>\n",
       "      <td>1.661759</td>\n",
       "      <td>0.507877</td>\n",
       "    </tr>\n",
       "    <tr>\n",
       "      <th>Mozart,  Wolfgang  Amadeus</th>\n",
       "      <td>2</td>\n",
       "      <td>0.071429</td>\n",
       "      <td>1.801813</td>\n",
       "      <td>0.588793</td>\n",
       "    </tr>\n",
       "    <tr>\n",
       "      <th>Rossini,  Gioachino</th>\n",
       "      <td>3</td>\n",
       "      <td>0.107143</td>\n",
       "      <td>11.966757</td>\n",
       "      <td>2.482133</td>\n",
       "    </tr>\n",
       "    <tr>\n",
       "      <th>Spohr,  Louis</th>\n",
       "      <td>1</td>\n",
       "      <td>0.035714</td>\n",
       "      <td>34.594805</td>\n",
       "      <td>3.543704</td>\n",
       "    </tr>\n",
       "    <tr>\n",
       "      <th>Weber,  Carl  Maria Von</th>\n",
       "      <td>4</td>\n",
       "      <td>0.142857</td>\n",
       "      <td>8.590132</td>\n",
       "      <td>2.150614</td>\n",
       "    </tr>\n",
       "    <tr>\n",
       "      <th rowspan=\"3\" valign=\"top\">1843-44</th>\n",
       "      <th>Beethoven,  Ludwig  van</th>\n",
       "      <td>2</td>\n",
       "      <td>0.090909</td>\n",
       "      <td>1.414920</td>\n",
       "      <td>0.347073</td>\n",
       "    </tr>\n",
       "    <tr>\n",
       "      <th>Bellini,  Vincenzo</th>\n",
       "      <td>1</td>\n",
       "      <td>0.045455</td>\n",
       "      <td>60.540909</td>\n",
       "      <td>4.103319</td>\n",
       "    </tr>\n",
       "    <tr>\n",
       "      <th>Hummel,  Johann</th>\n",
       "      <td>2</td>\n",
       "      <td>0.090909</td>\n",
       "      <td>201.803030</td>\n",
       "      <td>5.307292</td>\n",
       "    </tr>\n",
       "  </tbody>\n",
       "</table>\n",
       "</div>"
      ],
      "text/plain": [
       "                                    count       pct         rca  log(rca)\n",
       "season  composer                                                         \n",
       "1842-43 Beethoven,  Ludwig  van         4  0.142857    2.223446  0.799058\n",
       "        Bellini,  Vincenzo              1  0.035714   47.567857  3.862157\n",
       "        Haydn,  Franz  Joseph           1  0.035714    2.543736  0.933634\n",
       "        Hummel,  Johann                 3  0.107143  237.839286  5.471595\n",
       "        Mendelssohn,  Felix             1  0.035714    1.661759  0.507877\n",
       "        Mozart,  Wolfgang  Amadeus      2  0.071429    1.801813  0.588793\n",
       "        Rossini,  Gioachino             3  0.107143   11.966757  2.482133\n",
       "        Spohr,  Louis                   1  0.035714   34.594805  3.543704\n",
       "        Weber,  Carl  Maria Von         4  0.142857    8.590132  2.150614\n",
       "1843-44 Beethoven,  Ludwig  van         2  0.090909    1.414920  0.347073\n",
       "        Bellini,  Vincenzo              1  0.045455   60.540909  4.103319\n",
       "        Hummel,  Johann                 2  0.090909  201.803030  5.307292"
      ]
     },
     "execution_count": 187,
     "metadata": {},
     "output_type": "execute_result"
    }
   ],
   "source": [
    "_, premiere_composers = programs.align(debuts.set_index(\"composer\")[\"season\"] == \"1842-43\", axis=0, level=\"composer\")\n",
    "_, top_composers = programs.align(composers[\"program\"] > 14, axis=0, level=\"composer\")\n",
    "programs[premiere_composers & top_composers].head(12)"
   ]
  },
  {
   "cell_type": "code",
   "execution_count": 188,
   "metadata": {},
   "outputs": [
    {
     "data": {
      "application/vnd.vegalite.v2+json": {
       "$schema": "https://vega.github.io/schema/vega-lite/v2.json",
       "config": {
        "view": {
         "height": 300,
         "width": 400
        }
       },
       "data": {
        "values": [
         {
          "composer": "Beethoven,  Ludwig  van",
          "count": 4,
          "log(rca)": 0.7990584397354225,
          "pct": 0.14285714285714285,
          "rca": 2.223446433788239,
          "season": "1842-43"
         },
         {
          "composer": "Bellini,  Vincenzo",
          "count": 1,
          "log(rca)": 3.862157263031781,
          "pct": 0.03571428571428571,
          "rca": 47.56785714285714,
          "season": "1842-43"
         },
         {
          "composer": "Haydn,  Franz  Joseph",
          "count": 1,
          "log(rca)": 0.93363373917124,
          "pct": 0.03571428571428571,
          "rca": 2.5437356760886174,
          "season": "1842-43"
         },
         {
          "composer": "Hummel,  Johann",
          "count": 3,
          "log(rca)": 5.471595175465882,
          "pct": 0.10714285714285714,
          "rca": 237.8392857142857,
          "season": "1842-43"
         },
         {
          "composer": "Mendelssohn,  Felix",
          "count": 1,
          "log(rca)": 0.5078768011573772,
          "pct": 0.03571428571428571,
          "rca": 1.6617592014971927,
          "season": "1842-43"
         },
         {
          "composer": "Mozart,  Wolfgang  Amadeus",
          "count": 2,
          "log(rca)": 0.5887932528795105,
          "pct": 0.07142857142857142,
          "rca": 1.8018127705627704,
          "season": "1842-43"
         },
         {
          "composer": "Rossini,  Gioachino",
          "count": 3,
          "log(rca)": 2.482132514925486,
          "pct": 0.10714285714285714,
          "rca": 11.966756513926326,
          "season": "1842-43"
         },
         {
          "composer": "Spohr,  Louis",
          "count": 1,
          "log(rca)": 3.5437035319132466,
          "pct": 0.03571428571428571,
          "rca": 34.5948051948052,
          "season": "1842-43"
         },
         {
          "composer": "Weber,  Carl  Maria Von",
          "count": 4,
          "log(rca)": 2.150614127660527,
          "pct": 0.14285714285714285,
          "rca": 8.590132215414382,
          "season": "1842-43"
         },
         {
          "composer": "Beethoven,  Ludwig  van",
          "count": 2,
          "log(rca)": 0.34707331599236535,
          "pct": 0.09090909090909091,
          "rca": 1.4149204578652432,
          "season": "1843-44"
         },
         {
          "composer": "Bellini,  Vincenzo",
          "count": 1,
          "log(rca)": 4.103319319848669,
          "pct": 0.045454545454545456,
          "rca": 60.540909090909096,
          "season": "1843-44"
         },
         {
          "composer": "Hummel,  Johann",
          "count": 2,
          "log(rca)": 5.307292124174605,
          "pct": 0.09090909090909091,
          "rca": 201.8030303030303,
          "season": "1843-44"
         },
         {
          "composer": "Mendelssohn,  Felix",
          "count": 1,
          "log(rca)": 0.7490388579742654,
          "pct": 0.045454545454545456,
          "rca": 2.114966256450973,
          "season": "1843-44"
         },
         {
          "composer": "Mozart,  Wolfgang  Amadeus",
          "count": 2,
          "log(rca)": 0.8299553096963986,
          "pct": 0.09090909090909091,
          "rca": 2.2932162534435263,
          "season": "1843-44"
         },
         {
          "composer": "Rossini,  Gioachino",
          "count": 1,
          "log(rca)": 1.6246822830742642,
          "pct": 0.045454545454545456,
          "rca": 5.076805793786926,
          "season": "1843-44"
         },
         {
          "composer": "Spohr,  Louis",
          "count": 1,
          "log(rca)": 3.7848655887301343,
          "pct": 0.045454545454545456,
          "rca": 44.029752066115705,
          "season": "1843-44"
         },
         {
          "composer": "Weber,  Carl  Maria Von",
          "count": 3,
          "log(rca)": 2.104094112025634,
          "pct": 0.13636363636363635,
          "rca": 8.199671660168274,
          "season": "1843-44"
         },
         {
          "composer": "Beethoven,  Ludwig  van",
          "count": 4,
          "log(rca)": 0.9957687339814768,
          "pct": 0.17391304347826086,
          "rca": 2.706804354176987,
          "season": "1844-45"
         },
         {
          "composer": "Haydn,  Franz  Joseph",
          "count": 1,
          "log(rca)": 1.1303440334172943,
          "pct": 0.043478260869565216,
          "rca": 3.0967216926296213,
          "season": "1844-45"
         },
         {
          "composer": "Hummel,  Johann",
          "count": 1,
          "log(rca)": 4.569693181043826,
          "pct": 0.043478260869565216,
          "rca": 96.51449275362319,
          "season": "1844-45"
         },
         {
          "composer": "Mendelssohn,  Felix",
          "count": 2,
          "log(rca)": 1.3977342759633768,
          "pct": 0.08695652173913043,
          "rca": 4.046022403645339,
          "season": "1844-45"
         },
         {
          "composer": "Mozart,  Wolfgang  Amadeus",
          "count": 1,
          "log(rca)": 0.09235636656561934,
          "pct": 0.043478260869565216,
          "rca": 1.0967555994729907,
          "season": "1844-45"
         },
         {
          "composer": "Spohr,  Louis",
          "count": 1,
          "log(rca)": 3.7404138261593003,
          "pct": 0.043478260869565216,
          "rca": 42.11541501976284,
          "season": "1844-45"
         },
         {
          "composer": "Weber,  Carl  Maria Von",
          "count": 2,
          "log(rca)": 1.6541772413466358,
          "pct": 0.08695652173913043,
          "rca": 5.228776131121798,
          "season": "1844-45"
         },
         {
          "composer": "Beethoven,  Ludwig  van",
          "count": 3,
          "log(rca)": 0.40959367297369914,
          "pct": 0.0967741935483871,
          "rca": 1.5062056486952586,
          "season": "1845-46"
         },
         {
          "composer": "Mendelssohn,  Felix",
          "count": 4,
          "log(rca)": 1.7923884679673256,
          "pct": 0.12903225806451613,
          "rca": 6.003775179602761,
          "season": "1845-46"
         },
         {
          "composer": "Mozart,  Wolfgang  Amadeus",
          "count": 3,
          "log(rca)": 0.8924756666777325,
          "pct": 0.0967741935483871,
          "rca": 2.44116568914956,
          "season": "1845-46"
         },
         {
          "composer": "Rossini,  Gioachino",
          "count": 3,
          "log(rca)": 2.3803498206155433,
          "pct": 0.0967741935483871,
          "rca": 10.808683302901198,
          "season": "1845-46"
         },
         {
          "composer": "Weber,  Carl  Maria Von",
          "count": 2,
          "log(rca)": 1.3556842527906392,
          "pct": 0.06451612903225806,
          "rca": 3.879414548896818,
          "season": "1845-46"
         },
         {
          "composer": "Beethoven,  Ludwig  van",
          "count": 3,
          "log(rca)": 0.6655270471108998,
          "pct": 0.125,
          "rca": 1.9455156295647091,
          "season": "1846-47"
         },
         {
          "composer": "Bellini,  Vincenzo",
          "count": 1,
          "log(rca)": 4.016307942859039,
          "pct": 0.041666666666666664,
          "rca": 55.49583333333333,
          "season": "1846-47"
         },
         {
          "composer": "Haydn,  Franz  Joseph",
          "count": 1,
          "log(rca)": 1.0877844189984984,
          "pct": 0.041666666666666664,
          "rca": 2.967691622103387,
          "season": "1846-47"
         },
         {
          "composer": "Mendelssohn,  Felix",
          "count": 1,
          "log(rca)": 0.6620274809846356,
          "pct": 0.041666666666666664,
          "rca": 1.9387190684133917,
          "season": "1846-47"
         },
         {
          "composer": "Mozart,  Wolfgang  Amadeus",
          "count": 2,
          "log(rca)": 0.7429439327067686,
          "pct": 0.08333333333333333,
          "rca": 2.102114898989899,
          "season": "1846-47"
         },
         {
          "composer": "Rossini,  Gioachino",
          "count": 1,
          "log(rca)": 1.5376709060846343,
          "pct": 0.041666666666666664,
          "rca": 4.653738644304682,
          "season": "1846-47"
         },
         {
          "composer": "Spohr,  Louis",
          "count": 3,
          "log(rca)": 4.796466500408615,
          "pct": 0.125,
          "rca": 121.08181818181818,
          "season": "1846-47"
         },
         {
          "composer": "Weber,  Carl  Maria Von",
          "count": 2,
          "log(rca)": 1.61161762692784,
          "pct": 0.08333333333333333,
          "rca": 5.010910458991723,
          "season": "1846-47"
         },
         {
          "composer": "Beethoven,  Ludwig  van",
          "count": 3,
          "log(rca)": 0.7080866615296959,
          "pct": 0.13043478260869565,
          "rca": 2.0301032656327402,
          "season": "1847-48"
         },
         {
          "composer": "Mendelssohn,  Felix",
          "count": 5,
          "log(rca)": 2.314025007837532,
          "pct": 0.21739130434782608,
          "rca": 10.115056009113347,
          "season": "1847-48"
         },
         {
          "composer": "Mozart,  Wolfgang  Amadeus",
          "count": 4,
          "log(rca)": 1.4786507276855099,
          "pct": 0.17391304347826086,
          "rca": 4.387022397891963,
          "season": "1847-48"
         },
         {
          "composer": "Spohr,  Louis",
          "count": 2,
          "log(rca)": 4.433561006719246,
          "pct": 0.08695652173913043,
          "rca": 84.23083003952569,
          "season": "1847-48"
         },
         {
          "composer": "Weber,  Carl  Maria Von",
          "count": 2,
          "log(rca)": 1.6541772413466358,
          "pct": 0.08695652173913043,
          "rca": 5.228776131121798,
          "season": "1847-48"
         },
         {
          "composer": "Beethoven,  Ludwig  van",
          "count": 1,
          "log(rca)": -0.2995538489326872,
          "pct": 0.047619047619047616,
          "rca": 0.7411488112627463,
          "season": "1848-49"
         },
         {
          "composer": "Hummel,  Johann",
          "count": 1,
          "log(rca)": 4.660664959249552,
          "pct": 0.047619047619047616,
          "rca": 105.7063492063492,
          "season": "1848-49"
         },
         {
          "composer": "Mendelssohn,  Felix",
          "count": 2,
          "log(rca)": 1.4887060541691035,
          "pct": 0.09523809523809523,
          "rca": 4.4313578706591805,
          "season": "1848-49"
         },
         {
          "composer": "Spohr,  Louis",
          "count": 1,
          "log(rca)": 3.831385604365027,
          "pct": 0.047619047619047616,
          "rca": 46.12640692640692,
          "season": "1848-49"
         },
         {
          "composer": "Weber,  Carl  Maria Von",
          "count": 3,
          "log(rca)": 2.150614127660527,
          "pct": 0.14285714285714285,
          "rca": 8.590132215414382,
          "season": "1848-49"
         },
         {
          "composer": "Beethoven,  Ludwig  van",
          "count": 2,
          "log(rca)": 0.6655270471108998,
          "pct": 0.125,
          "rca": 1.9455156295647091,
          "season": "1849-50"
         },
         {
          "composer": "Hummel,  Johann",
          "count": 1,
          "log(rca)": 4.932598674733194,
          "pct": 0.0625,
          "rca": 138.73958333333331,
          "season": "1849-50"
         },
         {
          "composer": "Mendelssohn,  Felix",
          "count": 4,
          "log(rca)": 2.4537869502126908,
          "pct": 0.25,
          "rca": 11.632314410480351,
          "season": "1849-50"
         },
         {
          "composer": "Rossini,  Gioachino",
          "count": 2,
          "log(rca)": 2.6362831947527443,
          "pct": 0.125,
          "rca": 13.961215932914047,
          "season": "1849-50"
         },
         {
          "composer": "Spohr,  Louis",
          "count": 2,
          "log(rca)": 4.796466500408615,
          "pct": 0.125,
          "rca": 121.08181818181818,
          "season": "1849-50"
         },
         {
          "composer": "Weber,  Carl  Maria Von",
          "count": 1,
          "log(rca)": 1.323935554476059,
          "pct": 0.0625,
          "rca": 3.7581828442437923,
          "season": "1849-50"
         },
         {
          "composer": "Beethoven,  Ludwig  van",
          "count": 2,
          "log(rca)": 0.34707331599236535,
          "pct": 0.09090909090909091,
          "rca": 1.4149204578652432,
          "season": "1850-51"
         },
         {
          "composer": "Haydn,  Franz  Joseph",
          "count": 1,
          "log(rca)": 1.174795795988128,
          "pct": 0.045454545454545456,
          "rca": 3.2374817695673315,
          "season": "1850-51"
         },
         {
          "composer": "Hummel,  Johann",
          "count": 1,
          "log(rca)": 4.61414494361466,
          "pct": 0.045454545454545456,
          "rca": 100.90151515151516,
          "season": "1850-51"
         },
         {
          "composer": "Mendelssohn,  Felix",
          "count": 3,
          "log(rca)": 1.847651146642375,
          "pct": 0.13636363636363635,
          "rca": 6.344898769352918,
          "season": "1850-51"
         },
         {
          "composer": "Mozart,  Wolfgang  Amadeus",
          "count": 2,
          "log(rca)": 0.8299553096963986,
          "pct": 0.09090909090909091,
          "rca": 2.2932162534435263,
          "season": "1850-51"
         },
         {
          "composer": "Beethoven,  Ludwig  van",
          "count": 2,
          "log(rca)": 0.30262155342153146,
          "pct": 0.08695652173913043,
          "rca": 1.3534021770884934,
          "season": "1851-52"
         },
         {
          "composer": "Bellini,  Vincenzo",
          "count": 1,
          "log(rca)": 4.058867557277835,
          "pct": 0.043478260869565216,
          "rca": 57.90869565217391,
          "season": "1851-52"
         },
         {
          "composer": "Mendelssohn,  Felix",
          "count": 4,
          "log(rca)": 2.0908814565233222,
          "pct": 0.17391304347826086,
          "rca": 8.092044807290678,
          "season": "1851-52"
         },
         {
          "composer": "Mozart,  Wolfgang  Amadeus",
          "count": 1,
          "log(rca)": 0.09235636656561934,
          "pct": 0.043478260869565216,
          "rca": 1.0967555994729907,
          "season": "1851-52"
         },
         {
          "composer": "Spohr,  Louis",
          "count": 1,
          "log(rca)": 3.7404138261593003,
          "pct": 0.043478260869565216,
          "rca": 42.11541501976284,
          "season": "1851-52"
         },
         {
          "composer": "Weber,  Carl  Maria Von",
          "count": 3,
          "log(rca)": 2.0596423494548004,
          "pct": 0.13043478260869565,
          "rca": 7.8431641966826975,
          "season": "1851-52"
         },
         {
          "composer": "Beethoven,  Ludwig  van",
          "count": 3,
          "log(rca)": 0.5113763672836416,
          "pct": 0.10714285714285714,
          "rca": 1.6675848253411794,
          "season": "1852-53"
         },
         {
          "composer": "Hummel,  Johann",
          "count": 1,
          "log(rca)": 4.372982886797772,
          "pct": 0.03571428571428571,
          "rca": 79.2797619047619,
          "season": "1852-53"
         },
         {
          "composer": "Mendelssohn,  Felix",
          "count": 3,
          "log(rca)": 1.6064890898254869,
          "pct": 0.10714285714285714,
          "rca": 4.9852776044915785,
          "season": "1852-53"
         },
         {
          "composer": "Mozart,  Wolfgang  Amadeus",
          "count": 1,
          "log(rca)": -0.10435392768043492,
          "pct": 0.03571428571428571,
          "rca": 0.9009063852813852,
          "season": "1852-53"
         },
         {
          "composer": "Spohr,  Louis",
          "count": 2,
          "log(rca)": 4.236850712473192,
          "pct": 0.07142857142857142,
          "rca": 69.1896103896104,
          "season": "1852-53"
         },
         {
          "composer": "Weber,  Carl  Maria Von",
          "count": 1,
          "log(rca)": 0.7643197665406363,
          "pct": 0.03571428571428571,
          "rca": 2.1475330538535955,
          "season": "1852-53"
         },
         {
          "composer": "Beethoven,  Ludwig  van",
          "count": 3,
          "log(rca)": 0.5854843394373636,
          "pct": 0.11538461538461539,
          "rca": 1.7958605811366548,
          "season": "1853-54"
         },
         {
          "composer": "Mendelssohn,  Felix",
          "count": 2,
          "log(rca)": 1.2751319538710446,
          "pct": 0.07692307692307693,
          "rca": 3.579173664763185,
          "season": "1853-54"
         },
         {
          "composer": "Mozart,  Wolfgang  Amadeus",
          "count": 1,
          "log(rca)": -0.03024595552671289,
          "pct": 0.038461538461538464,
          "rca": 0.9702068764568765,
          "season": "1853-54"
         },
         {
          "composer": "Spohr,  Louis",
          "count": 3,
          "log(rca)": 4.716423792735078,
          "pct": 0.11538461538461539,
          "rca": 111.76783216783218,
          "season": "1853-54"
         },
         {
          "composer": "Weber,  Carl  Maria Von",
          "count": 1,
          "log(rca)": 0.8384277386943583,
          "pct": 0.038461538461538464,
          "rca": 2.312727904150026,
          "season": "1853-54"
         },
         {
          "composer": "Beethoven,  Ludwig  van",
          "count": 4,
          "log(rca)": 0.730065568248471,
          "pct": 0.13333333333333333,
          "rca": 2.07521667153569,
          "season": "1854-55"
         },
         {
          "composer": "Bellini,  Vincenzo",
          "count": 1,
          "log(rca)": 3.7931643915448294,
          "pct": 0.03333333333333333,
          "rca": 44.39666666666667,
          "season": "1854-55"
         },
         {
          "composer": "Mendelssohn,  Felix",
          "count": 3,
          "log(rca)": 1.5374962183385357,
          "pct": 0.1,
          "rca": 4.65292576419214,
          "season": "1854-55"
         },
         {
          "composer": "Mozart,  Wolfgang  Amadeus",
          "count": 1,
          "log(rca)": -0.17334679916738638,
          "pct": 0.03333333333333333,
          "rca": 0.8408459595959595,
          "season": "1854-55"
         },
         {
          "composer": "Rossini,  Gioachino",
          "count": 1,
          "log(rca)": 1.3145273547704246,
          "pct": 0.03333333333333333,
          "rca": 3.722990915443746,
          "season": "1854-55"
         },
         {
          "composer": "Spohr,  Louis",
          "count": 1,
          "log(rca)": 3.474710660426295,
          "pct": 0.03333333333333333,
          "rca": 32.28848484848485,
          "season": "1854-55"
         },
         {
          "composer": "Weber,  Carl  Maria Von",
          "count": 3,
          "log(rca)": 1.7939391837217946,
          "pct": 0.1,
          "rca": 6.013092550790068,
          "season": "1854-55"
         },
         {
          "composer": "Beethoven,  Ludwig  van",
          "count": 2,
          "log(rca)": 0.2600619390027354,
          "pct": 0.08333333333333333,
          "rca": 1.297010419709806,
          "season": "1855-56"
         },
         {
          "composer": "Mendelssohn,  Felix",
          "count": 3,
          "log(rca)": 1.7606397696527454,
          "pct": 0.125,
          "rca": 5.8161572052401755,
          "season": "1855-56"
         },
         {
          "composer": "Weber,  Carl  Maria Von",
          "count": 1,
          "log(rca)": 0.9184704463678945,
          "pct": 0.041666666666666664,
          "rca": 2.5054552294958614,
          "season": "1855-56"
         },
         {
          "composer": "Beethoven,  Ludwig  van",
          "count": 3,
          "log(rca)": 0.5477440114545163,
          "pct": 0.1111111111111111,
          "rca": 1.7293472262797414,
          "season": "1856-57"
         },
         {
          "composer": "Haydn,  Franz  Joseph",
          "count": 1,
          "log(rca)": 0.9700013833421148,
          "pct": 0.037037037037037035,
          "rca": 2.6379481085363436,
          "season": "1856-57"
         },
         {
          "composer": "Mendelssohn,  Felix",
          "count": 1,
          "log(rca)": 0.544244445328252,
          "pct": 0.037037037037037035,
          "rca": 1.7233058385896813,
          "season": "1856-57"
         },
         {
          "composer": "Mozart,  Wolfgang  Amadeus",
          "count": 2,
          "log(rca)": 0.6251608970503852,
          "pct": 0.07407407407407407,
          "rca": 1.86854657687991,
          "season": "1856-57"
         },
         {
          "composer": "Weber,  Carl  Maria Von",
          "count": 2,
          "log(rca)": 1.4938345912714566,
          "pct": 0.07407407407407407,
          "rca": 4.454142630214865,
          "season": "1856-57"
         },
         {
          "composer": "Beethoven,  Ludwig  van",
          "count": 3,
          "log(rca)": 0.5854843394373636,
          "pct": 0.11538461538461539,
          "rca": 1.7958605811366548,
          "season": "1857-58"
         },
         {
          "composer": "Bellini,  Vincenzo",
          "count": 1,
          "log(rca)": 3.936265235185503,
          "pct": 0.038461538461538464,
          "rca": 51.226923076923086,
          "season": "1857-58"
         },
         {
          "composer": "Mendelssohn,  Felix",
          "count": 2,
          "log(rca)": 1.2751319538710446,
          "pct": 0.07692307692307693,
          "rca": 3.579173664763185,
          "season": "1857-58"
         },
         {
          "composer": "Mozart,  Wolfgang  Amadeus",
          "count": 3,
          "log(rca)": 1.0683663331413968,
          "pct": 0.11538461538461539,
          "rca": 2.9106206293706296,
          "season": "1857-58"
         },
         {
          "composer": "Spohr,  Louis",
          "count": 2,
          "log(rca)": 4.310958684626914,
          "pct": 0.07692307692307693,
          "rca": 74.51188811188811,
          "season": "1857-58"
         },
         {
          "composer": "Weber,  Carl  Maria Von",
          "count": 1,
          "log(rca)": 0.8384277386943583,
          "pct": 0.038461538461538464,
          "rca": 2.312727904150026,
          "season": "1857-58"
         },
         {
          "composer": "Beethoven,  Ludwig  van",
          "count": 3,
          "log(rca)": 0.2600619390027354,
          "pct": 0.08333333333333333,
          "rca": 1.297010419709806,
          "season": "1858-59"
         },
         {
          "composer": "Haydn,  Franz  Joseph",
          "count": 1,
          "log(rca)": 0.6823193108903339,
          "pct": 0.027777777777777776,
          "rca": 1.9784610814022578,
          "season": "1858-59"
         },
         {
          "composer": "Mendelssohn,  Felix",
          "count": 2,
          "log(rca)": 0.9497095534364165,
          "pct": 0.05555555555555555,
          "rca": 2.584958757884522,
          "season": "1858-59"
         },
         {
          "composer": "Mozart,  Wolfgang  Amadeus",
          "count": 1,
          "log(rca)": -0.355668355961341,
          "pct": 0.027777777777777776,
          "rca": 0.7007049663299663,
          "season": "1858-59"
         },
         {
          "composer": "Rossini,  Gioachino",
          "count": 1,
          "log(rca)": 1.13220579797647,
          "pct": 0.027777777777777776,
          "rca": 3.1024924295364547,
          "season": "1858-59"
         },
         {
          "composer": "Spohr,  Louis",
          "count": 2,
          "log(rca)": 3.9855362841922854,
          "pct": 0.05555555555555555,
          "rca": 53.81414141414141,
          "season": "1858-59"
         },
         {
          "composer": "Weber,  Carl  Maria Von",
          "count": 2,
          "log(rca)": 1.2061525188196756,
          "pct": 0.05555555555555555,
          "rca": 3.3406069726611487,
          "season": "1858-59"
         },
         {
          "composer": "Beethoven,  Ludwig  van",
          "count": 4,
          "log(rca)": 0.604902425294465,
          "pct": 0.11764705882352941,
          "rca": 1.8310735337079616,
          "season": "1859-60"
         },
         {
          "composer": "Hummel,  Johann",
          "count": 1,
          "log(rca)": 4.178826872356814,
          "pct": 0.029411764705882353,
          "rca": 65.2892156862745,
          "season": "1859-60"
         },
         {
          "composer": "Mendelssohn,  Felix",
          "count": 3,
          "log(rca)": 1.4123330753845296,
          "pct": 0.08823529411764706,
          "rca": 4.105522733110712,
          "season": "1859-60"
         },
         {
          "composer": "Mozart,  Wolfgang  Amadeus",
          "count": 3,
          "log(rca)": 0.8001023465467175,
          "pct": 0.08823529411764706,
          "rca": 2.2257687165775404,
          "season": "1859-60"
         },
         {
          "composer": "Spohr,  Louis",
          "count": 1,
          "log(rca)": 3.349547517472289,
          "pct": 0.029411764705882353,
          "rca": 28.489839572192512,
          "season": "1859-60"
         },
         {
          "composer": "Weber,  Carl  Maria Von",
          "count": 3,
          "log(rca)": 1.6687760407677885,
          "pct": 0.08823529411764706,
          "rca": 5.305669897755942,
          "season": "1859-60"
         },
         {
          "composer": "Beethoven,  Ludwig  van",
          "count": 4,
          "log(rca)": 0.3246004601403067,
          "pct": 0.08888888888888889,
          "rca": 1.3834777810237933,
          "season": "1860-61"
         },
         {
          "composer": "Bellini,  Vincenzo",
          "count": 1,
          "log(rca)": 3.3876992834366653,
          "pct": 0.022222222222222223,
          "rca": 29.59777777777778,
          "season": "1860-61"
         },
         {
          "composer": "Haydn,  Franz  Joseph",
          "count": 1,
          "log(rca)": 0.4591757595761242,
          "pct": 0.022222222222222223,
          "rca": 1.5827688651218064,
          "season": "1860-61"
         },
         {
          "composer": "Mendelssohn,  Felix",
          "count": 2,
          "log(rca)": 0.7265660021222068,
          "pct": 0.044444444444444446,
          "rca": 2.067967006307618,
          "season": "1860-61"
         },
         {
          "composer": "Mozart,  Wolfgang  Amadeus",
          "count": 2,
          "log(rca)": 0.11433527328439469,
          "pct": 0.044444444444444446,
          "rca": 1.1211279461279462,
          "season": "1860-61"
         },
         {
          "composer": "Rossini,  Gioachino",
          "count": 1,
          "log(rca)": 0.9090622466622604,
          "pct": 0.022222222222222223,
          "rca": 2.4819939436291643,
          "season": "1860-61"
         },
         {
          "composer": "Weber,  Carl  Maria Von",
          "count": 1,
          "log(rca)": 0.28986178694552045,
          "pct": 0.022222222222222223,
          "rca": 1.3362427890644595,
          "season": "1860-61"
         },
         {
          "composer": "Beethoven,  Ludwig  van",
          "count": 5,
          "log(rca)": 0.857898939758356,
          "pct": 0.15151515151515152,
          "rca": 2.3582007631087385,
          "season": "1861-62"
         },
         {
          "composer": "Bellini,  Vincenzo",
          "count": 2,
          "log(rca)": 4.39100139230045,
          "pct": 0.06060606060606061,
          "rca": 80.72121212121213,
          "season": "1861-62"
         },
         {
          "composer": "Mendelssohn,  Felix",
          "count": 3,
          "log(rca)": 1.4421860385342107,
          "pct": 0.09090909090909091,
          "rca": 4.229932512901946,
          "season": "1861-62"
         },
         {
          "composer": "Mozart,  Wolfgang  Amadeus",
          "count": 2,
          "log(rca)": 0.4244902015882342,
          "pct": 0.06060606060606061,
          "rca": 1.5288108356290175,
          "season": "1861-62"
         },
         {
          "composer": "Weber,  Carl  Maria Von",
          "count": 1,
          "log(rca)": 0.6000167152493601,
          "pct": 0.030303030303030304,
          "rca": 1.8221492578151721,
          "season": "1861-62"
         },
         {
          "composer": "Beethoven,  Ludwig  van",
          "count": 4,
          "log(rca)": 0.7990584397354225,
          "pct": 0.14285714285714285,
          "rca": 2.223446433788239,
          "season": "1862-63"
         },
         {
          "composer": "Haydn,  Franz  Joseph",
          "count": 1,
          "log(rca)": 0.93363373917124,
          "pct": 0.03571428571428571,
          "rca": 2.5437356760886174,
          "season": "1862-63"
         },
         {
          "composer": "Mendelssohn,  Felix",
          "count": 2,
          "log(rca)": 1.2010239817173225,
          "pct": 0.07142857142857142,
          "rca": 3.3235184029943854,
          "season": "1862-63"
         },
         {
          "composer": "Mozart,  Wolfgang  Amadeus",
          "count": 1,
          "log(rca)": -0.10435392768043492,
          "pct": 0.03571428571428571,
          "rca": 0.9009063852813852,
          "season": "1862-63"
         },
         {
          "composer": "Beethoven,  Ludwig  van",
          "count": 4,
          "log(rca)": 0.520345037266402,
          "pct": 0.10810810810810811,
          "rca": 1.6826081120559648,
          "season": "1863-64"
         },
         {
          "composer": "Haydn,  Franz  Joseph",
          "count": 1,
          "log(rca)": 0.6549203367022195,
          "pct": 0.02702702702702703,
          "rca": 1.924989160283278,
          "season": "1863-64"
         },
         {
          "composer": "Hummel,  Johann",
          "count": 1,
          "log(rca)": 4.094269484328751,
          "pct": 0.02702702702702703,
          "rca": 59.9954954954955,
          "season": "1863-64"
         },
         {
          "composer": "Mendelssohn,  Felix",
          "count": 1,
          "log(rca)": 0.2291633986883568,
          "pct": 0.02702702702702703,
          "rca": 1.2575475038357136,
          "season": "1863-64"
         },
         {
          "composer": "Mozart,  Wolfgang  Amadeus",
          "count": 3,
          "log(rca)": 0.7155449585186544,
          "pct": 0.08108108108108109,
          "rca": 2.045300982800983,
          "season": "1863-64"
         },
         {
          "composer": "Rossini,  Gioachino",
          "count": 1,
          "log(rca)": 1.1048068237883557,
          "pct": 0.02702702702702703,
          "rca": 3.0186412827922267,
          "season": "1863-64"
         },
         {
          "composer": "Weber,  Carl  Maria Von",
          "count": 4,
          "log(rca)": 1.8719007251915065,
          "pct": 0.10810810810810811,
          "rca": 6.500640595448722,
          "season": "1863-64"
         },
         {
          "composer": "Beethoven,  Ludwig  van",
          "count": 4,
          "log(rca)": 0.9123871250424256,
          "pct": 0.16,
          "rca": 2.4902600058428277,
          "season": "1864-65"
         },
         {
          "composer": "Haydn,  Franz  Joseph",
          "count": 1,
          "log(rca)": 1.0469624244782432,
          "pct": 0.04,
          "rca": 2.8489839572192515,
          "season": "1864-65"
         },
         {
          "composer": "Mendelssohn,  Felix",
          "count": 3,
          "log(rca)": 1.7198177751324901,
          "pct": 0.12,
          "rca": 5.583510917030568,
          "season": "1864-65"
         },
         {
          "composer": "Mozart,  Wolfgang  Amadeus",
          "count": 1,
          "log(rca)": 0.008974757626568344,
          "pct": 0.04,
          "rca": 1.0090151515151515,
          "season": "1864-65"
         },
         {
          "composer": "Weber,  Carl  Maria Von",
          "count": 1,
          "log(rca)": 0.8776484518476395,
          "pct": 0.04,
          "rca": 2.405237020316027,
          "season": "1864-65"
         },
         {
          "composer": "Beethoven,  Ludwig  van",
          "count": 3,
          "log(rca)": 0.5854843394373636,
          "pct": 0.11538461538461539,
          "rca": 1.7958605811366548,
          "season": "1865-66"
         },
         {
          "composer": "Mendelssohn,  Felix",
          "count": 4,
          "log(rca)": 1.9682791344309898,
          "pct": 0.15384615384615385,
          "rca": 7.15834732952637,
          "season": "1865-66"
         },
         {
          "composer": "Mozart,  Wolfgang  Amadeus",
          "count": 2,
          "log(rca)": 0.6629012250332325,
          "pct": 0.07692307692307693,
          "rca": 1.940413752913753,
          "season": "1865-66"
         },
         {
          "composer": "Rossini,  Gioachino",
          "count": 1,
          "log(rca)": 1.457628198411098,
          "pct": 0.038461538461538464,
          "rca": 4.295758748588938,
          "season": "1865-66"
         },
         {
          "composer": "Weber,  Carl  Maria Von",
          "count": 1,
          "log(rca)": 0.8384277386943583,
          "pct": 0.038461538461538464,
          "rca": 2.312727904150026,
          "season": "1865-66"
         },
         {
          "composer": "Beethoven,  Ludwig  van",
          "count": 5,
          "log(rca)": 0.8886705984251096,
          "pct": 0.15625,
          "rca": 2.4318945369558866,
          "season": "1866-67"
         },
         {
          "composer": "Mendelssohn,  Felix",
          "count": 3,
          "log(rca)": 1.4729576972009644,
          "pct": 0.09375,
          "rca": 4.362117903930131,
          "season": "1866-67"
         },
         {
          "composer": "Mozart,  Wolfgang  Amadeus",
          "count": 5,
          "log(rca)": 1.371552592129143,
          "pct": 0.15625,
          "rca": 3.9414654356060606,
          "season": "1866-67"
         },
         {
          "composer": "Weber,  Carl  Maria Von",
          "count": 1,
          "log(rca)": 0.6307883739161136,
          "pct": 0.03125,
          "rca": 1.8790914221218962,
          "season": "1866-67"
         },
         {
          "composer": "Beethoven,  Ludwig  van",
          "count": 3,
          "log(rca)": 0.6655270471108998,
          "pct": 0.125,
          "rca": 1.9455156295647091,
          "season": "1867-68"
         },
         {
          "composer": "Mendelssohn,  Felix",
          "count": 4,
          "log(rca)": 2.048321842104526,
          "pct": 0.16666666666666666,
          "rca": 7.754876273653567,
          "season": "1867-68"
         },
         {
          "composer": "Mozart,  Wolfgang  Amadeus",
          "count": 2,
          "log(rca)": 0.7429439327067686,
          "pct": 0.08333333333333333,
          "rca": 2.102114898989899,
          "season": "1867-68"
         },
         {
          "composer": "Spohr,  Louis",
          "count": 1,
          "log(rca)": 3.6978542117405047,
          "pct": 0.041666666666666664,
          "rca": 40.36060606060606,
          "season": "1867-68"
         },
         {
          "composer": "Weber,  Carl  Maria Von",
          "count": 3,
          "log(rca)": 2.0170827350360043,
          "pct": 0.125,
          "rca": 7.516365688487585,
          "season": "1867-68"
         },
         {
          "composer": "Beethoven,  Ludwig  van",
          "count": 6,
          "log(rca)": 1.1694322280323166,
          "pct": 0.20689655172413793,
          "rca": 3.220163800658829,
          "season": "1868-69"
         },
         {
          "composer": "Haydn,  Franz  Joseph",
          "count": 1,
          "log(rca)": 0.8985424193599699,
          "pct": 0.034482758620689655,
          "rca": 2.4560206527752166,
          "season": "1868-69"
         },
         {
          "composer": "Mendelssohn,  Felix",
          "count": 3,
          "log(rca)": 1.5713977700142168,
          "pct": 0.10344827586206896,
          "rca": 4.813371480198765,
          "season": "1868-69"
         },
         {
          "composer": "Mozart,  Wolfgang  Amadeus",
          "count": 1,
          "log(rca)": -0.13944524749170503,
          "pct": 0.034482758620689655,
          "rca": 0.8698406478578892,
          "season": "1868-69"
         },
         {
          "composer": "Weber,  Carl  Maria Von",
          "count": 1,
          "log(rca)": 0.7292284467293663,
          "pct": 0.034482758620689655,
          "rca": 2.0734801899276096,
          "season": "1868-69"
         },
         {
          "composer": "Beethoven,  Ludwig  van",
          "count": 4,
          "log(rca)": 0.730065568248471,
          "pct": 0.13333333333333333,
          "rca": 2.07521667153569,
          "season": "1869-70"
         },
         {
          "composer": "Mendelssohn,  Felix",
          "count": 1,
          "log(rca)": 0.4388839296704259,
          "pct": 0.03333333333333333,
          "rca": 1.5509752547307134,
          "season": "1869-70"
         },
         {
          "composer": "Mozart,  Wolfgang  Amadeus",
          "count": 4,
          "log(rca)": 1.2129475619525043,
          "pct": 0.13333333333333333,
          "rca": 3.363383838383838,
          "season": "1869-70"
         },
         {
          "composer": "Rossini,  Gioachino",
          "count": 1,
          "log(rca)": 1.3145273547704246,
          "pct": 0.03333333333333333,
          "rca": 3.722990915443746,
          "season": "1869-70"
         },
         {
          "composer": "Spohr,  Louis",
          "count": 1,
          "log(rca)": 3.474710660426295,
          "pct": 0.03333333333333333,
          "rca": 32.28848484848485,
          "season": "1869-70"
         },
         {
          "composer": "Weber,  Carl  Maria Von",
          "count": 3,
          "log(rca)": 1.7939391837217946,
          "pct": 0.1,
          "rca": 6.013092550790068,
          "season": "1869-70"
         },
         {
          "composer": "Beethoven,  Ludwig  van",
          "count": 5,
          "log(rca)": 0.857898939758356,
          "pct": 0.15151515151515152,
          "rca": 2.3582007631087385,
          "season": "1870-71"
         },
         {
          "composer": "Mendelssohn,  Felix",
          "count": 3,
          "log(rca)": 1.4421860385342107,
          "pct": 0.09090909090909091,
          "rca": 4.229932512901946,
          "season": "1870-71"
         },
         {
          "composer": "Mozart,  Wolfgang  Amadeus",
          "count": 3,
          "log(rca)": 0.8299553096963986,
          "pct": 0.09090909090909091,
          "rca": 2.2932162534435263,
          "season": "1870-71"
         },
         {
          "composer": "Rossini,  Gioachino",
          "count": 1,
          "log(rca)": 1.2192171749660998,
          "pct": 0.030303030303030304,
          "rca": 3.384537195857951,
          "season": "1870-71"
         },
         {
          "composer": "Weber,  Carl  Maria Von",
          "count": 1,
          "log(rca)": 0.6000167152493601,
          "pct": 0.030303030303030304,
          "rca": 1.8221492578151721,
          "season": "1870-71"
         },
         {
          "composer": "Beethoven,  Ludwig  van",
          "count": 5,
          "log(rca)": 0.8280459766086748,
          "pct": 0.14705882352941177,
          "rca": 2.288841917134952,
          "season": "1871-72"
         },
         {
          "composer": "Haydn,  Franz  Joseph",
          "count": 2,
          "log(rca)": 1.432624905290228,
          "pct": 0.058823529411764705,
          "rca": 4.189682290028311,
          "season": "1871-72"
         },
         {
          "composer": "Mendelssohn,  Felix",
          "count": 1,
          "log(rca)": 0.3137207867164199,
          "pct": 0.029411764705882353,
          "rca": 1.3685075777035707,
          "season": "1871-72"
         },
         {
          "composer": "Mozart,  Wolfgang  Amadeus",
          "count": 2,
          "log(rca)": 0.39463723843855303,
          "pct": 0.058823529411764705,
          "rca": 1.4838458110516934,
          "season": "1871-72"
         },
         {
          "composer": "Weber,  Carl  Maria Von",
          "count": 2,
          "log(rca)": 1.2633109326596241,
          "pct": 0.058823529411764705,
          "rca": 3.5371132651706283,
          "season": "1871-72"
         },
         {
          "composer": "Beethoven,  Ludwig  van",
          "count": 3,
          "log(rca)": 0.5113763672836416,
          "pct": 0.10714285714285714,
          "rca": 1.6675848253411794,
          "season": "1872-73"
         },
         {
          "composer": "Haydn,  Franz  Joseph",
          "count": 3,
          "log(rca)": 2.0322460278393497,
          "pct": 0.10714285714285714,
          "rca": 7.631207028265852,
          "season": "1872-73"
         },
         {
          "composer": "Mozart,  Wolfgang  Amadeus",
          "count": 1,
          "log(rca)": -0.10435392768043492,
          "pct": 0.03571428571428571,
          "rca": 0.9009063852813852,
          "season": "1872-73"
         },
         {
          "composer": "Rossini,  Gioachino",
          "count": 1,
          "log(rca)": 1.383520226257376,
          "pct": 0.03571428571428571,
          "rca": 3.988918837975442,
          "season": "1872-73"
         },
         {
          "composer": "Spohr,  Louis",
          "count": 1,
          "log(rca)": 3.5437035319132466,
          "pct": 0.03571428571428571,
          "rca": 34.5948051948052,
          "season": "1872-73"
         },
         {
          "composer": "Weber,  Carl  Maria Von",
          "count": 2,
          "log(rca)": 1.4574669471005814,
          "pct": 0.07142857142857142,
          "rca": 4.295066107707191,
          "season": "1872-73"
         },
         {
          "composer": "Beethoven,  Ludwig  van",
          "count": 3,
          "log(rca)": 0.44238349579669023,
          "pct": 0.1,
          "rca": 1.5564125036517675,
          "season": "1873-74"
         },
         {
          "composer": "Bellini,  Vincenzo",
          "count": 1,
          "log(rca)": 3.7931643915448294,
          "pct": 0.03333333333333333,
          "rca": 44.39666666666667,
          "season": "1873-74"
         },
         {
          "composer": "Mendelssohn,  Felix",
          "count": 3,
          "log(rca)": 1.5374962183385357,
          "pct": 0.1,
          "rca": 4.65292576419214,
          "season": "1873-74"
         },
         {
          "composer": "Mozart,  Wolfgang  Amadeus",
          "count": 1,
          "log(rca)": -0.17334679916738638,
          "pct": 0.03333333333333333,
          "rca": 0.8408459595959595,
          "season": "1873-74"
         },
         {
          "composer": "Rossini,  Gioachino",
          "count": 1,
          "log(rca)": 1.3145273547704246,
          "pct": 0.03333333333333333,
          "rca": 3.722990915443746,
          "season": "1873-74"
         },
         {
          "composer": "Spohr,  Louis",
          "count": 1,
          "log(rca)": 3.474710660426295,
          "pct": 0.03333333333333333,
          "rca": 32.28848484848485,
          "season": "1873-74"
         },
         {
          "composer": "Weber,  Carl  Maria Von",
          "count": 1,
          "log(rca)": 0.6953268950536848,
          "pct": 0.03333333333333333,
          "rca": 2.004364183596689,
          "season": "1873-74"
         },
         {
          "composer": "Beethoven,  Ludwig  van",
          "count": 4,
          "log(rca)": 0.5477440114545163,
          "pct": 0.1111111111111111,
          "rca": 1.7293472262797414,
          "season": "1874-75"
         },
         {
          "composer": "Haydn,  Franz  Joseph",
          "count": 2,
          "log(rca)": 1.3754664914502792,
          "pct": 0.05555555555555555,
          "rca": 3.9569221628045157,
          "season": "1874-75"
         },
         {
          "composer": "Mendelssohn,  Felix",
          "count": 1,
          "log(rca)": 0.25656237287647116,
          "pct": 0.027777777777777776,
          "rca": 1.292479378942261,
          "season": "1874-75"
         },
         {
          "composer": "Mozart,  Wolfgang  Amadeus",
          "count": 4,
          "log(rca)": 1.0306260051585496,
          "pct": 0.1111111111111111,
          "rca": 2.802819865319865,
          "season": "1874-75"
         },
         {
          "composer": "Rossini,  Gioachino",
          "count": 1,
          "log(rca)": 1.13220579797647,
          "pct": 0.027777777777777776,
          "rca": 3.1024924295364547,
          "season": "1874-75"
         },
         {
          "composer": "Spohr,  Louis",
          "count": 1,
          "log(rca)": 3.29238910363234,
          "pct": 0.027777777777777776,
          "rca": 26.907070707070705,
          "season": "1874-75"
         },
         {
          "composer": "Weber,  Carl  Maria Von",
          "count": 2,
          "log(rca)": 1.2061525188196756,
          "pct": 0.05555555555555555,
          "rca": 3.3406069726611487,
          "season": "1874-75"
         },
         {
          "composer": "Beethoven,  Ludwig  van",
          "count": 4,
          "log(rca)": 0.6972757454254802,
          "pct": 0.12903225806451613,
          "rca": 2.008274198260345,
          "season": "1875-76"
         },
         {
          "composer": "Haydn,  Franz  Joseph",
          "count": 1,
          "log(rca)": 0.8318510448612978,
          "pct": 0.03225806451612903,
          "rca": 2.2975677074348804,
          "season": "1875-76"
         },
         {
          "composer": "Mendelssohn,  Felix",
          "count": 2,
          "log(rca)": 1.0992412874073803,
          "pct": 0.06451612903225806,
          "rca": 3.0018875898013806,
          "season": "1875-76"
         },
         {
          "composer": "Mozart,  Wolfgang  Amadeus",
          "count": 1,
          "log(rca)": -0.20613662199037716,
          "pct": 0.03225806451612903,
          "rca": 0.8137218963831867,
          "season": "1875-76"
         },
         {
          "composer": "Spohr,  Louis",
          "count": 2,
          "log(rca)": 4.135068018163249,
          "pct": 0.06451612903225806,
          "rca": 62.49384164222874,
          "season": "1875-76"
         },
         {
          "composer": "Beethoven,  Ludwig  van",
          "count": 7,
          "log(rca)": 1.1073597993899391,
          "pct": 0.19444444444444445,
          "rca": 3.0263576459895476,
          "season": "1876-77"
         },
         {
          "composer": "Haydn,  Franz  Joseph",
          "count": 2,
          "log(rca)": 1.3754664914502792,
          "pct": 0.05555555555555555,
          "rca": 3.9569221628045157,
          "season": "1876-77"
         },
         {
          "composer": "Mendelssohn,  Felix",
          "count": 1,
          "log(rca)": 0.25656237287647116,
          "pct": 0.027777777777777776,
          "rca": 1.292479378942261,
          "season": "1876-77"
         },
         {
          "composer": "Mozart,  Wolfgang  Amadeus",
          "count": 1,
          "log(rca)": -0.355668355961341,
          "pct": 0.027777777777777776,
          "rca": 0.7007049663299663,
          "season": "1876-77"
         },
         {
          "composer": "Weber,  Carl  Maria Von",
          "count": 1,
          "log(rca)": 0.5130053382597302,
          "pct": 0.027777777777777776,
          "rca": 1.6703034863305743,
          "season": "1876-77"
         },
         {
          "composer": "Beethoven,  Ludwig  van",
          "count": 5,
          "log(rca)": 1.1355306763566355,
          "pct": 0.2,
          "rca": 3.112825007303535,
          "season": "1877-78"
         },
         {
          "composer": "Mendelssohn,  Felix",
          "count": 1,
          "log(rca)": 0.6212054864643805,
          "pct": 0.04,
          "rca": 1.861170305676856,
          "season": "1877-78"
         },
         {
          "composer": "Mozart,  Wolfgang  Amadeus",
          "count": 1,
          "log(rca)": 0.008974757626568344,
          "pct": 0.04,
          "rca": 1.0090151515151515,
          "season": "1877-78"
         },
         {
          "composer": "Weber,  Carl  Maria Von",
          "count": 1,
          "log(rca)": 0.8776484518476395,
          "pct": 0.04,
          "rca": 2.405237020316027,
          "season": "1877-78"
         },
         {
          "composer": "Beethoven,  Ludwig  van",
          "count": 11,
          "log(rca)": 0.6542274918569665,
          "pct": 0.12359550561797752,
          "rca": 1.9236559033898248,
          "season": "1878-79"
         },
         {
          "composer": "Haydn,  Franz  Joseph",
          "count": 1,
          "log(rca)": -0.22279812038569582,
          "pct": 0.011235955056179775,
          "rca": 0.8002763924773179,
          "season": "1878-79"
         },
         {
          "composer": "Mendelssohn,  Felix",
          "count": 4,
          "log(rca)": 0.7377393027203318,
          "pct": 0.0449438202247191,
          "rca": 2.0912025906481526,
          "season": "1878-79"
         },
         {
          "composer": "Mozart,  Wolfgang  Amadeus",
          "count": 4,
          "log(rca)": 0.12550857388251985,
          "pct": 0.0449438202247191,
          "rca": 1.1337248893428669,
          "season": "1878-79"
         },
         {
          "composer": "Spohr,  Louis",
          "count": 1,
          "log(rca)": 2.3872716723563103,
          "pct": 0.011235955056179775,
          "rca": 10.883758937691521,
          "season": "1878-79"
         },
         {
          "composer": "Weber,  Carl  Maria Von",
          "count": 1,
          "log(rca)": -0.3921120930162996,
          "pct": 0.011235955056179775,
          "rca": 0.675628376493266,
          "season": "1878-79"
         },
         {
          "composer": "Beethoven,  Ludwig  van",
          "count": 12,
          "log(rca)": 1.0554879686830991,
          "pct": 0.18461538461538463,
          "rca": 2.873376929818648,
          "season": "1879-80"
         },
         {
          "composer": "Haydn,  Franz  Joseph",
          "count": 1,
          "log(rca)": 0.09145097945080699,
          "pct": 0.015384615384615385,
          "rca": 1.095763060468943,
          "season": "1879-80"
         },
         {
          "composer": "Mendelssohn,  Felix",
          "count": 1,
          "log(rca)": -0.3343059585630558,
          "pct": 0.015384615384615385,
          "rca": 0.715834732952637,
          "season": "1879-80"
         },
         {
          "composer": "Mozart,  Wolfgang  Amadeus",
          "count": 4,
          "log(rca)": 0.43975767371902263,
          "pct": 0.06153846153846154,
          "rca": 1.5523310023310024,
          "season": "1879-80"
         },
         {
          "composer": "Weber,  Carl  Maria Von",
          "count": 2,
          "log(rca)": 0.6152841873801485,
          "pct": 0.03076923076923077,
          "rca": 1.850182323320021,
          "season": "1879-80"
         },
         {
          "composer": "Beethoven,  Ludwig  van",
          "count": 9,
          "log(rca)": 1.0503728680163287,
          "pct": 0.1836734693877551,
          "rca": 2.858716843442022,
          "season": "1880-81"
         },
         {
          "composer": "Mendelssohn,  Felix",
          "count": 1,
          "log(rca)": -0.05173898677804549,
          "pct": 0.02040816326530612,
          "rca": 0.9495766865698244,
          "season": "1880-81"
         },
         {
          "composer": "Mozart,  Wolfgang  Amadeus",
          "count": 2,
          "log(rca)": 0.02917746494408759,
          "pct": 0.04081632653061224,
          "rca": 1.0296072974644401,
          "season": "1880-81"
         },
         {
          "composer": "Weber,  Carl  Maria Von",
          "count": 2,
          "log(rca)": 0.8978511591651588,
          "pct": 0.04081632653061224,
          "rca": 2.454323490118395,
          "season": "1880-81"
         },
         {
          "composer": "Beethoven,  Ludwig  van",
          "count": 11,
          "log(rca)": 1.2510435634784798,
          "pct": 0.22448979591836735,
          "rca": 3.4939872530958045,
          "season": "1881-82"
         },
         {
          "composer": "Haydn,  Franz  Joseph",
          "count": 1,
          "log(rca)": 0.3740179512358173,
          "pct": 0.02040816326530612,
          "rca": 1.4535632434792098,
          "season": "1881-82"
         },
         {
          "composer": "Mendelssohn,  Felix",
          "count": 1,
          "log(rca)": -0.05173898677804549,
          "pct": 0.02040816326530612,
          "rca": 0.9495766865698244,
          "season": "1881-82"
         },
         {
          "composer": "Mozart,  Wolfgang  Amadeus",
          "count": 3,
          "log(rca)": 0.4346425730522521,
          "pct": 0.061224489795918366,
          "rca": 1.5444109461966604,
          "season": "1881-82"
         },
         {
          "composer": "Spohr,  Louis",
          "count": 1,
          "log(rca)": 2.9840877439778235,
          "pct": 0.02040816326530612,
          "rca": 19.768460111317253,
          "season": "1881-82"
         },
         {
          "composer": "Weber,  Carl  Maria Von",
          "count": 1,
          "log(rca)": 0.20470397860521353,
          "pct": 0.02040816326530612,
          "rca": 1.2271617450591974,
          "season": "1881-82"
         },
         {
          "composer": "Beethoven,  Ludwig  van",
          "count": 7,
          "log(rca)": 0.8196777269381582,
          "pct": 0.14583333333333334,
          "rca": 2.269768234492161,
          "season": "1882-83"
         },
         {
          "composer": "Bellini,  Vincenzo",
          "count": 1,
          "log(rca)": 3.3231607622990937,
          "pct": 0.020833333333333332,
          "rca": 27.747916666666665,
          "season": "1882-83"
         },
         {
          "composer": "Haydn,  Franz  Joseph",
          "count": 3,
          "log(rca)": 1.4932495271066628,
          "pct": 0.0625,
          "rca": 4.451537433155081,
          "season": "1882-83"
         },
         {
          "composer": "Mozart,  Wolfgang  Amadeus",
          "count": 3,
          "log(rca)": 0.4552618602549879,
          "pct": 0.0625,
          "rca": 1.5765861742424243,
          "season": "1882-83"
         },
         {
          "composer": "Weber,  Carl  Maria Von",
          "count": 1,
          "log(rca)": 0.22532326580794923,
          "pct": 0.020833333333333332,
          "rca": 1.2527276147479307,
          "season": "1882-83"
         },
         {
          "composer": "Beethoven,  Ludwig  van",
          "count": 7,
          "log(rca)": 0.7205868242939273,
          "pct": 0.1320754716981132,
          "rca": 2.0556391557664853,
          "season": "1883-84"
         },
         {
          "composer": "Mendelssohn,  Felix",
          "count": 4,
          "log(rca)": 1.25608375890035,
          "pct": 0.07547169811320754,
          "rca": 3.5116420861827473,
          "season": "1883-84"
         },
         {
          "composer": "Mozart,  Wolfgang  Amadeus",
          "count": 3,
          "log(rca)": 0.35617095761075696,
          "pct": 0.05660377358490566,
          "rca": 1.427851629502573,
          "season": "1883-84"
         },
         {
          "composer": "Weber,  Carl  Maria Von",
          "count": 3,
          "log(rca)": 1.2248446518318281,
          "pct": 0.05660377358490566,
          "rca": 3.4036372929000387,
          "season": "1883-84"
         },
         {
          "composer": "Beethoven,  Ludwig  van",
          "count": 9,
          "log(rca)": 0.916841475391806,
          "pct": 0.16071428571428573,
          "rca": 2.501377238011769,
          "season": "1884-85"
         },
         {
          "composer": "Mendelssohn,  Felix",
          "count": 1,
          "log(rca)": -0.18527037940256813,
          "pct": 0.017857142857142856,
          "rca": 0.8308796007485963,
          "season": "1884-85"
         },
         {
          "composer": "Mozart,  Wolfgang  Amadeus",
          "count": 1,
          "log(rca)": -0.7975011082403802,
          "pct": 0.017857142857142856,
          "rca": 0.4504531926406926,
          "season": "1884-85"
         },
         {
          "composer": "Spohr,  Louis",
          "count": 1,
          "log(rca)": 2.850556351353301,
          "pct": 0.017857142857142856,
          "rca": 17.2974025974026,
          "season": "1884-85"
         },
         {
          "composer": "Weber,  Carl  Maria Von",
          "count": 2,
          "log(rca)": 0.7643197665406363,
          "pct": 0.03571428571428571,
          "rca": 2.1475330538535955,
          "season": "1884-85"
         },
         {
          "composer": "Beethoven,  Ludwig  van",
          "count": 6,
          "log(rca)": 0.566436144466669,
          "pct": 0.11320754716981132,
          "rca": 1.761976419228416,
          "season": "1885-86"
         },
         {
          "composer": "Haydn,  Franz  Joseph",
          "count": 2,
          "log(rca)": 0.9886935163542674,
          "pct": 0.03773584905660377,
          "rca": 2.687720714357784,
          "season": "1885-86"
         },
         {
          "composer": "Mendelssohn,  Felix",
          "count": 2,
          "log(rca)": 0.5629365783404047,
          "pct": 0.03773584905660377,
          "rca": 1.7558210430913737,
          "season": "1885-86"
         },
         {
          "composer": "Mozart,  Wolfgang  Amadeus",
          "count": 2,
          "log(rca)": -0.0492941504974075,
          "pct": 0.03773584905660377,
          "rca": 0.9519010863350486,
          "season": "1885-86"
         },
         {
          "composer": "Spohr,  Louis",
          "count": 1,
          "log(rca)": 2.9056161285363284,
          "pct": 0.018867924528301886,
          "rca": 18.276500857632932,
          "season": "1885-86"
         },
         {
          "composer": "Weber,  Carl  Maria Von",
          "count": 2,
          "log(rca)": 0.8193795437236636,
          "pct": 0.03773584905660377,
          "rca": 2.2690915286000255,
          "season": "1885-86"
         },
         {
          "composer": "Beethoven,  Ludwig  van",
          "count": 7,
          "log(rca)": 0.7990584397354225,
          "pct": 0.14285714285714285,
          "rca": 2.223446433788239,
          "season": "1886-87"
         },
         {
          "composer": "Mendelssohn,  Felix",
          "count": 2,
          "log(rca)": 0.6414081937818998,
          "pct": 0.04081632653061224,
          "rca": 1.8991533731396488,
          "season": "1886-87"
         },
         {
          "composer": "Mozart,  Wolfgang  Amadeus",
          "count": 1,
          "log(rca)": -0.6639697156158577,
          "pct": 0.02040816326530612,
          "rca": 0.5148036487322201,
          "season": "1886-87"
         },
         {
          "composer": "Weber,  Carl  Maria Von",
          "count": 2,
          "log(rca)": 0.8978511591651588,
          "pct": 0.04081632653061224,
          "rca": 2.454323490118395,
          "season": "1886-87"
         },
         {
          "composer": "Beethoven,  Ludwig  van",
          "count": 9,
          "log(rca)": 0.8478486039048544,
          "pct": 0.15,
          "rca": 2.334618755477651,
          "season": "1887-88"
         },
         {
          "composer": "Haydn,  Franz  Joseph",
          "count": 1,
          "log(rca)": 0.17149368712434318,
          "pct": 0.016666666666666666,
          "rca": 1.1870766488413547,
          "season": "1887-88"
         },
         {
          "composer": "Mozart,  Wolfgang  Amadeus",
          "count": 2,
          "log(rca)": -0.17334679916738638,
          "pct": 0.03333333333333333,
          "rca": 0.8408459595959595,
          "season": "1887-88"
         },
         {
          "composer": "Weber,  Carl  Maria Von",
          "count": 1,
          "log(rca)": 0.002179714493739527,
          "pct": 0.016666666666666666,
          "rca": 1.0021820917983446,
          "season": "1887-88"
         },
         {
          "composer": "Beethoven,  Ludwig  van",
          "count": 5,
          "log(rca)": 0.34707331599236535,
          "pct": 0.09090909090909091,
          "rca": 1.4149204578652432,
          "season": "1888-89"
         },
         {
          "composer": "Haydn,  Franz  Joseph",
          "count": 1,
          "log(rca)": 0.25850506411397295,
          "pct": 0.01818181818181818,
          "rca": 1.2949927078269323,
          "season": "1888-89"
         },
         {
          "composer": "Mozart,  Wolfgang  Amadeus",
          "count": 3,
          "log(rca)": 0.31912968593040775,
          "pct": 0.05454545454545454,
          "rca": 1.3759297520661156,
          "season": "1888-89"
         },
         {
          "composer": "Spohr,  Louis",
          "count": 2,
          "log(rca)": 3.5617220374159246,
          "pct": 0.03636363636363636,
          "rca": 35.22380165289256,
          "season": "1888-89"
         },
         {
          "composer": "Weber,  Carl  Maria Von",
          "count": 1,
          "log(rca)": 0.08919109148336934,
          "pct": 0.01818181818181818,
          "rca": 1.0932895546891033,
          "season": "1888-89"
         },
         {
          "composer": "Beethoven,  Ludwig  van",
          "count": 6,
          "log(rca)": 0.5477440114545163,
          "pct": 0.1111111111111111,
          "rca": 1.7293472262797414,
          "season": "1889-90"
         },
         {
          "composer": "Haydn,  Franz  Joseph",
          "count": 1,
          "log(rca)": 0.2768542027821695,
          "pct": 0.018518518518518517,
          "rca": 1.3189740542681718,
          "season": "1889-90"
         },
         {
          "composer": "Mendelssohn,  Felix",
          "count": 3,
          "log(rca)": 0.9497095534364165,
          "pct": 0.05555555555555555,
          "rca": 2.584958757884522,
          "season": "1889-90"
         },
         {
          "composer": "Mozart,  Wolfgang  Amadeus",
          "count": 2,
          "log(rca)": -0.06798628350956006,
          "pct": 0.037037037037037035,
          "rca": 0.934273288439955,
          "season": "1889-90"
         },
         {
          "composer": "Spohr,  Louis",
          "count": 1,
          "log(rca)": 2.886923995524176,
          "pct": 0.018518518518518517,
          "rca": 17.938047138047136,
          "season": "1889-90"
         },
         {
          "composer": "Weber,  Carl  Maria Von",
          "count": 1,
          "log(rca)": 0.1075402301515659,
          "pct": 0.018518518518518517,
          "rca": 1.1135356575537163,
          "season": "1889-90"
         },
         {
          "composer": "Beethoven,  Ludwig  van",
          "count": 7,
          "log(rca)": 0.4567722332487898,
          "pct": 0.10144927536231885,
          "rca": 1.5789692066032424,
          "season": "1890-91"
         },
         {
          "composer": "Mendelssohn,  Felix",
          "count": 2,
          "log(rca)": 0.29912198729526707,
          "pct": 0.028985507246376812,
          "rca": 1.3486741345484463,
          "season": "1890-91"
         },
         {
          "composer": "Mozart,  Wolfgang  Amadeus",
          "count": 3,
          "log(rca)": 0.09235636656561934,
          "pct": 0.043478260869565216,
          "rca": 1.0967555994729907,
          "season": "1890-91"
         },
         {
          "composer": "Spohr,  Louis",
          "count": 1,
          "log(rca)": 2.6418015374911907,
          "pct": 0.014492753623188406,
          "rca": 14.038471673254282,
          "season": "1890-91"
         },
         {
          "composer": "Weber,  Carl  Maria Von",
          "count": 1,
          "log(rca)": -0.13758222788141908,
          "pct": 0.014492753623188406,
          "rca": 0.8714626885202997,
          "season": "1890-91"
         },
         {
          "composer": "Beethoven,  Ludwig  van",
          "count": 8,
          "log(rca)": 0.5903036258733124,
          "pct": 0.11594202898550725,
          "rca": 1.8045362361179913,
          "season": "1891-92"
         },
         {
          "composer": "Haydn,  Franz  Joseph",
          "count": 2,
          "log(rca)": 0.7248789253091299,
          "pct": 0.028985507246376812,
          "rca": 2.0644811284197475,
          "season": "1891-92"
         },
         {
          "composer": "Hummel,  Johann",
          "count": 1,
          "log(rca)": 3.471080892375716,
          "pct": 0.014492753623188406,
          "rca": 32.171497584541065,
          "season": "1891-92"
         },
         {
          "composer": "Mozart,  Wolfgang  Amadeus",
          "count": 3,
          "log(rca)": 0.09235636656561934,
          "pct": 0.043478260869565216,
          "rca": 1.0967555994729907,
          "season": "1891-92"
         },
         {
          "composer": "Rossini,  Gioachino",
          "count": 1,
          "log(rca)": 0.4816182318353207,
          "pct": 0.014492753623188406,
          "rca": 1.6186917023668461,
          "season": "1891-92"
         },
         {
          "composer": "Weber,  Carl  Maria Von",
          "count": 2,
          "log(rca)": 0.5555649526785262,
          "pct": 0.028985507246376812,
          "rca": 1.7429253770405995,
          "season": "1891-92"
         },
         {
          "composer": "Beethoven,  Ludwig  van",
          "count": 7,
          "log(rca)": 0.5637443528009575,
          "pct": 0.11290322580645161,
          "rca": 1.7572399234778018,
          "season": "1892-93"
         },
         {
          "composer": "Mozart,  Wolfgang  Amadeus",
          "count": 1,
          "log(rca)": -0.8992838025503225,
          "pct": 0.016129032258064516,
          "rca": 0.40686094819159335,
          "season": "1892-93"
         },
         {
          "composer": "Weber,  Carl  Maria Von",
          "count": 1,
          "log(rca)": -0.030610108329251325,
          "pct": 0.016129032258064516,
          "rca": 0.9698536372242045,
          "season": "1892-93"
         },
         {
          "composer": "Beethoven,  Ludwig  van",
          "count": 4,
          "log(rca)": 0.10591125917547718,
          "pct": 0.07142857142857142,
          "rca": 1.1117232168941196,
          "season": "1893-94"
         },
         {
          "composer": "Haydn,  Franz  Joseph",
          "count": 1,
          "log(rca)": 0.24048655861129475,
          "pct": 0.017857142857142856,
          "rca": 1.2718678380443087,
          "season": "1893-94"
         },
         {
          "composer": "Hummel,  Johann",
          "count": 1,
          "log(rca)": 3.679835706237826,
          "pct": 0.017857142857142856,
          "rca": 39.63988095238095,
          "season": "1893-94"
         },
         {
          "composer": "Mendelssohn,  Felix",
          "count": 2,
          "log(rca)": 0.5078768011573772,
          "pct": 0.03571428571428571,
          "rca": 1.6617592014971927,
          "season": "1893-94"
         },
         {
          "composer": "Mozart,  Wolfgang  Amadeus",
          "count": 1,
          "log(rca)": -0.7975011082403802,
          "pct": 0.017857142857142856,
          "rca": 0.4504531926406926,
          "season": "1893-94"
         },
         {
          "composer": "Weber,  Carl  Maria Von",
          "count": 2,
          "log(rca)": 0.7643197665406363,
          "pct": 0.03571428571428571,
          "rca": 2.1475330538535955,
          "season": "1893-94"
         },
         {
          "composer": "Beethoven,  Ludwig  van",
          "count": 7,
          "log(rca)": 0.5637443528009575,
          "pct": 0.11290322580645161,
          "rca": 1.7572399234778018,
          "season": "1894-95"
         },
         {
          "composer": "Mozart,  Wolfgang  Amadeus",
          "count": 1,
          "log(rca)": -0.8992838025503225,
          "pct": 0.016129032258064516,
          "rca": 0.40686094819159335,
          "season": "1894-95"
         },
         {
          "composer": "Beethoven,  Ludwig  van",
          "count": 6,
          "log(rca)": 0.44238349579669023,
          "pct": 0.1,
          "rca": 1.5564125036517675,
          "season": "1895-96"
         },
         {
          "composer": "Mendelssohn,  Felix",
          "count": 2,
          "log(rca)": 0.4388839296704259,
          "pct": 0.03333333333333333,
          "rca": 1.5509752547307134,
          "season": "1895-96"
         },
         {
          "composer": "Weber,  Carl  Maria Von",
          "count": 1,
          "log(rca)": 0.002179714493739527,
          "pct": 0.016666666666666666,
          "rca": 1.0021820917983446,
          "season": "1895-96"
         },
         {
          "composer": "Beethoven,  Ludwig  van",
          "count": 9,
          "log(rca)": 0.13000881075453763,
          "pct": 0.07317073170731707,
          "rca": 1.1388384173061712,
          "season": "1896-97"
         },
         {
          "composer": "Haydn,  Franz  Joseph",
          "count": 1,
          "log(rca)": -0.5463461060259736,
          "pct": 0.008130081300813009,
          "rca": 0.5790617799226121,
          "season": "1896-97"
         },
         {
          "composer": "Hummel,  Johann",
          "count": 1,
          "log(rca)": 2.8930030416005583,
          "pct": 0.008130081300813009,
          "rca": 18.047425474254744,
          "season": "1896-97"
         },
         {
          "composer": "Mendelssohn,  Felix",
          "count": 2,
          "log(rca)": -0.2789558634798908,
          "pct": 0.016260162601626018,
          "rca": 0.756573294990592,
          "season": "1896-97"
         },
         {
          "composer": "Rossini,  Gioachino",
          "count": 1,
          "log(rca)": -0.09645961893983741,
          "pct": 0.008130081300813009,
          "rca": 0.9080465647423771,
          "season": "1896-97"
         },
         {
          "composer": "Spohr,  Louis",
          "count": 1,
          "log(rca)": 2.063723686716033,
          "pct": 0.008130081300813009,
          "rca": 7.875240206947525,
          "season": "1896-97"
         },
         {
          "composer": "Weber,  Carl  Maria Von",
          "count": 3,
          "log(rca)": 0.38295221001153257,
          "pct": 0.024390243902439025,
          "rca": 1.4666079392170899,
          "season": "1896-97"
         },
         {
          "composer": "Beethoven,  Ludwig  van",
          "count": 6,
          "log(rca)": 0.3320354386278247,
          "pct": 0.08955223880597014,
          "rca": 1.3938022420762095,
          "season": "1897-98"
         },
         {
          "composer": "Haydn,  Franz  Joseph",
          "count": 1,
          "log(rca)": 0.06114562995547788,
          "pct": 0.014925373134328358,
          "rca": 1.0630537153803177,
          "season": "1897-98"
         },
         {
          "composer": "Mendelssohn,  Felix",
          "count": 2,
          "log(rca)": 0.32853587250156047,
          "pct": 0.029850746268656716,
          "rca": 1.3889330639379522,
          "season": "1897-98"
         },
         {
          "composer": "Mozart,  Wolfgang  Amadeus",
          "count": 3,
          "log(rca)": 0.12177025177191267,
          "pct": 0.04477611940298507,
          "rca": 1.1294945725915875,
          "season": "1897-98"
         },
         {
          "composer": "Weber,  Carl  Maria Von",
          "count": 2,
          "log(rca)": 0.5849788378848195,
          "pct": 0.029850746268656716,
          "rca": 1.7949530002358411,
          "season": "1897-98"
         },
         {
          "composer": "Beethoven,  Ludwig  van",
          "count": 5,
          "log(rca)": 0.1348987960487295,
          "pct": 0.07352941176470588,
          "rca": 1.144420958567476,
          "season": "1898-99"
         },
         {
          "composer": "Haydn,  Franz  Joseph",
          "count": 1,
          "log(rca)": 0.04633054417033729,
          "pct": 0.014705882352941176,
          "rca": 1.0474205725070778,
          "season": "1898-99"
         },
         {
          "composer": "Mendelssohn,  Felix",
          "count": 4,
          "log(rca)": 1.0068679672763652,
          "pct": 0.058823529411764705,
          "rca": 2.7370151554071414,
          "season": "1898-99"
         },
         {
          "composer": "Mozart,  Wolfgang  Amadeus",
          "count": 4,
          "log(rca)": 0.39463723843855303,
          "pct": 0.058823529411764705,
          "rca": 1.4838458110516934,
          "season": "1898-99"
         },
         {
          "composer": "Spohr,  Louis",
          "count": 1,
          "log(rca)": 2.6564003369123435,
          "pct": 0.014705882352941176,
          "rca": 14.244919786096256,
          "season": "1898-99"
         },
         {
          "composer": "Weber,  Carl  Maria Von",
          "count": 3,
          "log(rca)": 0.9756288602078432,
          "pct": 0.04411764705882353,
          "rca": 2.652834948877971,
          "season": "1898-99"
         },
         {
          "composer": "Beethoven,  Ludwig  van",
          "count": 6,
          "log(rca)": 0.13000881075453763,
          "pct": 0.07317073170731707,
          "rca": 1.1388384173061712,
          "season": "1899-00"
         },
         {
          "composer": "Haydn,  Franz  Joseph",
          "count": 2,
          "log(rca)": 0.5522661826421362,
          "pct": 0.024390243902439025,
          "rca": 1.7371853397678363,
          "season": "1899-00"
         },
         {
          "composer": "Mendelssohn,  Felix",
          "count": 2,
          "log(rca)": 0.12650924462827343,
          "pct": 0.024390243902439025,
          "rca": 1.1348599424858878,
          "season": "1899-00"
         },
         {
          "composer": "Rossini,  Gioachino",
          "count": 1,
          "log(rca)": 0.30900548916832704,
          "pct": 0.012195121951219513,
          "rca": 1.3620698471135657,
          "season": "1899-00"
         },
         {
          "composer": "Weber,  Carl  Maria Von",
          "count": 2,
          "log(rca)": 0.38295221001153257,
          "pct": 0.024390243902439025,
          "rca": 1.4666079392170899,
          "season": "1899-00"
         },
         {
          "composer": "Beethoven,  Ludwig  van",
          "count": 34,
          "log(rca)": -0.4281712267547808,
          "pct": 0.04187192118226601,
          "rca": 0.6516998168000011,
          "season": "1900-01"
         },
         {
          "composer": "Haydn,  Franz  Joseph",
          "count": 7,
          "log(rca)": -0.48775194175992076,
          "pct": 0.008620689655172414,
          "rca": 0.6140051631938042,
          "season": "1900-01"
         },
         {
          "composer": "Mendelssohn,  Felix",
          "count": 23,
          "log(rca)": 0.276075187100053,
          "pct": 0.02832512315270936,
          "rca": 1.3179469529115668,
          "season": "1900-01"
         },
         {
          "composer": "Mozart,  Wolfgang  Amadeus",
          "count": 7,
          "log(rca)": -1.5257396086115957,
          "pct": 0.008620689655172414,
          "rca": 0.2174601619644723,
          "season": "1900-01"
         },
         {
          "composer": "Rossini,  Gioachino",
          "count": 12,
          "log(rca)": 0.5011310460589024,
          "pct": 0.014778325123152709,
          "rca": 1.6505871053691483,
          "season": "1900-01"
         },
         {
          "composer": "Weber,  Carl  Maria Von",
          "count": 18,
          "log(rca)": 0.2873956944503271,
          "pct": 0.022167487684729065,
          "rca": 1.3329515506677492,
          "season": "1900-01"
         },
         {
          "composer": "Beethoven,  Ludwig  van",
          "count": 5,
          "log(rca)": 0.5932063855312737,
          "pct": 0.11627906976744186,
          "rca": 1.8097819809904272,
          "season": "1901-02"
         },
         {
          "composer": "Haydn,  Franz  Joseph",
          "count": 1,
          "log(rca)": 0.5046381336528816,
          "pct": 0.023255813953488372,
          "rca": 1.6563860216390998,
          "season": "1901-02"
         },
         {
          "composer": "Mendelssohn,  Felix",
          "count": 1,
          "log(rca)": 0.07888119563901881,
          "pct": 0.023255813953488372,
          "rca": 1.0820757591144512,
          "season": "1901-02"
         },
         {
          "composer": "Mozart,  Wolfgang  Amadeus",
          "count": 1,
          "log(rca)": -0.5333495331987933,
          "pct": 0.023255813953488372,
          "rca": 0.5866367159971811,
          "season": "1901-02"
         },
         {
          "composer": "Weber,  Carl  Maria Von",
          "count": 2,
          "log(rca)": 1.0284713415822233,
          "pct": 0.046511627906976744,
          "rca": 2.796787232925613,
          "season": "1901-02"
         },
         {
          "composer": "Beethoven,  Ludwig  van",
          "count": 4,
          "log(rca)": 0.020389085737315137,
          "pct": 0.06557377049180328,
          "rca": 1.0205983630503392,
          "season": "1902-03"
         },
         {
          "composer": "Mendelssohn,  Felix",
          "count": 2,
          "log(rca)": 0.42235462771921534,
          "pct": 0.03278688524590164,
          "rca": 1.525549430882669,
          "season": "1902-03"
         },
         {
          "composer": "Mozart,  Wolfgang  Amadeus",
          "count": 2,
          "log(rca)": -0.1898761011185969,
          "pct": 0.03278688524590164,
          "rca": 0.8270615996025832,
          "season": "1902-03"
         },
         {
          "composer": "Weber,  Carl  Maria Von",
          "count": 1,
          "log(rca)": -0.014349587457470902,
          "pct": 0.01639344262295082,
          "rca": 0.9857528771786997,
          "season": "1902-03"
         },
         {
          "composer": "Beethoven,  Ludwig  van",
          "count": 7,
          "log(rca)": -0.24359519528464266,
          "pct": 0.050359712230215826,
          "rca": 0.7838048579541275,
          "season": "1903-04"
         },
         {
          "composer": "Haydn,  Franz  Joseph",
          "count": 2,
          "log(rca)": 0.02451149677569756,
          "pct": 0.014388489208633094,
          "rca": 1.0248143731004502,
          "season": "1903-04"
         },
         {
          "composer": "Mendelssohn,  Felix",
          "count": 3,
          "log(rca)": 0.004219666869999227,
          "pct": 0.02158273381294964,
          "rca": 1.0042285821997425,
          "season": "1903-04"
         },
         {
          "composer": "Mozart,  Wolfgang  Amadeus",
          "count": 3,
          "log(rca)": -0.6080110619678128,
          "pct": 0.02158273381294964,
          "rca": 0.5444326357096142,
          "season": "1903-04"
         },
         {
          "composer": "Weber,  Carl  Maria Von",
          "count": 1,
          "log(rca)": -0.8379496564148514,
          "pct": 0.007194244604316547,
          "rca": 0.4325965863877747,
          "season": "1903-04"
         },
         {
          "composer": "Beethoven,  Ludwig  van",
          "count": 14,
          "log(rca)": 0.16367009332766966,
          "pct": 0.07567567567567568,
          "rca": 1.1778256784391754,
          "season": "1904-05"
         },
         {
          "composer": "Haydn,  Franz  Joseph",
          "count": 2,
          "log(rca)": -0.2613703951719355,
          "pct": 0.010810810810810811,
          "rca": 0.7699956641133112,
          "season": "1904-05"
         },
         {
          "composer": "Mendelssohn,  Felix",
          "count": 5,
          "log(rca)": 0.2291633986883568,
          "pct": 0.02702702702702703,
          "rca": 1.2575475038357136,
          "season": "1904-05"
         },
         {
          "composer": "Mozart,  Wolfgang  Amadeus",
          "count": 9,
          "log(rca)": 0.2047193347526636,
          "pct": 0.04864864864864865,
          "rca": 1.2271805896805896,
          "season": "1904-05"
         },
         {
          "composer": "Rossini,  Gioachino",
          "count": 1,
          "log(rca)": -0.5046310886457448,
          "pct": 0.005405405405405406,
          "rca": 0.6037282565584453,
          "season": "1904-05"
         },
         {
          "composer": "Weber,  Carl  Maria Von",
          "count": 4,
          "log(rca)": 0.26246281275740607,
          "pct": 0.021621621621621623,
          "rca": 1.3001281190897445,
          "season": "1904-05"
         },
         {
          "composer": "Beethoven,  Ludwig  van",
          "count": 13,
          "log(rca)": 0.3059716403068134,
          "pct": 0.087248322147651,
          "rca": 1.3579437951324145,
          "season": "1905-06"
         },
         {
          "composer": "Mendelssohn,  Felix",
          "count": 7,
          "log(rca)": 0.7820451544424354,
          "pct": 0.04697986577181208,
          "rca": 2.185938278479529,
          "season": "1905-06"
         },
         {
          "composer": "Mozart,  Wolfgang  Amadeus",
          "count": 5,
          "log(rca)": -0.1666578110165897,
          "pct": 0.03355704697986577,
          "rca": 0.846489221069758,
          "season": "1905-06"
         },
         {
          "composer": "Weber,  Carl  Maria Von",
          "count": 4,
          "log(rca)": 0.4788723318902717,
          "pct": 0.026845637583892617,
          "rca": 1.6142530337691456,
          "season": "1905-06"
         },
         {
          "composer": "Beethoven,  Ludwig  van",
          "count": 9,
          "log(rca)": 0.18860297502059062,
          "pct": 0.07758620689655173,
          "rca": 1.207561425247061,
          "season": "1906-07"
         },
         {
          "composer": "Haydn,  Franz  Joseph",
          "count": 4,
          "log(rca)": 0.8985424193599699,
          "pct": 0.034482758620689655,
          "rca": 2.4560206527752166,
          "season": "1906-07"
         },
         {
          "composer": "Mendelssohn,  Felix",
          "count": 1,
          "log(rca)": -0.9135088797737835,
          "pct": 0.008620689655172414,
          "rca": 0.4011142900165638,
          "season": "1906-07"
         },
         {
          "composer": "Mozart,  Wolfgang  Amadeus",
          "count": 7,
          "log(rca)": 0.4201705404437178,
          "pct": 0.0603448275862069,
          "rca": 1.5222211337513063,
          "season": "1906-07"
         },
         {
          "composer": "Rossini,  Gioachino",
          "count": 1,
          "log(rca)": -0.03786545467378457,
          "pct": 0.008620689655172414,
          "rca": 0.9628424781320033,
          "season": "1906-07"
         },
         {
          "composer": "Weber,  Carl  Maria Von",
          "count": 2,
          "log(rca)": 0.03608126616942092,
          "pct": 0.017241379310344827,
          "rca": 1.0367400949638048,
          "season": "1906-07"
         },
         {
          "composer": "Beethoven,  Ludwig  van",
          "count": 10,
          "log(rca)": 0.570216867306575,
          "pct": 0.11363636363636363,
          "rca": 1.7686505723315538,
          "season": "1907-08"
         },
         {
          "composer": "Mendelssohn,  Felix",
          "count": 2,
          "log(rca)": 0.05589167741432008,
          "pct": 0.022727272727272728,
          "rca": 1.0574831282254864,
          "season": "1907-08"
         },
         {
          "composer": "Mozart,  Wolfgang  Amadeus",
          "count": 2,
          "log(rca)": -0.556339051423492,
          "pct": 0.022727272727272728,
          "rca": 0.5733040633608816,
          "season": "1907-08"
         },
         {
          "composer": "Weber,  Carl  Maria Von",
          "count": 2,
          "log(rca)": 0.31233464279757905,
          "pct": 0.022727272727272728,
          "rca": 1.366611943361379,
          "season": "1907-08"
         },
         {
          "composer": "Beethoven,  Ludwig  van",
          "count": 16,
          "log(rca)": 0.7639671199241524,
          "pct": 0.13793103448275862,
          "rca": 2.146775867105886,
          "season": "1908-09"
         },
         {
          "composer": "Haydn,  Franz  Joseph",
          "count": 2,
          "log(rca)": 0.20539523880002458,
          "pct": 0.017241379310344827,
          "rca": 1.2280103263876083,
          "season": "1908-09"
         },
         {
          "composer": "Mendelssohn,  Felix",
          "count": 9,
          "log(rca)": 1.283715697562436,
          "pct": 0.07758620689655173,
          "rca": 3.610028610149074,
          "season": "1908-09"
         },
         {
          "composer": "Mozart,  Wolfgang  Amadeus",
          "count": 3,
          "log(rca)": -0.4271273199434859,
          "pct": 0.02586206896551724,
          "rca": 0.6523804858934169,
          "season": "1908-09"
         },
         {
          "composer": "Weber,  Carl  Maria Von",
          "count": 4,
          "log(rca)": 0.7292284467293663,
          "pct": 0.034482758620689655,
          "rca": 2.0734801899276096,
          "season": "1908-09"
         },
         {
          "composer": "Beethoven,  Ludwig  van",
          "count": 24,
          "log(rca)": 0.5431250655982219,
          "pct": 0.11059907834101383,
          "rca": 1.721377884223153,
          "season": "1909-10"
         },
         {
          "composer": "Haydn,  Franz  Joseph",
          "count": 4,
          "log(rca)": 0.2722352569258751,
          "pct": 0.018433179723502304,
          "rca": 1.3128958328199316,
          "season": "1909-10"
         },
         {
          "composer": "Mendelssohn,  Felix",
          "count": 4,
          "log(rca)": -0.15352168108798778,
          "pct": 0.018433179723502304,
          "rca": 0.8576821685146802,
          "season": "1909-10"
         },
         {
          "composer": "Mozart,  Wolfgang  Amadeus",
          "count": 5,
          "log(rca)": -0.5426088586115901,
          "pct": 0.02304147465437788,
          "rca": 0.5812299259879905,
          "season": "1909-10"
         },
         {
          "composer": "Weber,  Carl  Maria Von",
          "count": 2,
          "log(rca)": -0.5902258962646739,
          "pct": 0.009216589861751152,
          "rca": 0.5542020784138312,
          "season": "1909-10"
         },
         {
          "composer": "Beethoven,  Ludwig  van",
          "count": 22,
          "log(rca)": 0.2830514572274342,
          "pct": 0.08527131782945736,
          "rca": 1.3271734527263133,
          "season": "1910-11"
         },
         {
          "composer": "Mendelssohn,  Felix",
          "count": 10,
          "log(rca)": 0.5897068194050095,
          "pct": 0.03875968992248062,
          "rca": 1.8034595985240853,
          "season": "1910-11"
         },
         {
          "composer": "Mozart,  Wolfgang  Amadeus",
          "count": 3,
          "log(rca)": -1.2264967137587386,
          "pct": 0.011627906976744186,
          "rca": 0.2933183579985906,
          "season": "1910-11"
         },
         {
          "composer": "Weber,  Carl  Maria Von",
          "count": 10,
          "log(rca)": 0.8461497847882685,
          "pct": 0.03875968992248062,
          "rca": 2.330656027438011,
          "season": "1910-11"
         },
         {
          "composer": "Beethoven,  Ludwig  van",
          "count": 21,
          "log(rca)": -0.1267110360932763,
          "pct": 0.05660377358490566,
          "rca": 0.880988209614208,
          "season": "1911-12"
         },
         {
          "composer": "Haydn,  Franz  Joseph",
          "count": 4,
          "log(rca)": -0.2640694521411005,
          "pct": 0.01078167115902965,
          "rca": 0.7679202041022242,
          "season": "1911-12"
         },
         {
          "composer": "Mendelssohn,  Felix",
          "count": 17,
          "log(rca)": 0.7570925927813622,
          "pct": 0.04582210242587601,
          "rca": 2.1320684094680966,
          "season": "1911-12"
         },
         {
          "composer": "Mozart,  Wolfgang  Amadeus",
          "count": 11,
          "log(rca)": -0.2904562073142955,
          "pct": 0.029649595687331536,
          "rca": 0.7479222821203954,
          "season": "1911-12"
         },
         {
          "composer": "Rossini,  Gioachino",
          "count": 1,
          "log(rca)": -1.2004773261748551,
          "pct": 0.0026954177897574125,
          "rca": 0.3010504783377692,
          "season": "1911-12"
         },
         {
          "composer": "Weber,  Carl  Maria Von",
          "count": 23,
          "log(rca)": 1.3158164300375548,
          "pct": 0.06199460916442048,
          "rca": 3.727793225557185,
          "season": "1911-12"
         },
         {
          "composer": "Beethoven,  Ludwig  van",
          "count": 31,
          "log(rca)": 0.175068726169343,
          "pct": 0.07654320987654321,
          "rca": 1.1913280892149332,
          "season": "1912-13"
         },
         {
          "composer": "Haydn,  Franz  Joseph",
          "count": 4,
          "log(rca)": -0.3517544566402045,
          "pct": 0.009876543209876543,
          "rca": 0.7034528289430251,
          "season": "1912-13"
         },
         {
          "composer": "Mendelssohn,  Felix",
          "count": 15,
          "log(rca)": 0.544244445328252,
          "pct": 0.037037037037037035,
          "rca": 1.7233058385896813,
          "season": "1912-13"
         },
         {
          "composer": "Mozart,  Wolfgang  Amadeus",
          "count": 16,
          "log(rca)": -0.0034477623719888764,
          "pct": 0.03950617283950617,
          "rca": 0.9965581743359521,
          "season": "1912-13"
         },
         {
          "composer": "Rossini,  Gioachino",
          "count": 1,
          "log(rca)": -1.2881623306739591,
          "pct": 0.0024691358024691358,
          "rca": 0.27577710484768486,
          "season": "1912-13"
         },
         {
          "composer": "Weber,  Carl  Maria Von",
          "count": 8,
          "log(rca)": 0.1720787512891371,
          "pct": 0.019753086419753086,
          "rca": 1.1877713680572974,
          "season": "1912-13"
         },
         {
          "composer": "Beethoven,  Ludwig  van",
          "count": 28,
          "log(rca)": 0.06345794292313793,
          "pct": 0.06845965770171149,
          "rca": 1.0655146724266378,
          "season": "1913-14"
         },
         {
          "composer": "Bellini,  Vincenzo",
          "count": 1,
          "log(rca)": 1.1806466171641832,
          "pct": 0.0024449877750611247,
          "rca": 3.2564792176039123,
          "season": "1913-14"
         },
         {
          "composer": "Haydn,  Franz  Joseph",
          "count": 6,
          "log(rca)": 0.04388256253169728,
          "pct": 0.014669926650366748,
          "rca": 1.0448596420119505,
          "season": "1913-14"
         },
         {
          "composer": "Mendelssohn,  Felix",
          "count": 5,
          "log(rca)": -0.56419593227612,
          "pct": 0.012224938875305624,
          "rca": 0.5688173305858363,
          "season": "1913-14"
         },
         {
          "composer": "Mozart,  Wolfgang  Amadeus",
          "count": 10,
          "log(rca)": -0.4832794805539869,
          "pct": 0.02444987775061125,
          "rca": 0.6167574275764985,
          "season": "1913-14"
         },
         {
          "composer": "Rossini,  Gioachino",
          "count": 1,
          "log(rca)": -1.2979904196102219,
          "pct": 0.0024449877750611247,
          "rca": 0.2730800182477075,
          "season": "1913-14"
         },
         {
          "composer": "Weber,  Carl  Maria Von",
          "count": 4,
          "log(rca)": -0.5308965182070708,
          "pct": 0.009779951100244499,
          "rca": 0.5880775110797133,
          "season": "1913-14"
         },
         {
          "composer": "Beethoven,  Ludwig  van",
          "count": 27,
          "log(rca)": -0.1076628411225818,
          "pct": 0.057692307692307696,
          "rca": 0.8979302905683274,
          "season": "1914-15"
         },
         {
          "composer": "Bellini,  Vincenzo",
          "count": 2,
          "log(rca)": 1.7390406578492836,
          "pct": 0.004273504273504274,
          "rca": 5.691880341880343,
          "season": "1914-15"
         },
         {
          "composer": "Haydn,  Franz  Joseph",
          "count": 6,
          "log(rca)": -0.09087057734314781,
          "pct": 0.01282051282051282,
          "rca": 0.913135883724119,
          "season": "1914-15"
         },
         {
          "composer": "Mendelssohn,  Felix",
          "count": 10,
          "log(rca)": -0.005801891591019814,
          "pct": 0.021367521367521368,
          "rca": 0.9942149068786624,
          "season": "1914-15"
         },
         {
          "composer": "Mozart,  Wolfgang  Amadeus",
          "count": 12,
          "log(rca)": -0.4357110636348773,
          "pct": 0.02564102564102564,
          "rca": 0.6468045843045843,
          "season": "1914-15"
         },
         {
          "composer": "Rossini,  Gioachino",
          "count": 3,
          "log(rca)": -0.33413127081695704,
          "pct": 0.00641025641025641,
          "rca": 0.7159597914314896,
          "season": "1914-15"
         },
         {
          "composer": "Spohr,  Louis",
          "count": 2,
          "log(rca)": 1.420586926730749,
          "pct": 0.004273504273504274,
          "rca": 4.13954933954934,
          "season": "1914-15"
         },
         {
          "composer": "Weber,  Carl  Maria Von",
          "count": 18,
          "log(rca)": 0.8384277386943583,
          "pct": 0.038461538461538464,
          "rca": 2.312727904150026,
          "season": "1914-15"
         },
         {
          "composer": "Beethoven,  Ludwig  van",
          "count": 35,
          "log(rca)": -0.33431670758153637,
          "pct": 0.045992115637319315,
          "rca": 0.7158270384732176,
          "season": "1915-16"
         },
         {
          "composer": "Haydn,  Franz  Joseph",
          "count": 6,
          "log(rca)": -0.577035639287187,
          "pct": 0.00788436268068331,
          "rca": 0.561560569754123,
          "season": "1915-16"
         },
         {
          "composer": "Mendelssohn,  Felix",
          "count": 26,
          "log(rca)": 0.46354449149237736,
          "pct": 0.03416557161629435,
          "rca": 1.5896986842180767,
          "season": "1915-16"
         },
         {
          "composer": "Mozart,  Wolfgang  Amadeus",
          "count": 6,
          "log(rca)": -1.615023306138862,
          "pct": 0.00788436268068331,
          "rca": 0.19888603512125191,
          "season": "1915-16"
         },
         {
          "composer": "Rossini,  Gioachino",
          "count": 1,
          "log(rca)": -1.9189086214291058,
          "pct": 0.001314060446780552,
          "rca": 0.14676705317123834,
          "season": "1915-16"
         },
         {
          "composer": "Spohr,  Louis",
          "count": 1,
          "log(rca)": 0.24127468422676443,
          "pct": 0.001314060446780552,
          "rca": 1.2728706247760124,
          "season": "1915-16"
         },
         {
          "composer": "Weber,  Carl  Maria Von",
          "count": 18,
          "log(rca)": 0.35226267675031914,
          "pct": 0.023653088042049936,
          "rca": 1.422282075088321,
          "season": "1915-16"
         },
         {
          "composer": "Beethoven,  Ludwig  van",
          "count": 36,
          "log(rca)": 0.022212240298830378,
          "pct": 0.06569343065693431,
          "rca": 1.022460768822329,
          "season": "1916-17"
         },
         {
          "composer": "Bellini,  Vincenzo",
          "count": 1,
          "log(rca)": 0.8880864862589694,
          "pct": 0.0018248175182481751,
          "rca": 2.4304744525547446,
          "season": "1916-17"
         },
         {
          "composer": "Haydn,  Franz  Joseph",
          "count": 9,
          "log(rca)": 0.15678753973464782,
          "pct": 0.016423357664233577,
          "rca": 1.1697470627268824,
          "season": "1916-17"
         },
         {
          "composer": "Mendelssohn,  Felix",
          "count": 16,
          "log(rca)": 0.30639474662434685,
          "pct": 0.029197080291970802,
          "rca": 1.3585184712969751,
          "season": "1916-17"
         },
         {
          "composer": "Mozart,  Wolfgang  Amadeus",
          "count": 10,
          "log(rca)": -0.7758396114592009,
          "pct": 0.01824817518248175,
          "rca": 0.46031713116567124,
          "season": "1916-17"
         },
         {
          "composer": "Rossini,  Gioachino",
          "count": 1,
          "log(rca)": -1.5905505505154354,
          "pct": 0.0018248175182481751,
          "rca": 0.20381337128341676,
          "season": "1916-17"
         },
         {
          "composer": "Spohr,  Louis",
          "count": 1,
          "log(rca)": 0.5696327551404347,
          "pct": 0.0018248175182481751,
          "rca": 1.7676177836761777,
          "season": "1916-17"
         },
         {
          "composer": "Weber,  Carl  Maria Von",
          "count": 16,
          "log(rca)": 0.5628377120076059,
          "pct": 0.029197080291970802,
          "rca": 1.7556474600846912,
          "season": "1916-17"
         },
         {
          "composer": "Beethoven,  Ludwig  van",
          "count": 24,
          "log(rca)": -0.3269528231208017,
          "pct": 0.04633204633204633,
          "rca": 0.7211177623096992,
          "season": "1917-18"
         },
         {
          "composer": "Bellini,  Vincenzo",
          "count": 1,
          "log(rca)": 0.9443865309475019,
          "pct": 0.0019305019305019305,
          "rca": 2.5712355212355216,
          "season": "1917-18"
         },
         {
          "composer": "Haydn,  Franz  Joseph",
          "count": 7,
          "log(rca)": -0.03822684385772577,
          "pct": 0.013513513513513514,
          "rca": 0.962494580141639,
          "season": "1917-18"
         },
         {
          "composer": "Mendelssohn,  Felix",
          "count": 6,
          "log(rca)": -0.6181344616988469,
          "pct": 0.011583011583011582,
          "rca": 0.5389489302153058,
          "season": "1917-18"
         },
         {
          "composer": "Mozart,  Wolfgang  Amadeus",
          "count": 9,
          "log(rca)": -0.8249000824284947,
          "pct": 0.017374517374517374,
          "rca": 0.438278782028782,
          "season": "1917-18"
         },
         {
          "composer": "Rossini,  Gioachino",
          "count": 3,
          "log(rca)": -0.4356382171587934,
          "pct": 0.005791505791505791,
          "rca": 0.646851703455477,
          "season": "1917-18"
         },
         {
          "composer": "Weber,  Carl  Maria Von",
          "count": 7,
          "log(rca)": -0.2075408164883295,
          "pct": 0.013513513513513514,
          "rca": 0.8125800744310903,
          "season": "1917-18"
         },
         {
          "composer": "Beethoven,  Ludwig  van",
          "count": 27,
          "log(rca)": -0.37918947335207764,
          "pct": 0.043973941368078175,
          "rca": 0.6844159218012658,
          "season": "1918-19"
         },
         {
          "composer": "Bellini,  Vincenzo",
          "count": 3,
          "log(rca)": 1.872979133727952,
          "pct": 0.004885993485342019,
          "rca": 6.507654723127035,
          "season": "1918-19"
         },
         {
          "composer": "Haydn,  Franz  Joseph",
          "count": 2,
          "log(rca)": -1.461009498240753,
          "pct": 0.003257328990228013,
          "rca": 0.23200195091361983,
          "season": "1918-19"
         },
         {
          "composer": "Mendelssohn,  Felix",
          "count": 14,
          "log(rca)": 0.05914371280069743,
          "pct": 0.02280130293159609,
          "rca": 1.0609276986757323,
          "season": "1918-19"
         },
         {
          "composer": "Mozart,  Wolfgang  Amadeus",
          "count": 17,
          "log(rca)": -0.3589310015961574,
          "pct": 0.02768729641693811,
          "rca": 0.6984225397295429,
          "season": "1918-19"
         },
         {
          "composer": "Rossini,  Gioachino",
          "count": 1,
          "log(rca)": -1.7042701917145624,
          "pct": 0.0016286644951140066,
          "rca": 0.18190509358845666,
          "season": "1918-19"
         },
         {
          "composer": "Weber,  Carl  Maria Von",
          "count": 5,
          "log(rca)": -0.7140327389972019,
          "pct": 0.008143322475570033,
          "rca": 0.489665517165315,
          "season": "1918-19"
         },
         {
          "composer": "Beethoven,  Ludwig  van",
          "count": 50,
          "log(rca)": 0.09454750052516216,
          "pct": 0.07062146892655367,
          "rca": 1.099161372635429,
          "season": "1919-20"
         },
         {
          "composer": "Haydn,  Franz  Joseph",
          "count": 3,
          "log(rca)": -1.197993555679166,
          "pct": 0.00423728813559322,
          "rca": 0.30179914801051394,
          "season": "1919-20"
         },
         {
          "composer": "Mendelssohn,  Felix",
          "count": 12,
          "log(rca)": -0.23745613257313825,
          "pct": 0.01694915254237288,
          "rca": 0.7886314854562949,
          "season": "1919-20"
         },
         {
          "composer": "Mozart,  Wolfgang  Amadeus",
          "count": 19,
          "log(rca)": -0.3901545320325102,
          "pct": 0.026836158192090395,
          "rca": 0.6769522556069166,
          "season": "1919-20"
         },
         {
          "composer": "Rossini,  Gioachino",
          "count": 3,
          "log(rca)": -0.74810706859303,
          "pct": 0.00423728813559322,
          "rca": 0.4732615570479338,
          "season": "1919-20"
         },
         {
          "composer": "Weber,  Carl  Maria Von",
          "count": 8,
          "log(rca)": -0.38647827529804357,
          "pct": 0.011299435028248588,
          "rca": 0.6794454859649794,
          "season": "1919-20"
         },
         {
          "composer": "Beethoven,  Ludwig  van",
          "count": 67,
          "log(rca)": 0.1892465170982738,
          "pct": 0.0776361529548088,
          "rca": 1.2083387919428552,
          "season": "1920-21"
         },
         {
          "composer": "Haydn,  Franz  Joseph",
          "count": 11,
          "log(rca)": -0.09668116893861348,
          "pct": 0.012746234067207415,
          "rca": 0.9078454093108854,
          "season": "1920-21"
         },
         {
          "composer": "Mendelssohn,  Felix",
          "count": 20,
          "log(rca)": 0.07539889380314438,
          "pct": 0.023174971031286212,
          "rca": 1.0783141979587811,
          "season": "1920-21"
         },
         {
          "composer": "Mozart,  Wolfgang  Amadeus",
          "count": 15,
          "log(rca)": -0.8245139074864488,
          "pct": 0.01738122827346466,
          "rca": 0.43844806699673444,
          "season": "1920-21"
         },
         {
          "composer": "Rossini,  Gioachino",
          "count": 2,
          "log(rca)": -1.3515427740909025,
          "pct": 0.002317497103128621,
          "rca": 0.25884061984545165,
          "season": "1920-21"
         },
         {
          "composer": "Spohr,  Louis",
          "count": 1,
          "log(rca)": 0.11549335100502228,
          "pct": 0.0011587485515643105,
          "rca": 1.1224270515116401,
          "season": "1920-21"
         },
         {
          "composer": "Weber,  Carl  Maria Von",
          "count": 11,
          "log(rca)": -0.26599514156921716,
          "pct": 0.012746234067207415,
          "rca": 0.766442851201515,
          "season": "1920-21"
         },
         {
          "composer": "Beethoven,  Ludwig  van",
          "count": 53,
          "log(rca)": 0.2491157781052383,
          "pct": 0.08242612752721618,
          "rca": 1.282890555109544,
          "season": "1921-22"
         },
         {
          "composer": "Haydn,  Franz  Joseph",
          "count": 2,
          "log(rca)": -1.50715929433123,
          "pct": 0.003110419906687403,
          "rca": 0.2215384103591953,
          "season": "1921-22"
         },
         {
          "composer": "Mendelssohn,  Felix",
          "count": 14,
          "log(rca)": 0.012993916710220575,
          "pct": 0.02177293934681182,
          "rca": 1.0130787044897351,
          "season": "1921-22"
         },
         {
          "composer": "Mozart,  Wolfgang  Amadeus",
          "count": 14,
          "log(rca)": -0.5992368121275916,
          "pct": 0.02177293934681182,
          "rca": 0.5492306423488383,
          "season": "1921-22"
         },
         {
          "composer": "Rossini,  Gioachino",
          "count": 3,
          "log(rca)": -0.6518076991369295,
          "pct": 0.004665629860031105,
          "rca": 0.5211029275115664,
          "season": "1921-22"
         },
         {
          "composer": "Weber,  Carl  Maria Von",
          "count": 21,
          "log(rca)": 0.674901990201644,
          "pct": 0.03265940902021773,
          "rca": 1.963840490926772,
          "season": "1921-22"
         },
         {
          "composer": "Beethoven,  Ludwig  van",
          "count": 52,
          "log(rca)": 0.19342226145653946,
          "pct": 0.07796101949025487,
          "rca": 1.2133950553207182,
          "season": "1922-23"
         },
         {
          "composer": "Haydn,  Franz  Joseph",
          "count": 5,
          "log(rca)": -0.6275138841350794,
          "pct": 0.0074962518740629685,
          "rca": 0.5339175332120036,
          "season": "1922-23"
         },
         {
          "composer": "Mendelssohn,  Felix",
          "count": 13,
          "log(rca)": -0.09775937712150584,
          "pct": 0.019490254872563718,
          "rca": 0.9068670904722311,
          "season": "1922-23"
         },
         {
          "composer": "Mozart,  Wolfgang  Amadeus",
          "count": 24,
          "log(rca)": -0.09688563307290907,
          "pct": 0.035982008995502246,
          "rca": 0.9076598064604061,
          "season": "1922-23"
         },
         {
          "composer": "Rossini,  Gioachino",
          "count": 3,
          "log(rca)": -0.688453020814934,
          "pct": 0.004497751124437781,
          "rca": 0.5023525972862626,
          "season": "1922-23"
         },
         {
          "composer": "Weber,  Carl  Maria Von",
          "count": 12,
          "log(rca)": 0.07864088058821683,
          "pct": 0.017991004497751123,
          "rca": 1.081815751266579,
          "season": "1922-23"
         },
         {
          "composer": "Beethoven,  Ludwig  van",
          "count": 46,
          "log(rca)": 0.05889729440730108,
          "pct": 0.06814814814814815,
          "rca": 1.0606662987849083,
          "season": "1923-24"
         },
         {
          "composer": "Haydn,  Franz  Joseph",
          "count": 7,
          "log(rca)": -0.3029642924707725,
          "pct": 0.01037037037037037,
          "rca": 0.7386254703901763,
          "season": "1923-24"
         },
         {
          "composer": "Mendelssohn,  Felix",
          "count": 17,
          "log(rca)": 0.15858196451626747,
          "pct": 0.025185185185185185,
          "rca": 1.1718479702409834,
          "season": "1923-24"
         },
         {
          "composer": "Mozart,  Wolfgang  Amadeus",
          "count": 17,
          "log(rca)": -0.45364876432154466,
          "pct": 0.025185185185185185,
          "rca": 0.6353058361391695,
          "season": "1923-24"
         },
         {
          "composer": "Rossini,  Gioachino",
          "count": 3,
          "log(rca)": -0.7003756657718401,
          "pct": 0.0044444444444444444,
          "rca": 0.4963987887258328,
          "season": "1923-24"
         },
         {
          "composer": "Weber,  Carl  Maria Von",
          "count": 22,
          "log(rca)": 0.6728540392016262,
          "pct": 0.03259259259259259,
          "rca": 1.9598227572945406,
          "season": "1923-24"
         },
         {
          "composer": "Beethoven,  Ludwig  van",
          "count": 60,
          "log(rca)": 0.23944265179999974,
          "pct": 0.08163265306122448,
          "rca": 1.2705408193075651,
          "season": "1924-25"
         },
         {
          "composer": "Haydn,  Franz  Joseph",
          "count": 9,
          "log(rca)": -0.13680767253017337,
          "pct": 0.012244897959183673,
          "rca": 0.8721379460875259,
          "season": "1924-25"
         },
         {
          "composer": "Mendelssohn,  Felix",
          "count": 11,
          "log(rca)": -0.36189391508188495,
          "pct": 0.014965986394557823,
          "rca": 0.6963562368178713,
          "season": "1924-25"
         },
         {
          "composer": "Mozart,  Wolfgang  Amadeus",
          "count": 28,
          "log(rca)": -0.03981540654286361,
          "pct": 0.0380952380952381,
          "rca": 0.960966810966811,
          "season": "1924-25"
         },
         {
          "composer": "Rossini,  Gioachino",
          "count": 3,
          "log(rca)": -0.7855334741121469,
          "pct": 0.004081632653061225,
          "rca": 0.4558764386257648,
          "season": "1924-25"
         },
         {
          "composer": "Weber,  Carl  Maria Von",
          "count": 28,
          "log(rca)": 0.8288582876782076,
          "pct": 0.0380952380952381,
          "rca": 2.290701924110502,
          "season": "1924-25"
         },
         {
          "composer": "Beethoven,  Ludwig  van",
          "count": 70,
          "log(rca)": 0.42960830430796726,
          "pct": 0.09873060648801128,
          "rca": 1.5366555043106307,
          "season": "1925-26"
         },
         {
          "composer": "Haydn,  Franz  Joseph",
          "count": 10,
          "log(rca)": 0.004567815808362193,
          "pct": 0.014104372355430184,
          "rca": 1.0045782641816825,
          "season": "1925-26"
         },
         {
          "composer": "Mendelssohn,  Felix",
          "count": 15,
          "log(rca)": -0.015724014097336345,
          "pct": 0.021156558533145273,
          "rca": 0.9843989628051071,
          "season": "1925-26"
         },
         {
          "composer": "Mozart,  Wolfgang  Amadeus",
          "count": 19,
          "log(rca)": -0.391565964870918,
          "pct": 0.02679830747531735,
          "rca": 0.6759974569389238,
          "season": "1925-26"
         },
         {
          "composer": "Rossini,  Gioachino",
          "count": 5,
          "log(rca)": -0.23869287766544708,
          "pct": 0.007052186177715092,
          "rca": 0.7876567522095372,
          "season": "1925-26"
         },
         {
          "composer": "Weber,  Carl  Maria Von",
          "count": 25,
          "log(rca)": 0.7515445750519136,
          "pct": 0.03526093088857546,
          "rca": 2.120272408600165,
          "season": "1925-26"
         },
         {
          "composer": "Beethoven,  Ludwig  van",
          "count": 60,
          "log(rca)": 0.2545217586271201,
          "pct": 0.08287292817679558,
          "rca": 1.2898446162859951,
          "season": "1926-27"
         },
         {
          "composer": "Haydn,  Franz  Joseph",
          "count": 10,
          "log(rca)": -0.016368050045226772,
          "pct": 0.013812154696132596,
          "rca": 0.9837651785978078,
          "season": "1926-27"
         },
         {
          "composer": "Mendelssohn,  Felix",
          "count": 16,
          "log(rca)": 0.02787864118664615,
          "pct": 0.022099447513812154,
          "rca": 1.0282708871142852,
          "season": "1926-27"
         },
         {
          "composer": "Mozart,  Wolfgang  Amadeus",
          "count": 19,
          "log(rca)": -0.4125018307245068,
          "pct": 0.026243093922651933,
          "rca": 0.6619919847647748,
          "season": "1926-27"
         },
         {
          "composer": "Rossini,  Gioachino",
          "count": 3,
          "log(rca)": -0.7704543672850267,
          "pct": 0.004143646408839779,
          "rca": 0.46280273810764794,
          "season": "1926-27"
         },
         {
          "composer": "Weber,  Carl  Maria Von",
          "count": 30,
          "log(rca)": 0.9129302659922793,
          "pct": 0.04143646408839779,
          "rca": 2.491612935410249,
          "season": "1926-27"
         },
         {
          "composer": "Beethoven,  Ludwig  van",
          "count": 62,
          "log(rca)": 0.21152782399614128,
          "pct": 0.0793854033290653,
          "rca": 1.2355643434879586,
          "season": "1927-28"
         },
         {
          "composer": "Haydn,  Franz  Joseph",
          "count": 14,
          "log(rca)": 0.2443204291220167,
          "pct": 0.01792573623559539,
          "rca": 1.2767533739138772,
          "season": "1927-28"
         },
         {
          "composer": "Mendelssohn,  Felix",
          "count": 18,
          "log(rca)": 0.06987791938906006,
          "pct": 0.023047375160051217,
          "rca": 1.0723772567920427,
          "season": "1927-28"
         },
         {
          "composer": "Mozart,  Wolfgang  Amadeus",
          "count": 23,
          "log(rca)": -0.29723035141576715,
          "pct": 0.029449423815621,
          "rca": 0.7428728708338184,
          "season": "1927-28"
         },
         {
          "composer": "Rossini,  Gioachino",
          "count": 22,
          "log(rca)": 1.14619203995121,
          "pct": 0.028169014084507043,
          "rca": 3.1461895060087994,
          "season": "1927-28"
         },
         {
          "composer": "Weber,  Carl  Maria Von",
          "count": 15,
          "log(rca)": 0.1439993279783643,
          "pct": 0.019206145966709345,
          "rca": 1.1548833324180667,
          "season": "1927-28"
         },
         {
          "composer": "Beethoven,  Ludwig  van",
          "count": 46,
          "log(rca)": 0.16015102811247386,
          "pct": 0.07540983606557378,
          "rca": 1.1736881175078901,
          "season": "1928-29"
         },
         {
          "composer": "Haydn,  Franz  Joseph",
          "count": 7,
          "log(rca)": -0.20171055876559968,
          "pct": 0.011475409836065573,
          "rca": 0.8173314631366705,
          "season": "1928-29"
         },
         {
          "composer": "Mendelssohn,  Felix",
          "count": 9,
          "log(rca)": -0.3761530684985563,
          "pct": 0.014754098360655738,
          "rca": 0.686497243897201,
          "season": "1928-29"
         },
         {
          "composer": "Mozart,  Wolfgang  Amadeus",
          "count": 26,
          "log(rca)": 0.07248816334889416,
          "pct": 0.04262295081967213,
          "rca": 1.0751800794833581,
          "season": "1928-29"
         },
         {
          "composer": "Rossini,  Gioachino",
          "count": 5,
          "log(rca)": -0.08829630830067643,
          "pct": 0.00819672131147541,
          "rca": 0.915489569371413,
          "season": "1928-29"
         },
         {
          "composer": "Weber,  Carl  Maria Von",
          "count": 9,
          "log(rca)": -0.1197101031152973,
          "pct": 0.014754098360655738,
          "rca": 0.8871775894608297,
          "season": "1928-29"
         },
         {
          "composer": "Beethoven,  Ludwig  van",
          "count": 56,
          "log(rca)": 0.2365314415925415,
          "pct": 0.08139534883720931,
          "rca": 1.2668473866932992,
          "season": "1929-30"
         },
         {
          "composer": "Haydn,  Franz  Joseph",
          "count": 10,
          "log(rca)": 0.03463450440714593,
          "pct": 0.014534883720930232,
          "rca": 1.0352412635244372,
          "season": "1929-30"
         },
         {
          "composer": "Mendelssohn,  Felix",
          "count": 25,
          "log(rca)": 0.5251682982674383,
          "pct": 0.036337209302325583,
          "rca": 1.69074337361633,
          "season": "1929-30"
         },
         {
          "composer": "Mozart,  Wolfgang  Amadeus",
          "count": 30,
          "log(rca)": 0.09525912622358076,
          "pct": 0.0436046511627907,
          "rca": 1.0999438424947146,
          "season": "1929-30"
         },
         {
          "composer": "Rossini,  Gioachino",
          "count": 13,
          "log(rca)": 0.746885255960773,
          "pct": 0.0188953488372093,
          "rca": 2.1104163619521232,
          "season": "1929-30"
         },
         {
          "composer": "Weber,  Carl  Maria Von",
          "count": 8,
          "log(rca)": -0.35782301953766743,
          "pct": 0.011627906976744186,
          "rca": 0.6991968082314033,
          "season": "1929-30"
         },
         {
          "composer": "Beethoven,  Ludwig  van",
          "count": 29,
          "log(rca)": -0.13771082348227326,
          "pct": 0.055984555984555984,
          "rca": 0.8713506294575531,
          "season": "1930-31"
         },
         {
          "composer": "Haydn,  Franz  Joseph",
          "count": 8,
          "log(rca)": 0.09530454876679688,
          "pct": 0.015444015444015444,
          "rca": 1.099993805876159,
          "season": "1930-31"
         },
         {
          "composer": "Mendelssohn,  Felix",
          "count": 5,
          "log(rca)": -0.8004560184928016,
          "pct": 0.009652509652509652,
          "rca": 0.4491241085127548,
          "season": "1930-31"
         },
         {
          "composer": "Mozart,  Wolfgang  Amadeus",
          "count": 19,
          "log(rca)": -0.07768568059827348,
          "pct": 0.03667953667953668,
          "rca": 0.9252552065052065,
          "season": "1930-31"
         },
         {
          "composer": "Rossini,  Gioachino",
          "count": 12,
          "log(rca)": 0.9506561439610972,
          "pct": 0.023166023166023165,
          "rca": 2.587406813821908,
          "season": "1930-31"
         },
         {
          "composer": "Weber,  Carl  Maria Von",
          "count": 12,
          "log(rca)": 0.33145568424435745,
          "pct": 0.023166023166023165,
          "rca": 1.3929944133104404,
          "season": "1930-31"
         },
         {
          "composer": "Beethoven,  Ludwig  van",
          "count": 37,
          "log(rca)": 0.02616559591226389,
          "pct": 0.0659536541889483,
          "rca": 1.026510920412039,
          "season": "1931-32"
         },
         {
          "composer": "Haydn,  Franz  Joseph",
          "count": 17,
          "log(rca)": 0.7693306878799637,
          "pct": 0.030303030303030304,
          "rca": 2.158321179711554,
          "season": "1931-32"
         },
         {
          "composer": "Mendelssohn,  Felix",
          "count": 8,
          "log(rca)": -0.41019805251027913,
          "pct": 0.0142602495543672,
          "rca": 0.6635188255532464,
          "season": "1931-32"
         },
         {
          "composer": "Mozart,  Wolfgang  Amadeus",
          "count": 33,
          "log(rca)": 0.39463723843855303,
          "pct": 0.058823529411764705,
          "rca": 1.4838458110516934,
          "season": "1931-32"
         },
         {
          "composer": "Rossini,  Gioachino",
          "count": 5,
          "log(rca)": -0.004558256656015828,
          "pct": 0.008912655971479501,
          "rca": 0.9954521164288092,
          "season": "1931-32"
         },
         {
          "composer": "Weber,  Carl  Maria Von",
          "count": 16,
          "log(rca)": 0.539392093432925,
          "pct": 0.0285204991087344,
          "rca": 1.714964007355456,
          "season": "1931-32"
         },
         {
          "composer": "Beethoven,  Ludwig  van",
          "count": 42,
          "log(rca)": 0.22114652275306185,
          "pct": 0.08015267175572519,
          "rca": 1.2475062052170653,
          "season": "1932-33"
         },
         {
          "composer": "Bellini,  Vincenzo",
          "count": 1,
          "log(rca)": 0.9328700888859428,
          "pct": 0.0019083969465648854,
          "rca": 2.541793893129771,
          "season": "1932-33"
         },
         {
          "composer": "Haydn,  Franz  Joseph",
          "count": 4,
          "log(rca)": -0.6093590738547076,
          "pct": 0.007633587786259542,
          "rca": 0.5436992284769564,
          "season": "1932-33"
         },
         {
          "composer": "Mendelssohn,  Felix",
          "count": 11,
          "log(rca)": -0.02351510019009036,
          "pct": 0.02099236641221374,
          "rca": 0.9767592253075104,
          "season": "1932-33"
         },
         {
          "composer": "Mozart,  Wolfgang  Amadeus",
          "count": 16,
          "log(rca)": -0.26105237958649197,
          "pct": 0.030534351145038167,
          "rca": 0.7702405736756881,
          "season": "1932-33"
         },
         {
          "composer": "Rossini,  Gioachino",
          "count": 3,
          "log(rca)": -0.44715465922035236,
          "pct": 0.0057251908396946565,
          "rca": 0.6394450045609488,
          "season": "1932-33"
         },
         {
          "composer": "Weber,  Carl  Maria Von",
          "count": 8,
          "log(rca)": -0.08552586592536603,
          "pct": 0.015267175572519083,
          "rca": 0.9180293970671859,
          "season": "1932-33"
         },
         {
          "composer": "Beethoven,  Ludwig  van",
          "count": 32,
          "log(rca)": 0.1633323125441843,
          "pct": 0.07565011820330969,
          "rca": 1.1774278987436537,
          "season": "1933-34"
         },
         {
          "composer": "Haydn,  Franz  Joseph",
          "count": 9,
          "log(rca)": 0.4156906476363854,
          "pct": 0.02127659574468085,
          "rca": 1.5154169985208785,
          "season": "1933-34"
         },
         {
          "composer": "Mendelssohn,  Felix",
          "count": 6,
          "log(rca)": -0.4155313984856418,
          "pct": 0.014184397163120567,
          "rca": 0.6599894700981759,
          "season": "1933-34"
         },
         {
          "composer": "Mozart,  Wolfgang  Amadeus",
          "count": 20,
          "log(rca)": 0.17621067700248202,
          "pct": 0.04728132387706856,
          "rca": 1.192689304391432,
          "season": "1933-34"
         },
         {
          "composer": "Rossini,  Gioachino",
          "count": 4,
          "log(rca)": 0.054646918506192715,
          "pct": 0.009456264775413711,
          "rca": 1.0561676355868783,
          "season": "1933-34"
         },
         {
          "composer": "Weber,  Carl  Maria Von",
          "count": 9,
          "log(rca)": 0.24637667500578167,
          "pct": 0.02127659574468085,
          "rca": 1.2793813937851208,
          "season": "1933-34"
         },
         {
          "composer": "Beethoven,  Ludwig  van",
          "count": 29,
          "log(rca)": 0.1384548069079485,
          "pct": 0.0737913486005089,
          "rca": 1.148497776231584,
          "season": "1934-35"
         },
         {
          "composer": "Haydn,  Franz  Joseph",
          "count": 10,
          "log(rca)": 0.5946137304712283,
          "pct": 0.02544529262086514,
          "rca": 1.8123307615898545,
          "season": "1934-35"
         },
         {
          "composer": "Mendelssohn,  Felix",
          "count": 7,
          "log(rca)": -0.18781815148136677,
          "pct": 0.017811704834605598,
          "rca": 0.8287654032912208,
          "season": "1934-35"
         },
         {
          "composer": "Mozart,  Wolfgang  Amadeus",
          "count": 18,
          "log(rca)": 0.14441272852167242,
          "pct": 0.04580152671755725,
          "rca": 1.1553608605135322,
          "season": "1934-35"
         },
         {
          "composer": "Rossini,  Gioachino",
          "count": 5,
          "log(rca)": 0.35135303699741915,
          "pct": 0.01272264631043257,
          "rca": 1.4209888990243305,
          "season": "1934-35"
         },
         {
          "composer": "Weber,  Carl  Maria Von",
          "count": 10,
          "log(rca)": 0.4252997578406246,
          "pct": 0.02544529262086514,
          "rca": 1.5300489951119765,
          "season": "1934-35"
         },
         {
          "composer": "Beethoven,  Ludwig  van",
          "count": 37,
          "log(rca)": 0.19467917973988383,
          "pct": 0.07805907172995781,
          "rca": 1.2149211526395653,
          "season": "1935-36"
         },
         {
          "composer": "Haydn,  Franz  Joseph",
          "count": 7,
          "log(rca)": 0.05054107670668085,
          "pct": 0.014767932489451477,
          "rca": 1.0518400685936056,
          "season": "1935-36"
         },
         {
          "composer": "Mendelssohn,  Felix",
          "count": 9,
          "log(rca)": -0.12390143302627592,
          "pct": 0.0189873417721519,
          "rca": 0.8834669172516721,
          "season": "1935-36"
         },
         {
          "composer": "Mozart,  Wolfgang  Amadeus",
          "count": 24,
          "log(rca)": 0.24469709114763818,
          "pct": 0.05063291139240506,
          "rca": 1.2772343690065209,
          "season": "1935-36"
         },
         {
          "composer": "Rossini,  Gioachino",
          "count": 3,
          "log(rca)": -0.34687029659438684,
          "pct": 0.006329113924050633,
          "rca": 0.7068970092614707,
          "season": "1935-36"
         },
         {
          "composer": "Weber,  Carl  Maria Von",
          "count": 15,
          "log(rca)": 0.6433671561229739,
          "pct": 0.03164556962025317,
          "rca": 1.902877389490528,
          "season": "1935-36"
         },
         {
          "composer": "Beethoven,  Ludwig  van",
          "count": 26,
          "log(rca)": -0.25268491494114914,
          "pct": 0.04990403071017274,
          "rca": 0.7767125737993464,
          "season": "1936-37"
         },
         {
          "composer": "Haydn,  Franz  Joseph",
          "count": 7,
          "log(rca)": -0.04400164335160969,
          "pct": 0.013435700575815739,
          "rca": 0.9569523848625124,
          "season": "1936-37"
         },
         {
          "composer": "Mendelssohn,  Felix",
          "count": 10,
          "log(rca)": -0.11308363742674006,
          "pct": 0.019193857965451054,
          "rca": 0.8930759624169174,
          "season": "1936-37"
         },
         {
          "composer": "Mozart,  Wolfgang  Amadeus",
          "count": 25,
          "log(rca)": 0.19097636560960288,
          "pct": 0.04798464491362764,
          "rca": 1.2104308439481184,
          "season": "1936-37"
         },
         {
          "composer": "Rossini,  Gioachino",
          "count": 6,
          "log(rca)": 0.2517341639072681,
          "pct": 0.011516314779270634,
          "rca": 1.2862540590784535,
          "season": "1936-37"
         },
         {
          "composer": "Weber,  Carl  Maria Von",
          "count": 17,
          "log(rca)": 0.6739875790186893,
          "pct": 0.03262955854126679,
          "rca": 1.9620455540005979,
          "season": "1936-37"
         },
         {
          "composer": "Beethoven,  Ludwig  van",
          "count": 40,
          "log(rca)": 0.06566085655417973,
          "pct": 0.0686106346483705,
          "rca": 1.0678644965020703,
          "season": "1937-38"
         },
         {
          "composer": "Haydn,  Franz  Joseph",
          "count": 6,
          "log(rca)": -0.3105894677759933,
          "pct": 0.010291595197255575,
          "rca": 0.7330147402793958,
          "season": "1937-38"
         },
         {
          "composer": "Mendelssohn,  Felix",
          "count": 17,
          "log(rca)": 0.305107469038305,
          "pct": 0.029159519725557463,
          "rca": 1.3567708060251524,
          "season": "1937-38"
         },
         {
          "composer": "Mozart,  Wolfgang  Amadeus",
          "count": 19,
          "log(rca)": -0.1958976246892829,
          "pct": 0.032590051457975985,
          "rca": 0.8220963927439056,
          "season": "1937-38"
         },
         {
          "composer": "Rossini,  Gioachino",
          "count": 1,
          "log(rca)": -1.6524624499179124,
          "pct": 0.0017152658662092624,
          "rca": 0.19157757712403495,
          "season": "1937-38"
         },
         {
          "composer": "Weber,  Carl  Maria Von",
          "count": 15,
          "log(rca)": 0.43638729146755795,
          "pct": 0.025728987993138937,
          "rca": 1.5471078604091084,
          "season": "1937-38"
         },
         {
          "composer": "Beethoven,  Ludwig  van",
          "count": 53,
          "log(rca)": 0.36612151096305967,
          "pct": 0.09265734265734266,
          "rca": 1.4421304666703438,
          "season": "1938-39"
         },
         {
          "composer": "Haydn,  Franz  Joseph",
          "count": 7,
          "log(rca)": -0.1373905929780406,
          "pct": 0.012237762237762238,
          "rca": 0.8716297071912046,
          "season": "1938-39"
         },
         {
          "composer": "Mendelssohn,  Felix",
          "count": 12,
          "log(rca)": -0.024151030259216333,
          "pct": 0.02097902097902098,
          "rca": 0.9761382722081413,
          "season": "1938-39"
         },
         {
          "composer": "Mozart,  Wolfgang  Amadeus",
          "count": 19,
          "log(rca)": -0.17684942971858847,
          "pct": 0.033216783216783216,
          "rca": 0.8379059387582114,
          "season": "1938-39"
         },
         {
          "composer": "Rossini,  Gioachino",
          "count": 6,
          "log(rca)": 0.15834521428083714,
          "pct": 0.01048951048951049,
          "rca": 1.171570567796983,
          "season": "1938-39"
         },
         {
          "composer": "Weber,  Carl  Maria Von",
          "count": 16,
          "log(rca)": 0.5199740075758236,
          "pct": 0.027972027972027972,
          "rca": 1.681983930290928,
          "season": "1938-39"
         },
         {
          "composer": "Beethoven,  Ludwig  van",
          "count": 32,
          "log(rca)": -0.1505979859825329,
          "pct": 0.055267702936096716,
          "rca": 0.8601934389785243,
          "season": "1939-40"
         },
         {
          "composer": "Haydn,  Franz  Joseph",
          "count": 6,
          "log(rca)": -0.3037047589984962,
          "pct": 0.010362694300518135,
          "rca": 0.7380787453935885,
          "season": "1939-40"
         },
         {
          "composer": "Mendelssohn,  Felix",
          "count": 17,
          "log(rca)": 0.3119921778158021,
          "pct": 0.02936096718480138,
          "rca": 1.3661440067576232,
          "season": "1939-40"
         },
         {
          "composer": "Mozart,  Wolfgang  Amadeus",
          "count": 25,
          "log(rca)": 0.08542392978997453,
          "pct": 0.04317789291882556,
          "rca": 1.089178704139844,
          "season": "1939-40"
         },
         {
          "composer": "Rossini,  Gioachino",
          "count": 13,
          "log(rca)": 0.9193716163211215,
          "pct": 0.022452504317789293,
          "rca": 2.5077140881227304,
          "season": "1939-40"
         },
         {
          "composer": "Weber,  Carl  Maria Von",
          "count": 16,
          "log(rca)": 0.5078105213826263,
          "pct": 0.027633851468048358,
          "rca": 1.6616490641216077,
          "season": "1939-40"
         },
         {
          "composer": "Beethoven,  Ludwig  van",
          "count": 31,
          "log(rca)": -0.21797386194026427,
          "pct": 0.051666666666666666,
          "rca": 0.8041464602200799,
          "season": "1940-41"
         },
         {
          "composer": "Haydn,  Franz  Joseph",
          "count": 7,
          "log(rca)": -0.18518125681438902,
          "pct": 0.011666666666666667,
          "rca": 0.8309536541889484,
          "season": "1940-41"
         },
         {
          "composer": "Mendelssohn,  Felix",
          "count": 13,
          "log(rca)": 0.008101013577971692,
          "pct": 0.021666666666666667,
          "rca": 1.0081339155749638,
          "season": "1940-41"
         },
         {
          "composer": "Mozart,  Wolfgang  Amadeus",
          "count": 26,
          "log(rca)": 0.08901746530010475,
          "pct": 0.043333333333333335,
          "rca": 1.0930997474747475,
          "season": "1940-41"
         },
         {
          "composer": "Rossini,  Gioachino",
          "count": 5,
          "log(rca)": -0.07176700634946596,
          "pct": 0.008333333333333333,
          "rca": 0.9307477288609365,
          "season": "1940-41"
         },
         {
          "composer": "Spohr,  Louis",
          "count": 1,
          "log(rca)": 0.47897838687230393,
          "pct": 0.0016666666666666668,
          "rca": 1.6144242424242425,
          "season": "1940-41"
         },
         {
          "composer": "Weber,  Carl  Maria Von",
          "count": 13,
          "log(rca)": 0.2645439789612306,
          "pct": 0.021666666666666667,
          "rca": 1.302836719337848,
          "season": "1940-41"
         },
         {
          "composer": "Beethoven,  Ludwig  van",
          "count": 32,
          "log(rca)": -0.013853937684897424,
          "pct": 0.06336633663366337,
          "rca": 0.9862415864724071,
          "season": "1941-42"
         },
         {
          "composer": "Haydn,  Franz  Joseph",
          "count": 4,
          "log(rca)": -0.5724258188090253,
          "pct": 0.007920792079207921,
          "rca": 0.5641552390533171,
          "season": "1941-42"
         },
         {
          "composer": "Mendelssohn,  Felix",
          "count": 12,
          "log(rca)": 0.1004295318452218,
          "pct": 0.023762376237623763,
          "rca": 1.105645726144667,
          "season": "1941-42"
         },
         {
          "composer": "Mozart,  Wolfgang  Amadeus",
          "count": 22,
          "log(rca)": 0.09433460657772495,
          "pct": 0.04356435643564356,
          "rca": 1.0989273927392738,
          "season": "1941-42"
         },
         {
          "composer": "Rossini,  Gioachino",
          "count": 2,
          "log(rca)": -0.8156865122828345,
          "pct": 0.0039603960396039604,
          "rca": 0.44233555431014804,
          "season": "1941-42"
         },
         {
          "composer": "Weber,  Carl  Maria Von",
          "count": 8,
          "log(rca)": -0.048592610879683654,
          "pct": 0.015841584158415842,
          "rca": 0.9525691169568424,
          "season": "1941-42"
         },
         {
          "composer": "Beethoven,  Ludwig  van",
          "count": 33,
          "log(rca)": -0.09888315347053613,
          "pct": 0.0582010582010582,
          "rca": 0.9058485470989122,
          "season": "1942-43"
         },
         {
          "composer": "Haydn,  Franz  Joseph",
          "count": 11,
          "log(rca)": 0.3233742184170623,
          "pct": 0.019400352733686066,
          "rca": 1.3817823425666562,
          "season": "1942-43"
         },
         {
          "composer": "Mendelssohn,  Felix",
          "count": 14,
          "log(rca)": 0.13877933722008773,
          "pct": 0.024691358024691357,
          "rca": 1.1488705590597876,
          "season": "1942-43"
         },
         {
          "composer": "Mozart,  Wolfgang  Amadeus",
          "count": 15,
          "log(rca)": -0.40445852013077305,
          "pct": 0.026455026455026454,
          "rca": 0.6673380631713964,
          "season": "1942-43"
         },
         {
          "composer": "Rossini,  Gioachino",
          "count": 5,
          "log(rca)": -0.015196654861071766,
          "pct": 0.008818342151675485,
          "rca": 0.9849182315988745,
          "season": "1942-43"
         },
         {
          "composer": "Weber,  Carl  Maria Von",
          "count": 10,
          "log(rca)": 0.05875006598213374,
          "pct": 0.01763668430335097,
          "rca": 1.0605101500511582,
          "season": "1942-43"
         },
         {
          "composer": "Beethoven,  Ludwig  van",
          "count": 43,
          "log(rca)": 0.11760729893866848,
          "pct": 0.07226890756302522,
          "rca": 1.1248023135634622,
          "season": "1943-44"
         },
         {
          "composer": "Haydn,  Franz  Joseph",
          "count": 5,
          "log(rca)": -0.5132852437650856,
          "pct": 0.008403361344537815,
          "rca": 0.5985260414326158,
          "season": "1943-44"
         },
         {
          "composer": "Mendelssohn,  Felix",
          "count": 9,
          "log(rca)": -0.3512555168768291,
          "pct": 0.015126050420168067,
          "rca": 0.7038038971046935,
          "season": "1943-44"
         },
         {
          "composer": "Mozart,  Wolfgang  Amadeus",
          "count": 21,
          "log(rca)": -0.11618838532743773,
          "pct": 0.03529411764705882,
          "rca": 0.890307486631016,
          "season": "1943-44"
         },
         {
          "composer": "Rossini,  Gioachino",
          "count": 4,
          "log(rca)": -0.286542307993159,
          "pct": 0.0067226890756302525,
          "rca": 0.7508553106777304,
          "season": "1943-44"
         },
         {
          "composer": "Weber,  Carl  Maria Von",
          "count": 11,
          "log(rca)": 0.10585814396858101,
          "pct": 0.018487394957983194,
          "rca": 1.111664169053626,
          "season": "1943-44"
         },
         {
          "composer": "Beethoven,  Ludwig  van",
          "count": 44,
          "log(rca)": 0.09943874466985966,
          "pct": 0.07096774193548387,
          "rca": 1.1045508090431897,
          "season": "1944-45"
         },
         {
          "composer": "Haydn,  Franz  Joseph",
          "count": 10,
          "log(rca)": 0.13870386430135248,
          "pct": 0.016129032258064516,
          "rca": 1.1487838537174402,
          "season": "1944-45"
         },
         {
          "composer": "Mendelssohn,  Felix",
          "count": 15,
          "log(rca)": 0.11841203439565397,
          "pct": 0.024193548387096774,
          "rca": 1.1257078461755177,
          "season": "1944-45"
         },
         {
          "composer": "Mozart,  Wolfgang  Amadeus",
          "count": 26,
          "log(rca)": 0.056227642477113905,
          "pct": 0.041935483870967745,
          "rca": 1.0578384652981427,
          "season": "1944-45"
         },
         {
          "composer": "Rossini,  Gioachino",
          "count": 10,
          "log(rca)": 0.5885903513874885,
          "pct": 0.016129032258064516,
          "rca": 1.8014472171501996,
          "season": "1944-45"
         },
         {
          "composer": "Weber,  Carl  Maria Von",
          "count": 9,
          "log(rca)": -0.13597062398707757,
          "pct": 0.014516129032258065,
          "rca": 0.8728682735017841,
          "season": "1944-45"
         },
         {
          "composer": "Beethoven,  Ludwig  van",
          "count": 30,
          "log(rca)": -0.6439312650610134,
          "pct": 0.03374578177727784,
          "rca": 0.5252235670365919,
          "season": "1945-46"
         },
         {
          "composer": "Haydn,  Franz  Joseph",
          "count": 7,
          "log(rca)": -0.5783488371121474,
          "pct": 0.007874015748031496,
          "rca": 0.5608236136258369,
          "season": "1945-46"
         },
         {
          "composer": "Mendelssohn,  Felix",
          "count": 13,
          "log(rca)": -0.38506656671978656,
          "pct": 0.014623172103487065,
          "rca": 0.6804053423453074,
          "season": "1945-46"
         },
         {
          "composer": "Mozart,  Wolfgang  Amadeus",
          "count": 24,
          "log(rca)": -0.38419282267118987,
          "pct": 0.02699662542182227,
          "rca": 0.6810001022599448,
          "season": "1945-46"
         },
         {
          "composer": "Rossini,  Gioachino",
          "count": 14,
          "log(rca)": 0.564684830533934,
          "pct": 0.015748031496062992,
          "rca": 1.758893345878935,
          "season": "1945-46"
         },
         {
          "composer": "Weber,  Carl  Maria Von",
          "count": 15,
          "log(rca)": 0.01447724230414583,
          "pct": 0.01687289088863892,
          "rca": 1.014582545127683,
          "season": "1945-46"
         },
         {
          "composer": "Beethoven,  Ludwig  van",
          "count": 49,
          "log(rca)": 0.10009728931005739,
          "pct": 0.07101449275362319,
          "rca": 1.1052784446222697,
          "season": "1946-47"
         },
         {
          "composer": "Haydn,  Franz  Joseph",
          "count": 6,
          "log(rca)": -0.47909387901680617,
          "pct": 0.008695652173913044,
          "rca": 0.6193443385259242,
          "season": "1946-47"
         },
         {
          "composer": "Mendelssohn,  Felix",
          "count": 8,
          "log(rca)": -0.6171687445788878,
          "pct": 0.011594202898550725,
          "rca": 0.5394696538193786,
          "season": "1946-47"
         },
         {
          "composer": "Mozart,  Wolfgang  Amadeus",
          "count": 23,
          "log(rca)": -0.17334679916738638,
          "pct": 0.03333333333333333,
          "rca": 0.8408459595959595,
          "season": "1946-47"
         },
         {
          "composer": "Rossini,  Gioachino",
          "count": 6,
          "log(rca)": -0.02920739193067004,
          "pct": 0.008695652173913044,
          "rca": 0.9712150214201076,
          "season": "1946-47"
         },
         {
          "composer": "Weber,  Carl  Maria Von",
          "count": 15,
          "log(rca)": 0.26788288022674517,
          "pct": 0.021739130434782608,
          "rca": 1.3071940327804494,
          "season": "1946-47"
         },
         {
          "composer": "Beethoven,  Ludwig  van",
          "count": 34,
          "log(rca)": 0.15103169445594666,
          "pct": 0.07472527472527472,
          "rca": 1.1630335192123096,
          "season": "1947-48"
         },
         {
          "composer": "Haydn,  Franz  Joseph",
          "count": 4,
          "log(rca)": -0.46816480848461584,
          "pct": 0.008791208791208791,
          "rca": 0.6261503202679674,
          "season": "1947-48"
         },
         {
          "composer": "Mendelssohn,  Felix",
          "count": 16,
          "log(rca)": 0.4923726146214121,
          "pct": 0.035164835164835165,
          "rca": 1.636193675320313,
          "season": "1947-48"
         },
         {
          "composer": "Mozart,  Wolfgang  Amadeus",
          "count": 18,
          "log(rca)": -0.0020750785600167397,
          "pct": 0.03956043956043956,
          "rca": 0.9979270729270728,
          "season": "1947-48"
         },
         {
          "composer": "Rossini,  Gioachino",
          "count": 4,
          "log(rca)": -0.018278321398479756,
          "pct": 0.008791208791208791,
          "rca": 0.9818877139631857,
          "season": "1947-48"
         },
         {
          "composer": "Weber,  Carl  Maria Von",
          "count": 9,
          "log(rca)": 0.17345143510110908,
          "pct": 0.01978021978021978,
          "rca": 1.189402922134299,
          "season": "1947-48"
         },
         {
          "composer": "Beethoven,  Ludwig  van",
          "count": 29,
          "log(rca)": -0.28466523643893654,
          "pct": 0.04833333333333333,
          "rca": 0.7522660434316876,
          "season": "1948-49"
         },
         {
          "composer": "Bellini,  Vincenzo",
          "count": 1,
          "log(rca)": 0.7974321179908387,
          "pct": 0.0016666666666666668,
          "rca": 2.2198333333333338,
          "season": "1948-49"
         },
         {
          "composer": "Haydn,  Franz  Joseph",
          "count": 5,
          "log(rca)": -0.5216534934356021,
          "pct": 0.008333333333333333,
          "rca": 0.5935383244206773,
          "season": "1948-49"
         },
         {
          "composer": "Mendelssohn,  Felix",
          "count": 19,
          "log(rca)": 0.38759063528287535,
          "pct": 0.03166666666666667,
          "rca": 1.4734264919941777,
          "season": "1948-49"
         },
         {
          "composer": "Mozart,  Wolfgang  Amadeus",
          "count": 22,
          "log(rca)": -0.0780366193630614,
          "pct": 0.03666666666666667,
          "rca": 0.9249305555555556,
          "season": "1948-49"
         },
         {
          "composer": "Rossini,  Gioachino",
          "count": 3,
          "log(rca)": -0.5825926301154566,
          "pct": 0.005,
          "rca": 0.5584486373165619,
          "season": "1948-49"
         },
         {
          "composer": "Weber,  Carl  Maria Von",
          "count": 3,
          "log(rca)": -1.2017930898321965,
          "pct": 0.005,
          "rca": 0.3006546275395034,
          "season": "1948-49"
         },
         {
          "composer": "Beethoven,  Ludwig  van",
          "count": 32,
          "log(rca)": -0.039270750669020714,
          "pct": 0.06177606177606178,
          "rca": 0.9614903497462656,
          "season": "1949-50"
         },
         {
          "composer": "Haydn,  Franz  Joseph",
          "count": 8,
          "log(rca)": 0.09530454876679688,
          "pct": 0.015444015444015444,
          "rca": 1.099993805876159,
          "season": "1949-50"
         },
         {
          "composer": "Mendelssohn,  Felix",
          "count": 12,
          "log(rca)": 0.0750127188610984,
          "pct": 0.023166023166023165,
          "rca": 1.0778978604306115,
          "season": "1949-50"
         },
         {
          "composer": "Mozart,  Wolfgang  Amadeus",
          "count": 24,
          "log(rca)": 0.1559291705832316,
          "pct": 0.04633204633204633,
          "rca": 1.1687434187434187,
          "season": "1949-50"
         },
         {
          "composer": "Rossini,  Gioachino",
          "count": 5,
          "log(rca)": 0.07518740660719728,
          "pct": 0.009652509652509652,
          "rca": 1.078086172425795,
          "season": "1949-50"
         },
         {
          "composer": "Weber,  Carl  Maria Von",
          "count": 8,
          "log(rca)": -0.07400942386380684,
          "pct": 0.015444015444015444,
          "rca": 0.9286629422069603,
          "season": "1949-50"
         },
         {
          "composer": "Beethoven,  Ludwig  van",
          "count": 39,
          "log(rca)": 0.24521543088574096,
          "pct": 0.08210526315789474,
          "rca": 1.2778965819456616,
          "season": "1950-51"
         },
         {
          "composer": "Bellini,  Vincenzo",
          "count": 1,
          "log(rca)": 1.0310469691723438,
          "pct": 0.002105263157894737,
          "rca": 2.8040000000000003,
          "season": "1950-51"
         },
         {
          "composer": "Haydn,  Franz  Joseph",
          "count": 11,
          "log(rca)": 0.5004187181101734,
          "pct": 0.023157894736842106,
          "rca": 1.6494117647058826,
          "season": "1950-51"
         },
         {
          "composer": "Mendelssohn,  Felix",
          "count": 15,
          "log(rca)": 0.3848167084001502,
          "pct": 0.031578947368421054,
          "rca": 1.4693449781659391,
          "season": "1950-51"
         },
         {
          "composer": "Mozart,  Wolfgang  Amadeus",
          "count": 22,
          "log(rca)": 0.15557823181844382,
          "pct": 0.04631578947368421,
          "rca": 1.1683333333333334,
          "season": "1950-51"
         },
         {
          "composer": "Rossini,  Gioachino",
          "count": 6,
          "log(rca)": 0.34416940162599374,
          "pct": 0.01263157894736842,
          "rca": 1.410817610062893,
          "season": "1950-51"
         },
         {
          "composer": "Weber,  Carl  Maria Von",
          "count": 15,
          "log(rca)": 0.6412596737834091,
          "pct": 0.031578947368421054,
          "rca": 1.8988713318284425,
          "season": "1950-51"
         },
         {
          "composer": "Beethoven,  Ludwig  van",
          "count": 20,
          "log(rca)": -0.38834934771581836,
          "pct": 0.04357298474945534,
          "rca": 0.6781753828548006,
          "season": "1951-52"
         },
         {
          "composer": "Bellini,  Vincenzo",
          "count": 1,
          "log(rca)": 1.06531156314644,
          "pct": 0.002178649237472767,
          "rca": 2.901742919389979,
          "season": "1951-52"
         },
         {
          "composer": "Haydn,  Franz  Joseph",
          "count": 9,
          "log(rca)": 0.33401261662211823,
          "pct": 0.0196078431372549,
          "rca": 1.3965607633427704,
          "season": "1951-52"
         },
         {
          "composer": "Mendelssohn,  Felix",
          "count": 12,
          "log(rca)": 0.19593775106003639,
          "pct": 0.026143790849673203,
          "rca": 1.2164511801809517,
          "season": "1951-52"
         },
         {
          "composer": "Mozart,  Wolfgang  Amadeus",
          "count": 18,
          "log(rca)": -0.010827869669611398,
          "pct": 0.0392156862745098,
          "rca": 0.9892305407011289,
          "season": "1951-52"
         },
         {
          "composer": "Rossini,  Gioachino",
          "count": 9,
          "log(rca)": 0.7838991037082543,
          "pct": 0.0196078431372549,
          "rca": 2.18999465614338,
          "season": "1951-52"
         },
         {
          "composer": "Weber,  Carl  Maria Von",
          "count": 8,
          "log(rca)": 0.046915608335131115,
          "pct": 0.017429193899782137,
          "rca": 1.0480335600505566,
          "season": "1951-52"
         },
         {
          "composer": "Beethoven,  Ludwig  van",
          "count": 38,
          "log(rca)": 0.17799698594843125,
          "pct": 0.07676767676767676,
          "rca": 1.1948217199750941,
          "season": "1952-53"
         },
         {
          "composer": "Haydn,  Franz  Joseph",
          "count": 9,
          "log(rca)": 0.25850506411397295,
          "pct": 0.01818181818181818,
          "rca": 1.2949927078269323,
          "season": "1952-53"
         },
         {
          "composer": "Mendelssohn,  Felix",
          "count": 11,
          "log(rca)": 0.03341882156226149,
          "pct": 0.022222222222222223,
          "rca": 1.033983503153809,
          "season": "1952-53"
         },
         {
          "composer": "Mozart,  Wolfgang  Amadeus",
          "count": 31,
          "log(rca)": 0.45728002441122506,
          "pct": 0.06262626262626263,
          "rca": 1.5797711968166515,
          "season": "1952-53"
         },
         {
          "composer": "Rossini,  Gioachino",
          "count": 9,
          "log(rca)": 0.7083915512001091,
          "pct": 0.01818181818181818,
          "rca": 2.0307223175147704,
          "season": "1952-53"
         },
         {
          "composer": "Weber,  Carl  Maria Von",
          "count": 3,
          "log(rca)": -1.0094211971847404,
          "pct": 0.006060606060606061,
          "rca": 0.3644298515630344,
          "season": "1952-53"
         },
         {
          "composer": "Beethoven,  Ludwig  van",
          "count": 32,
          "log(rca)": -0.04119939157542626,
          "pct": 0.06165703275529865,
          "rca": 0.9596377671841341,
          "season": "1953-54"
         },
         {
          "composer": "Bellini,  Vincenzo",
          "count": 1,
          "log(rca)": 0.9424578900410961,
          "pct": 0.0019267822736030828,
          "rca": 2.566281310211946,
          "season": "1953-54"
         },
         {
          "composer": "Haydn,  Franz  Joseph",
          "count": 7,
          "log(rca)": -0.04015548476413135,
          "pct": 0.01348747591522158,
          "rca": 0.9606400626461831,
          "season": "1953-54"
         },
         {
          "composer": "Mendelssohn,  Felix",
          "count": 23,
          "log(rca)": 0.7236716440958424,
          "pct": 0.04431599229287091,
          "rca": 2.0619902230523937,
          "season": "1953-54"
         },
         {
          "composer": "Mozart,  Wolfgang  Amadeus",
          "count": 20,
          "log(rca)": -0.02832102711712863,
          "pct": 0.038535645472061654,
          "rca": 0.9720762538681613,
          "season": "1953-54"
         },
         {
          "composer": "Rossini,  Gioachino",
          "count": 9,
          "log(rca)": 0.6610454306029108,
          "pct": 0.017341040462427744,
          "rca": 1.9368160831788273,
          "season": "1953-54"
         },
         {
          "composer": "Weber,  Carl  Maria Von",
          "count": 5,
          "log(rca)": -0.545941694015948,
          "pct": 0.009633911368015413,
          "rca": 0.5792960068198524,
          "season": "1953-54"
         },
         {
          "composer": "Beethoven,  Ludwig  van",
          "count": 34,
          "log(rca)": -0.179141308737279,
          "pct": 0.053712480252764615,
          "rca": 0.8359877586755149,
          "season": "1954-55"
         },
         {
          "composer": "Bellini,  Vincenzo",
          "count": 1,
          "log(rca)": 0.7438913510628086,
          "pct": 0.001579778830963665,
          "rca": 2.1041074249605054,
          "season": "1954-55"
         },
         {
          "composer": "Haydn,  Franz  Joseph",
          "count": 7,
          "log(rca)": -0.23872202374241883,
          "pct": 0.011058451816745656,
          "rca": 0.7876337954397615,
          "season": "1954-55"
         },
         {
          "composer": "Mendelssohn,  Felix",
          "count": 19,
          "log(rca)": 0.3340498683548455,
          "pct": 0.030015797788309637,
          "rca": 1.3966127886200737,
          "season": "1954-55"
         },
         {
          "composer": "Mozart,  Wolfgang  Amadeus",
          "count": 21,
          "log(rca)": -0.1780974019259841,
          "pct": 0.03317535545023697,
          "rca": 0.8368609076547465,
          "season": "1954-55"
         },
         {
          "composer": "Rossini,  Gioachino",
          "count": 16,
          "log(rca)": 1.037843036528185,
          "pct": 0.02527646129541864,
          "rca": 2.823121073322272,
          "season": "1954-55"
         },
         {
          "composer": "Weber,  Carl  Maria Von",
          "count": 20,
          "log(rca)": 0.6417861281256549,
          "pct": 0.0315955766192733,
          "rca": 1.8998712640726911,
          "season": "1954-55"
         },
         {
          "composer": "Beethoven,  Ludwig  van",
          "count": 37,
          "log(rca)": 0.010250140606364281,
          "pct": 0.06491228070175438,
          "rca": 1.0103028532476384,
          "season": "1955-56"
         },
         {
          "composer": "Bellini,  Vincenzo",
          "count": 2,
          "log(rca)": 1.5418725929383343,
          "pct": 0.0035087719298245615,
          "rca": 4.673333333333334,
          "season": "1955-56"
         },
         {
          "composer": "Haydn,  Franz  Joseph",
          "count": 5,
          "log(rca)": -0.47036019904805154,
          "pct": 0.008771929824561403,
          "rca": 0.624777183600713,
          "season": "1955-56"
         },
         {
          "composer": "Mendelssohn,  Felix",
          "count": 13,
          "log(rca)": 0.059394307965522114,
          "pct": 0.02280701754385965,
          "rca": 1.061193595342067,
          "season": "1955-56"
         },
         {
          "composer": "Mozart,  Wolfgang  Amadeus",
          "count": 26,
          "log(rca)": 0.1403107596876554,
          "pct": 0.0456140350877193,
          "rca": 1.1506313131313133,
          "season": "1955-56"
         },
         {
          "composer": "Rossini,  Gioachino",
          "count": 12,
          "log(rca)": 0.8549950253919845,
          "pct": 0.021052631578947368,
          "rca": 2.3513626834381554,
          "season": "1955-56"
         },
         {
          "composer": "Weber,  Carl  Maria Von",
          "count": 14,
          "log(rca)": 0.38994524550250304,
          "pct": 0.02456140350877193,
          "rca": 1.4768999247554553,
          "season": "1955-56"
         },
         {
          "composer": "Beethoven,  Ludwig  van",
          "count": 30,
          "log(rca)": -0.08824475526548033,
          "pct": 0.058823529411764705,
          "rca": 0.9155367668539808,
          "season": "1956-57"
         },
         {
          "composer": "Bellini,  Vincenzo",
          "count": 2,
          "log(rca)": 1.6530982280485589,
          "pct": 0.00392156862745098,
          "rca": 5.223137254901961,
          "season": "1956-57"
         },
         {
          "composer": "Haydn,  Franz  Joseph",
          "count": 8,
          "log(rca)": 0.11086906530790851,
          "pct": 0.01568627450980392,
          "rca": 1.1172486106742163,
          "season": "1956-57"
         },
         {
          "composer": "Mendelssohn,  Felix",
          "count": 5,
          "log(rca)": -0.7848915019516899,
          "pct": 0.00980392156862745,
          "rca": 0.4561691925678569,
          "season": "1956-57"
         },
         {
          "composer": "Mozart,  Wolfgang  Amadeus",
          "count": 22,
          "log(rca)": 0.0844823101347134,
          "pct": 0.043137254901960784,
          "rca": 1.0881535947712417,
          "season": "1956-57"
         },
         {
          "composer": "Rossini,  Gioachino",
          "count": 7,
          "log(rca)": 0.4272241597695218,
          "pct": 0.013725490196078431,
          "rca": 1.5329962593003659,
          "season": "1956-57"
         },
         {
          "composer": "Weber,  Carl  Maria Von",
          "count": 6,
          "log(rca)": -0.34612697977447615,
          "pct": 0.011764705882352941,
          "rca": 0.7074226530341257,
          "season": "1956-57"
         },
         {
          "composer": "Beethoven,  Ludwig  van",
          "count": 25,
          "log(rca)": -0.45940254987458323,
          "pct": 0.040584415584415584,
          "rca": 0.6316609186898406,
          "season": "1957-58"
         },
         {
          "composer": "Haydn,  Franz  Joseph",
          "count": 23,
          "log(rca)": 0.9780855017420739,
          "pct": 0.037337662337662336,
          "rca": 2.659360025001736,
          "season": "1957-58"
         },
         {
          "composer": "Mendelssohn,  Felix",
          "count": 23,
          "log(rca)": 0.552328563728211,
          "pct": 0.037337662337662336,
          "rca": 1.7372937106561561,
          "season": "1957-58"
         },
         {
          "composer": "Mozart,  Wolfgang  Amadeus",
          "count": 21,
          "log(rca)": -0.15087394331532783,
          "pct": 0.03409090909090909,
          "rca": 0.8599560950413222,
          "season": "1957-58"
         },
         {
          "composer": "Rossini,  Gioachino",
          "count": 3,
          "log(rca)": -0.6089099384328301,
          "pct": 0.00487012987012987,
          "rca": 0.543943477905742,
          "season": "1957-58"
         },
         {
          "composer": "Weber,  Carl  Maria Von",
          "count": 8,
          "log(rca)": -0.2472811451378435,
          "pct": 0.012987012987012988,
          "rca": 0.7809211104922167,
          "season": "1957-58"
         },
         {
          "composer": "Beethoven,  Ludwig  van",
          "count": 38,
          "log(rca)": 0.2822357964970575,
          "pct": 0.08520179372197309,
          "rca": 1.3260913708243758,
          "season": "1958-59"
         },
         {
          "composer": "Haydn,  Franz  Joseph",
          "count": 6,
          "log(rca)": -0.04272123344556501,
          "pct": 0.013452914798206279,
          "rca": 0.9581784609481788,
          "season": "1958-59"
         },
         {
          "composer": "Mendelssohn,  Felix",
          "count": 5,
          "log(rca)": -0.6507997282533825,
          "pct": 0.011210762331838564,
          "rca": 0.5216284489004641,
          "season": "1958-59"
         },
         {
          "composer": "Mozart,  Wolfgang  Amadeus",
          "count": 18,
          "log(rca)": 0.017903388370869536,
          "pct": 0.04035874439461883,
          "rca": 1.0180646147574397,
          "season": "1958-59"
         },
         {
          "composer": "Rossini,  Gioachino",
          "count": 1,
          "log(rca)": -1.384594215587484,
          "pct": 0.002242152466367713,
          "rca": 0.25042539789980356,
          "season": "1958-59"
         },
         {
          "composer": "Weber,  Carl  Maria Von",
          "count": 3,
          "log(rca)": -0.9051823866361142,
          "pct": 0.006726457399103139,
          "rca": 0.4044681087975382,
          "season": "1958-59"
         },
         {
          "composer": "Beethoven,  Ludwig  van",
          "count": 41,
          "log(rca)": 0.11115144583903325,
          "pct": 0.07180385288966724,
          "rca": 1.1175641444785018,
          "season": "1959-60"
         },
         {
          "composer": "Bellini,  Vincenzo",
          "count": 1,
          "log(rca)": 0.8469725635509746,
          "pct": 0.0017513134851138354,
          "rca": 2.3325744308231173,
          "season": "1959-60"
         },
         {
          "composer": "Haydn,  Franz  Joseph",
          "count": 4,
          "log(rca)": -0.6952565991896756,
          "pct": 0.0070052539404553416,
          "rca": 0.49894640231510534,
          "season": "1959-60"
         },
         {
          "composer": "Mendelssohn,  Felix",
          "count": 4,
          "log(rca)": -1.1210135372035384,
          "pct": 0.0070052539404553416,
          "rca": 0.3259492654425317,
          "season": "1959-60"
         },
         {
          "composer": "Mozart,  Wolfgang  Amadeus",
          "count": 26,
          "log(rca)": 0.13855791086024094,
          "pct": 0.04553415061295972,
          "rca": 1.148616196996232,
          "season": "1959-60"
         },
         {
          "composer": "Rossini,  Gioachino",
          "count": 18,
          "log(rca)": 1.2587072846727345,
          "pct": 0.03152364273204904,
          "rca": 3.520867065393385,
          "season": "1959-60"
         },
         {
          "composer": "Beethoven,  Ludwig  van",
          "count": 34,
          "log(rca)": -0.020240026151422976,
          "pct": 0.06296296296296296,
          "rca": 0.9799634282251868,
          "season": "1960-61"
         },
         {
          "composer": "Haydn,  Franz  Joseph",
          "count": 2,
          "log(rca)": -1.3325837096519306,
          "pct": 0.003703703703703704,
          "rca": 0.26379481085363443,
          "season": "1960-61"
         },
         {
          "composer": "Mendelssohn,  Felix",
          "count": 3,
          "log(rca)": -1.352875539557629,
          "pct": 0.005555555555555556,
          "rca": 0.25849587578845223,
          "season": "1960-61"
         },
         {
          "composer": "Mozart,  Wolfgang  Amadeus",
          "count": 20,
          "log(rca)": -0.06798628350956006,
          "pct": 0.037037037037037035,
          "rca": 0.934273288439955,
          "season": "1960-61"
         },
         {
          "composer": "Rossini,  Gioachino",
          "count": 10,
          "log(rca)": 0.7267406898683055,
          "pct": 0.018518518518518517,
          "rca": 2.0683282863576364,
          "season": "1960-61"
         },
         {
          "composer": "Weber,  Carl  Maria Von",
          "count": 2,
          "log(rca)": -1.5018976822825345,
          "pct": 0.003703703703703704,
          "rca": 0.22270713151074326,
          "season": "1960-61"
         },
         {
          "composer": "Beethoven,  Ludwig  van",
          "count": 16,
          "log(rca)": -0.054596721147247576,
          "pct": 0.060836501901140684,
          "rca": 0.9468669223736987,
          "season": "1961-62"
         },
         {
          "composer": "Bellini,  Vincenzo",
          "count": 1,
          "log(rca)": 1.6222077410292204,
          "pct": 0.0038022813688212928,
          "rca": 5.06425855513308,
          "season": "1961-62"
         },
         {
          "composer": "Haydn,  Franz  Joseph",
          "count": 5,
          "log(rca)": 0.30312212960277973,
          "pct": 0.019011406844106463,
          "rca": 1.3540798275756898,
          "season": "1961-62"
         },
         {
          "composer": "Mendelssohn,  Felix",
          "count": 4,
          "log(rca)": -0.3457783597252927,
          "pct": 0.015209125475285171,
          "rca": 0.707669317747854,
          "season": "1961-62"
         },
         {
          "composer": "Mozart,  Wolfgang  Amadeus",
          "count": 13,
          "log(rca)": 0.22064590777854126,
          "pct": 0.049429657794676805,
          "rca": 1.2468818412259477,
          "season": "1961-62"
         },
         {
          "composer": "Rossini,  Gioachino",
          "count": 3,
          "log(rca)": 0.24218299292292528,
          "pct": 0.011406844106463879,
          "rca": 1.2740273094674417,
          "season": "1961-62"
         },
         {
          "composer": "Beethoven,  Ludwig  van",
          "count": 20,
          "log(rca)": -0.1370349194349122,
          "pct": 0.056022408963585436,
          "rca": 0.8719397779561723,
          "season": "1962-63"
         },
         {
          "composer": "Haydn,  Franz  Joseph",
          "count": 6,
          "log(rca)": 0.1798619367948598,
          "pct": 0.01680672268907563,
          "rca": 1.1970520828652316,
          "season": "1962-63"
         },
         {
          "composer": "Mendelssohn,  Felix",
          "count": 7,
          "log(rca)": -0.09174432139174454,
          "pct": 0.0196078431372549,
          "rca": 0.9123383851357137,
          "season": "1962-63"
         },
         {
          "composer": "Mozart,  Wolfgang  Amadeus",
          "count": 13,
          "log(rca)": -0.08493584182333326,
          "pct": 0.036414565826330535,
          "rca": 0.918571216365334,
          "season": "1962-63"
         },
         {
          "composer": "Rossini,  Gioachino",
          "count": 5,
          "log(rca)": 0.4474268670870414,
          "pct": 0.014005602240896359,
          "rca": 1.5642818972452714,
          "season": "1962-63"
         },
         {
          "composer": "Weber,  Carl  Maria Von",
          "count": 5,
          "log(rca)": -0.17177359262969844,
          "pct": 0.014005602240896359,
          "rca": 0.8421698250406258,
          "season": "1962-63"
         },
         {
          "composer": "Beethoven,  Ludwig  van",
          "count": 23,
          "log(rca)": 0.07834442934282257,
          "pct": 0.06948640483383686,
          "rca": 1.081495093171923,
          "season": "1963-64"
         },
         {
          "composer": "Haydn,  Franz  Joseph",
          "count": 3,
          "log(rca)": -0.43766783736250914,
          "pct": 0.00906344410876133,
          "rca": 0.6455401715753591,
          "season": "1963-64"
         },
         {
          "composer": "Mendelssohn,  Felix",
          "count": 15,
          "log(rca)": 0.7460131370577283,
          "pct": 0.045317220543806644,
          "rca": 2.1085766302985527,
          "season": "1963-64"
         },
         {
          "composer": "Mozart,  Wolfgang  Amadeus",
          "count": 10,
          "log(rca)": -0.2716826998882481,
          "pct": 0.030211480362537766,
          "rca": 0.7620960358875767,
          "season": "1963-64"
         },
         {
          "composer": "Rossini,  Gioachino",
          "count": 5,
          "log(rca)": 0.5230442734896176,
          "pct": 0.015105740181268883,
          "rca": 1.6871560039775284,
          "season": "1963-64"
         },
         {
          "composer": "Weber,  Carl  Maria Von",
          "count": 1,
          "log(rca)": -1.7055940986612226,
          "pct": 0.0030211480362537764,
          "rca": 0.18166442751631626,
          "season": "1963-64"
         },
         {
          "composer": "Beethoven,  Ludwig  van",
          "count": 17,
          "log(rca)": -0.0916989901335679,
          "pct": 0.05862068965517241,
          "rca": 0.9123797435200015,
          "season": "1964-65"
         },
         {
          "composer": "Haydn,  Franz  Joseph",
          "count": 4,
          "log(rca)": -0.01774831251418511,
          "pct": 0.013793103448275862,
          "rca": 0.9824082611100867,
          "season": "1964-65"
         },
         {
          "composer": "Mendelssohn,  Felix",
          "count": 3,
          "log(rca)": -0.7311873229798288,
          "pct": 0.010344827586206896,
          "rca": 0.48133714801987654,
          "season": "1964-65"
         },
         {
          "composer": "Mozart,  Wolfgang  Amadeus",
          "count": 13,
          "log(rca)": 0.1229190169757861,
          "pct": 0.04482758620689655,
          "rca": 1.130792842215256,
          "season": "1964-65"
         },
         {
          "composer": "Rossini,  Gioachino",
          "count": 3,
          "log(rca)": 0.14445610212017004,
          "pct": 0.010344827586206896,
          "rca": 1.155410973758404,
          "season": "1964-65"
         },
         {
          "composer": "Weber,  Carl  Maria Von",
          "count": 1,
          "log(rca)": -1.5733566462646795,
          "pct": 0.0034482758620689655,
          "rca": 0.20734801899276095,
          "season": "1964-65"
         },
         {
          "composer": "Beethoven,  Ludwig  van",
          "count": 12,
          "log(rca)": -0.46048421574532417,
          "pct": 0.04054054054054054,
          "rca": 0.6309780420209868,
          "season": "1965-66"
         },
         {
          "composer": "Haydn,  Franz  Joseph",
          "count": 6,
          "log(rca)": 0.3672382642504387,
          "pct": 0.02027027027027027,
          "rca": 1.4437418702124587,
          "season": "1965-66"
         },
         {
          "composer": "Mendelssohn,  Felix",
          "count": 6,
          "log(rca)": -0.05851867376342407,
          "pct": 0.02027027027027027,
          "rca": 0.9431606278767852,
          "season": "1965-66"
         },
         {
          "composer": "Mozart,  Wolfgang  Amadeus",
          "count": 11,
          "log(rca)": -0.06461359903092072,
          "pct": 0.037162162162162164,
          "rca": 0.9374296171171171,
          "season": "1965-66"
         },
         {
          "composer": "Rossini,  Gioachino",
          "count": 4,
          "log(rca)": 0.41165964322841037,
          "pct": 0.013513513513513514,
          "rca": 1.5093206413961133,
          "season": "1965-66"
         },
         {
          "composer": "Weber,  Carl  Maria Von",
          "count": 4,
          "log(rca)": -0.2075408164883295,
          "pct": 0.013513513513513514,
          "rca": 0.8125800744310903,
          "season": "1965-66"
         },
         {
          "composer": "Beethoven,  Ludwig  van",
          "count": 26,
          "log(rca)": 0.30933298800951836,
          "pct": 0.08754208754208755,
          "rca": 1.3625159964628268,
          "season": "1966-67"
         },
         {
          "composer": "Bellini,  Vincenzo",
          "count": 3,
          "log(rca)": 2.599241923072395,
          "pct": 0.010101010101010102,
          "rca": 13.453535353535356,
          "season": "1966-67"
         },
         {
          "composer": "Haydn,  Franz  Joseph",
          "count": 4,
          "log(rca)": -0.041599528336365044,
          "pct": 0.013468013468013467,
          "rca": 0.9592538576495796,
          "season": "1966-67"
         },
         {
          "composer": "Mendelssohn,  Felix",
          "count": 6,
          "log(rca)": -0.06189135824206333,
          "pct": 0.020202020202020204,
          "rca": 0.9399850028670991,
          "season": "1966-67"
         },
         {
          "composer": "Mozart,  Wolfgang  Amadeus",
          "count": 11,
          "log(rca)": -0.06798628350956006,
          "pct": 0.037037037037037035,
          "rca": 0.934273288439955,
          "season": "1966-67"
         },
         {
          "composer": "Rossini,  Gioachino",
          "count": 1,
          "log(rca)": -0.9780074023701197,
          "pct": 0.003367003367003367,
          "rca": 0.37605968842866117,
          "season": "1966-67"
         },
         {
          "composer": "Weber,  Carl  Maria Von",
          "count": 4,
          "log(rca)": -0.21091350096696881,
          "pct": 0.013468013468013467,
          "rca": 0.8098441145845209,
          "season": "1966-67"
         },
         {
          "composer": "Beethoven,  Ludwig  van",
          "count": 27,
          "log(rca)": 0.09016290220733801,
          "pct": 0.0703125,
          "rca": 1.094352541630149,
          "season": "1967-68"
         },
         {
          "composer": "Haydn,  Franz  Joseph",
          "count": 14,
          "log(rca)": 0.9542530263739758,
          "pct": 0.036458333333333336,
          "rca": 2.596730169340464,
          "season": "1967-68"
         },
         {
          "composer": "Hummel,  Johann",
          "count": 1,
          "log(rca)": 1.7545448443852485,
          "pct": 0.0026041666666666665,
          "rca": 5.780815972222221,
          "season": "1967-68"
         },
         {
          "composer": "Mendelssohn,  Felix",
          "count": 4,
          "log(rca)": -0.724266880135255,
          "pct": 0.010416666666666666,
          "rca": 0.4846797671033479,
          "season": "1967-68"
         },
         {
          "composer": "Mozart,  Wolfgang  Amadeus",
          "count": 19,
          "log(rca)": 0.22164700907348256,
          "pct": 0.049479166666666664,
          "rca": 1.2481307212752524,
          "season": "1967-68"
         },
         {
          "composer": "Rossini,  Gioachino",
          "count": 2,
          "log(rca)": -0.5417706355952016,
          "pct": 0.005208333333333333,
          "rca": 0.5817173305380853,
          "season": "1967-68"
         },
         {
          "composer": "Weber,  Carl  Maria Von",
          "count": 3,
          "log(rca)": -0.7555059872037769,
          "pct": 0.0078125,
          "rca": 0.46977285553047404,
          "season": "1967-68"
         },
         {
          "composer": "Beethoven,  Ludwig  van",
          "count": 13,
          "log(rca)": -0.36340532091922,
          "pct": 0.044673539518900345,
          "rca": 0.6953045548959785,
          "season": "1968-69"
         },
         {
          "composer": "Haydn,  Franz  Joseph",
          "count": 7,
          "log(rca)": 0.5384251312302648,
          "pct": 0.024054982817869417,
          "rca": 1.7133065034823678,
          "season": "1968-69"
         },
         {
          "composer": "Mendelssohn,  Felix",
          "count": 3,
          "log(rca)": -0.7346296671708016,
          "pct": 0.010309278350515464,
          "rca": 0.4796830684734165,
          "season": "1968-69"
         },
         {
          "composer": "Mozart,  Wolfgang  Amadeus",
          "count": 9,
          "log(rca)": -0.2482481073405041,
          "pct": 0.030927835051546393,
          "rca": 0.7801663542642924,
          "season": "1968-69"
         },
         {
          "composer": "Rossini,  Gioachino",
          "count": 9,
          "log(rca)": 1.239626046597307,
          "pct": 0.030927835051546393,
          "rca": 3.4543214679374965,
          "season": "1968-69"
         },
         {
          "composer": "Weber,  Carl  Maria Von",
          "count": 1,
          "log(rca)": -1.5767989904556523,
          "pct": 0.003436426116838488,
          "rca": 0.2066354828450195,
          "season": "1968-69"
         },
         {
          "composer": "Beethoven,  Ludwig  van",
          "count": 13,
          "log(rca)": -0.2995538489326872,
          "pct": 0.047619047619047616,
          "rca": 0.7411488112627463,
          "season": "1969-70"
         },
         {
          "composer": "Haydn,  Franz  Joseph",
          "count": 7,
          "log(rca)": 0.6022766032167975,
          "pct": 0.02564102564102564,
          "rca": 1.826271767448238,
          "season": "1969-70"
         },
         {
          "composer": "Mendelssohn,  Felix",
          "count": 10,
          "log(rca)": 0.5331946091416673,
          "pct": 0.03663003663003663,
          "rca": 1.7043684117919928,
          "season": "1969-70"
         },
         {
          "composer": "Mozart,  Wolfgang  Amadeus",
          "count": 19,
          "log(rca)": 0.5628177664762498,
          "pct": 0.0695970695970696,
          "rca": 1.7556124431124431,
          "season": "1969-70"
         },
         {
          "composer": "Rossini,  Gioachino",
          "count": 3,
          "log(rca)": 0.2048652299157301,
          "pct": 0.01098901098901099,
          "rca": 1.2273596424539823,
          "season": "1969-70"
         },
         {
          "composer": "Beethoven,  Ludwig  van",
          "count": 15,
          "log(rca)": 0.01493948096975057,
          "pct": 0.06521739130434782,
          "rca": 1.0150516328163701,
          "season": "1970-71"
         },
         {
          "composer": "Bellini,  Vincenzo",
          "count": 1,
          "log(rca)": 1.7562824642837895,
          "pct": 0.004347826086956522,
          "rca": 5.790869565217392,
          "season": "1970-71"
         },
         {
          "composer": "Haydn,  Franz  Joseph",
          "count": 6,
          "log(rca)": 0.6195184096513036,
          "pct": 0.02608695652173913,
          "rca": 1.8580330155777727,
          "season": "1970-71"
         },
         {
          "composer": "Mendelssohn,  Felix",
          "count": 11,
          "log(rca)": 0.7998972752077564,
          "pct": 0.04782608695652174,
          "rca": 2.2253123220049367,
          "season": "1970-71"
         },
         {
          "composer": "Mozart,  Wolfgang  Amadeus",
          "count": 9,
          "log(rca)": -0.013004149092206825,
          "pct": 0.0391304347826087,
          "rca": 0.9870800395256918,
          "season": "1970-71"
         },
         {
          "composer": "Rossini,  Gioachino",
          "count": 4,
          "log(rca)": 0.6639397886292753,
          "pct": 0.017391304347826087,
          "rca": 1.9424300428402153,
          "season": "1970-71"
         },
         {
          "composer": "Weber,  Carl  Maria Von",
          "count": 4,
          "log(rca)": 0.04473932891253554,
          "pct": 0.017391304347826087,
          "rca": 1.0457552262243597,
          "season": "1970-71"
         },
         {
          "composer": "Beethoven,  Ludwig  van",
          "count": 13,
          "log(rca)": -0.43308524155720995,
          "pct": 0.041666666666666664,
          "rca": 0.648505209854903,
          "season": "1971-72"
         },
         {
          "composer": "Haydn,  Franz  Joseph",
          "count": 6,
          "log(rca)": 0.31459453076501664,
          "pct": 0.019230769230769232,
          "rca": 1.3697038255861786,
          "season": "1971-72"
         },
         {
          "composer": "Mendelssohn,  Felix",
          "count": 6,
          "log(rca)": -0.11116240724884607,
          "pct": 0.019230769230769232,
          "rca": 0.8947934161907962,
          "season": "1971-72"
         },
         {
          "composer": "Mozart,  Wolfgang  Amadeus",
          "count": 24,
          "log(rca)": 0.6629012250332325,
          "pct": 0.07692307692307693,
          "rca": 1.940413752913753,
          "season": "1971-72"
         },
         {
          "composer": "Rossini,  Gioachino",
          "count": 3,
          "log(rca)": 0.07133383729120739,
          "pct": 0.009615384615384616,
          "rca": 1.0739396871472344,
          "season": "1971-72"
         },
         {
          "composer": "Weber,  Carl  Maria Von",
          "count": 6,
          "log(rca)": 0.14528055813441293,
          "pct": 0.019230769230769232,
          "rca": 1.156363952075013,
          "season": "1971-72"
         },
         {
          "composer": "Beethoven,  Ludwig  van",
          "count": 10,
          "log(rca)": -0.6792940658024157,
          "pct": 0.03257328990228013,
          "rca": 0.5069747568898265,
          "season": "1972-73"
         },
         {
          "composer": "Haydn,  Franz  Joseph",
          "count": 27,
          "log(rca)": 1.8348273677635758,
          "pct": 0.08794788273615635,
          "rca": 6.264052674667735,
          "season": "1972-73"
         },
         {
          "composer": "Mendelssohn,  Felix",
          "count": 5,
          "log(rca)": -0.2773285238205156,
          "pct": 0.016286644951140065,
          "rca": 0.7578054990540944,
          "season": "1972-73"
         },
         {
          "composer": "Mozart,  Wolfgang  Amadeus",
          "count": 16,
          "log(rca)": 0.2735915571473532,
          "pct": 0.05211726384364821,
          "rca": 1.3146777218438457,
          "season": "1972-73"
         },
         {
          "composer": "Rossini,  Gioachino",
          "count": 4,
          "log(rca)": 0.3751713499652736,
          "pct": 0.013029315960912053,
          "rca": 1.4552407487076533,
          "season": "1972-73"
         },
         {
          "composer": "Weber,  Carl  Maria Von",
          "count": 8,
          "log(rca)": 0.44911807080847904,
          "pct": 0.026058631921824105,
          "rca": 1.566929654929008,
          "season": "1972-73"
         },
         {
          "composer": "Beethoven,  Ludwig  van",
          "count": 21,
          "log(rca)": 0.03374881292724652,
          "pct": 0.06645569620253164,
          "rca": 1.0343247650850351,
          "season": "1973-74"
         },
         {
          "composer": "Mozart,  Wolfgang  Amadeus",
          "count": 26,
          "log(rca)": 0.7302049069293389,
          "pct": 0.08227848101265822,
          "rca": 2.0755058496355963,
          "season": "1973-74"
         },
         {
          "composer": "Rossini,  Gioachino",
          "count": 1,
          "log(rca)": -1.0400174771543322,
          "pct": 0.0031645569620253164,
          "rca": 0.35344850463073535,
          "season": "1973-74"
         },
         {
          "composer": "Weber,  Carl  Maria Von",
          "count": 6,
          "log(rca)": 0.13254153235698315,
          "pct": 0.0189873417721519,
          "rca": 1.1417264336943167,
          "season": "1973-74"
         },
         {
          "composer": "Beethoven,  Ludwig  van",
          "count": 19,
          "log(rca)": -0.1855231628948542,
          "pct": 0.05337078651685393,
          "rca": 0.8306695946456062,
          "season": "1974-75"
         },
         {
          "composer": "Haydn,  Franz  Joseph",
          "count": 7,
          "log(rca)": 0.33681766754972675,
          "pct": 0.019662921348314606,
          "rca": 1.400483686835306,
          "season": "1974-75"
         },
         {
          "composer": "Mendelssohn,  Felix",
          "count": 14,
          "log(rca)": 0.6042079100958093,
          "pct": 0.03932584269662921,
          "rca": 1.8298022668171336,
          "season": "1974-75"
         },
         {
          "composer": "Mozart,  Wolfgang  Amadeus",
          "count": 22,
          "log(rca)": 0.4439623050010545,
          "pct": 0.06179775280898876,
          "rca": 1.558871722846442,
          "season": "1974-75"
         },
         {
          "composer": "Rossini,  Gioachino",
          "count": 4,
          "log(rca)": 0.2270883667004402,
          "pct": 0.011235955056179775,
          "rca": 1.2549407580147458,
          "season": "1974-75"
         },
         {
          "composer": "Weber,  Carl  Maria Von",
          "count": 4,
          "log(rca)": -0.3921120930162996,
          "pct": 0.011235955056179775,
          "rca": 0.675628376493266,
          "season": "1974-75"
         },
         {
          "composer": "Beethoven,  Ludwig  van",
          "count": 18,
          "log(rca)": -0.28355350758624615,
          "pct": 0.04838709677419355,
          "rca": 0.7531028243476293,
          "season": "1975-76"
         },
         {
          "composer": "Haydn,  Franz  Joseph",
          "count": 3,
          "log(rca)": -0.5544433162585928,
          "pct": 0.008064516129032258,
          "rca": 0.5743919268587201,
          "season": "1975-76"
         },
         {
          "composer": "Hummel,  Johann",
          "count": 1,
          "log(rca)": 1.786293542699829,
          "pct": 0.002688172043010753,
          "rca": 5.967293906810036,
          "season": "1975-76"
         },
         {
          "composer": "Mendelssohn,  Felix",
          "count": 2,
          "log(rca)": -1.3856653623806199,
          "pct": 0.005376344086021506,
          "rca": 0.2501572991501151,
          "season": "1975-76"
         },
         {
          "composer": "Mozart,  Wolfgang  Amadeus",
          "count": 12,
          "log(rca)": -0.20613662199037716,
          "pct": 0.03225806451612903,
          "rca": 0.8137218963831867,
          "season": "1975-76"
         },
         {
          "composer": "Rossini,  Gioachino",
          "count": 1,
          "log(rca)": -1.2031691178405663,
          "pct": 0.002688172043010753,
          "rca": 0.30024120285836664,
          "season": "1975-76"
         },
         {
          "composer": "Weber,  Carl  Maria Von",
          "count": 1,
          "log(rca)": -1.822369577557306,
          "pct": 0.002688172043010753,
          "rca": 0.16164227287070076,
          "season": "1975-76"
         },
         {
          "composer": "Beethoven,  Ludwig  van",
          "count": 15,
          "log(rca)": -0.3521161790235427,
          "pct": 0.045180722891566265,
          "rca": 0.7031984203245937,
          "season": "1976-77"
         },
         {
          "composer": "Haydn,  Franz  Joseph",
          "count": 8,
          "log(rca)": 0.5401448221097914,
          "pct": 0.024096385542168676,
          "rca": 1.7162553959152118,
          "season": "1976-77"
         },
         {
          "composer": "Mendelssohn,  Felix",
          "count": 1,
          "log(rca)": -1.9650536575839073,
          "pct": 0.0030120481927710845,
          "rca": 0.14014836639132952,
          "season": "1976-77"
         },
         {
          "composer": "Mozart,  Wolfgang  Amadeus",
          "count": 16,
          "log(rca)": 0.19530433581806175,
          "pct": 0.04819277108433735,
          "rca": 1.2156809054399416,
          "season": "1976-77"
         },
         {
          "composer": "Rossini,  Gioachino",
          "count": 1,
          "log(rca)": -1.0894102324839086,
          "pct": 0.0030120481927710845,
          "rca": 0.336414841756965,
          "season": "1976-77"
         },
         {
          "composer": "Beethoven,  Ludwig  van",
          "count": 28,
          "log(rca)": 0.10082218966800599,
          "pct": 0.07106598984771574,
          "rca": 1.1060799518337434,
          "season": "1977-78"
         },
         {
          "composer": "Haydn,  Franz  Joseph",
          "count": 10,
          "log(rca)": 0.5920724330425557,
          "pct": 0.025380710659898477,
          "rca": 1.80773093732186,
          "season": "1977-78"
         },
         {
          "composer": "Mendelssohn,  Felix",
          "count": 5,
          "log(rca)": -0.5268316855312521,
          "pct": 0.012690355329949238,
          "rca": 0.5904728127147386,
          "season": "1977-78"
         },
         {
          "composer": "Mozart,  Wolfgang  Amadeus",
          "count": 21,
          "log(rca)": 0.2960221109202582,
          "pct": 0.0532994923857868,
          "rca": 1.3444998846331333,
          "season": "1977-78"
         },
         {
          "composer": "Rossini,  Gioachino",
          "count": 6,
          "log(rca)": 0.5311332963627012,
          "pct": 0.015228426395939087,
          "rca": 1.700858793857549,
          "season": "1977-78"
         },
         {
          "composer": "Weber,  Carl  Maria Von",
          "count": 5,
          "log(rca)": -0.2703887201479932,
          "pct": 0.012690355329949238,
          "rca": 0.763082811013968,
          "season": "1977-78"
         },
         {
          "composer": "Beethoven,  Ludwig  van",
          "count": 20,
          "log(rca)": -0.08234503313829199,
          "pct": 0.05917159763313609,
          "rca": 0.9209541441726434,
          "season": "1978-79"
         },
         {
          "composer": "Bellini,  Vincenzo",
          "count": 1,
          "log(rca)": 1.371315877723966,
          "pct": 0.0029585798816568047,
          "rca": 3.9405325443786983,
          "season": "1978-79"
         },
         {
          "composer": "Haydn,  Franz  Joseph",
          "count": 16,
          "log(rca)": 1.2153810761032064,
          "pct": 0.047337278106508875,
          "rca": 3.3715786475967473,
          "season": "1978-79"
         },
         {
          "composer": "Mendelssohn,  Felix",
          "count": 5,
          "log(rca)": -0.37352667171633724,
          "pct": 0.014792899408284023,
          "rca": 0.6883026278390739,
          "season": "1978-79"
         },
         {
          "composer": "Mozart,  Wolfgang  Amadeus",
          "count": 13,
          "log(rca)": -0.03024595552671289,
          "pct": 0.038461538461538464,
          "rca": 0.9702068764568765,
          "season": "1978-79"
         },
         {
          "composer": "Rossini,  Gioachino",
          "count": 7,
          "log(rca)": 0.8385889900048745,
          "pct": 0.020710059171597635,
          "rca": 2.3131008646248126,
          "season": "1978-79"
         },
         {
          "composer": "Weber,  Carl  Maria Von",
          "count": 2,
          "log(rca)": -1.0333744382072332,
          "pct": 0.005917159763313609,
          "rca": 0.35580429294615784,
          "season": "1978-79"
         },
         {
          "composer": "Beethoven,  Ludwig  van",
          "count": 35,
          "log(rca)": 0.7130679918798998,
          "pct": 0.13108614232209737,
          "rca": 2.0402411096558746,
          "season": "1979-80"
         },
         {
          "composer": "Bellini,  Vincenzo",
          "count": 1,
          "log(rca)": 1.6071131148067355,
          "pct": 0.003745318352059925,
          "rca": 4.988389513108615,
          "season": "1979-80"
         },
         {
          "composer": "Haydn,  Franz  Joseph",
          "count": 7,
          "log(rca)": 0.6244997400015078,
          "pct": 0.026217228464419477,
          "rca": 1.867311582447075,
          "season": "1979-80"
         },
         {
          "composer": "Mendelssohn,  Felix",
          "count": 2,
          "log(rca)": -1.054020166507723,
          "pct": 0.00749063670411985,
          "rca": 0.3485337651080255,
          "season": "1979-80"
         },
         {
          "composer": "Mozart,  Wolfgang  Amadeus",
          "count": 10,
          "log(rca)": -0.056812982911434703,
          "pct": 0.03745318352059925,
          "rca": 0.9447707411190558,
          "season": "1979-80"
         },
         {
          "composer": "Rossini,  Gioachino",
          "count": 2,
          "log(rca)": -0.1783767414077241,
          "pct": 0.00749063670411985,
          "rca": 0.8366271720098306,
          "season": "1979-80"
         },
         {
          "composer": "Beethoven,  Ludwig  van",
          "count": 17,
          "log(rca)": -0.10199067617011544,
          "pct": 0.05802047781569966,
          "rca": 0.9030379714020493,
          "season": "1980-81"
         },
         {
          "composer": "Haydn,  Franz  Joseph",
          "count": 4,
          "log(rca)": -0.028039998550732647,
          "pct": 0.013651877133105802,
          "rca": 0.9723494734536695,
          "season": "1980-81"
         },
         {
          "composer": "Mendelssohn,  Felix",
          "count": 3,
          "log(rca)": -0.7414790090163764,
          "pct": 0.010238907849829351,
          "rca": 0.47640878131660136,
          "season": "1980-81"
         },
         {
          "composer": "Mozart,  Wolfgang  Amadeus",
          "count": 15,
          "log(rca)": 0.2557281745799118,
          "pct": 0.051194539249146756,
          "rca": 1.2914016444306546,
          "season": "1980-81"
         },
         {
          "composer": "Weber,  Carl  Maria Von",
          "count": 3,
          "log(rca)": -0.48503604363311736,
          "pct": 0.010238907849829351,
          "rca": 0.6156750052003482,
          "season": "1980-81"
         },
         {
          "composer": "Beethoven,  Ludwig  van",
          "count": 20,
          "log(rca)": -0.011871776480906317,
          "pct": 0.06349206349206349,
          "rca": 0.9881984150169951,
          "season": "1981-82"
         },
         {
          "composer": "Bellini,  Vincenzo",
          "count": 1,
          "log(rca)": 1.4417891343813518,
          "pct": 0.0031746031746031746,
          "rca": 4.228253968253968,
          "season": "1981-82"
         },
         {
          "composer": "Haydn,  Franz  Joseph",
          "count": 8,
          "log(rca)": 0.5927071522006468,
          "pct": 0.025396825396825397,
          "rca": 1.8088787029963502,
          "season": "1981-82"
         },
         {
          "composer": "Mendelssohn,  Felix",
          "count": 9,
          "log(rca)": 0.2847332498431676,
          "pct": 0.02857142857142857,
          "rca": 1.3294073611977544,
          "season": "1981-82"
         },
         {
          "composer": "Mozart,  Wolfgang  Amadeus",
          "count": 34,
          "log(rca)": 1.0016384682852975,
          "pct": 0.10793650793650794,
          "rca": 2.722739297739298,
          "season": "1981-82"
         },
         {
          "composer": "Rossini,  Gioachino",
          "count": 3,
          "log(rca)": 0.06176438627505678,
          "pct": 0.009523809523809525,
          "rca": 1.0637116901267847,
          "season": "1981-82"
         },
         {
          "composer": "Weber,  Carl  Maria Von",
          "count": 2,
          "log(rca)": -0.9629011815498475,
          "pct": 0.006349206349206349,
          "rca": 0.381783654018417,
          "season": "1981-82"
         },
         {
          "composer": "Beethoven,  Ludwig  van",
          "count": 15,
          "log(rca)": -0.32153275565146244,
          "pct": 0.046583850931677016,
          "rca": 0.7250368805831214,
          "season": "1982-83"
         },
         {
          "composer": "Haydn,  Franz  Joseph",
          "count": 3,
          "log(rca)": -0.4101010075298546,
          "pct": 0.009316770186335404,
          "rca": 0.6635832198492045,
          "season": "1982-83"
         },
         {
          "composer": "Hummel,  Johann",
          "count": 3,
          "log(rca)": 3.029248140096677,
          "pct": 0.009316770186335404,
          "rca": 20.68167701863354,
          "season": "1982-83"
         },
         {
          "composer": "Mendelssohn,  Felix",
          "count": 5,
          "log(rca)": -0.3250323217777267,
          "pct": 0.015527950310559006,
          "rca": 0.7225040006509534,
          "season": "1982-83"
         },
         {
          "composer": "Mozart,  Wolfgang  Amadeus",
          "count": 22,
          "log(rca)": 0.5443414903086766,
          "pct": 0.06832298136645963,
          "rca": 1.7234730848861284,
          "season": "1982-83"
         },
         {
          "composer": "Rossini,  Gioachino",
          "count": 2,
          "log(rca)": -0.3656796285518831,
          "pct": 0.006211180124223602,
          "rca": 0.6937250153000768,
          "season": "1982-83"
         },
         {
          "composer": "Weber,  Carl  Maria Von",
          "count": 7,
          "log(rca)": 0.26788288022674517,
          "pct": 0.021739130434782608,
          "rca": 1.3071940327804494,
          "season": "1982-83"
         },
         {
          "composer": "Beethoven,  Ludwig  van",
          "count": 20,
          "log(rca)": 0.0009079501654925786,
          "pct": 0.06430868167202572,
          "rca": 1.0009083624770208,
          "season": "1983-84"
         },
         {
          "composer": "Haydn,  Franz  Joseph",
          "count": 7,
          "log(rca)": 0.47195548622252315,
          "pct": 0.022508038585209004,
          "rca": 1.6031260209433087,
          "season": "1983-84"
         },
         {
          "composer": "Mendelssohn,  Felix",
          "count": 4,
          "log(rca)": -0.5134172397267622,
          "pct": 0.012861736334405145,
          "rca": 0.5984470436259988,
          "season": "1983-84"
         },
         {
          "composer": "Mozart,  Wolfgang  Amadeus",
          "count": 18,
          "log(rca)": 0.3784294282116996,
          "pct": 0.05787781350482315,
          "rca": 1.4599897690733703,
          "season": "1983-84"
         },
         {
          "composer": "Rossini,  Gioachino",
          "count": 1,
          "log(rca)": -1.024068175746654,
          "pct": 0.003215434083601286,
          "rca": 0.3591309564736732,
          "season": "1983-84"
         },
         {
          "composer": "Spohr,  Louis",
          "count": 1,
          "log(rca)": 1.136115129909216,
          "pct": 0.003215434083601286,
          "rca": 3.1146448406898566,
          "season": "1983-84"
         },
         {
          "composer": "Weber,  Carl  Maria Von",
          "count": 5,
          "log(rca)": -0.033830723029293554,
          "pct": 0.01607717041800643,
          "rca": 0.9667351367829691,
          "season": "1983-84"
         },
         {
          "composer": "Beethoven,  Ludwig  van",
          "count": 30,
          "log(rca)": 0.09643251522093337,
          "pct": 0.07075471698113207,
          "rca": 1.10123526201776,
          "season": "1984-85"
         },
         {
          "composer": "Haydn,  Franz  Joseph",
          "count": 6,
          "log(rca)": 0.007864263342541335,
          "pct": 0.014150943396226415,
          "rca": 1.0078952678841693,
          "season": "1984-85"
         },
         {
          "composer": "Hummel,  Johann",
          "count": 2,
          "log(rca)": 2.348601122300963,
          "pct": 0.0047169811320754715,
          "rca": 10.470911949685533,
          "season": "1984-85"
         },
         {
          "composer": "Mendelssohn,  Felix",
          "count": 2,
          "log(rca)": -1.5165049633394312,
          "pct": 0.0047169811320754715,
          "rca": 0.2194776303864217,
          "season": "1984-85"
         },
         {
          "composer": "Mozart,  Wolfgang  Amadeus",
          "count": 26,
          "log(rca)": 0.4362136652842934,
          "pct": 0.06132075471698113,
          "rca": 1.546839265294454,
          "season": "1984-85"
         },
         {
          "composer": "Weber,  Carl  Maria Von",
          "count": 9,
          "log(rca)": 0.24401539882010181,
          "pct": 0.02122641509433962,
          "rca": 1.2763639848375143,
          "season": "1984-85"
         },
         {
          "composer": "Beethoven,  Ludwig  van",
          "count": 9,
          "log(rca)": -0.674577931539616,
          "pct": 0.03272727272727273,
          "rca": 0.5093713648314876,
          "season": "1985-86"
         },
         {
          "composer": "Haydn,  Franz  Joseph",
          "count": 5,
          "log(rca)": 0.25850506411397295,
          "pct": 0.01818181818181818,
          "rca": 1.2949927078269323,
          "season": "1985-86"
         },
         {
          "composer": "Mendelssohn,  Felix",
          "count": 5,
          "log(rca)": -0.1672518738998897,
          "pct": 0.01818181818181818,
          "rca": 0.8459865025803891,
          "season": "1985-86"
         },
         {
          "composer": "Mozart,  Wolfgang  Amadeus",
          "count": 9,
          "log(rca)": -0.19169593783558272,
          "pct": 0.03272727272727273,
          "rca": 0.8255578512396695,
          "season": "1985-86"
         },
         {
          "composer": "Rossini,  Gioachino",
          "count": 1,
          "log(rca)": -0.9010463612339913,
          "pct": 0.0036363636363636364,
          "rca": 0.4061444635029541,
          "season": "1985-86"
         },
         {
          "composer": "Weber,  Carl  Maria Von",
          "count": 9,
          "log(rca)": 0.6769777563854884,
          "pct": 0.03272727272727273,
          "rca": 1.967921198440386,
          "season": "1985-86"
         },
         {
          "composer": "Beethoven,  Ludwig  van",
          "count": 18,
          "log(rca)": -0.2282908289111965,
          "pct": 0.05113636363636364,
          "rca": 0.7958927575491993,
          "season": "1986-87"
         },
         {
          "composer": "Bellini,  Vincenzo",
          "count": 1,
          "log(rca)": 1.330730597608888,
          "pct": 0.002840909090909091,
          "rca": 3.7838068181818185,
          "season": "1986-87"
         },
         {
          "composer": "Haydn,  Franz  Joseph",
          "count": 12,
          "log(rca)": 0.8871137235363471,
          "pct": 0.03409090909090909,
          "rca": 2.428111327175498,
          "season": "1986-87"
         },
         {
          "composer": "Mendelssohn,  Felix",
          "count": 2,
          "log(rca)": -1.3304026837055705,
          "pct": 0.005681818181818182,
          "rca": 0.2643707820563716,
          "season": "1986-87"
         },
         {
          "composer": "Mozart,  Wolfgang  Amadeus",
          "count": 30,
          "log(rca)": 0.7654167885588272,
          "pct": 0.08522727272727272,
          "rca": 2.1498902376033056,
          "season": "1986-87"
         },
         {
          "composer": "Rossini,  Gioachino",
          "count": 1,
          "log(rca)": -1.1479064391655172,
          "pct": 0.002840909090909091,
          "rca": 0.3173003621116829,
          "season": "1986-87"
         },
         {
          "composer": "Weber,  Carl  Maria Von",
          "count": 1,
          "log(rca)": -1.767106898882257,
          "pct": 0.002840909090909091,
          "rca": 0.17082649292017238,
          "season": "1986-87"
         },
         {
          "composer": "Beethoven,  Ludwig  van",
          "count": 10,
          "log(rca)": -0.6986495087553717,
          "pct": 0.03194888178913738,
          "rca": 0.4972563909430567,
          "season": "1987-88"
         },
         {
          "composer": "Haydn,  Franz  Joseph",
          "count": 4,
          "log(rca)": -0.09407058007381869,
          "pct": 0.012779552715654952,
          "rca": 0.9102185166834669,
          "season": "1987-88"
         },
         {
          "composer": "Mendelssohn,  Felix",
          "count": 3,
          "log(rca)": -0.8075095905394624,
          "pct": 0.009584664536741214,
          "rca": 0.44596732564141917,
          "season": "1987-88"
         },
         {
          "composer": "Mozart,  Wolfgang  Amadeus",
          "count": 17,
          "log(rca)": 0.31486073601083187,
          "pct": 0.054313099041533544,
          "rca": 1.37006849646626,
          "season": "1987-88"
         },
         {
          "composer": "Rossini,  Gioachino",
          "count": 1,
          "log(rca)": -1.0304784541075733,
          "pct": 0.003194888178913738,
          "rca": 0.35683618997863376,
          "season": "1987-88"
         },
         {
          "composer": "Beethoven,  Ludwig  van",
          "count": 21,
          "log(rca)": 0.03691838768852575,
          "pct": 0.06666666666666667,
          "rca": 1.037608335767845,
          "season": "1988-89"
         },
         {
          "composer": "Haydn,  Franz  Joseph",
          "count": 9,
          "log(rca)": 0.7104901878570302,
          "pct": 0.02857142857142857,
          "rca": 2.0349885408708936,
          "season": "1988-89"
         },
         {
          "composer": "Mendelssohn,  Felix",
          "count": 5,
          "log(rca)": -0.3030534150589515,
          "pct": 0.015873015873015872,
          "rca": 0.7385596451098635,
          "season": "1988-89"
         },
         {
          "composer": "Mozart,  Wolfgang  Amadeus",
          "count": 14,
          "log(rca)": 0.11433527328439469,
          "pct": 0.044444444444444446,
          "rca": 1.1211279461279462,
          "season": "1988-89"
         },
         {
          "composer": "Rossini,  Gioachino",
          "count": 1,
          "log(rca)": -1.036847902393053,
          "pct": 0.0031746031746031746,
          "rca": 0.35457056337559484,
          "season": "1988-89"
         },
         {
          "composer": "Beethoven,  Ludwig  van",
          "count": 25,
          "log(rca)": 0.321937342720823,
          "pct": 0.08865248226950355,
          "rca": 1.3797983188402194,
          "season": "1989-90"
         },
         {
          "composer": "Haydn,  Franz  Joseph",
          "count": 11,
          "log(rca)": 1.021826451206701,
          "pct": 0.03900709219858156,
          "rca": 2.7782644972882773,
          "season": "1989-90"
         },
         {
          "composer": "Mendelssohn,  Felix",
          "count": 4,
          "log(rca)": -0.4155313984856418,
          "pct": 0.014184397163120567,
          "rca": 0.6599894700981759,
          "season": "1989-90"
         },
         {
          "composer": "Mozart,  Wolfgang  Amadeus",
          "count": 15,
          "log(rca)": 0.29399371265886554,
          "pct": 0.05319148936170213,
          "rca": 1.341775467440361,
          "season": "1989-90"
         },
         {
          "composer": "Rossini,  Gioachino",
          "count": 2,
          "log(rca)": -0.23303515394558827,
          "pct": 0.0070921985815602835,
          "rca": 0.7921257266901587,
          "season": "1989-90"
         },
         {
          "composer": "Weber,  Carl  Maria Von",
          "count": 3,
          "log(rca)": -0.44677050555416364,
          "pct": 0.010638297872340425,
          "rca": 0.6396906968925604,
          "season": "1989-90"
         },
         {
          "composer": "Beethoven,  Ludwig  van",
          "count": 10,
          "log(rca)": -0.5908009875489643,
          "pct": 0.03558718861209965,
          "rca": 0.5538834532568567,
          "season": "1990-91"
         },
         {
          "composer": "Haydn,  Franz  Joseph",
          "count": 4,
          "log(rca)": 0.013777941132588713,
          "pct": 0.014234875444839857,
          "rca": 1.0138732943840751,
          "season": "1990-91"
         },
         {
          "composer": "Mendelssohn,  Felix",
          "count": 8,
          "log(rca)": 0.2811681836786714,
          "pct": 0.028469750889679714,
          "rca": 1.3246763741472285,
          "season": "1990-91"
         },
         {
          "composer": "Mozart,  Wolfgang  Amadeus",
          "count": 46,
          "log(rca)": 1.4181373096501182,
          "pct": 0.16370106761565836,
          "rca": 4.1294214385851395,
          "season": "1990-91"
         },
         {
          "composer": "Weber,  Carl  Maria Von",
          "count": 1,
          "log(rca)": -1.5418303926179056,
          "pct": 0.0035587188612099642,
          "rca": 0.2139890587469775,
          "season": "1990-91"
         },
         {
          "composer": "Beethoven,  Ludwig  van",
          "count": 6,
          "log(rca)": -0.7207673140089909,
          "pct": 0.03125,
          "rca": 0.4863789073911773,
          "season": "1991-92"
         },
         {
          "composer": "Haydn,  Franz  Joseph",
          "count": 3,
          "log(rca)": 0.1069551659867722,
          "pct": 0.015625,
          "rca": 1.1128843582887702,
          "season": "1991-92"
         },
         {
          "composer": "Mendelssohn,  Felix",
          "count": 3,
          "log(rca)": -0.31880177202709054,
          "pct": 0.015625,
          "rca": 0.7270196506550219,
          "season": "1991-92"
         },
         {
          "composer": "Mozart,  Wolfgang  Amadeus",
          "count": 35,
          "log(rca)": 1.5257032719564012,
          "pct": 0.18229166666666666,
          "rca": 4.598376341540404,
          "season": "1991-92"
         },
         {
          "composer": "Rossini,  Gioachino",
          "count": 1,
          "log(rca)": -0.5417706355952016,
          "pct": 0.005208333333333333,
          "rca": 0.5817173305380853,
          "season": "1991-92"
         },
         {
          "composer": "Weber,  Carl  Maria Von",
          "count": 1,
          "log(rca)": -1.1609710953119414,
          "pct": 0.005208333333333333,
          "rca": 0.3131819036869827,
          "season": "1991-92"
         },
         {
          "composer": "Beethoven,  Ludwig  van",
          "count": 12,
          "log(rca)": -0.3977458751119009,
          "pct": 0.04316546762589928,
          "rca": 0.6718327353892521,
          "season": "1992-93"
         },
         {
          "composer": "Haydn,  Franz  Joseph",
          "count": 5,
          "log(rca)": 0.24765504808990732,
          "pct": 0.017985611510791366,
          "rca": 1.2810179663755628,
          "season": "1992-93"
         },
         {
          "composer": "Mendelssohn,  Felix",
          "count": 3,
          "log(rca)": -0.6889275136899461,
          "pct": 0.01079136690647482,
          "rca": 0.5021142910998713,
          "season": "1992-93"
         },
         {
          "composer": "Mozart,  Wolfgang  Amadeus",
          "count": 11,
          "log(rca)": -0.001875258397497517,
          "pct": 0.039568345323741004,
          "rca": 0.9981264988009592,
          "season": "1992-93"
         },
         {
          "composer": "Rossini,  Gioachino",
          "count": 2,
          "log(rca)": -0.21874919669811171,
          "pct": 0.007194244604316547,
          "rca": 0.8035232191605207,
          "season": "1992-93"
         },
         {
          "composer": "Spohr,  Louis",
          "count": 2,
          "log(rca)": 1.9414341089577585,
          "pct": 0.007194244604316547,
          "rca": 6.968737737083061,
          "season": "1992-93"
         },
         {
          "composer": "Weber,  Carl  Maria Von",
          "count": 2,
          "log(rca)": -0.8379496564148514,
          "pct": 0.007194244604316547,
          "rca": 0.4325965863877747,
          "season": "1992-93"
         },
         {
          "composer": "Beethoven,  Ludwig  van",
          "count": 20,
          "log(rca)": 0.19162477744950696,
          "pct": 0.07782101167315175,
          "rca": 1.2112159561492353,
          "season": "1993-94"
         },
         {
          "composer": "Haydn,  Franz  Joseph",
          "count": 3,
          "log(rca)": -0.18462554688066607,
          "pct": 0.011673151750972763,
          "rca": 0.8314155517176804,
          "season": "1993-94"
         },
         {
          "composer": "Mendelssohn,  Felix",
          "count": 2,
          "log(rca)": -1.0158475930026931,
          "pct": 0.007782101167315175,
          "rca": 0.3620953902095051,
          "season": "1993-94"
         },
         {
          "composer": "Mozart,  Wolfgang  Amadeus",
          "count": 18,
          "log(rca)": 0.569146255495714,
          "pct": 0.07003891050583658,
          "rca": 1.7667580474000708,
          "season": "1993-94"
         },
         {
          "composer": "Rossini,  Gioachino",
          "count": 4,
          "log(rca)": 0.5529430126572509,
          "pct": 0.01556420233463035,
          "rca": 1.738361516938714,
          "season": "1993-94"
         },
         {
          "composer": "Beethoven,  Ludwig  van",
          "count": 22,
          "log(rca)": 0.3065819546376283,
          "pct": 0.0873015873015873,
          "rca": 1.3587728206483682,
          "season": "1994-95"
         },
         {
          "composer": "Mendelssohn,  Felix",
          "count": 7,
          "log(rca)": 0.25656237287647116,
          "pct": 0.027777777777777776,
          "rca": 1.292479378942261,
          "season": "1994-95"
         },
         {
          "composer": "Mozart,  Wolfgang  Amadeus",
          "count": 7,
          "log(rca)": -0.355668355961341,
          "pct": 0.027777777777777776,
          "rca": 0.7007049663299663,
          "season": "1994-95"
         },
         {
          "composer": "Rossini,  Gioachino",
          "count": 5,
          "log(rca)": 0.7957335613552571,
          "pct": 0.01984126984126984,
          "rca": 2.216066021097468,
          "season": "1994-95"
         },
         {
          "composer": "Weber,  Carl  Maria Von",
          "count": 3,
          "log(rca)": -0.33429252212747346,
          "pct": 0.011904761904761904,
          "rca": 0.7158443512845318,
          "season": "1994-95"
         },
         {
          "composer": "Beethoven,  Ludwig  van",
          "count": 15,
          "log(rca)": -0.2474247834977405,
          "pct": 0.05016722408026756,
          "rca": 0.7808089483202847,
          "season": "1995-96"
         },
         {
          "composer": "Haydn,  Franz  Joseph",
          "count": 3,
          "log(rca)": -0.3359930353761328,
          "pct": 0.010033444816053512,
          "rca": 0.714628082914528,
          "season": "1995-96"
         },
         {
          "composer": "Mendelssohn,  Felix",
          "count": 4,
          "log(rca)": -0.4740679009382145,
          "pct": 0.013377926421404682,
          "rca": 0.6224649851762061,
          "season": "1995-96"
         },
         {
          "composer": "Mozart,  Wolfgang  Amadeus",
          "count": 4,
          "log(rca)": -1.0862986297760269,
          "pct": 0.013377926421404682,
          "rca": 0.33746326137630483,
          "season": "1995-96"
         },
         {
          "composer": "Spohr,  Louis",
          "count": 1,
          "log(rca)": 1.1754644686977638,
          "pct": 0.0033444816053511705,
          "rca": 3.2396473092125264,
          "season": "1995-96"
         },
         {
          "composer": "Beethoven,  Ludwig  van",
          "count": 7,
          "log(rca)": -1.1699074856198166,
          "pct": 0.019943019943019943,
          "rca": 0.310395655998928,
          "season": "1996-97"
         },
         {
          "composer": "Haydn,  Franz  Joseph",
          "count": 2,
          "log(rca)": -0.9018007935594765,
          "pct": 0.005698005698005698,
          "rca": 0.4058381705440529,
          "season": "1996-97"
         },
         {
          "composer": "Mendelssohn,  Felix",
          "count": 4,
          "log(rca)": -0.634410551013394,
          "pct": 0.011396011396011397,
          "rca": 0.5302479503352866,
          "season": "1996-97"
         },
         {
          "composer": "Mozart,  Wolfgang  Amadeus",
          "count": 9,
          "log(rca)": -0.4357110636348773,
          "pct": 0.02564102564102564,
          "rca": 0.6468045843045843,
          "season": "1996-97"
         },
         {
          "composer": "Spohr,  Louis",
          "count": 1,
          "log(rca)": 1.0151218186225845,
          "pct": 0.002849002849002849,
          "rca": 2.75969955969956,
          "season": "1996-97"
         },
         {
          "composer": "Beethoven,  Ludwig  van",
          "count": 7,
          "log(rca)": -1.0898647779462802,
          "pct": 0.021604938271604937,
          "rca": 0.3362619606655053,
          "season": "1997-98"
         },
         {
          "composer": "Haydn,  Franz  Joseph",
          "count": 1,
          "log(rca)": -1.5149052664458855,
          "pct": 0.0030864197530864196,
          "rca": 0.21982900904469532,
          "season": "1997-98"
         },
         {
          "composer": "Hummel,  Johann",
          "count": 1,
          "log(rca)": 1.9244438811806461,
          "pct": 0.0030864197530864196,
          "rca": 6.85133744855967,
          "season": "1997-98"
         },
         {
          "composer": "Mendelssohn,  Felix",
          "count": 10,
          "log(rca)": 0.36192288853429744,
          "pct": 0.030864197530864196,
          "rca": 1.4360881988247345,
          "season": "1997-98"
         },
         {
          "composer": "Mozart,  Wolfgang  Amadeus",
          "count": 10,
          "log(rca)": -0.2503078403035147,
          "pct": 0.030864197530864196,
          "rca": 0.7785610736999625,
          "season": "1997-98"
         },
         {
          "composer": "Rossini,  Gioachino",
          "count": 1,
          "log(rca)": -1.0650187793597494,
          "pct": 0.0030864197530864196,
          "rca": 0.3447213810596061,
          "season": "1997-98"
         },
         {
          "composer": "Beethoven,  Ludwig  van",
          "count": 37,
          "log(rca)": 0.7104396037917227,
          "pct": 0.13074204946996468,
          "rca": 2.0348856054811093,
          "season": "1998-99"
         },
         {
          "composer": "Haydn,  Franz  Joseph",
          "count": 6,
          "log(rca)": 0.4121508209312614,
          "pct": 0.02120141342756184,
          "rca": 1.5100621681374125,
          "season": "1998-99"
         },
         {
          "composer": "Mendelssohn,  Felix",
          "count": 3,
          "log(rca)": -0.7067532976425467,
          "pct": 0.01060070671378092,
          "rca": 0.49324301387195835,
          "season": "1998-99"
         },
         {
          "composer": "Mozart,  Wolfgang  Amadeus",
          "count": 5,
          "log(rca)": -0.8081584027143681,
          "pct": 0.0176678445229682,
          "rca": 0.4456780704572224,
          "season": "1998-99"
         },
         {
          "composer": "Rossini,  Gioachino",
          "count": 1,
          "log(rca)": -0.9297221612106576,
          "pct": 0.0035335689045936395,
          "rca": 0.39466334792689883,
          "season": "1998-99"
         },
         {
          "composer": "Beethoven,  Ludwig  van",
          "count": 9,
          "log(rca)": -0.6450554922732944,
          "pct": 0.033707865168539325,
          "rca": 0.5246334281972249,
          "season": "1999-00"
         },
         {
          "composer": "Haydn,  Franz  Joseph",
          "count": 1,
          "log(rca)": -1.3214104090538055,
          "pct": 0.003745318352059925,
          "rca": 0.2667587974924393,
          "season": "1999-00"
         },
         {
          "composer": "Mendelssohn,  Felix",
          "count": 2,
          "log(rca)": -1.054020166507723,
          "pct": 0.00749063670411985,
          "rca": 0.3485337651080255,
          "season": "1999-00"
         },
         {
          "composer": "Mozart,  Wolfgang  Amadeus",
          "count": 7,
          "log(rca)": -0.41348792685016705,
          "pct": 0.026217228464419477,
          "rca": 0.6613395187833391,
          "season": "1999-00"
         },
         {
          "composer": "Rossini,  Gioachino",
          "count": 1,
          "log(rca)": -0.8715239219676694,
          "pct": 0.003745318352059925,
          "rca": 0.4183135860049153,
          "season": "1999-00"
         },
         {
          "composer": "Weber,  Carl  Maria Von",
          "count": 1,
          "log(rca)": -1.4907243816844091,
          "pct": 0.003745318352059925,
          "rca": 0.2252094588310887,
          "season": "1999-00"
         },
         {
          "composer": "Beethoven,  Ludwig  van",
          "count": 7,
          "log(rca)": -0.8265741586186586,
          "pct": 0.028112449799196786,
          "rca": 0.43754568375752495,
          "season": "2000-01"
         },
         {
          "composer": "Haydn,  Franz  Joseph",
          "count": 2,
          "log(rca)": -0.5584674665583185,
          "pct": 0.008032128514056224,
          "rca": 0.5720851319717372,
          "season": "2000-01"
         },
         {
          "composer": "Mendelssohn,  Felix",
          "count": 13,
          "log(rca)": 0.8875777723294104,
          "pct": 0.05220883534136546,
          "rca": 2.429238350783045,
          "season": "2000-01"
         },
         {
          "composer": "Mozart,  Wolfgang  Amadeus",
          "count": 12,
          "log(rca)": 0.19530433581806175,
          "pct": 0.04819277108433735,
          "rca": 1.2156809054399416,
          "season": "2000-01"
         },
         {
          "composer": "Rossini,  Gioachino",
          "count": 1,
          "log(rca)": -0.8017281600321277,
          "pct": 0.004016064257028112,
          "rca": 0.44855312234261996,
          "season": "2000-01"
         },
         {
          "composer": "Beethoven,  Ludwig  van",
          "count": 24,
          "log(rca)": 0.09113994185516464,
          "pct": 0.07038123167155426,
          "rca": 1.0954222899601882,
          "season": "2001-02"
         },
         {
          "composer": "Haydn,  Franz  Joseph",
          "count": 5,
          "log(rca)": 0.04339368449702764,
          "pct": 0.01466275659824047,
          "rca": 1.0443489579249456,
          "season": "2001-02"
         },
         {
          "composer": "Mendelssohn,  Felix",
          "count": 4,
          "log(rca)": -0.605506804831045,
          "pct": 0.011730205278592375,
          "rca": 0.545797743600251,
          "season": "2001-02"
         },
         {
          "composer": "Mozart,  Wolfgang  Amadeus",
          "count": 25,
          "log(rca)": 0.6148439300794531,
          "pct": 0.07331378299120235,
          "rca": 1.8493679463254244,
          "season": "2001-02"
         },
         {
          "composer": "Rossini,  Gioachino",
          "count": 2,
          "log(rca)": -0.4230105602909915,
          "pct": 0.005865102639296188,
          "rca": 0.6550717153273453,
          "season": "2001-02"
         },
         {
          "composer": "Weber,  Carl  Maria Von",
          "count": 3,
          "log(rca)": -0.6367459118995669,
          "pct": 0.008797653958944282,
          "rca": 0.5290110748495661,
          "season": "2001-02"
         },
         {
          "composer": "Beethoven,  Ludwig  van",
          "count": 24,
          "log(rca)": -0.06593899775118205,
          "pct": 0.06015037593984962,
          "rca": 0.9361879721213638,
          "season": "2002-03"
         },
         {
          "composer": "Haydn,  Franz  Joseph",
          "count": 3,
          "log(rca)": -0.6245108788753098,
          "pct": 0.007518796992481203,
          "rca": 0.5355233002291826,
          "season": "2002-03"
         },
         {
          "composer": "Mendelssohn,  Felix",
          "count": 10,
          "log(rca)": 0.1537049874367633,
          "pct": 0.02506265664160401,
          "rca": 1.1661468080682054,
          "season": "2002-03"
         },
         {
          "composer": "Mozart,  Wolfgang  Amadeus",
          "count": 13,
          "log(rca)": -0.1961614769335578,
          "pct": 0.03258145363408521,
          "rca": 0.8218795093795093,
          "season": "2002-03"
         },
         {
          "composer": "Weber,  Carl  Maria Von",
          "count": 1,
          "log(rca)": -1.8924371401740232,
          "pct": 0.002506265664160401,
          "rca": 0.15070407395463828,
          "season": "2002-03"
         },
         {
          "composer": "Beethoven,  Ludwig  van",
          "count": 15,
          "log(rca)": -0.4275141965077545,
          "pct": 0.04189944134078212,
          "rca": 0.6521281439881706,
          "season": "2003-04"
         },
         {
          "composer": "Haydn,  Franz  Joseph",
          "count": 7,
          "log(rca)": 0.3312154120010569,
          "pct": 0.019553072625698324,
          "rca": 1.3926597556239357,
          "season": "2003-04"
         },
         {
          "composer": "Mendelssohn,  Felix",
          "count": 6,
          "log(rca)": -0.2486922058400641,
          "pct": 0.01675977653631285,
          "rca": 0.7798199604791296,
          "season": "2003-04"
         },
         {
          "composer": "Mozart,  Wolfgang  Amadeus",
          "count": 9,
          "log(rca)": -0.4554578265697118,
          "pct": 0.025139664804469275,
          "rca": 0.6341575672930422,
          "season": "2003-04"
         },
         {
          "composer": "Rossini,  Gioachino",
          "count": 2,
          "log(rca)": -0.4716610694081749,
          "pct": 0.00558659217877095,
          "rca": 0.6239649578955999,
          "season": "2003-04"
         },
         {
          "composer": "Weber,  Carl  Maria Von",
          "count": 3,
          "log(rca)": -0.6853964210167505,
          "pct": 0.008379888268156424,
          "rca": 0.5038904372170447,
          "season": "2003-04"
         },
         {
          "composer": "Beethoven,  Ludwig  van",
          "count": 15,
          "log(rca)": -0.473907236077465,
          "pct": 0.04,
          "rca": 0.6225650014607069,
          "season": "2004-05"
         },
         {
          "composer": "Haydn,  Franz  Joseph",
          "count": 7,
          "log(rca)": 0.2848223724313465,
          "pct": 0.018666666666666668,
          "rca": 1.3295258467023174,
          "season": "2004-05"
         },
         {
          "composer": "Mendelssohn,  Felix",
          "count": 8,
          "log(rca)": -0.00740317295799367,
          "pct": 0.021333333333333333,
          "rca": 0.9926241630276565,
          "season": "2004-05"
         },
         {
          "composer": "Mozart,  Wolfgang  Amadeus",
          "count": 5,
          "log(rca)": -1.0896375310415414,
          "pct": 0.013333333333333334,
          "rca": 0.3363383838383838,
          "season": "2004-05"
         },
         {
          "composer": "Spohr,  Louis",
          "count": 2,
          "log(rca)": 1.6421291966779847,
          "pct": 0.005333333333333333,
          "rca": 5.166157575757576,
          "season": "2004-05"
         },
         {
          "composer": "Beethoven,  Ludwig  van",
          "count": 14,
          "log(rca)": -0.7406574724882102,
          "pct": 0.030634573304157548,
          "rca": 0.4768003293462745,
          "season": "2005-06"
         },
         {
          "composer": "Haydn,  Franz  Joseph",
          "count": 2,
          "log(rca)": -1.1656979609878153,
          "pct": 0.00437636761487965,
          "rca": 0.31170502814215006,
          "season": "2005-06"
         },
         {
          "composer": "Mendelssohn,  Felix",
          "count": 1,
          "log(rca)": -2.2846020795616235,
          "pct": 0.002188183807439825,
          "rca": 0.10181456814424814,
          "season": "2005-06"
         },
         {
          "composer": "Mozart,  Wolfgang  Amadeus",
          "count": 26,
          "log(rca)": 0.36126372962204645,
          "pct": 0.05689277899343545,
          "rca": 1.4351419004044825,
          "season": "2005-06"
         },
         {
          "composer": "Rossini,  Gioachino",
          "count": 7,
          "log(rca)": 0.5369514945936886,
          "pct": 0.015317286652078774,
          "rca": 1.7107835716481108,
          "season": "2005-06"
         },
         {
          "composer": "Spohr,  Louis",
          "count": 1,
          "log(rca)": 0.7512246511942454,
          "pct": 0.002188183807439825,
          "rca": 2.11959419136662,
          "season": "2005-06"
         },
         {
          "composer": "Weber,  Carl  Maria Von",
          "count": 5,
          "log(rca)": -0.41872120174426414,
          "pct": 0.010940919037199124,
          "rca": 0.657887587613793,
          "season": "2005-06"
         },
         {
          "composer": "Beethoven,  Ludwig  van",
          "count": 27,
          "log(rca)": -0.23018297706323448,
          "pct": 0.05103969754253308,
          "rca": 0.7943882343780287,
          "season": "2006-07"
         },
         {
          "composer": "Haydn,  Franz  Joseph",
          "count": 5,
          "log(rca)": -0.39571227007775506,
          "pct": 0.00945179584120983,
          "rca": 0.6732003679629611,
          "season": "2006-07"
         },
         {
          "composer": "Mendelssohn,  Felix",
          "count": 5,
          "log(rca)": -0.8214692080916177,
          "pct": 0.00945179584120983,
          "rca": 0.4397850438744934,
          "season": "2006-07"
         },
         {
          "composer": "Mozart,  Wolfgang  Amadeus",
          "count": 26,
          "log(rca)": 0.21495868865795165,
          "pct": 0.04914933837429111,
          "rca": 1.2398106776651199,
          "season": "2006-07"
         },
         {
          "composer": "Rossini,  Gioachino",
          "count": 3,
          "log(rca)": -0.45665140675760957,
          "pct": 0.005671077504725898,
          "rca": 0.6334011009261572,
          "season": "2006-07"
         },
         {
          "composer": "Weber,  Carl  Maria Von",
          "count": 9,
          "log(rca)": 0.02276042219376027,
          "pct": 0.017013232514177693,
          "rca": 1.0230214169586127,
          "season": "2006-07"
         },
         {
          "composer": "Beethoven,  Ludwig  van",
          "count": 28,
          "log(rca)": -0.16699380169779646,
          "pct": 0.05436893203883495,
          "rca": 0.8462048563543589,
          "season": "2007-08"
         },
         {
          "composer": "Haydn,  Franz  Joseph",
          "count": 3,
          "log(rca)": -0.8797163626491825,
          "pct": 0.005825242718446602,
          "rca": 0.41490057629406574,
          "season": "2007-08"
         },
         {
          "composer": "Mendelssohn,  Felix",
          "count": 12,
          "log(rca)": 0.08082106045684542,
          "pct": 0.02330097087378641,
          "rca": 1.0841768770933142,
          "season": "2007-08"
         },
         {
          "composer": "Mozart,  Wolfgang  Amadeus",
          "count": 21,
          "log(rca)": 0.02820611955445589,
          "pct": 0.040776699029126215,
          "rca": 1.028607678729038,
          "season": "2007-08"
         },
         {
          "composer": "Rossini,  Gioachino",
          "count": 10,
          "log(rca)": 0.7741429287628895,
          "pct": 0.019417475728155338,
          "rca": 2.1687325721031527,
          "season": "2007-08"
         },
         {
          "composer": "Beethoven,  Ludwig  van",
          "count": 17,
          "log(rca)": -0.6698609416614772,
          "pct": 0.03288201160541586,
          "rca": 0.5117797400789177,
          "season": "2008-09"
         },
         {
          "composer": "Haydn,  Franz  Joseph",
          "count": 2,
          "log(rca)": -1.2890574446020397,
          "pct": 0.0038684719535783366,
          "rca": 0.2755303633674325,
          "season": "2008-09"
         },
         {
          "composer": "Mendelssohn,  Felix",
          "count": 14,
          "log(rca)": 0.23109576643941065,
          "pct": 0.027079303675048357,
          "rca": 1.259979897460154,
          "season": "2008-09"
         },
         {
          "composer": "Mozart,  Wolfgang  Amadeus",
          "count": 18,
          "log(rca)": -0.1298205341174954,
          "pct": 0.03481624758220503,
          "rca": 0.8782530332336909,
          "season": "2008-09"
         },
         {
          "composer": "Rossini,  Gioachino",
          "count": 4,
          "log(rca)": -0.1460237769559585,
          "pct": 0.007736943907156673,
          "rca": 0.864137156389264,
          "season": "2008-09"
         },
         {
          "composer": "Weber,  Carl  Maria Von",
          "count": 1,
          "log(rca)": -2.151518597792589,
          "pct": 0.0019342359767891683,
          "rca": 0.11630739943501099,
          "season": "2008-09"
         },
         {
          "composer": "Beethoven,  Ludwig  van",
          "count": 32,
          "log(rca)": -0.09739394991906825,
          "pct": 0.058287795992714025,
          "rca": 0.9071985449336349,
          "season": "2009-10"
         },
         {
          "composer": "Bellini,  Vincenzo",
          "count": 1,
          "log(rca)": 0.8862633316974543,
          "pct": 0.0018214936247723133,
          "rca": 2.426047358834244,
          "season": "2009-10"
         },
         {
          "composer": "Haydn,  Franz  Joseph",
          "count": 11,
          "log(rca)": 0.35563508063528376,
          "pct": 0.020036429872495445,
          "rca": 1.4270866816672023,
          "season": "2009-10"
         },
         {
          "composer": "Mendelssohn,  Felix",
          "count": 8,
          "log(rca)": -0.38857558849711343,
          "pct": 0.014571948998178506,
          "rca": 0.6780219692811862,
          "season": "2009-10"
         },
         {
          "composer": "Mozart,  Wolfgang  Amadeus",
          "count": 28,
          "log(rca)": 0.2519566511604424,
          "pct": 0.051001821493624776,
          "rca": 1.2865402660484628,
          "season": "2009-10"
         },
         {
          "composer": "Rossini,  Gioachino",
          "count": 5,
          "log(rca)": 0.017064207357149815,
          "pct": 0.009107468123861567,
          "rca": 1.0172106326349033,
          "season": "2009-10"
         },
         {
          "composer": "Weber,  Carl  Maria Von",
          "count": 2,
          "log(rca)": -1.518426984233745,
          "pct": 0.0036429872495446266,
          "rca": 0.21905619492859993,
          "season": "2009-10"
         },
         {
          "composer": "Beethoven,  Ludwig  van",
          "count": 30,
          "log(rca)": -0.054343203589798945,
          "pct": 0.060851926977687626,
          "rca": 0.9471070001937733,
          "season": "2010-11"
         },
         {
          "composer": "Haydn,  Franz  Joseph",
          "count": 10,
          "log(rca)": 0.3679141682977995,
          "pct": 0.02028397565922921,
          "rca": 1.4447180310442451,
          "season": "2010-11"
         },
         {
          "composer": "Mendelssohn,  Felix",
          "count": 6,
          "log(rca)": -0.5686683934820539,
          "pct": 0.012170385395537525,
          "rca": 0.566278997670443,
          "season": "2010-11"
         },
         {
          "composer": "Mozart,  Wolfgang  Amadeus",
          "count": 16,
          "log(rca)": -0.2000698693081398,
          "pct": 0.032454361054766734,
          "rca": 0.8186735509250722,
          "season": "2010-11"
         },
         {
          "composer": "Rossini,  Gioachino",
          "count": 1,
          "log(rca)": -1.48478443761011,
          "pct": 0.002028397565922921,
          "rca": 0.22655117132517724,
          "season": "2010-11"
         },
         {
          "composer": "Weber,  Carl  Maria Von",
          "count": 1,
          "log(rca)": -2.10398489732685,
          "pct": 0.002028397565922921,
          "rca": 0.12196942293691822,
          "season": "2010-11"
         },
         {
          "composer": "Beethoven,  Ludwig  van",
          "count": 23,
          "log(rca)": -0.2722698899842187,
          "pct": 0.04893617021276596,
          "rca": 0.7616486719998011,
          "season": "2011-12"
         },
         {
          "composer": "Haydn,  Franz  Joseph",
          "count": 3,
          "log(rca)": -0.7882821566895507,
          "pct": 0.006382978723404255,
          "rca": 0.4546250995562635,
          "season": "2011-12"
         },
         {
          "composer": "Mendelssohn,  Felix",
          "count": 2,
          "log(rca)": -1.6195042028115776,
          "pct": 0.00425531914893617,
          "rca": 0.19799684102945278,
          "season": "2011-12"
         },
         {
          "composer": "Mozart,  Wolfgang  Amadeus",
          "count": 19,
          "log(rca)": 0.019556866957105224,
          "pct": 0.04042553191489362,
          "rca": 1.0197493552546744,
          "season": "2011-12"
         },
         {
          "composer": "Beethoven,  Ludwig  van",
          "count": 11,
          "log(rca)": -1.009868833114998,
          "pct": 0.023404255319148935,
          "rca": 0.3642667561738179,
          "season": "2012-13"
         },
         {
          "composer": "Haydn,  Franz  Joseph",
          "count": 2,
          "log(rca)": -1.193747264797715,
          "pct": 0.00425531914893617,
          "rca": 0.3030833997041757,
          "season": "2012-13"
         },
         {
          "composer": "Mendelssohn,  Felix",
          "count": 8,
          "log(rca)": -0.23320984169168707,
          "pct": 0.01702127659574468,
          "rca": 0.7919873641178111,
          "season": "2012-13"
         },
         {
          "composer": "Mozart,  Wolfgang  Amadeus",
          "count": 18,
          "log(rca)": -0.03451035431317059,
          "pct": 0.03829787234042553,
          "rca": 0.9660783365570599,
          "season": "2012-13"
         },
         {
          "composer": "Rossini,  Gioachino",
          "count": 3,
          "log(rca)": -0.3383956696034145,
          "pct": 0.006382978723404255,
          "rca": 0.7129131540211429,
          "season": "2012-13"
         },
         {
          "composer": "Weber,  Carl  Maria Von",
          "count": 2,
          "log(rca)": -1.3630612374283186,
          "pct": 0.00425531914893617,
          "rca": 0.2558762787570242,
          "season": "2012-13"
         },
         {
          "composer": "Beethoven,  Ludwig  van",
          "count": 17,
          "log(rca)": -0.5702863630706948,
          "pct": 0.03632478632478633,
          "rca": 0.5653635162837617,
          "season": "2013-14"
         },
         {
          "composer": "Haydn,  Franz  Joseph",
          "count": 1,
          "log(rca)": -1.8826300465712027,
          "pct": 0.002136752136752137,
          "rca": 0.15218931395401986,
          "season": "2013-14"
         },
         {
          "composer": "Mendelssohn,  Felix",
          "count": 3,
          "log(rca)": -1.2097746959169557,
          "pct": 0.00641025641025641,
          "rca": 0.29826447206359874,
          "season": "2013-14"
         },
         {
          "composer": "Mozart,  Wolfgang  Amadeus",
          "count": 17,
          "log(rca)": -0.08740436936666153,
          "pct": 0.03632478632478633,
          "rca": 0.9163064944314945,
          "season": "2013-14"
         },
         {
          "composer": "Rossini,  Gioachino",
          "count": 4,
          "log(rca)": -0.04644919836517596,
          "pct": 0.008547008547008548,
          "rca": 0.9546130552419863,
          "season": "2013-14"
         },
         {
          "composer": "Weber,  Carl  Maria Von",
          "count": 1,
          "log(rca)": -2.0519440192018066,
          "pct": 0.002136752136752137,
          "rca": 0.12848488356389035,
          "season": "2013-14"
         },
         {
          "composer": "Beethoven,  Ludwig  van",
          "count": 15,
          "log(rca)": -0.7555712362036828,
          "pct": 0.030181086519114688,
          "rca": 0.46974220432145897,
          "season": "2014-15"
         },
         {
          "composer": "Haydn,  Franz  Joseph",
          "count": 3,
          "log(rca)": -0.8441394880820752,
          "pct": 0.006036217303822937,
          "rca": 0.4299271565220198,
          "season": "2014-15"
         },
         {
          "composer": "Mendelssohn,  Felix",
          "count": 8,
          "log(rca)": -0.2890671730842114,
          "pct": 0.01609657947686117,
          "rca": 0.7489618936325377,
          "season": "2014-15"
         },
         {
          "composer": "Mozart,  Wolfgang  Amadeus",
          "count": 19,
          "log(rca)": -0.03630046443541919,
          "pct": 0.03822937625754527,
          "rca": 0.9643504969209195,
          "season": "2014-15"
         },
         {
          "composer": "Rossini,  Gioachino",
          "count": 1,
          "log(rca)": -1.4928652896640486,
          "pct": 0.002012072434607646,
          "rca": 0.2247278218577714,
          "season": "2014-15"
         },
         {
          "composer": "Spohr,  Louis",
          "count": 1,
          "log(rca)": 0.6673180159918217,
          "pct": 0.002012072434607646,
          "rca": 1.9490031095664901,
          "season": "2014-15"
         },
         {
          "composer": "Beethoven,  Ludwig  van",
          "count": 24,
          "log(rca)": -0.48385756693063303,
          "pct": 0.039603960396039604,
          "rca": 0.6164009915452544,
          "season": "2015-16"
         },
         {
          "composer": "Hummel,  Johann",
          "count": 1,
          "log(rca)": 1.298307410903661,
          "pct": 0.0016501650165016502,
          "rca": 3.663091309130913,
          "season": "2015-16"
         },
         {
          "composer": "Mendelssohn,  Felix",
          "count": 5,
          "log(rca)": -0.9573607623026329,
          "pct": 0.00825082508250825,
          "rca": 0.38390476602245377,
          "season": "2015-16"
         },
         {
          "composer": "Mozart,  Wolfgang  Amadeus",
          "count": 15,
          "log(rca)": -0.4709792024723352,
          "pct": 0.024752475247524754,
          "rca": 0.6243905640564057,
          "season": "2015-16"
         },
         {
          "composer": "Rossini,  Gioachino",
          "count": 5,
          "log(rca)": -0.08171733720263416,
          "pct": 0.00825082508250825,
          "rca": 0.9215324048128083,
          "season": "2015-16"
         },
         {
          "composer": "Beethoven,  Ludwig  van",
          "count": 23,
          "log(rca)": -0.10095140653459506,
          "pct": 0.05808080808080808,
          "rca": 0.9039769591916831,
          "season": "2016-17"
         },
         {
          "composer": "Haydn,  Franz  Joseph",
          "count": 2,
          "log(rca)": -1.0224287813480912,
          "pct": 0.005050505050505051,
          "rca": 0.3597201966185924,
          "season": "2016-17"
         },
         {
          "composer": "Mendelssohn,  Felix",
          "count": 3,
          "log(rca)": -1.0427206112537895,
          "pct": 0.007575757575757576,
          "rca": 0.35249437607516215,
          "season": "2016-17"
         },
         {
          "composer": "Mozart,  Wolfgang  Amadeus",
          "count": 16,
          "log(rca)": 0.01902509348006983,
          "pct": 0.04040404040404041,
          "rca": 1.0192072237526784,
          "season": "2016-17"
         },
         {
          "composer": "Rossini,  Gioachino",
          "count": 4,
          "log(rca)": 0.12060488629799025,
          "pct": 0.010101010101010102,
          "rca": 1.1281790652859838,
          "season": "2016-17"
         },
         {
          "composer": "Beethoven,  Ludwig  van",
          "count": 2,
          "log(rca)": -0.7515389726757444,
          "pct": 0.030303030303030304,
          "rca": 0.4716401526217477,
          "season": "2017-18"
         },
         {
          "composer": "Haydn,  Franz  Joseph",
          "count": 4,
          "log(rca)": 1.462477868439909,
          "pct": 0.06060606060606061,
          "rca": 4.316642359423108,
          "season": "2017-18"
         },
         {
          "composer": "Mendelssohn,  Felix",
          "count": 1,
          "log(rca)": -0.3495734306938443,
          "pct": 0.015151515151515152,
          "rca": 0.7049887521503243,
          "season": "2017-18"
         },
         {
          "composer": "Mozart,  Wolfgang  Amadeus",
          "count": 2,
          "log(rca)": -0.2686569789717111,
          "pct": 0.030303030303030304,
          "rca": 0.7644054178145088,
          "season": "2017-18"
         },
         {
          "composer": "Weber,  Carl  Maria Von",
          "count": 1,
          "log(rca)": -0.09313046531058528,
          "pct": 0.015151515151515152,
          "rca": 0.9110746289075861,
          "season": "2017-18"
         }
        ]
       },
       "facet": {
        "row": {
         "field": "composer",
         "type": "nominal"
        }
       },
       "spec": {
        "encoding": {
         "x": {
          "field": "season",
          "type": "ordinal"
         },
         "y": {
          "field": "log(rca)",
          "type": "quantitative"
         }
        },
        "height": 100,
        "mark": "bar",
        "width": 600
       }
      },
      "text/plain": [
       "<VegaLite 2 object>"
      ]
     },
     "execution_count": 188,
     "metadata": {},
     "output_type": "execute_result"
    }
   ],
   "source": [
    "alt.Chart(\n",
    "    programs[premiere_composers & top_composers].reset_index(),\n",
    "    width=600,\n",
    "    height=100\n",
    ").mark_bar().encode(\n",
    "    x=\"season:O\",\n",
    "    y=\"log(rca):Q\"\n",
    ").facet(row=\"composer:N\")"
   ]
  },
  {
   "cell_type": "markdown",
   "metadata": {},
   "source": [
    "At this point, I’m a little unsure whether RCA is a good measure of a composer’s popularity—but perhaps that's just because Beethoven’s popularity seems to have declined since the 19<sup>th</sup> century. The question is: is his popularity really dwindling, or is it just that an increasing number of composers to choose from is watering down his RCA?"
   ]
  },
  {
   "cell_type": "code",
   "execution_count": null,
   "metadata": {},
   "outputs": [],
   "source": []
  }
 ],
 "metadata": {
  "kernelspec": {
   "display_name": "Python 3",
   "language": "python",
   "name": "python3"
  },
  "language_info": {
   "codemirror_mode": {
    "name": "ipython",
    "version": 3
   },
   "file_extension": ".py",
   "mimetype": "text/x-python",
   "name": "python",
   "nbconvert_exporter": "python",
   "pygments_lexer": "ipython3",
   "version": "3.6.4"
  }
 },
 "nbformat": 4,
 "nbformat_minor": 2
}
