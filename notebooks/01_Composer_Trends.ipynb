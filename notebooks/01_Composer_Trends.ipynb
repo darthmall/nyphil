{
 "cells": [
  {
   "cell_type": "markdown",
   "metadata": {},
   "source": [
    "# Composer Trends\n",
    "\n",
    "One thing I’m interested in is how the popularity of various composers changed over time. So let’s take a look at how many times each composer was programmed per season."
   ]
  },
  {
   "cell_type": "code",
   "execution_count": 30,
   "metadata": {},
   "outputs": [],
   "source": [
    "import altair as alt\n",
    "import numpy as np\n",
    "import pandas as pd"
   ]
  },
  {
   "cell_type": "code",
   "execution_count": 3,
   "metadata": {},
   "outputs": [],
   "source": [
    "df = pd.read_csv(\"../data/works.csv\")"
   ]
  },
  {
   "cell_type": "code",
   "execution_count": 4,
   "metadata": {},
   "outputs": [
    {
     "data": {
      "text/html": [
       "<div>\n",
       "<style scoped>\n",
       "    .dataframe tbody tr th:only-of-type {\n",
       "        vertical-align: middle;\n",
       "    }\n",
       "\n",
       "    .dataframe tbody tr th {\n",
       "        vertical-align: top;\n",
       "    }\n",
       "\n",
       "    .dataframe thead th {\n",
       "        text-align: right;\n",
       "    }\n",
       "</style>\n",
       "<table border=\"1\" class=\"dataframe\">\n",
       "  <thead>\n",
       "    <tr style=\"text-align: right;\">\n",
       "      <th></th>\n",
       "      <th>season</th>\n",
       "      <th>program</th>\n",
       "      <th>work</th>\n",
       "      <th>movement</th>\n",
       "      <th>composer</th>\n",
       "      <th>title</th>\n",
       "    </tr>\n",
       "  </thead>\n",
       "  <tbody>\n",
       "    <tr>\n",
       "      <th>0</th>\n",
       "      <td>1842-43</td>\n",
       "      <td>3853</td>\n",
       "      <td>52446</td>\n",
       "      <td>NaN</td>\n",
       "      <td>Beethoven,  Ludwig  van</td>\n",
       "      <td>SYMPHONY NO. 5 IN C MINOR, OP.67</td>\n",
       "    </tr>\n",
       "    <tr>\n",
       "      <th>1</th>\n",
       "      <td>1842-43</td>\n",
       "      <td>3853</td>\n",
       "      <td>8834</td>\n",
       "      <td>4.0</td>\n",
       "      <td>Weber,  Carl  Maria Von</td>\n",
       "      <td>OBERON</td>\n",
       "    </tr>\n",
       "    <tr>\n",
       "      <th>2</th>\n",
       "      <td>1842-43</td>\n",
       "      <td>3853</td>\n",
       "      <td>3642</td>\n",
       "      <td>NaN</td>\n",
       "      <td>Hummel,  Johann</td>\n",
       "      <td>QUINTET, PIANO, D MINOR, OP. 74</td>\n",
       "    </tr>\n",
       "    <tr>\n",
       "      <th>3</th>\n",
       "      <td>1842-43</td>\n",
       "      <td>3853</td>\n",
       "      <td>8834</td>\n",
       "      <td>3.0</td>\n",
       "      <td>Weber,  Carl  Maria Von</td>\n",
       "      <td>OBERON</td>\n",
       "    </tr>\n",
       "    <tr>\n",
       "      <th>4</th>\n",
       "      <td>1842-43</td>\n",
       "      <td>3853</td>\n",
       "      <td>8835</td>\n",
       "      <td>1.0</td>\n",
       "      <td>Rossini,  Gioachino</td>\n",
       "      <td>ARMIDA</td>\n",
       "    </tr>\n",
       "  </tbody>\n",
       "</table>\n",
       "</div>"
      ],
      "text/plain": [
       "    season  program   work  movement                 composer  \\\n",
       "0  1842-43     3853  52446       NaN  Beethoven,  Ludwig  van   \n",
       "1  1842-43     3853   8834       4.0  Weber,  Carl  Maria Von   \n",
       "2  1842-43     3853   3642       NaN          Hummel,  Johann   \n",
       "3  1842-43     3853   8834       3.0  Weber,  Carl  Maria Von   \n",
       "4  1842-43     3853   8835       1.0      Rossini,  Gioachino   \n",
       "\n",
       "                              title  \n",
       "0  SYMPHONY NO. 5 IN C MINOR, OP.67  \n",
       "1                            OBERON  \n",
       "2   QUINTET, PIANO, D MINOR, OP. 74  \n",
       "3                            OBERON  \n",
       "4                            ARMIDA  "
      ]
     },
     "execution_count": 4,
     "metadata": {},
     "output_type": "execute_result"
    }
   ],
   "source": [
    "df.head()"
   ]
  },
  {
   "cell_type": "markdown",
   "metadata": {},
   "source": [
    "Looking at the distribution of the number of times each composer was programmed, we can see that at least 50% of all of the composers ever performed were only programmed one time, and only 25% of composers were performed at least four times. We’ll need to find some minimum threshold for sufficiently popular composers."
   ]
  },
  {
   "cell_type": "code",
   "execution_count": 28,
   "metadata": {},
   "outputs": [
    {
     "data": {
      "text/html": [
       "<div>\n",
       "<style scoped>\n",
       "    .dataframe tbody tr th:only-of-type {\n",
       "        vertical-align: middle;\n",
       "    }\n",
       "\n",
       "    .dataframe tbody tr th {\n",
       "        vertical-align: top;\n",
       "    }\n",
       "\n",
       "    .dataframe thead th {\n",
       "        text-align: right;\n",
       "    }\n",
       "</style>\n",
       "<table border=\"1\" class=\"dataframe\">\n",
       "  <thead>\n",
       "    <tr style=\"text-align: right;\">\n",
       "      <th></th>\n",
       "      <th>season</th>\n",
       "      <th>program</th>\n",
       "      <th>work</th>\n",
       "    </tr>\n",
       "  </thead>\n",
       "  <tbody>\n",
       "    <tr>\n",
       "      <th>count</th>\n",
       "      <td>2778.000000</td>\n",
       "      <td>2778.000000</td>\n",
       "      <td>2778.000000</td>\n",
       "    </tr>\n",
       "    <tr>\n",
       "      <th>mean</th>\n",
       "      <td>5.696904</td>\n",
       "      <td>19.177826</td>\n",
       "      <td>4.294816</td>\n",
       "    </tr>\n",
       "    <tr>\n",
       "      <th>std</th>\n",
       "      <td>16.503410</td>\n",
       "      <td>132.931394</td>\n",
       "      <td>17.536582</td>\n",
       "    </tr>\n",
       "    <tr>\n",
       "      <th>min</th>\n",
       "      <td>1.000000</td>\n",
       "      <td>1.000000</td>\n",
       "      <td>1.000000</td>\n",
       "    </tr>\n",
       "    <tr>\n",
       "      <th>25%</th>\n",
       "      <td>1.000000</td>\n",
       "      <td>1.000000</td>\n",
       "      <td>1.000000</td>\n",
       "    </tr>\n",
       "    <tr>\n",
       "      <th>50%</th>\n",
       "      <td>1.000000</td>\n",
       "      <td>1.000000</td>\n",
       "      <td>1.000000</td>\n",
       "    </tr>\n",
       "    <tr>\n",
       "      <th>75%</th>\n",
       "      <td>3.000000</td>\n",
       "      <td>4.000000</td>\n",
       "      <td>3.000000</td>\n",
       "    </tr>\n",
       "    <tr>\n",
       "      <th>max</th>\n",
       "      <td>176.000000</td>\n",
       "      <td>3423.000000</td>\n",
       "      <td>645.000000</td>\n",
       "    </tr>\n",
       "  </tbody>\n",
       "</table>\n",
       "</div>"
      ],
      "text/plain": [
       "            season      program         work\n",
       "count  2778.000000  2778.000000  2778.000000\n",
       "mean      5.696904    19.177826     4.294816\n",
       "std      16.503410   132.931394    17.536582\n",
       "min       1.000000     1.000000     1.000000\n",
       "25%       1.000000     1.000000     1.000000\n",
       "50%       1.000000     1.000000     1.000000\n",
       "75%       3.000000     4.000000     3.000000\n",
       "max     176.000000  3423.000000   645.000000"
      ]
     },
     "execution_count": 28,
     "metadata": {},
     "output_type": "execute_result"
    }
   ],
   "source": [
    "composers = df.groupby(\"composer\").nunique().drop(columns=[\"composer\", \"title\", \"movement\"])\n",
    "composers.describe()"
   ]
  },
  {
   "cell_type": "code",
   "execution_count": 32,
   "metadata": {},
   "outputs": [
    {
     "data": {
      "text/html": [
       "<div>\n",
       "<style scoped>\n",
       "    .dataframe tbody tr th:only-of-type {\n",
       "        vertical-align: middle;\n",
       "    }\n",
       "\n",
       "    .dataframe tbody tr th {\n",
       "        vertical-align: top;\n",
       "    }\n",
       "\n",
       "    .dataframe thead th {\n",
       "        text-align: right;\n",
       "    }\n",
       "</style>\n",
       "<table border=\"1\" class=\"dataframe\">\n",
       "  <thead>\n",
       "    <tr style=\"text-align: right;\">\n",
       "      <th></th>\n",
       "      <th>season</th>\n",
       "      <th>program</th>\n",
       "      <th>work</th>\n",
       "    </tr>\n",
       "  </thead>\n",
       "  <tbody>\n",
       "    <tr>\n",
       "      <th>0.0</th>\n",
       "      <td>1.0</td>\n",
       "      <td>1.0</td>\n",
       "      <td>1.0</td>\n",
       "    </tr>\n",
       "    <tr>\n",
       "      <th>0.1</th>\n",
       "      <td>1.0</td>\n",
       "      <td>1.0</td>\n",
       "      <td>1.0</td>\n",
       "    </tr>\n",
       "    <tr>\n",
       "      <th>0.2</th>\n",
       "      <td>1.0</td>\n",
       "      <td>1.0</td>\n",
       "      <td>1.0</td>\n",
       "    </tr>\n",
       "    <tr>\n",
       "      <th>0.3</th>\n",
       "      <td>1.0</td>\n",
       "      <td>1.0</td>\n",
       "      <td>1.0</td>\n",
       "    </tr>\n",
       "    <tr>\n",
       "      <th>0.4</th>\n",
       "      <td>1.0</td>\n",
       "      <td>1.0</td>\n",
       "      <td>1.0</td>\n",
       "    </tr>\n",
       "    <tr>\n",
       "      <th>0.5</th>\n",
       "      <td>1.0</td>\n",
       "      <td>1.0</td>\n",
       "      <td>1.0</td>\n",
       "    </tr>\n",
       "    <tr>\n",
       "      <th>0.6</th>\n",
       "      <td>2.0</td>\n",
       "      <td>2.0</td>\n",
       "      <td>1.0</td>\n",
       "    </tr>\n",
       "    <tr>\n",
       "      <th>0.7</th>\n",
       "      <td>2.0</td>\n",
       "      <td>3.0</td>\n",
       "      <td>2.0</td>\n",
       "    </tr>\n",
       "    <tr>\n",
       "      <th>0.8</th>\n",
       "      <td>4.0</td>\n",
       "      <td>5.0</td>\n",
       "      <td>3.0</td>\n",
       "    </tr>\n",
       "    <tr>\n",
       "      <th>0.9</th>\n",
       "      <td>10.0</td>\n",
       "      <td>14.0</td>\n",
       "      <td>7.0</td>\n",
       "    </tr>\n",
       "    <tr>\n",
       "      <th>1.0</th>\n",
       "      <td>176.0</td>\n",
       "      <td>3423.0</td>\n",
       "      <td>645.0</td>\n",
       "    </tr>\n",
       "  </tbody>\n",
       "</table>\n",
       "</div>"
      ],
      "text/plain": [
       "     season  program   work\n",
       "0.0     1.0      1.0    1.0\n",
       "0.1     1.0      1.0    1.0\n",
       "0.2     1.0      1.0    1.0\n",
       "0.3     1.0      1.0    1.0\n",
       "0.4     1.0      1.0    1.0\n",
       "0.5     1.0      1.0    1.0\n",
       "0.6     2.0      2.0    1.0\n",
       "0.7     2.0      3.0    2.0\n",
       "0.8     4.0      5.0    3.0\n",
       "0.9    10.0     14.0    7.0\n",
       "1.0   176.0   3423.0  645.0"
      ]
     },
     "execution_count": 32,
     "metadata": {},
     "output_type": "execute_result"
    }
   ],
   "source": [
    "composers.quantile(np.arange(0, 1.1, .1))"
   ]
  },
  {
   "cell_type": "code",
   "execution_count": 157,
   "metadata": {},
   "outputs": [
    {
     "data": {
      "text/html": [
       "<div>\n",
       "<style scoped>\n",
       "    .dataframe tbody tr th:only-of-type {\n",
       "        vertical-align: middle;\n",
       "    }\n",
       "\n",
       "    .dataframe tbody tr th {\n",
       "        vertical-align: top;\n",
       "    }\n",
       "\n",
       "    .dataframe thead th {\n",
       "        text-align: right;\n",
       "    }\n",
       "</style>\n",
       "<table border=\"1\" class=\"dataframe\">\n",
       "  <thead>\n",
       "    <tr style=\"text-align: right;\">\n",
       "      <th></th>\n",
       "      <th></th>\n",
       "      <th>count</th>\n",
       "    </tr>\n",
       "    <tr>\n",
       "      <th>season</th>\n",
       "      <th>composer</th>\n",
       "      <th></th>\n",
       "    </tr>\n",
       "  </thead>\n",
       "  <tbody>\n",
       "    <tr>\n",
       "      <th rowspan=\"5\" valign=\"top\">1842-43</th>\n",
       "      <th>Beethoven,  Ludwig  van</th>\n",
       "      <td>4</td>\n",
       "    </tr>\n",
       "    <tr>\n",
       "      <th>Bellini,  Vincenzo</th>\n",
       "      <td>1</td>\n",
       "    </tr>\n",
       "    <tr>\n",
       "      <th>Haydn,  Franz  Joseph</th>\n",
       "      <td>1</td>\n",
       "    </tr>\n",
       "    <tr>\n",
       "      <th>Herz,  Henri</th>\n",
       "      <td>1</td>\n",
       "    </tr>\n",
       "    <tr>\n",
       "      <th>Hummel,  Johann</th>\n",
       "      <td>3</td>\n",
       "    </tr>\n",
       "  </tbody>\n",
       "</table>\n",
       "</div>"
      ],
      "text/plain": [
       "                                 count\n",
       "season  composer                      \n",
       "1842-43 Beethoven,  Ludwig  van      4\n",
       "        Bellini,  Vincenzo           1\n",
       "        Haydn,  Franz  Joseph        1\n",
       "        Herz,  Henri                 1\n",
       "        Hummel,  Johann              3"
      ]
     },
     "execution_count": 157,
     "metadata": {},
     "output_type": "execute_result"
    }
   ],
   "source": [
    "programs = pd.DataFrame({\n",
    "    \"count\": df.groupby([\"season\", \"composer\"])[\"program\"].nunique()\n",
    "})\n",
    "\n",
    "programs.head()"
   ]
  },
  {
   "cell_type": "code",
   "execution_count": 158,
   "metadata": {},
   "outputs": [
    {
     "data": {
      "text/html": [
       "<div>\n",
       "<style scoped>\n",
       "    .dataframe tbody tr th:only-of-type {\n",
       "        vertical-align: middle;\n",
       "    }\n",
       "\n",
       "    .dataframe tbody tr th {\n",
       "        vertical-align: top;\n",
       "    }\n",
       "\n",
       "    .dataframe thead th {\n",
       "        text-align: right;\n",
       "    }\n",
       "</style>\n",
       "<table border=\"1\" class=\"dataframe\">\n",
       "  <thead>\n",
       "    <tr style=\"text-align: right;\">\n",
       "      <th></th>\n",
       "      <th></th>\n",
       "      <th>count</th>\n",
       "      <th>pct</th>\n",
       "    </tr>\n",
       "    <tr>\n",
       "      <th>season</th>\n",
       "      <th>composer</th>\n",
       "      <th></th>\n",
       "      <th></th>\n",
       "    </tr>\n",
       "  </thead>\n",
       "  <tbody>\n",
       "    <tr>\n",
       "      <th rowspan=\"5\" valign=\"top\">1842-43</th>\n",
       "      <th>Beethoven,  Ludwig  van</th>\n",
       "      <td>4</td>\n",
       "      <td>0.142857</td>\n",
       "    </tr>\n",
       "    <tr>\n",
       "      <th>Bellini,  Vincenzo</th>\n",
       "      <td>1</td>\n",
       "      <td>0.035714</td>\n",
       "    </tr>\n",
       "    <tr>\n",
       "      <th>Haydn,  Franz  Joseph</th>\n",
       "      <td>1</td>\n",
       "      <td>0.035714</td>\n",
       "    </tr>\n",
       "    <tr>\n",
       "      <th>Herz,  Henri</th>\n",
       "      <td>1</td>\n",
       "      <td>0.035714</td>\n",
       "    </tr>\n",
       "    <tr>\n",
       "      <th>Hummel,  Johann</th>\n",
       "      <td>3</td>\n",
       "      <td>0.107143</td>\n",
       "    </tr>\n",
       "  </tbody>\n",
       "</table>\n",
       "</div>"
      ],
      "text/plain": [
       "                                 count       pct\n",
       "season  composer                                \n",
       "1842-43 Beethoven,  Ludwig  van      4  0.142857\n",
       "        Bellini,  Vincenzo           1  0.035714\n",
       "        Haydn,  Franz  Joseph        1  0.035714\n",
       "        Herz,  Henri                 1  0.035714\n",
       "        Hummel,  Johann              3  0.107143"
      ]
     },
     "execution_count": 158,
     "metadata": {},
     "output_type": "execute_result"
    }
   ],
   "source": [
    "l, r = programs.align(programs.groupby(\"season\")[\"count\"].sum(), axis=0, level=\"season\")\n",
    "programs[\"pct\"] = l[\"count\"] / r\n",
    "programs.head()"
   ]
  },
  {
   "cell_type": "code",
   "execution_count": 159,
   "metadata": {},
   "outputs": [
    {
     "data": {
      "text/html": [
       "<div>\n",
       "<style scoped>\n",
       "    .dataframe tbody tr th:only-of-type {\n",
       "        vertical-align: middle;\n",
       "    }\n",
       "\n",
       "    .dataframe tbody tr th {\n",
       "        vertical-align: top;\n",
       "    }\n",
       "\n",
       "    .dataframe thead th {\n",
       "        text-align: right;\n",
       "    }\n",
       "</style>\n",
       "<table border=\"1\" class=\"dataframe\">\n",
       "  <thead>\n",
       "    <tr style=\"text-align: right;\">\n",
       "      <th></th>\n",
       "      <th></th>\n",
       "      <th>count</th>\n",
       "      <th>pct</th>\n",
       "      <th>rca</th>\n",
       "    </tr>\n",
       "    <tr>\n",
       "      <th>season</th>\n",
       "      <th>composer</th>\n",
       "      <th></th>\n",
       "      <th></th>\n",
       "      <th></th>\n",
       "    </tr>\n",
       "  </thead>\n",
       "  <tbody>\n",
       "    <tr>\n",
       "      <th rowspan=\"5\" valign=\"top\">1842-43</th>\n",
       "      <th>Beethoven,  Ludwig  van</th>\n",
       "      <td>4</td>\n",
       "      <td>0.142857</td>\n",
       "      <td>2.223446</td>\n",
       "    </tr>\n",
       "    <tr>\n",
       "      <th>Bellini,  Vincenzo</th>\n",
       "      <td>1</td>\n",
       "      <td>0.035714</td>\n",
       "      <td>47.567857</td>\n",
       "    </tr>\n",
       "    <tr>\n",
       "      <th>Haydn,  Franz  Joseph</th>\n",
       "      <td>1</td>\n",
       "      <td>0.035714</td>\n",
       "      <td>2.543736</td>\n",
       "    </tr>\n",
       "    <tr>\n",
       "      <th>Herz,  Henri</th>\n",
       "      <td>1</td>\n",
       "      <td>0.035714</td>\n",
       "      <td>1902.714286</td>\n",
       "    </tr>\n",
       "    <tr>\n",
       "      <th>Hummel,  Johann</th>\n",
       "      <td>3</td>\n",
       "      <td>0.107143</td>\n",
       "      <td>237.839286</td>\n",
       "    </tr>\n",
       "  </tbody>\n",
       "</table>\n",
       "</div>"
      ],
      "text/plain": [
       "                                 count       pct          rca\n",
       "season  composer                                             \n",
       "1842-43 Beethoven,  Ludwig  van      4  0.142857     2.223446\n",
       "        Bellini,  Vincenzo           1  0.035714    47.567857\n",
       "        Haydn,  Franz  Joseph        1  0.035714     2.543736\n",
       "        Herz,  Henri                 1  0.035714  1902.714286\n",
       "        Hummel,  Johann              3  0.107143   237.839286"
      ]
     },
     "execution_count": 159,
     "metadata": {},
     "output_type": "execute_result"
    }
   ],
   "source": [
    "# Calculate the revealed comparative advantage for the composers by season.\n",
    "l, r = programs.align(\n",
    "    programs.groupby(\"composer\")[\"count\"].sum() / programs[\"count\"].sum(),\n",
    "    axis=0,\n",
    "    level=\"composer\")\n",
    "\n",
    "programs[\"rca\"] = l[\"pct\"] / r\n",
    "programs.head()"
   ]
  },
  {
   "cell_type": "code",
   "execution_count": 160,
   "metadata": {},
   "outputs": [
    {
     "data": {
      "text/html": [
       "<div>\n",
       "<style scoped>\n",
       "    .dataframe tbody tr th:only-of-type {\n",
       "        vertical-align: middle;\n",
       "    }\n",
       "\n",
       "    .dataframe tbody tr th {\n",
       "        vertical-align: top;\n",
       "    }\n",
       "\n",
       "    .dataframe thead th {\n",
       "        text-align: right;\n",
       "    }\n",
       "</style>\n",
       "<table border=\"1\" class=\"dataframe\">\n",
       "  <thead>\n",
       "    <tr style=\"text-align: right;\">\n",
       "      <th></th>\n",
       "      <th></th>\n",
       "      <th>count</th>\n",
       "      <th>pct</th>\n",
       "      <th>rca</th>\n",
       "      <th>log(rca)</th>\n",
       "    </tr>\n",
       "    <tr>\n",
       "      <th>season</th>\n",
       "      <th>composer</th>\n",
       "      <th></th>\n",
       "      <th></th>\n",
       "      <th></th>\n",
       "      <th></th>\n",
       "    </tr>\n",
       "  </thead>\n",
       "  <tbody>\n",
       "    <tr>\n",
       "      <th rowspan=\"5\" valign=\"top\">1842-43</th>\n",
       "      <th>Beethoven,  Ludwig  van</th>\n",
       "      <td>4</td>\n",
       "      <td>0.142857</td>\n",
       "      <td>2.223446</td>\n",
       "      <td>0.799058</td>\n",
       "    </tr>\n",
       "    <tr>\n",
       "      <th>Bellini,  Vincenzo</th>\n",
       "      <td>1</td>\n",
       "      <td>0.035714</td>\n",
       "      <td>47.567857</td>\n",
       "      <td>3.862157</td>\n",
       "    </tr>\n",
       "    <tr>\n",
       "      <th>Haydn,  Franz  Joseph</th>\n",
       "      <td>1</td>\n",
       "      <td>0.035714</td>\n",
       "      <td>2.543736</td>\n",
       "      <td>0.933634</td>\n",
       "    </tr>\n",
       "    <tr>\n",
       "      <th>Herz,  Henri</th>\n",
       "      <td>1</td>\n",
       "      <td>0.035714</td>\n",
       "      <td>1902.714286</td>\n",
       "      <td>7.551037</td>\n",
       "    </tr>\n",
       "    <tr>\n",
       "      <th>Hummel,  Johann</th>\n",
       "      <td>3</td>\n",
       "      <td>0.107143</td>\n",
       "      <td>237.839286</td>\n",
       "      <td>5.471595</td>\n",
       "    </tr>\n",
       "  </tbody>\n",
       "</table>\n",
       "</div>"
      ],
      "text/plain": [
       "                                 count       pct          rca  log(rca)\n",
       "season  composer                                                       \n",
       "1842-43 Beethoven,  Ludwig  van      4  0.142857     2.223446  0.799058\n",
       "        Bellini,  Vincenzo           1  0.035714    47.567857  3.862157\n",
       "        Haydn,  Franz  Joseph        1  0.035714     2.543736  0.933634\n",
       "        Herz,  Henri                 1  0.035714  1902.714286  7.551037\n",
       "        Hummel,  Johann              3  0.107143   237.839286  5.471595"
      ]
     },
     "execution_count": 160,
     "metadata": {},
     "output_type": "execute_result"
    }
   ],
   "source": [
    "programs[\"log(rca)\"] = np.log(programs[\"rca\"])\n",
    "programs.head()"
   ]
  },
  {
   "cell_type": "markdown",
   "metadata": {},
   "source": [
    "The log of the revealed comparative advantage gives us a way to determine the relative unusualness of the presence of each composer in a given season. Scores above 0 indicate that a composer was performed more than expected that season. We can look at how a composer’s RCA changes over time to get a sense for how that composer’s popularity has changed over the course of the philharmonic’s history."
   ]
  },
  {
   "cell_type": "code",
   "execution_count": 89,
   "metadata": {},
   "outputs": [
    {
     "data": {
      "application/vnd.vegalite.v2+json": {
       "$schema": "https://vega.github.io/schema/vega-lite/v2.json",
       "config": {
        "view": {
         "height": 300,
         "width": 400
        }
       },
       "data": {
        "values": [
         {
          "count": 4,
          "log(rca)": 0.7990584397354225,
          "pct": 0.14285714285714285,
          "rca": 2.223446433788239,
          "season": "1842-43"
         },
         {
          "count": 2,
          "log(rca)": 0.34707331599236535,
          "pct": 0.09090909090909091,
          "rca": 1.4149204578652432,
          "season": "1843-44"
         },
         {
          "count": 4,
          "log(rca)": 0.9957687339814768,
          "pct": 0.17391304347826086,
          "rca": 2.706804354176987,
          "season": "1844-45"
         },
         {
          "count": 3,
          "log(rca)": 0.40959367297369914,
          "pct": 0.0967741935483871,
          "rca": 1.5062056486952586,
          "season": "1845-46"
         },
         {
          "count": 3,
          "log(rca)": 0.6655270471108998,
          "pct": 0.125,
          "rca": 1.9455156295647091,
          "season": "1846-47"
         },
         {
          "count": 3,
          "log(rca)": 0.7080866615296959,
          "pct": 0.13043478260869565,
          "rca": 2.0301032656327402,
          "season": "1847-48"
         },
         {
          "count": 1,
          "log(rca)": -0.2995538489326872,
          "pct": 0.047619047619047616,
          "rca": 0.7411488112627463,
          "season": "1848-49"
         },
         {
          "count": 2,
          "log(rca)": 0.6655270471108998,
          "pct": 0.125,
          "rca": 1.9455156295647091,
          "season": "1849-50"
         },
         {
          "count": 2,
          "log(rca)": 0.34707331599236535,
          "pct": 0.09090909090909091,
          "rca": 1.4149204578652432,
          "season": "1850-51"
         },
         {
          "count": 2,
          "log(rca)": 0.30262155342153146,
          "pct": 0.08695652173913043,
          "rca": 1.3534021770884934,
          "season": "1851-52"
         },
         {
          "count": 3,
          "log(rca)": 0.5113763672836416,
          "pct": 0.10714285714285714,
          "rca": 1.6675848253411794,
          "season": "1852-53"
         },
         {
          "count": 3,
          "log(rca)": 0.5854843394373636,
          "pct": 0.11538461538461539,
          "rca": 1.7958605811366548,
          "season": "1853-54"
         },
         {
          "count": 4,
          "log(rca)": 0.730065568248471,
          "pct": 0.13333333333333333,
          "rca": 2.07521667153569,
          "season": "1854-55"
         },
         {
          "count": 2,
          "log(rca)": 0.2600619390027354,
          "pct": 0.08333333333333333,
          "rca": 1.297010419709806,
          "season": "1855-56"
         },
         {
          "count": 3,
          "log(rca)": 0.5477440114545163,
          "pct": 0.1111111111111111,
          "rca": 1.7293472262797414,
          "season": "1856-57"
         },
         {
          "count": 3,
          "log(rca)": 0.5854843394373636,
          "pct": 0.11538461538461539,
          "rca": 1.7958605811366548,
          "season": "1857-58"
         },
         {
          "count": 3,
          "log(rca)": 0.2600619390027354,
          "pct": 0.08333333333333333,
          "rca": 1.297010419709806,
          "season": "1858-59"
         },
         {
          "count": 4,
          "log(rca)": 0.604902425294465,
          "pct": 0.11764705882352941,
          "rca": 1.8310735337079616,
          "season": "1859-60"
         },
         {
          "count": 4,
          "log(rca)": 0.3246004601403067,
          "pct": 0.08888888888888889,
          "rca": 1.3834777810237933,
          "season": "1860-61"
         },
         {
          "count": 5,
          "log(rca)": 0.857898939758356,
          "pct": 0.15151515151515152,
          "rca": 2.3582007631087385,
          "season": "1861-62"
         },
         {
          "count": 4,
          "log(rca)": 0.7990584397354225,
          "pct": 0.14285714285714285,
          "rca": 2.223446433788239,
          "season": "1862-63"
         },
         {
          "count": 4,
          "log(rca)": 0.520345037266402,
          "pct": 0.10810810810810811,
          "rca": 1.6826081120559648,
          "season": "1863-64"
         },
         {
          "count": 4,
          "log(rca)": 0.9123871250424256,
          "pct": 0.16,
          "rca": 2.4902600058428277,
          "season": "1864-65"
         },
         {
          "count": 3,
          "log(rca)": 0.5854843394373636,
          "pct": 0.11538461538461539,
          "rca": 1.7958605811366548,
          "season": "1865-66"
         },
         {
          "count": 5,
          "log(rca)": 0.8886705984251096,
          "pct": 0.15625,
          "rca": 2.4318945369558866,
          "season": "1866-67"
         },
         {
          "count": 3,
          "log(rca)": 0.6655270471108998,
          "pct": 0.125,
          "rca": 1.9455156295647091,
          "season": "1867-68"
         },
         {
          "count": 6,
          "log(rca)": 1.1694322280323166,
          "pct": 0.20689655172413793,
          "rca": 3.220163800658829,
          "season": "1868-69"
         },
         {
          "count": 4,
          "log(rca)": 0.730065568248471,
          "pct": 0.13333333333333333,
          "rca": 2.07521667153569,
          "season": "1869-70"
         },
         {
          "count": 5,
          "log(rca)": 0.857898939758356,
          "pct": 0.15151515151515152,
          "rca": 2.3582007631087385,
          "season": "1870-71"
         },
         {
          "count": 5,
          "log(rca)": 0.8280459766086748,
          "pct": 0.14705882352941177,
          "rca": 2.288841917134952,
          "season": "1871-72"
         },
         {
          "count": 3,
          "log(rca)": 0.5113763672836416,
          "pct": 0.10714285714285714,
          "rca": 1.6675848253411794,
          "season": "1872-73"
         },
         {
          "count": 3,
          "log(rca)": 0.44238349579669023,
          "pct": 0.1,
          "rca": 1.5564125036517675,
          "season": "1873-74"
         },
         {
          "count": 4,
          "log(rca)": 0.5477440114545163,
          "pct": 0.1111111111111111,
          "rca": 1.7293472262797414,
          "season": "1874-75"
         },
         {
          "count": 4,
          "log(rca)": 0.6972757454254802,
          "pct": 0.12903225806451613,
          "rca": 2.008274198260345,
          "season": "1875-76"
         },
         {
          "count": 7,
          "log(rca)": 1.1073597993899391,
          "pct": 0.19444444444444445,
          "rca": 3.0263576459895476,
          "season": "1876-77"
         },
         {
          "count": 5,
          "log(rca)": 1.1355306763566355,
          "pct": 0.2,
          "rca": 3.112825007303535,
          "season": "1877-78"
         },
         {
          "count": 11,
          "log(rca)": 0.6542274918569665,
          "pct": 0.12359550561797752,
          "rca": 1.9236559033898248,
          "season": "1878-79"
         },
         {
          "count": 12,
          "log(rca)": 1.0554879686830991,
          "pct": 0.18461538461538463,
          "rca": 2.873376929818648,
          "season": "1879-80"
         },
         {
          "count": 9,
          "log(rca)": 1.0503728680163287,
          "pct": 0.1836734693877551,
          "rca": 2.858716843442022,
          "season": "1880-81"
         },
         {
          "count": 11,
          "log(rca)": 1.2510435634784798,
          "pct": 0.22448979591836735,
          "rca": 3.4939872530958045,
          "season": "1881-82"
         },
         {
          "count": 7,
          "log(rca)": 0.8196777269381582,
          "pct": 0.14583333333333334,
          "rca": 2.269768234492161,
          "season": "1882-83"
         },
         {
          "count": 7,
          "log(rca)": 0.7205868242939273,
          "pct": 0.1320754716981132,
          "rca": 2.0556391557664853,
          "season": "1883-84"
         },
         {
          "count": 9,
          "log(rca)": 0.916841475391806,
          "pct": 0.16071428571428573,
          "rca": 2.501377238011769,
          "season": "1884-85"
         },
         {
          "count": 6,
          "log(rca)": 0.566436144466669,
          "pct": 0.11320754716981132,
          "rca": 1.761976419228416,
          "season": "1885-86"
         },
         {
          "count": 7,
          "log(rca)": 0.7990584397354225,
          "pct": 0.14285714285714285,
          "rca": 2.223446433788239,
          "season": "1886-87"
         },
         {
          "count": 9,
          "log(rca)": 0.8478486039048544,
          "pct": 0.15,
          "rca": 2.334618755477651,
          "season": "1887-88"
         },
         {
          "count": 5,
          "log(rca)": 0.34707331599236535,
          "pct": 0.09090909090909091,
          "rca": 1.4149204578652432,
          "season": "1888-89"
         },
         {
          "count": 6,
          "log(rca)": 0.5477440114545163,
          "pct": 0.1111111111111111,
          "rca": 1.7293472262797414,
          "season": "1889-90"
         },
         {
          "count": 7,
          "log(rca)": 0.4567722332487898,
          "pct": 0.10144927536231885,
          "rca": 1.5789692066032424,
          "season": "1890-91"
         },
         {
          "count": 8,
          "log(rca)": 0.5903036258733124,
          "pct": 0.11594202898550725,
          "rca": 1.8045362361179913,
          "season": "1891-92"
         },
         {
          "count": 7,
          "log(rca)": 0.5637443528009575,
          "pct": 0.11290322580645161,
          "rca": 1.7572399234778018,
          "season": "1892-93"
         },
         {
          "count": 4,
          "log(rca)": 0.10591125917547718,
          "pct": 0.07142857142857142,
          "rca": 1.1117232168941196,
          "season": "1893-94"
         },
         {
          "count": 7,
          "log(rca)": 0.5637443528009575,
          "pct": 0.11290322580645161,
          "rca": 1.7572399234778018,
          "season": "1894-95"
         },
         {
          "count": 6,
          "log(rca)": 0.44238349579669023,
          "pct": 0.1,
          "rca": 1.5564125036517675,
          "season": "1895-96"
         },
         {
          "count": 9,
          "log(rca)": 0.13000881075453763,
          "pct": 0.07317073170731707,
          "rca": 1.1388384173061712,
          "season": "1896-97"
         },
         {
          "count": 6,
          "log(rca)": 0.3320354386278247,
          "pct": 0.08955223880597014,
          "rca": 1.3938022420762095,
          "season": "1897-98"
         },
         {
          "count": 5,
          "log(rca)": 0.1348987960487295,
          "pct": 0.07352941176470588,
          "rca": 1.144420958567476,
          "season": "1898-99"
         },
         {
          "count": 6,
          "log(rca)": 0.13000881075453763,
          "pct": 0.07317073170731707,
          "rca": 1.1388384173061712,
          "season": "1899-00"
         },
         {
          "count": 34,
          "log(rca)": -0.4281712267547808,
          "pct": 0.04187192118226601,
          "rca": 0.6516998168000011,
          "season": "1900-01"
         },
         {
          "count": 5,
          "log(rca)": 0.5932063855312737,
          "pct": 0.11627906976744186,
          "rca": 1.8097819809904272,
          "season": "1901-02"
         },
         {
          "count": 4,
          "log(rca)": 0.020389085737315137,
          "pct": 0.06557377049180328,
          "rca": 1.0205983630503392,
          "season": "1902-03"
         },
         {
          "count": 7,
          "log(rca)": -0.24359519528464266,
          "pct": 0.050359712230215826,
          "rca": 0.7838048579541275,
          "season": "1903-04"
         },
         {
          "count": 14,
          "log(rca)": 0.16367009332766966,
          "pct": 0.07567567567567568,
          "rca": 1.1778256784391754,
          "season": "1904-05"
         },
         {
          "count": 13,
          "log(rca)": 0.3059716403068134,
          "pct": 0.087248322147651,
          "rca": 1.3579437951324145,
          "season": "1905-06"
         },
         {
          "count": 9,
          "log(rca)": 0.18860297502059062,
          "pct": 0.07758620689655173,
          "rca": 1.207561425247061,
          "season": "1906-07"
         },
         {
          "count": 10,
          "log(rca)": 0.570216867306575,
          "pct": 0.11363636363636363,
          "rca": 1.7686505723315538,
          "season": "1907-08"
         },
         {
          "count": 16,
          "log(rca)": 0.7639671199241524,
          "pct": 0.13793103448275862,
          "rca": 2.146775867105886,
          "season": "1908-09"
         },
         {
          "count": 24,
          "log(rca)": 0.5431250655982219,
          "pct": 0.11059907834101383,
          "rca": 1.721377884223153,
          "season": "1909-10"
         },
         {
          "count": 22,
          "log(rca)": 0.2830514572274342,
          "pct": 0.08527131782945736,
          "rca": 1.3271734527263133,
          "season": "1910-11"
         },
         {
          "count": 21,
          "log(rca)": -0.1267110360932763,
          "pct": 0.05660377358490566,
          "rca": 0.880988209614208,
          "season": "1911-12"
         },
         {
          "count": 31,
          "log(rca)": 0.175068726169343,
          "pct": 0.07654320987654321,
          "rca": 1.1913280892149332,
          "season": "1912-13"
         },
         {
          "count": 28,
          "log(rca)": 0.06345794292313793,
          "pct": 0.06845965770171149,
          "rca": 1.0655146724266378,
          "season": "1913-14"
         },
         {
          "count": 27,
          "log(rca)": -0.1076628411225818,
          "pct": 0.057692307692307696,
          "rca": 0.8979302905683274,
          "season": "1914-15"
         },
         {
          "count": 35,
          "log(rca)": -0.33431670758153637,
          "pct": 0.045992115637319315,
          "rca": 0.7158270384732176,
          "season": "1915-16"
         },
         {
          "count": 36,
          "log(rca)": 0.022212240298830378,
          "pct": 0.06569343065693431,
          "rca": 1.022460768822329,
          "season": "1916-17"
         },
         {
          "count": 24,
          "log(rca)": -0.3269528231208017,
          "pct": 0.04633204633204633,
          "rca": 0.7211177623096992,
          "season": "1917-18"
         },
         {
          "count": 27,
          "log(rca)": -0.37918947335207764,
          "pct": 0.043973941368078175,
          "rca": 0.6844159218012658,
          "season": "1918-19"
         },
         {
          "count": 50,
          "log(rca)": 0.09454750052516216,
          "pct": 0.07062146892655367,
          "rca": 1.099161372635429,
          "season": "1919-20"
         },
         {
          "count": 67,
          "log(rca)": 0.1892465170982738,
          "pct": 0.0776361529548088,
          "rca": 1.2083387919428552,
          "season": "1920-21"
         },
         {
          "count": 53,
          "log(rca)": 0.2491157781052383,
          "pct": 0.08242612752721618,
          "rca": 1.282890555109544,
          "season": "1921-22"
         },
         {
          "count": 52,
          "log(rca)": 0.19342226145653946,
          "pct": 0.07796101949025487,
          "rca": 1.2133950553207182,
          "season": "1922-23"
         },
         {
          "count": 46,
          "log(rca)": 0.05889729440730108,
          "pct": 0.06814814814814815,
          "rca": 1.0606662987849083,
          "season": "1923-24"
         },
         {
          "count": 60,
          "log(rca)": 0.23944265179999974,
          "pct": 0.08163265306122448,
          "rca": 1.2705408193075651,
          "season": "1924-25"
         },
         {
          "count": 70,
          "log(rca)": 0.42960830430796726,
          "pct": 0.09873060648801128,
          "rca": 1.5366555043106307,
          "season": "1925-26"
         },
         {
          "count": 60,
          "log(rca)": 0.2545217586271201,
          "pct": 0.08287292817679558,
          "rca": 1.2898446162859951,
          "season": "1926-27"
         },
         {
          "count": 62,
          "log(rca)": 0.21152782399614128,
          "pct": 0.0793854033290653,
          "rca": 1.2355643434879586,
          "season": "1927-28"
         },
         {
          "count": 46,
          "log(rca)": 0.16015102811247386,
          "pct": 0.07540983606557378,
          "rca": 1.1736881175078901,
          "season": "1928-29"
         },
         {
          "count": 56,
          "log(rca)": 0.2365314415925415,
          "pct": 0.08139534883720931,
          "rca": 1.2668473866932992,
          "season": "1929-30"
         },
         {
          "count": 29,
          "log(rca)": -0.13771082348227326,
          "pct": 0.055984555984555984,
          "rca": 0.8713506294575531,
          "season": "1930-31"
         },
         {
          "count": 37,
          "log(rca)": 0.02616559591226389,
          "pct": 0.0659536541889483,
          "rca": 1.026510920412039,
          "season": "1931-32"
         },
         {
          "count": 42,
          "log(rca)": 0.22114652275306185,
          "pct": 0.08015267175572519,
          "rca": 1.2475062052170653,
          "season": "1932-33"
         },
         {
          "count": 32,
          "log(rca)": 0.1633323125441843,
          "pct": 0.07565011820330969,
          "rca": 1.1774278987436537,
          "season": "1933-34"
         },
         {
          "count": 29,
          "log(rca)": 0.1384548069079485,
          "pct": 0.0737913486005089,
          "rca": 1.148497776231584,
          "season": "1934-35"
         },
         {
          "count": 37,
          "log(rca)": 0.19467917973988383,
          "pct": 0.07805907172995781,
          "rca": 1.2149211526395653,
          "season": "1935-36"
         },
         {
          "count": 26,
          "log(rca)": -0.25268491494114914,
          "pct": 0.04990403071017274,
          "rca": 0.7767125737993464,
          "season": "1936-37"
         },
         {
          "count": 40,
          "log(rca)": 0.06566085655417973,
          "pct": 0.0686106346483705,
          "rca": 1.0678644965020703,
          "season": "1937-38"
         },
         {
          "count": 53,
          "log(rca)": 0.36612151096305967,
          "pct": 0.09265734265734266,
          "rca": 1.4421304666703438,
          "season": "1938-39"
         },
         {
          "count": 32,
          "log(rca)": -0.1505979859825329,
          "pct": 0.055267702936096716,
          "rca": 0.8601934389785243,
          "season": "1939-40"
         },
         {
          "count": 31,
          "log(rca)": -0.21797386194026427,
          "pct": 0.051666666666666666,
          "rca": 0.8041464602200799,
          "season": "1940-41"
         },
         {
          "count": 32,
          "log(rca)": -0.013853937684897424,
          "pct": 0.06336633663366337,
          "rca": 0.9862415864724071,
          "season": "1941-42"
         },
         {
          "count": 33,
          "log(rca)": -0.09888315347053613,
          "pct": 0.0582010582010582,
          "rca": 0.9058485470989122,
          "season": "1942-43"
         },
         {
          "count": 43,
          "log(rca)": 0.11760729893866848,
          "pct": 0.07226890756302522,
          "rca": 1.1248023135634622,
          "season": "1943-44"
         },
         {
          "count": 44,
          "log(rca)": 0.09943874466985966,
          "pct": 0.07096774193548387,
          "rca": 1.1045508090431897,
          "season": "1944-45"
         },
         {
          "count": 30,
          "log(rca)": -0.6439312650610134,
          "pct": 0.03374578177727784,
          "rca": 0.5252235670365919,
          "season": "1945-46"
         },
         {
          "count": 49,
          "log(rca)": 0.10009728931005739,
          "pct": 0.07101449275362319,
          "rca": 1.1052784446222697,
          "season": "1946-47"
         },
         {
          "count": 34,
          "log(rca)": 0.15103169445594666,
          "pct": 0.07472527472527472,
          "rca": 1.1630335192123096,
          "season": "1947-48"
         },
         {
          "count": 29,
          "log(rca)": -0.28466523643893654,
          "pct": 0.04833333333333333,
          "rca": 0.7522660434316876,
          "season": "1948-49"
         },
         {
          "count": 32,
          "log(rca)": -0.039270750669020714,
          "pct": 0.06177606177606178,
          "rca": 0.9614903497462656,
          "season": "1949-50"
         },
         {
          "count": 39,
          "log(rca)": 0.24521543088574096,
          "pct": 0.08210526315789474,
          "rca": 1.2778965819456616,
          "season": "1950-51"
         },
         {
          "count": 20,
          "log(rca)": -0.38834934771581836,
          "pct": 0.04357298474945534,
          "rca": 0.6781753828548006,
          "season": "1951-52"
         },
         {
          "count": 38,
          "log(rca)": 0.17799698594843125,
          "pct": 0.07676767676767676,
          "rca": 1.1948217199750941,
          "season": "1952-53"
         },
         {
          "count": 32,
          "log(rca)": -0.04119939157542626,
          "pct": 0.06165703275529865,
          "rca": 0.9596377671841341,
          "season": "1953-54"
         },
         {
          "count": 34,
          "log(rca)": -0.179141308737279,
          "pct": 0.053712480252764615,
          "rca": 0.8359877586755149,
          "season": "1954-55"
         },
         {
          "count": 37,
          "log(rca)": 0.010250140606364281,
          "pct": 0.06491228070175438,
          "rca": 1.0103028532476384,
          "season": "1955-56"
         },
         {
          "count": 30,
          "log(rca)": -0.08824475526548033,
          "pct": 0.058823529411764705,
          "rca": 0.9155367668539808,
          "season": "1956-57"
         },
         {
          "count": 25,
          "log(rca)": -0.45940254987458323,
          "pct": 0.040584415584415584,
          "rca": 0.6316609186898406,
          "season": "1957-58"
         },
         {
          "count": 38,
          "log(rca)": 0.2822357964970575,
          "pct": 0.08520179372197309,
          "rca": 1.3260913708243758,
          "season": "1958-59"
         },
         {
          "count": 41,
          "log(rca)": 0.11115144583903325,
          "pct": 0.07180385288966724,
          "rca": 1.1175641444785018,
          "season": "1959-60"
         },
         {
          "count": 34,
          "log(rca)": -0.020240026151422976,
          "pct": 0.06296296296296296,
          "rca": 0.9799634282251868,
          "season": "1960-61"
         },
         {
          "count": 16,
          "log(rca)": -0.054596721147247576,
          "pct": 0.060836501901140684,
          "rca": 0.9468669223736987,
          "season": "1961-62"
         },
         {
          "count": 20,
          "log(rca)": -0.1370349194349122,
          "pct": 0.056022408963585436,
          "rca": 0.8719397779561723,
          "season": "1962-63"
         },
         {
          "count": 23,
          "log(rca)": 0.07834442934282257,
          "pct": 0.06948640483383686,
          "rca": 1.081495093171923,
          "season": "1963-64"
         },
         {
          "count": 17,
          "log(rca)": -0.0916989901335679,
          "pct": 0.05862068965517241,
          "rca": 0.9123797435200015,
          "season": "1964-65"
         },
         {
          "count": 12,
          "log(rca)": -0.46048421574532417,
          "pct": 0.04054054054054054,
          "rca": 0.6309780420209868,
          "season": "1965-66"
         },
         {
          "count": 26,
          "log(rca)": 0.30933298800951836,
          "pct": 0.08754208754208755,
          "rca": 1.3625159964628268,
          "season": "1966-67"
         },
         {
          "count": 27,
          "log(rca)": 0.09016290220733801,
          "pct": 0.0703125,
          "rca": 1.094352541630149,
          "season": "1967-68"
         },
         {
          "count": 13,
          "log(rca)": -0.36340532091922,
          "pct": 0.044673539518900345,
          "rca": 0.6953045548959785,
          "season": "1968-69"
         },
         {
          "count": 13,
          "log(rca)": -0.2995538489326872,
          "pct": 0.047619047619047616,
          "rca": 0.7411488112627463,
          "season": "1969-70"
         },
         {
          "count": 15,
          "log(rca)": 0.01493948096975057,
          "pct": 0.06521739130434782,
          "rca": 1.0150516328163701,
          "season": "1970-71"
         },
         {
          "count": 13,
          "log(rca)": -0.43308524155720995,
          "pct": 0.041666666666666664,
          "rca": 0.648505209854903,
          "season": "1971-72"
         },
         {
          "count": 10,
          "log(rca)": -0.6792940658024157,
          "pct": 0.03257328990228013,
          "rca": 0.5069747568898265,
          "season": "1972-73"
         },
         {
          "count": 21,
          "log(rca)": 0.03374881292724652,
          "pct": 0.06645569620253164,
          "rca": 1.0343247650850351,
          "season": "1973-74"
         },
         {
          "count": 19,
          "log(rca)": -0.1855231628948542,
          "pct": 0.05337078651685393,
          "rca": 0.8306695946456062,
          "season": "1974-75"
         },
         {
          "count": 18,
          "log(rca)": -0.28355350758624615,
          "pct": 0.04838709677419355,
          "rca": 0.7531028243476293,
          "season": "1975-76"
         },
         {
          "count": 15,
          "log(rca)": -0.3521161790235427,
          "pct": 0.045180722891566265,
          "rca": 0.7031984203245937,
          "season": "1976-77"
         },
         {
          "count": 28,
          "log(rca)": 0.10082218966800599,
          "pct": 0.07106598984771574,
          "rca": 1.1060799518337434,
          "season": "1977-78"
         },
         {
          "count": 20,
          "log(rca)": -0.08234503313829199,
          "pct": 0.05917159763313609,
          "rca": 0.9209541441726434,
          "season": "1978-79"
         },
         {
          "count": 35,
          "log(rca)": 0.7130679918798998,
          "pct": 0.13108614232209737,
          "rca": 2.0402411096558746,
          "season": "1979-80"
         },
         {
          "count": 17,
          "log(rca)": -0.10199067617011544,
          "pct": 0.05802047781569966,
          "rca": 0.9030379714020493,
          "season": "1980-81"
         },
         {
          "count": 20,
          "log(rca)": -0.011871776480906317,
          "pct": 0.06349206349206349,
          "rca": 0.9881984150169951,
          "season": "1981-82"
         },
         {
          "count": 15,
          "log(rca)": -0.32153275565146244,
          "pct": 0.046583850931677016,
          "rca": 0.7250368805831214,
          "season": "1982-83"
         },
         {
          "count": 20,
          "log(rca)": 0.0009079501654925786,
          "pct": 0.06430868167202572,
          "rca": 1.0009083624770208,
          "season": "1983-84"
         },
         {
          "count": 30,
          "log(rca)": 0.09643251522093337,
          "pct": 0.07075471698113207,
          "rca": 1.10123526201776,
          "season": "1984-85"
         },
         {
          "count": 9,
          "log(rca)": -0.674577931539616,
          "pct": 0.03272727272727273,
          "rca": 0.5093713648314876,
          "season": "1985-86"
         },
         {
          "count": 18,
          "log(rca)": -0.2282908289111965,
          "pct": 0.05113636363636364,
          "rca": 0.7958927575491993,
          "season": "1986-87"
         },
         {
          "count": 10,
          "log(rca)": -0.6986495087553717,
          "pct": 0.03194888178913738,
          "rca": 0.4972563909430567,
          "season": "1987-88"
         },
         {
          "count": 21,
          "log(rca)": 0.03691838768852575,
          "pct": 0.06666666666666667,
          "rca": 1.037608335767845,
          "season": "1988-89"
         },
         {
          "count": 25,
          "log(rca)": 0.321937342720823,
          "pct": 0.08865248226950355,
          "rca": 1.3797983188402194,
          "season": "1989-90"
         },
         {
          "count": 10,
          "log(rca)": -0.5908009875489643,
          "pct": 0.03558718861209965,
          "rca": 0.5538834532568567,
          "season": "1990-91"
         },
         {
          "count": 6,
          "log(rca)": -0.7207673140089909,
          "pct": 0.03125,
          "rca": 0.4863789073911773,
          "season": "1991-92"
         },
         {
          "count": 12,
          "log(rca)": -0.3977458751119009,
          "pct": 0.04316546762589928,
          "rca": 0.6718327353892521,
          "season": "1992-93"
         },
         {
          "count": 20,
          "log(rca)": 0.19162477744950696,
          "pct": 0.07782101167315175,
          "rca": 1.2112159561492353,
          "season": "1993-94"
         },
         {
          "count": 22,
          "log(rca)": 0.3065819546376283,
          "pct": 0.0873015873015873,
          "rca": 1.3587728206483682,
          "season": "1994-95"
         },
         {
          "count": 15,
          "log(rca)": -0.2474247834977405,
          "pct": 0.05016722408026756,
          "rca": 0.7808089483202847,
          "season": "1995-96"
         },
         {
          "count": 7,
          "log(rca)": -1.1699074856198166,
          "pct": 0.019943019943019943,
          "rca": 0.310395655998928,
          "season": "1996-97"
         },
         {
          "count": 7,
          "log(rca)": -1.0898647779462802,
          "pct": 0.021604938271604937,
          "rca": 0.3362619606655053,
          "season": "1997-98"
         },
         {
          "count": 37,
          "log(rca)": 0.7104396037917227,
          "pct": 0.13074204946996468,
          "rca": 2.0348856054811093,
          "season": "1998-99"
         },
         {
          "count": 9,
          "log(rca)": -0.6450554922732944,
          "pct": 0.033707865168539325,
          "rca": 0.5246334281972249,
          "season": "1999-00"
         },
         {
          "count": 7,
          "log(rca)": -0.8265741586186586,
          "pct": 0.028112449799196786,
          "rca": 0.43754568375752495,
          "season": "2000-01"
         },
         {
          "count": 24,
          "log(rca)": 0.09113994185516464,
          "pct": 0.07038123167155426,
          "rca": 1.0954222899601882,
          "season": "2001-02"
         },
         {
          "count": 24,
          "log(rca)": -0.06593899775118205,
          "pct": 0.06015037593984962,
          "rca": 0.9361879721213638,
          "season": "2002-03"
         },
         {
          "count": 15,
          "log(rca)": -0.4275141965077545,
          "pct": 0.04189944134078212,
          "rca": 0.6521281439881706,
          "season": "2003-04"
         },
         {
          "count": 15,
          "log(rca)": -0.473907236077465,
          "pct": 0.04,
          "rca": 0.6225650014607069,
          "season": "2004-05"
         },
         {
          "count": 14,
          "log(rca)": -0.7406574724882102,
          "pct": 0.030634573304157548,
          "rca": 0.4768003293462745,
          "season": "2005-06"
         },
         {
          "count": 27,
          "log(rca)": -0.23018297706323448,
          "pct": 0.05103969754253308,
          "rca": 0.7943882343780287,
          "season": "2006-07"
         },
         {
          "count": 28,
          "log(rca)": -0.16699380169779646,
          "pct": 0.05436893203883495,
          "rca": 0.8462048563543589,
          "season": "2007-08"
         },
         {
          "count": 17,
          "log(rca)": -0.6698609416614772,
          "pct": 0.03288201160541586,
          "rca": 0.5117797400789177,
          "season": "2008-09"
         },
         {
          "count": 32,
          "log(rca)": -0.09739394991906825,
          "pct": 0.058287795992714025,
          "rca": 0.9071985449336349,
          "season": "2009-10"
         },
         {
          "count": 30,
          "log(rca)": -0.054343203589798945,
          "pct": 0.060851926977687626,
          "rca": 0.9471070001937733,
          "season": "2010-11"
         },
         {
          "count": 23,
          "log(rca)": -0.2722698899842187,
          "pct": 0.04893617021276596,
          "rca": 0.7616486719998011,
          "season": "2011-12"
         },
         {
          "count": 11,
          "log(rca)": -1.009868833114998,
          "pct": 0.023404255319148935,
          "rca": 0.3642667561738179,
          "season": "2012-13"
         },
         {
          "count": 17,
          "log(rca)": -0.5702863630706948,
          "pct": 0.03632478632478633,
          "rca": 0.5653635162837617,
          "season": "2013-14"
         },
         {
          "count": 15,
          "log(rca)": -0.7555712362036828,
          "pct": 0.030181086519114688,
          "rca": 0.46974220432145897,
          "season": "2014-15"
         },
         {
          "count": 24,
          "log(rca)": -0.48385756693063303,
          "pct": 0.039603960396039604,
          "rca": 0.6164009915452544,
          "season": "2015-16"
         },
         {
          "count": 23,
          "log(rca)": -0.10095140653459506,
          "pct": 0.05808080808080808,
          "rca": 0.9039769591916831,
          "season": "2016-17"
         },
         {
          "count": 2,
          "log(rca)": -0.7515389726757444,
          "pct": 0.030303030303030304,
          "rca": 0.4716401526217477,
          "season": "2017-18"
         }
        ]
       },
       "encoding": {
        "x": {
         "field": "season",
         "type": "ordinal"
        },
        "y": {
         "field": "log(rca)",
         "type": "quantitative"
        }
       },
       "mark": "bar",
       "title": "Beethoven’s Popularity",
       "width": 600
      },
      "text/plain": [
       "<VegaLite 2 object>"
      ]
     },
     "execution_count": 89,
     "metadata": {},
     "output_type": "execute_result"
    }
   ],
   "source": [
    "alt.Chart(\n",
    "    programs.xs(\"Beethoven,  Ludwig  van\", level=\"composer\").reset_index(),\n",
    "    width=600,\n",
    "    title=\"Beethoven’s Popularity\"\n",
    ").mark_bar().encode(\n",
    "    x=\"season:O\",\n",
    "    y=\"log(rca):Q\"\n",
    ")"
   ]
  },
  {
   "cell_type": "markdown",
   "metadata": {},
   "source": [
    "For comparison, let’s take a look at one of the most distinctive composers from 2016–17"
   ]
  },
  {
   "cell_type": "code",
   "execution_count": 114,
   "metadata": {},
   "outputs": [
    {
     "data": {
      "text/html": [
       "<div>\n",
       "<style scoped>\n",
       "    .dataframe tbody tr th:only-of-type {\n",
       "        vertical-align: middle;\n",
       "    }\n",
       "\n",
       "    .dataframe tbody tr th {\n",
       "        vertical-align: top;\n",
       "    }\n",
       "\n",
       "    .dataframe thead th {\n",
       "        text-align: right;\n",
       "    }\n",
       "</style>\n",
       "<table border=\"1\" class=\"dataframe\">\n",
       "  <thead>\n",
       "    <tr style=\"text-align: right;\">\n",
       "      <th></th>\n",
       "      <th>count</th>\n",
       "      <th>pct</th>\n",
       "      <th>rca</th>\n",
       "      <th>log(rca)</th>\n",
       "    </tr>\n",
       "    <tr>\n",
       "      <th>composer</th>\n",
       "      <th></th>\n",
       "      <th></th>\n",
       "      <th></th>\n",
       "      <th></th>\n",
       "    </tr>\n",
       "  </thead>\n",
       "  <tbody>\n",
       "    <tr>\n",
       "      <th>Adams,  John</th>\n",
       "      <td>9</td>\n",
       "      <td>0.022727</td>\n",
       "      <td>26.907071</td>\n",
       "      <td>3.292389</td>\n",
       "    </tr>\n",
       "    <tr>\n",
       "      <th>Salonen,  Esa-Pekka</th>\n",
       "      <td>6</td>\n",
       "      <td>0.015152</td>\n",
       "      <td>26.039101</td>\n",
       "      <td>3.259599</td>\n",
       "    </tr>\n",
       "    <tr>\n",
       "      <th>Janacek [Janácek],  Leoš</th>\n",
       "      <td>5</td>\n",
       "      <td>0.012626</td>\n",
       "      <td>15.288108</td>\n",
       "      <td>2.727075</td>\n",
       "    </tr>\n",
       "  </tbody>\n",
       "</table>\n",
       "</div>"
      ],
      "text/plain": [
       "                          count       pct        rca  log(rca)\n",
       "composer                                                      \n",
       "Adams,  John                  9  0.022727  26.907071  3.292389\n",
       "Salonen,  Esa-Pekka           6  0.015152  26.039101  3.259599\n",
       "Janacek [Janácek],  Leoš      5  0.012626  15.288108  2.727075"
      ]
     },
     "execution_count": 114,
     "metadata": {},
     "output_type": "execute_result"
    }
   ],
   "source": [
    "(programs[programs.align((composers[\"program\"] > 14),axis=0, level=\"composer\")[1]]\n",
    " .loc[\"2016-17\"]\n",
    " .sort_values(\"log(rca)\", ascending=False)\n",
    " .head(3))"
   ]
  },
  {
   "cell_type": "code",
   "execution_count": 164,
   "metadata": {},
   "outputs": [
    {
     "data": {
      "application/vnd.vegalite.v2+json": {
       "$schema": "https://vega.github.io/schema/vega-lite/v2.json",
       "config": {
        "view": {
         "height": 300,
         "width": 400
        }
       },
       "data": {
        "values": [
         {
          "count": 1,
          "log(rca)": 1.302027192006193,
          "pct": 0.003105590062111801,
          "rca": 3.676742581090407,
          "season": "1982-83"
         },
         {
          "count": 1,
          "log(rca)": 1.2129475619525043,
          "pct": 0.002840909090909091,
          "rca": 3.3633838383838386,
          "season": "1986-87"
         },
         {
          "count": 1,
          "log(rca)": 1.8190833655228198,
          "pct": 0.005208333333333333,
          "rca": 6.166203703703704,
          "season": "1991-92"
         },
         {
          "count": 4,
          "log(rca)": 2.6020868752046264,
          "pct": 0.011396011396011397,
          "rca": 13.491864514086737,
          "season": "1996-97"
         },
         {
          "count": 1,
          "log(rca)": 1.4311318399073638,
          "pct": 0.0035335689045936395,
          "rca": 4.1834314880251275,
          "season": "1998-99"
         },
         {
          "count": 1,
          "log(rca)": 1.5591258410858937,
          "pct": 0.004016064257028112,
          "rca": 4.754663096831771,
          "season": "2000-01"
         },
         {
          "count": 2,
          "log(rca)": 1.7807645012206832,
          "pct": 0.005012531328320802,
          "rca": 5.934391534391534,
          "season": "2002-03"
         },
         {
          "count": 4,
          "log(rca)": 2.582340112269792,
          "pct": 0.0111731843575419,
          "rca": 13.228057107386718,
          "season": "2003-04"
         },
         {
          "count": 5,
          "log(rca)": 2.561333259090497,
          "pct": 0.010940919037199124,
          "rca": 12.953075613907124,
          "season": "2005-06"
         },
         {
          "count": 1,
          "log(rca)": 0.8055903056923022,
          "pct": 0.001890359168241966,
          "rca": 2.238017223272422,
          "season": "2006-07"
         },
         {
          "count": 7,
          "log(rca)": 2.714390445096384,
          "pct": 0.012750455373406194,
          "rca": 15.095405788301965,
          "season": "2009-10"
         },
         {
          "count": 2,
          "log(rca)": 1.5692167440678566,
          "pct": 0.004056795131845842,
          "rca": 4.802884832093757,
          "season": "2010-11"
         },
         {
          "count": 2,
          "log(rca)": 1.6169932234064424,
          "pct": 0.00425531914893617,
          "rca": 5.037919621749409,
          "season": "2012-13"
         },
         {
          "count": 1,
          "log(rca)": 0.9281104416329548,
          "pct": 0.002136752136752137,
          "rca": 2.5297245963912633,
          "season": "2013-14"
         },
         {
          "count": 2,
          "log(rca)": 1.5611358920139182,
          "pct": 0.004024144869215292,
          "rca": 4.7642298233847535,
          "season": "2014-15"
         },
         {
          "count": 1,
          "log(rca)": 0.669698751481287,
          "pct": 0.0016501650165016502,
          "rca": 1.9536486982031538,
          "season": "2015-16"
         },
         {
          "count": 9,
          "log(rca)": 3.2923891036323405,
          "pct": 0.022727272727272728,
          "rca": 26.90707070707071,
          "season": "2016-17"
         }
        ]
       },
       "encoding": {
        "x": {
         "field": "season",
         "type": "ordinal"
        },
        "y": {
         "field": "log(rca)",
         "type": "quantitative"
        }
       },
       "mark": "bar",
       "title": "John Adams’s Popularity",
       "width": 600
      },
      "text/plain": [
       "<VegaLite 2 object>"
      ]
     },
     "execution_count": 164,
     "metadata": {},
     "output_type": "execute_result"
    }
   ],
   "source": [
    "adams_pop = alt.Chart(\n",
    "    programs.xs(\"Adams,  John\", level=\"composer\").reset_index(),\n",
    "    width=600,\n",
    "    title=\"John Adams’s Popularity\"\n",
    ").mark_bar().encode(\n",
    "    x=\"season:O\",\n",
    "    y=\"log(rca):Q\"\n",
    ")\n",
    "\n",
    "adams_pop"
   ]
  },
  {
   "cell_type": "markdown",
   "metadata": {},
   "source": [
    "Here we can look at the top three most distinctive composers for each season. We exclude the bottom 90% of composers by total programs because so many composers were programmed only a small number of times, making RCA very sensitive in the seasons they were actually programmed."
   ]
  },
  {
   "cell_type": "code",
   "execution_count": 111,
   "metadata": {},
   "outputs": [
    {
     "data": {
      "text/html": [
       "<div>\n",
       "<style scoped>\n",
       "    .dataframe tbody tr th:only-of-type {\n",
       "        vertical-align: middle;\n",
       "    }\n",
       "\n",
       "    .dataframe tbody tr th {\n",
       "        vertical-align: top;\n",
       "    }\n",
       "\n",
       "    .dataframe thead th {\n",
       "        text-align: right;\n",
       "    }\n",
       "</style>\n",
       "<table border=\"1\" class=\"dataframe\">\n",
       "  <thead>\n",
       "    <tr style=\"text-align: right;\">\n",
       "      <th></th>\n",
       "      <th></th>\n",
       "      <th>count</th>\n",
       "      <th>log(rca)</th>\n",
       "    </tr>\n",
       "    <tr>\n",
       "      <th>season</th>\n",
       "      <th>composer</th>\n",
       "      <th></th>\n",
       "      <th></th>\n",
       "    </tr>\n",
       "  </thead>\n",
       "  <tbody>\n",
       "    <tr>\n",
       "      <th rowspan=\"3\" valign=\"top\">1842-43</th>\n",
       "      <th>Hummel,  Johann</th>\n",
       "      <td>3</td>\n",
       "      <td>5.471595</td>\n",
       "    </tr>\n",
       "    <tr>\n",
       "      <th>Rossini,  Gioachino</th>\n",
       "      <td>3</td>\n",
       "      <td>2.482133</td>\n",
       "    </tr>\n",
       "    <tr>\n",
       "      <th>Weber,  Carl  Maria Von</th>\n",
       "      <td>4</td>\n",
       "      <td>2.150614</td>\n",
       "    </tr>\n",
       "    <tr>\n",
       "      <th rowspan=\"3\" valign=\"top\">1843-44</th>\n",
       "      <th>Hummel,  Johann</th>\n",
       "      <td>2</td>\n",
       "      <td>5.307292</td>\n",
       "    </tr>\n",
       "    <tr>\n",
       "      <th>Donizetti,  Gaetano</th>\n",
       "      <td>3</td>\n",
       "      <td>4.534102</td>\n",
       "    </tr>\n",
       "    <tr>\n",
       "      <th>Weber,  Carl  Maria Von</th>\n",
       "      <td>3</td>\n",
       "      <td>2.104094</td>\n",
       "    </tr>\n",
       "    <tr>\n",
       "      <th rowspan=\"3\" valign=\"top\">1844-45</th>\n",
       "      <th>Meyerbeer,  Giacomo</th>\n",
       "      <td>2</td>\n",
       "      <td>4.489650</td>\n",
       "    </tr>\n",
       "    <tr>\n",
       "      <th>Donizetti,  Gaetano</th>\n",
       "      <td>2</td>\n",
       "      <td>4.084185</td>\n",
       "    </tr>\n",
       "    <tr>\n",
       "      <th>Weber,  Carl  Maria Von</th>\n",
       "      <td>2</td>\n",
       "      <td>1.654177</td>\n",
       "    </tr>\n",
       "    <tr>\n",
       "      <th rowspan=\"3\" valign=\"top\">1845-46</th>\n",
       "      <th>Cherubini,  Luigi</th>\n",
       "      <td>2</td>\n",
       "      <td>3.824913</td>\n",
       "    </tr>\n",
       "    <tr>\n",
       "      <th>Rossini,  Gioachino</th>\n",
       "      <td>3</td>\n",
       "      <td>2.380350</td>\n",
       "    </tr>\n",
       "    <tr>\n",
       "      <th>Traditional,</th>\n",
       "      <td>2</td>\n",
       "      <td>2.002517</td>\n",
       "    </tr>\n",
       "  </tbody>\n",
       "</table>\n",
       "</div>"
      ],
      "text/plain": [
       "                                 count  log(rca)\n",
       "season  composer                                \n",
       "1842-43 Hummel,  Johann              3  5.471595\n",
       "        Rossini,  Gioachino          3  2.482133\n",
       "        Weber,  Carl  Maria Von      4  2.150614\n",
       "1843-44 Hummel,  Johann              2  5.307292\n",
       "        Donizetti,  Gaetano          3  4.534102\n",
       "        Weber,  Carl  Maria Von      3  2.104094\n",
       "1844-45 Meyerbeer,  Giacomo          2  4.489650\n",
       "        Donizetti,  Gaetano          2  4.084185\n",
       "        Weber,  Carl  Maria Von      2  1.654177\n",
       "1845-46 Cherubini,  Luigi            2  3.824913\n",
       "        Rossini,  Gioachino          3  2.380350\n",
       "        Traditional,                 2  2.002517"
      ]
     },
     "execution_count": 111,
     "metadata": {},
     "output_type": "execute_result"
    }
   ],
   "source": [
    "(programs[programs.align((composers[\"program\"] > 14),axis=0, level=\"composer\")[1]]\n",
    " .reset_index()\n",
    " .groupby(\"season\", as_index=False)\n",
    " .apply(lambda df: df[df[\"count\"] > 1].sort_values(\"log(rca)\", ascending=False).iloc[:3])\n",
    " .loc[:, (\"season\", \"composer\", \"count\", \"log(rca)\")]\n",
    " .set_index([\"season\", \"composer\"])\n",
    " .head(12))"
   ]
  },
  {
   "cell_type": "markdown",
   "metadata": {},
   "source": [
    "## Debuts\n",
    "\n",
    "Looking at the comparison above of John Adams to Beethoven, we can see that composers that have been around longer have a disadvantage in later years in terms of being popular. The later a compose debuts, the fewer seasons have the opportunity to program that composer, thus making that composer more distinctive in the seasons they are composed.\n",
    "\n",
    "This leads me to believe we may need to calculate RCA relative the composer’s debut."
   ]
  },
  {
   "cell_type": "code",
   "execution_count": 143,
   "metadata": {},
   "outputs": [
    {
     "data": {
      "text/html": [
       "<div>\n",
       "<style scoped>\n",
       "    .dataframe tbody tr th:only-of-type {\n",
       "        vertical-align: middle;\n",
       "    }\n",
       "\n",
       "    .dataframe tbody tr th {\n",
       "        vertical-align: top;\n",
       "    }\n",
       "\n",
       "    .dataframe thead th {\n",
       "        text-align: right;\n",
       "    }\n",
       "</style>\n",
       "<table border=\"1\" class=\"dataframe\">\n",
       "  <thead>\n",
       "    <tr style=\"text-align: right;\">\n",
       "      <th></th>\n",
       "      <th>composer</th>\n",
       "      <th>season</th>\n",
       "    </tr>\n",
       "  </thead>\n",
       "  <tbody>\n",
       "    <tr>\n",
       "      <th>0</th>\n",
       "      <td>ACT,</td>\n",
       "      <td>2010-11</td>\n",
       "    </tr>\n",
       "    <tr>\n",
       "      <th>1</th>\n",
       "      <td>Abert,  Johann  Joseph</td>\n",
       "      <td>1926-27</td>\n",
       "    </tr>\n",
       "    <tr>\n",
       "      <th>2</th>\n",
       "      <td>Abt,  Franz</td>\n",
       "      <td>1852-53</td>\n",
       "    </tr>\n",
       "    <tr>\n",
       "      <th>3</th>\n",
       "      <td>Achron,  Isidor</td>\n",
       "      <td>1937-38</td>\n",
       "    </tr>\n",
       "    <tr>\n",
       "      <th>4</th>\n",
       "      <td>Acosta,  Daniel</td>\n",
       "      <td>2013-14</td>\n",
       "    </tr>\n",
       "  </tbody>\n",
       "</table>\n",
       "</div>"
      ],
      "text/plain": [
       "                 composer   season\n",
       "0                    ACT,  2010-11\n",
       "1  Abert,  Johann  Joseph  1926-27\n",
       "2             Abt,  Franz  1852-53\n",
       "3         Achron,  Isidor  1937-38\n",
       "4         Acosta,  Daniel  2013-14"
      ]
     },
     "execution_count": 143,
     "metadata": {},
     "output_type": "execute_result"
    }
   ],
   "source": [
    "debuts = (df.groupby(\"composer\", as_index=False)\n",
    "          .apply(lambda df: df.drop_duplicates(\"season\").sort_values(\"season\").iloc[0])\n",
    "         .loc[:, [\"composer\", \"season\"]])\n",
    "debuts.head()"
   ]
  },
  {
   "cell_type": "code",
   "execution_count": 151,
   "metadata": {},
   "outputs": [
    {
     "data": {
      "application/vnd.vegalite.v2+json": {
       "$schema": "https://vega.github.io/schema/vega-lite/v2.json",
       "config": {
        "view": {
         "height": 300,
         "width": 400
        }
       },
       "data": {
        "values": [
         {
          "composer": 16,
          "season": "1842-43"
         },
         {
          "composer": 6,
          "season": "1843-44"
         },
         {
          "composer": 5,
          "season": "1844-45"
         },
         {
          "composer": 11,
          "season": "1845-46"
         },
         {
          "composer": 4,
          "season": "1846-47"
         },
         {
          "composer": 3,
          "season": "1847-48"
         },
         {
          "composer": 6,
          "season": "1848-49"
         },
         {
          "composer": 2,
          "season": "1849-50"
         },
         {
          "composer": 9,
          "season": "1850-51"
         },
         {
          "composer": 2,
          "season": "1851-52"
         },
         {
          "composer": 8,
          "season": "1852-53"
         },
         {
          "composer": 5,
          "season": "1853-54"
         },
         {
          "composer": 4,
          "season": "1854-55"
         },
         {
          "composer": 3,
          "season": "1855-56"
         },
         {
          "composer": 7,
          "season": "1856-57"
         },
         {
          "composer": 3,
          "season": "1857-58"
         },
         {
          "composer": 5,
          "season": "1858-59"
         },
         {
          "composer": 5,
          "season": "1859-60"
         },
         {
          "composer": 13,
          "season": "1860-61"
         },
         {
          "composer": 4,
          "season": "1861-62"
         },
         {
          "composer": 2,
          "season": "1862-63"
         },
         {
          "composer": 6,
          "season": "1863-64"
         },
         {
          "composer": 4,
          "season": "1864-65"
         },
         {
          "composer": 3,
          "season": "1865-66"
         },
         {
          "composer": 2,
          "season": "1866-67"
         },
         {
          "composer": 2,
          "season": "1867-68"
         },
         {
          "composer": 4,
          "season": "1868-69"
         },
         {
          "composer": 2,
          "season": "1869-70"
         },
         {
          "composer": 3,
          "season": "1870-71"
         },
         {
          "composer": 3,
          "season": "1871-72"
         },
         {
          "composer": 3,
          "season": "1872-73"
         },
         {
          "composer": 1,
          "season": "1873-74"
         },
         {
          "composer": 3,
          "season": "1874-75"
         },
         {
          "composer": 4,
          "season": "1875-76"
         },
         {
          "composer": 5,
          "season": "1876-77"
         },
         {
          "composer": 12,
          "season": "1878-79"
         },
         {
          "composer": 9,
          "season": "1879-80"
         },
         {
          "composer": 2,
          "season": "1880-81"
         },
         {
          "composer": 2,
          "season": "1881-82"
         },
         {
          "composer": 4,
          "season": "1882-83"
         },
         {
          "composer": 6,
          "season": "1883-84"
         },
         {
          "composer": 5,
          "season": "1884-85"
         },
         {
          "composer": 4,
          "season": "1885-86"
         },
         {
          "composer": 5,
          "season": "1886-87"
         },
         {
          "composer": 2,
          "season": "1887-88"
         },
         {
          "composer": 1,
          "season": "1888-89"
         },
         {
          "composer": 2,
          "season": "1889-90"
         },
         {
          "composer": 9,
          "season": "1890-91"
         },
         {
          "composer": 2,
          "season": "1891-92"
         },
         {
          "composer": 7,
          "season": "1892-93"
         },
         {
          "composer": 4,
          "season": "1893-94"
         },
         {
          "composer": 4,
          "season": "1894-95"
         },
         {
          "composer": 7,
          "season": "1895-96"
         },
         {
          "composer": 16,
          "season": "1896-97"
         },
         {
          "composer": 6,
          "season": "1897-98"
         },
         {
          "composer": 6,
          "season": "1898-99"
         },
         {
          "composer": 7,
          "season": "1899-00"
         },
         {
          "composer": 44,
          "season": "1900-01"
         },
         {
          "composer": 3,
          "season": "1901-02"
         },
         {
          "composer": 4,
          "season": "1902-03"
         },
         {
          "composer": 10,
          "season": "1903-04"
         },
         {
          "composer": 13,
          "season": "1904-05"
         },
         {
          "composer": 11,
          "season": "1905-06"
         },
         {
          "composer": 5,
          "season": "1906-07"
         },
         {
          "composer": 10,
          "season": "1907-08"
         },
         {
          "composer": 9,
          "season": "1908-09"
         },
         {
          "composer": 18,
          "season": "1909-10"
         },
         {
          "composer": 15,
          "season": "1910-11"
         },
         {
          "composer": 17,
          "season": "1911-12"
         },
         {
          "composer": 28,
          "season": "1912-13"
         },
         {
          "composer": 28,
          "season": "1913-14"
         },
         {
          "composer": 26,
          "season": "1914-15"
         },
         {
          "composer": 40,
          "season": "1915-16"
         },
         {
          "composer": 13,
          "season": "1916-17"
         },
         {
          "composer": 23,
          "season": "1917-18"
         },
         {
          "composer": 22,
          "season": "1918-19"
         },
         {
          "composer": 19,
          "season": "1919-20"
         },
         {
          "composer": 15,
          "season": "1920-21"
         },
         {
          "composer": 33,
          "season": "1921-22"
         },
         {
          "composer": 24,
          "season": "1922-23"
         },
         {
          "composer": 20,
          "season": "1923-24"
         },
         {
          "composer": 23,
          "season": "1924-25"
         },
         {
          "composer": 20,
          "season": "1925-26"
         },
         {
          "composer": 23,
          "season": "1926-27"
         },
         {
          "composer": 33,
          "season": "1927-28"
         },
         {
          "composer": 14,
          "season": "1928-29"
         },
         {
          "composer": 17,
          "season": "1929-30"
         },
         {
          "composer": 15,
          "season": "1930-31"
         },
         {
          "composer": 10,
          "season": "1931-32"
         },
         {
          "composer": 26,
          "season": "1932-33"
         },
         {
          "composer": 10,
          "season": "1933-34"
         },
         {
          "composer": 12,
          "season": "1934-35"
         },
         {
          "composer": 31,
          "season": "1935-36"
         },
         {
          "composer": 20,
          "season": "1936-37"
         },
         {
          "composer": 38,
          "season": "1937-38"
         },
         {
          "composer": 34,
          "season": "1938-39"
         },
         {
          "composer": 19,
          "season": "1939-40"
         },
         {
          "composer": 29,
          "season": "1940-41"
         },
         {
          "composer": 25,
          "season": "1941-42"
         },
         {
          "composer": 39,
          "season": "1942-43"
         },
         {
          "composer": 24,
          "season": "1943-44"
         },
         {
          "composer": 37,
          "season": "1944-45"
         },
         {
          "composer": 80,
          "season": "1945-46"
         },
         {
          "composer": 33,
          "season": "1946-47"
         },
         {
          "composer": 9,
          "season": "1947-48"
         },
         {
          "composer": 24,
          "season": "1948-49"
         },
         {
          "composer": 20,
          "season": "1949-50"
         },
         {
          "composer": 5,
          "season": "1950-51"
         },
         {
          "composer": 14,
          "season": "1951-52"
         },
         {
          "composer": 16,
          "season": "1952-53"
         },
         {
          "composer": 15,
          "season": "1953-54"
         },
         {
          "composer": 24,
          "season": "1954-55"
         },
         {
          "composer": 29,
          "season": "1955-56"
         },
         {
          "composer": 28,
          "season": "1956-57"
         },
         {
          "composer": 21,
          "season": "1957-58"
         },
         {
          "composer": 21,
          "season": "1958-59"
         },
         {
          "composer": 17,
          "season": "1959-60"
         },
         {
          "composer": 12,
          "season": "1960-61"
         },
         {
          "composer": 9,
          "season": "1961-62"
         },
         {
          "composer": 8,
          "season": "1962-63"
         },
         {
          "composer": 12,
          "season": "1963-64"
         },
         {
          "composer": 5,
          "season": "1964-65"
         },
         {
          "composer": 6,
          "season": "1965-66"
         },
         {
          "composer": 15,
          "season": "1966-67"
         },
         {
          "composer": 5,
          "season": "1967-68"
         },
         {
          "composer": 8,
          "season": "1968-69"
         },
         {
          "composer": 6,
          "season": "1969-70"
         },
         {
          "composer": 5,
          "season": "1970-71"
         },
         {
          "composer": 18,
          "season": "1971-72"
         },
         {
          "composer": 8,
          "season": "1972-73"
         },
         {
          "composer": 6,
          "season": "1973-74"
         },
         {
          "composer": 9,
          "season": "1974-75"
         },
         {
          "composer": 11,
          "season": "1975-76"
         },
         {
          "composer": 31,
          "season": "1976-77"
         },
         {
          "composer": 28,
          "season": "1977-78"
         },
         {
          "composer": 3,
          "season": "1978-79"
         },
         {
          "composer": 6,
          "season": "1979-80"
         },
         {
          "composer": 7,
          "season": "1980-81"
         },
         {
          "composer": 5,
          "season": "1981-82"
         },
         {
          "composer": 18,
          "season": "1982-83"
         },
         {
          "composer": 28,
          "season": "1983-84"
         },
         {
          "composer": 7,
          "season": "1984-85"
         },
         {
          "composer": 21,
          "season": "1985-86"
         },
         {
          "composer": 13,
          "season": "1986-87"
         },
         {
          "composer": 7,
          "season": "1987-88"
         },
         {
          "composer": 7,
          "season": "1988-89"
         },
         {
          "composer": 10,
          "season": "1989-90"
         },
         {
          "composer": 7,
          "season": "1990-91"
         },
         {
          "composer": 3,
          "season": "1991-92"
         },
         {
          "composer": 9,
          "season": "1992-93"
         },
         {
          "composer": 16,
          "season": "1993-94"
         },
         {
          "composer": 13,
          "season": "1994-95"
         },
         {
          "composer": 23,
          "season": "1995-96"
         },
         {
          "composer": 20,
          "season": "1996-97"
         },
         {
          "composer": 26,
          "season": "1997-98"
         },
         {
          "composer": 11,
          "season": "1998-99"
         },
         {
          "composer": 33,
          "season": "1999-00"
         },
         {
          "composer": 7,
          "season": "2000-01"
         },
         {
          "composer": 11,
          "season": "2001-02"
         },
         {
          "composer": 19,
          "season": "2002-03"
         },
         {
          "composer": 13,
          "season": "2003-04"
         },
         {
          "composer": 20,
          "season": "2004-05"
         },
         {
          "composer": 38,
          "season": "2005-06"
         },
         {
          "composer": 27,
          "season": "2006-07"
         },
         {
          "composer": 41,
          "season": "2007-08"
         },
         {
          "composer": 29,
          "season": "2008-09"
         },
         {
          "composer": 42,
          "season": "2009-10"
         },
         {
          "composer": 46,
          "season": "2010-11"
         },
         {
          "composer": 39,
          "season": "2011-12"
         },
         {
          "composer": 58,
          "season": "2012-13"
         },
         {
          "composer": 87,
          "season": "2013-14"
         },
         {
          "composer": 45,
          "season": "2014-15"
         },
         {
          "composer": 134,
          "season": "2015-16"
         },
         {
          "composer": 29,
          "season": "2016-17"
         },
         {
          "composer": 3,
          "season": "2017-18"
         }
        ]
       },
       "encoding": {
        "x": {
         "field": "season",
         "type": "ordinal"
        },
        "y": {
         "field": "composer",
         "type": "quantitative"
        }
       },
       "mark": "bar",
       "title": "Debuts by Season",
       "width": 600
      },
      "text/plain": [
       "<VegaLite 2 object>"
      ]
     },
     "execution_count": 151,
     "metadata": {},
     "output_type": "execute_result"
    }
   ],
   "source": [
    "alt.Chart(\n",
    "    debuts.groupby(\"season\", as_index=False).count(),\n",
    "    width=600,\n",
    "    title=\"Debuts by Season\"\n",
    ").mark_bar().encode(\n",
    "    x=\"season:O\",\n",
    "    y=\"composer:Q\"\n",
    ")"
   ]
  },
  {
   "cell_type": "code",
   "execution_count": 163,
   "metadata": {},
   "outputs": [
    {
     "data": {
      "text/html": [
       "<div>\n",
       "<style scoped>\n",
       "    .dataframe tbody tr th:only-of-type {\n",
       "        vertical-align: middle;\n",
       "    }\n",
       "\n",
       "    .dataframe tbody tr th {\n",
       "        vertical-align: top;\n",
       "    }\n",
       "\n",
       "    .dataframe thead th {\n",
       "        text-align: right;\n",
       "    }\n",
       "</style>\n",
       "<table border=\"1\" class=\"dataframe\">\n",
       "  <thead>\n",
       "    <tr style=\"text-align: right;\">\n",
       "      <th></th>\n",
       "      <th></th>\n",
       "      <th>count</th>\n",
       "      <th>pct</th>\n",
       "      <th>rca</th>\n",
       "      <th>log(rca)</th>\n",
       "    </tr>\n",
       "    <tr>\n",
       "      <th>season</th>\n",
       "      <th>composer</th>\n",
       "      <th></th>\n",
       "      <th></th>\n",
       "      <th></th>\n",
       "      <th></th>\n",
       "    </tr>\n",
       "  </thead>\n",
       "  <tbody>\n",
       "    <tr>\n",
       "      <th rowspan=\"5\" valign=\"top\">1982-83</th>\n",
       "      <th>Adams,  John</th>\n",
       "      <td>1</td>\n",
       "      <td>0.003106</td>\n",
       "      <td>0.906349</td>\n",
       "      <td>-0.098331</td>\n",
       "    </tr>\n",
       "    <tr>\n",
       "      <th>Anthem,</th>\n",
       "      <td>1</td>\n",
       "      <td>0.003106</td>\n",
       "      <td>0.326286</td>\n",
       "      <td>-1.119982</td>\n",
       "    </tr>\n",
       "    <tr>\n",
       "      <th>Bach,  Johann  Sebastian</th>\n",
       "      <td>4</td>\n",
       "      <td>0.012422</td>\n",
       "      <td>0.647392</td>\n",
       "      <td>-0.434803</td>\n",
       "    </tr>\n",
       "    <tr>\n",
       "      <th>Balada,  Leonardo</th>\n",
       "      <td>1</td>\n",
       "      <td>0.003106</td>\n",
       "      <td>40.785714</td>\n",
       "      <td>3.708332</td>\n",
       "    </tr>\n",
       "    <tr>\n",
       "      <th>Balassa,  Sandor</th>\n",
       "      <td>1</td>\n",
       "      <td>0.003106</td>\n",
       "      <td>40.785714</td>\n",
       "      <td>3.708332</td>\n",
       "    </tr>\n",
       "  </tbody>\n",
       "</table>\n",
       "</div>"
      ],
      "text/plain": [
       "                                  count       pct        rca  log(rca)\n",
       "season  composer                                                      \n",
       "1982-83 Adams,  John                  1  0.003106   0.906349 -0.098331\n",
       "        Anthem,                       1  0.003106   0.326286 -1.119982\n",
       "        Bach,  Johann  Sebastian      4  0.012422   0.647392 -0.434803\n",
       "        Balada,  Leonardo             1  0.003106  40.785714  3.708332\n",
       "        Balassa,  Sandor              1  0.003106  40.785714  3.708332"
      ]
     },
     "execution_count": 163,
     "metadata": {},
     "output_type": "execute_result"
    }
   ],
   "source": [
    "# Take only seasons from 1982 onward so that we can recalculate John Adams's\n",
    "# RCA using only seasons in which he could conceivably have been programmed\n",
    "p2 = programs.loc[\"1982-83\":, :]\n",
    "\n",
    "p2, r = p2.align(p2.groupby(\"composer\")[\"count\"].sum() / p2[\"count\"].sum(), axis=0, level=\"composer\")\n",
    "\n",
    "p2[\"rca\"] = p2[\"pct\"] / r\n",
    "p2[\"log(rca)\"] = np.log(p2[\"rca\"])\n",
    "\n",
    "p2.head()"
   ]
  },
  {
   "cell_type": "markdown",
   "metadata": {},
   "source": [
    "If we only consider seasons after a composer has debuted, we get a more interesting picture of their RCA in each season. John Adams, for instance, wasn’t really programmed much for the first 10 years after his debut. The first time he was really a distinctive element of a season’s programming was in the 1991–92 season."
   ]
  },
  {
   "cell_type": "code",
   "execution_count": 166,
   "metadata": {},
   "outputs": [
    {
     "data": {
      "application/vnd.vegalite.v2+json": {
       "$schema": "https://vega.github.io/schema/vega-lite/v2.json",
       "config": {
        "view": {
         "height": 300,
         "width": 400
        }
       },
       "vconcat": [
        {
         "data": {
          "values": [
           {
            "count": 1,
            "log(rca)": 1.302027192006193,
            "pct": 0.003105590062111801,
            "rca": 3.676742581090407,
            "season": "1982-83"
           },
           {
            "count": 1,
            "log(rca)": 1.2129475619525043,
            "pct": 0.002840909090909091,
            "rca": 3.3633838383838386,
            "season": "1986-87"
           },
           {
            "count": 1,
            "log(rca)": 1.8190833655228198,
            "pct": 0.005208333333333333,
            "rca": 6.166203703703704,
            "season": "1991-92"
           },
           {
            "count": 4,
            "log(rca)": 2.6020868752046264,
            "pct": 0.011396011396011397,
            "rca": 13.491864514086737,
            "season": "1996-97"
           },
           {
            "count": 1,
            "log(rca)": 1.4311318399073638,
            "pct": 0.0035335689045936395,
            "rca": 4.1834314880251275,
            "season": "1998-99"
           },
           {
            "count": 1,
            "log(rca)": 1.5591258410858937,
            "pct": 0.004016064257028112,
            "rca": 4.754663096831771,
            "season": "2000-01"
           },
           {
            "count": 2,
            "log(rca)": 1.7807645012206832,
            "pct": 0.005012531328320802,
            "rca": 5.934391534391534,
            "season": "2002-03"
           },
           {
            "count": 4,
            "log(rca)": 2.582340112269792,
            "pct": 0.0111731843575419,
            "rca": 13.228057107386718,
            "season": "2003-04"
           },
           {
            "count": 5,
            "log(rca)": 2.561333259090497,
            "pct": 0.010940919037199124,
            "rca": 12.953075613907124,
            "season": "2005-06"
           },
           {
            "count": 1,
            "log(rca)": 0.8055903056923022,
            "pct": 0.001890359168241966,
            "rca": 2.238017223272422,
            "season": "2006-07"
           },
           {
            "count": 7,
            "log(rca)": 2.714390445096384,
            "pct": 0.012750455373406194,
            "rca": 15.095405788301965,
            "season": "2009-10"
           },
           {
            "count": 2,
            "log(rca)": 1.5692167440678566,
            "pct": 0.004056795131845842,
            "rca": 4.802884832093757,
            "season": "2010-11"
           },
           {
            "count": 2,
            "log(rca)": 1.6169932234064424,
            "pct": 0.00425531914893617,
            "rca": 5.037919621749409,
            "season": "2012-13"
           },
           {
            "count": 1,
            "log(rca)": 0.9281104416329548,
            "pct": 0.002136752136752137,
            "rca": 2.5297245963912633,
            "season": "2013-14"
           },
           {
            "count": 2,
            "log(rca)": 1.5611358920139182,
            "pct": 0.004024144869215292,
            "rca": 4.7642298233847535,
            "season": "2014-15"
           },
           {
            "count": 1,
            "log(rca)": 0.669698751481287,
            "pct": 0.0016501650165016502,
            "rca": 1.9536486982031538,
            "season": "2015-16"
           },
           {
            "count": 9,
            "log(rca)": 3.2923891036323405,
            "pct": 0.022727272727272728,
            "rca": 26.90707070707071,
            "season": "2016-17"
           }
          ]
         },
         "encoding": {
          "x": {
           "field": "season",
           "type": "ordinal"
          },
          "y": {
           "field": "log(rca)",
           "type": "quantitative"
          }
         },
         "mark": "bar",
         "title": "John Adams’s Popularity",
         "width": 600
        },
        {
         "data": {
          "values": [
           {
            "count": 1,
            "log(rca)": -0.09833060972956828,
            "pct": 0.003105590062111801,
            "rca": 0.9063492063492062,
            "season": "1982-83"
           },
           {
            "count": 1,
            "log(rca)": -0.187410239783257,
            "pct": 0.002840909090909091,
            "rca": 0.8291035353535353,
            "season": "1986-87"
           },
           {
            "count": 1,
            "log(rca)": 0.41872556378705855,
            "pct": 0.005208333333333333,
            "rca": 1.520023148148148,
            "season": "1991-92"
           },
           {
            "count": 4,
            "log(rca)": 1.201729073468865,
            "pct": 0.011396011396011397,
            "rca": 3.325862614751504,
            "season": "1996-97"
           },
           {
            "count": 1,
            "log(rca)": 0.030774038171602583,
            "pct": 0.0035335689045936395,
            "rca": 1.031252453867295,
            "season": "1998-99"
           },
           {
            "count": 1,
            "log(rca)": 0.15876803935013248,
            "pct": 0.004016064257028112,
            "rca": 1.17206604194556,
            "season": "2000-01"
           },
           {
            "count": 2,
            "log(rca)": 0.38040669948492195,
            "pct": 0.005012531328320802,
            "rca": 1.4628794207741576,
            "season": "2002-03"
           },
           {
            "count": 4,
            "log(rca)": 1.1819823105340306,
            "pct": 0.0111731843575419,
            "rca": 3.260831781502173,
            "season": "2003-04"
           },
           {
            "count": 5,
            "log(rca)": 1.1609754573547357,
            "pct": 0.010940919037199124,
            "rca": 3.1930464381230244,
            "season": "2005-06"
           },
           {
            "count": 1,
            "log(rca)": -0.5947674960434592,
            "pct": 0.001890359168241966,
            "rca": 0.5516908212560386,
            "season": "2006-07"
           },
           {
            "count": 7,
            "log(rca)": 1.3140326433606229,
            "pct": 0.012750455373406194,
            "rca": 3.721149564865412,
            "season": "2009-10"
           },
           {
            "count": 2,
            "log(rca)": 0.16885894233209534,
            "pct": 0.004056795131845842,
            "rca": 1.1839531214784764,
            "season": "2010-11"
           },
           {
            "count": 2,
            "log(rca)": 0.21663542167068117,
            "pct": 0.00425531914893617,
            "rca": 1.2418912529550827,
            "season": "2012-13"
           },
           {
            "count": 1,
            "log(rca)": -0.47224736010280655,
            "pct": 0.002136752136752137,
            "rca": 0.623599240265907,
            "season": "2013-14"
           },
           {
            "count": 2,
            "log(rca)": 0.1607780902781568,
            "pct": 0.004024144869215292,
            "rca": 1.1744243237200984,
            "season": "2014-15"
           },
           {
            "count": 1,
            "log(rca)": -0.7306590502544743,
            "pct": 0.0016501650165016502,
            "rca": 0.4815914924825816,
            "season": "2015-16"
           },
           {
            "count": 9,
            "log(rca)": 1.8920313018965789,
            "pct": 0.022727272727272728,
            "rca": 6.6328282828282825,
            "season": "2016-17"
           }
          ]
         },
         "encoding": {
          "x": {
           "field": "season",
           "type": "ordinal"
          },
          "y": {
           "field": "log(rca)",
           "type": "quantitative"
          }
         },
         "mark": "bar",
         "title": "John Adams Popularity 1982+",
         "width": 600
        }
       ]
      },
      "text/plain": [
       "<VegaLite 2 object>"
      ]
     },
     "execution_count": 166,
     "metadata": {},
     "output_type": "execute_result"
    }
   ],
   "source": [
    "alt.vconcat(\n",
    "    adams_pop,\n",
    "    alt.Chart(\n",
    "        p2.xs(\"Adams,  John\", level=\"composer\").reset_index(),\n",
    "        width=600,\n",
    "        title=\"John Adams Popularity 1982+\"\n",
    "    ).mark_bar().encode(\n",
    "        x=\"season:O\",\n",
    "        y=\"log(rca):Q\"\n",
    "    )\n",
    ")"
   ]
  }
 ],
 "metadata": {
  "kernelspec": {
   "display_name": "Python 3",
   "language": "python",
   "name": "python3"
  },
  "language_info": {
   "codemirror_mode": {
    "name": "ipython",
    "version": 3
   },
   "file_extension": ".py",
   "mimetype": "text/x-python",
   "name": "python",
   "nbconvert_exporter": "python",
   "pygments_lexer": "ipython3",
   "version": "3.6.4"
  }
 },
 "nbformat": 4,
 "nbformat_minor": 2
}
